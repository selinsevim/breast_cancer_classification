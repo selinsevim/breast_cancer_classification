{
 "cells": [
  {
   "cell_type": "code",
   "execution_count": 95,
   "metadata": {},
   "outputs": [],
   "source": [
    "import pandas as pd\n",
    "import numpy as np\n",
    "\n",
    "import plotly.express as px\n",
    "import plotly.graph_objects as go\n",
    "import plotly.figure_factory as ff\n",
    "from plotly.subplots import make_subplots\n",
    "#from ydata_profiling import ProfileReport\n",
    "from sklearn.preprocessing import MinMaxScaler\n",
    "from sklearn.metrics import classification_report, confusion_matrix, accuracy_score, precision_score, recall_score, f1_score, roc_auc_score, roc_curve\n",
    "import xgboost as xgb\n",
    "from sklearn.metrics import precision_recall_curve, average_precision_score\n",
    "from sklearn.metrics import roc_curve, auc\n",
    "from plotly.subplots import make_subplots\n",
    "import plotly.graph_objects as go\n",
    "from sklearn.metrics import log_loss, brier_score_loss\n",
    "from sklearn.calibration import calibration_curve\n",
    "from scipy.special import expit  # Sigmoid function\n",
    "from sklearn.calibration import CalibratedClassifierCV\n",
    "from xgboost import XGBClassifier\n",
    "from sklearn.metrics import (\n",
    "    confusion_matrix, \n",
    "    classification_report, \n",
    "    roc_auc_score, \n",
    "    precision_recall_curve, \n",
    "    average_precision_score,\n",
    "    f1_score,\n",
    "    log_loss\n",
    ")\n",
    "from joblib import Parallel, delayed\n",
    "import joblib\n",
    "\n",
    "import plotly.express as px\n",
    "import os\n",
    "from PyPDF2 import PdfMerger\n"
   ]
  },
  {
   "cell_type": "code",
   "execution_count": 96,
   "metadata": {},
   "outputs": [],
   "source": [
    "df = pd.read_csv(r'/Users/selinsevim/Desktop/breast_cancer_prediction_ai_model/data/raw/data.csv')"
   ]
  },
  {
   "cell_type": "code",
   "execution_count": 97,
   "metadata": {},
   "outputs": [
    {
     "data": {
      "text/html": [
       "<div>\n",
       "<style scoped>\n",
       "    .dataframe tbody tr th:only-of-type {\n",
       "        vertical-align: middle;\n",
       "    }\n",
       "\n",
       "    .dataframe tbody tr th {\n",
       "        vertical-align: top;\n",
       "    }\n",
       "\n",
       "    .dataframe thead th {\n",
       "        text-align: right;\n",
       "    }\n",
       "</style>\n",
       "<table border=\"1\" class=\"dataframe\">\n",
       "  <thead>\n",
       "    <tr style=\"text-align: right;\">\n",
       "      <th></th>\n",
       "      <th>id</th>\n",
       "      <th>diagnosis</th>\n",
       "      <th>radius_mean</th>\n",
       "      <th>texture_mean</th>\n",
       "      <th>perimeter_mean</th>\n",
       "      <th>area_mean</th>\n",
       "      <th>smoothness_mean</th>\n",
       "      <th>compactness_mean</th>\n",
       "      <th>concavity_mean</th>\n",
       "      <th>concave points_mean</th>\n",
       "      <th>...</th>\n",
       "      <th>texture_worst</th>\n",
       "      <th>perimeter_worst</th>\n",
       "      <th>area_worst</th>\n",
       "      <th>smoothness_worst</th>\n",
       "      <th>compactness_worst</th>\n",
       "      <th>concavity_worst</th>\n",
       "      <th>concave points_worst</th>\n",
       "      <th>symmetry_worst</th>\n",
       "      <th>fractal_dimension_worst</th>\n",
       "      <th>Unnamed: 32</th>\n",
       "    </tr>\n",
       "  </thead>\n",
       "  <tbody>\n",
       "    <tr>\n",
       "      <th>0</th>\n",
       "      <td>842302</td>\n",
       "      <td>M</td>\n",
       "      <td>17.99</td>\n",
       "      <td>10.38</td>\n",
       "      <td>122.80</td>\n",
       "      <td>1001.0</td>\n",
       "      <td>0.11840</td>\n",
       "      <td>0.27760</td>\n",
       "      <td>0.3001</td>\n",
       "      <td>0.14710</td>\n",
       "      <td>...</td>\n",
       "      <td>17.33</td>\n",
       "      <td>184.60</td>\n",
       "      <td>2019.0</td>\n",
       "      <td>0.1622</td>\n",
       "      <td>0.6656</td>\n",
       "      <td>0.7119</td>\n",
       "      <td>0.2654</td>\n",
       "      <td>0.4601</td>\n",
       "      <td>0.11890</td>\n",
       "      <td>NaN</td>\n",
       "    </tr>\n",
       "    <tr>\n",
       "      <th>1</th>\n",
       "      <td>842517</td>\n",
       "      <td>M</td>\n",
       "      <td>20.57</td>\n",
       "      <td>17.77</td>\n",
       "      <td>132.90</td>\n",
       "      <td>1326.0</td>\n",
       "      <td>0.08474</td>\n",
       "      <td>0.07864</td>\n",
       "      <td>0.0869</td>\n",
       "      <td>0.07017</td>\n",
       "      <td>...</td>\n",
       "      <td>23.41</td>\n",
       "      <td>158.80</td>\n",
       "      <td>1956.0</td>\n",
       "      <td>0.1238</td>\n",
       "      <td>0.1866</td>\n",
       "      <td>0.2416</td>\n",
       "      <td>0.1860</td>\n",
       "      <td>0.2750</td>\n",
       "      <td>0.08902</td>\n",
       "      <td>NaN</td>\n",
       "    </tr>\n",
       "    <tr>\n",
       "      <th>2</th>\n",
       "      <td>84300903</td>\n",
       "      <td>M</td>\n",
       "      <td>19.69</td>\n",
       "      <td>21.25</td>\n",
       "      <td>130.00</td>\n",
       "      <td>1203.0</td>\n",
       "      <td>0.10960</td>\n",
       "      <td>0.15990</td>\n",
       "      <td>0.1974</td>\n",
       "      <td>0.12790</td>\n",
       "      <td>...</td>\n",
       "      <td>25.53</td>\n",
       "      <td>152.50</td>\n",
       "      <td>1709.0</td>\n",
       "      <td>0.1444</td>\n",
       "      <td>0.4245</td>\n",
       "      <td>0.4504</td>\n",
       "      <td>0.2430</td>\n",
       "      <td>0.3613</td>\n",
       "      <td>0.08758</td>\n",
       "      <td>NaN</td>\n",
       "    </tr>\n",
       "    <tr>\n",
       "      <th>3</th>\n",
       "      <td>84348301</td>\n",
       "      <td>M</td>\n",
       "      <td>11.42</td>\n",
       "      <td>20.38</td>\n",
       "      <td>77.58</td>\n",
       "      <td>386.1</td>\n",
       "      <td>0.14250</td>\n",
       "      <td>0.28390</td>\n",
       "      <td>0.2414</td>\n",
       "      <td>0.10520</td>\n",
       "      <td>...</td>\n",
       "      <td>26.50</td>\n",
       "      <td>98.87</td>\n",
       "      <td>567.7</td>\n",
       "      <td>0.2098</td>\n",
       "      <td>0.8663</td>\n",
       "      <td>0.6869</td>\n",
       "      <td>0.2575</td>\n",
       "      <td>0.6638</td>\n",
       "      <td>0.17300</td>\n",
       "      <td>NaN</td>\n",
       "    </tr>\n",
       "    <tr>\n",
       "      <th>4</th>\n",
       "      <td>84358402</td>\n",
       "      <td>M</td>\n",
       "      <td>20.29</td>\n",
       "      <td>14.34</td>\n",
       "      <td>135.10</td>\n",
       "      <td>1297.0</td>\n",
       "      <td>0.10030</td>\n",
       "      <td>0.13280</td>\n",
       "      <td>0.1980</td>\n",
       "      <td>0.10430</td>\n",
       "      <td>...</td>\n",
       "      <td>16.67</td>\n",
       "      <td>152.20</td>\n",
       "      <td>1575.0</td>\n",
       "      <td>0.1374</td>\n",
       "      <td>0.2050</td>\n",
       "      <td>0.4000</td>\n",
       "      <td>0.1625</td>\n",
       "      <td>0.2364</td>\n",
       "      <td>0.07678</td>\n",
       "      <td>NaN</td>\n",
       "    </tr>\n",
       "  </tbody>\n",
       "</table>\n",
       "<p>5 rows × 33 columns</p>\n",
       "</div>"
      ],
      "text/plain": [
       "         id diagnosis  radius_mean  texture_mean  perimeter_mean  area_mean  \\\n",
       "0    842302         M        17.99         10.38          122.80     1001.0   \n",
       "1    842517         M        20.57         17.77          132.90     1326.0   \n",
       "2  84300903         M        19.69         21.25          130.00     1203.0   \n",
       "3  84348301         M        11.42         20.38           77.58      386.1   \n",
       "4  84358402         M        20.29         14.34          135.10     1297.0   \n",
       "\n",
       "   smoothness_mean  compactness_mean  concavity_mean  concave points_mean  \\\n",
       "0          0.11840           0.27760          0.3001              0.14710   \n",
       "1          0.08474           0.07864          0.0869              0.07017   \n",
       "2          0.10960           0.15990          0.1974              0.12790   \n",
       "3          0.14250           0.28390          0.2414              0.10520   \n",
       "4          0.10030           0.13280          0.1980              0.10430   \n",
       "\n",
       "   ...  texture_worst  perimeter_worst  area_worst  smoothness_worst  \\\n",
       "0  ...          17.33           184.60      2019.0            0.1622   \n",
       "1  ...          23.41           158.80      1956.0            0.1238   \n",
       "2  ...          25.53           152.50      1709.0            0.1444   \n",
       "3  ...          26.50            98.87       567.7            0.2098   \n",
       "4  ...          16.67           152.20      1575.0            0.1374   \n",
       "\n",
       "   compactness_worst  concavity_worst  concave points_worst  symmetry_worst  \\\n",
       "0             0.6656           0.7119                0.2654          0.4601   \n",
       "1             0.1866           0.2416                0.1860          0.2750   \n",
       "2             0.4245           0.4504                0.2430          0.3613   \n",
       "3             0.8663           0.6869                0.2575          0.6638   \n",
       "4             0.2050           0.4000                0.1625          0.2364   \n",
       "\n",
       "   fractal_dimension_worst  Unnamed: 32  \n",
       "0                  0.11890          NaN  \n",
       "1                  0.08902          NaN  \n",
       "2                  0.08758          NaN  \n",
       "3                  0.17300          NaN  \n",
       "4                  0.07678          NaN  \n",
       "\n",
       "[5 rows x 33 columns]"
      ]
     },
     "execution_count": 97,
     "metadata": {},
     "output_type": "execute_result"
    }
   ],
   "source": [
    "df.head()"
   ]
  },
  {
   "cell_type": "code",
   "execution_count": 98,
   "metadata": {},
   "outputs": [
    {
     "data": {
      "text/plain": [
       "Index(['id', 'diagnosis', 'radius_mean', 'texture_mean', 'perimeter_mean',\n",
       "       'area_mean', 'smoothness_mean', 'compactness_mean', 'concavity_mean',\n",
       "       'concave points_mean', 'symmetry_mean', 'fractal_dimension_mean',\n",
       "       'radius_se', 'texture_se', 'perimeter_se', 'area_se', 'smoothness_se',\n",
       "       'compactness_se', 'concavity_se', 'concave points_se', 'symmetry_se',\n",
       "       'fractal_dimension_se', 'radius_worst', 'texture_worst',\n",
       "       'perimeter_worst', 'area_worst', 'smoothness_worst',\n",
       "       'compactness_worst', 'concavity_worst', 'concave points_worst',\n",
       "       'symmetry_worst', 'fractal_dimension_worst', 'Unnamed: 32'],\n",
       "      dtype='object')"
      ]
     },
     "execution_count": 98,
     "metadata": {},
     "output_type": "execute_result"
    }
   ],
   "source": [
    "df.columns"
   ]
  },
  {
   "cell_type": "code",
   "execution_count": 99,
   "metadata": {},
   "outputs": [
    {
     "data": {
      "text/html": [
       "<div>\n",
       "<style scoped>\n",
       "    .dataframe tbody tr th:only-of-type {\n",
       "        vertical-align: middle;\n",
       "    }\n",
       "\n",
       "    .dataframe tbody tr th {\n",
       "        vertical-align: top;\n",
       "    }\n",
       "\n",
       "    .dataframe thead th {\n",
       "        text-align: right;\n",
       "    }\n",
       "</style>\n",
       "<table border=\"1\" class=\"dataframe\">\n",
       "  <thead>\n",
       "    <tr style=\"text-align: right;\">\n",
       "      <th></th>\n",
       "      <th>id</th>\n",
       "      <th>radius_mean</th>\n",
       "      <th>texture_mean</th>\n",
       "      <th>perimeter_mean</th>\n",
       "      <th>area_mean</th>\n",
       "      <th>smoothness_mean</th>\n",
       "      <th>compactness_mean</th>\n",
       "      <th>concavity_mean</th>\n",
       "      <th>concave points_mean</th>\n",
       "      <th>symmetry_mean</th>\n",
       "      <th>...</th>\n",
       "      <th>texture_worst</th>\n",
       "      <th>perimeter_worst</th>\n",
       "      <th>area_worst</th>\n",
       "      <th>smoothness_worst</th>\n",
       "      <th>compactness_worst</th>\n",
       "      <th>concavity_worst</th>\n",
       "      <th>concave points_worst</th>\n",
       "      <th>symmetry_worst</th>\n",
       "      <th>fractal_dimension_worst</th>\n",
       "      <th>Unnamed: 32</th>\n",
       "    </tr>\n",
       "  </thead>\n",
       "  <tbody>\n",
       "    <tr>\n",
       "      <th>count</th>\n",
       "      <td>5.690000e+02</td>\n",
       "      <td>569.000000</td>\n",
       "      <td>569.000000</td>\n",
       "      <td>569.000000</td>\n",
       "      <td>569.000000</td>\n",
       "      <td>569.000000</td>\n",
       "      <td>569.000000</td>\n",
       "      <td>569.000000</td>\n",
       "      <td>569.000000</td>\n",
       "      <td>569.000000</td>\n",
       "      <td>...</td>\n",
       "      <td>569.000000</td>\n",
       "      <td>569.000000</td>\n",
       "      <td>569.000000</td>\n",
       "      <td>569.000000</td>\n",
       "      <td>569.000000</td>\n",
       "      <td>569.000000</td>\n",
       "      <td>569.000000</td>\n",
       "      <td>569.000000</td>\n",
       "      <td>569.000000</td>\n",
       "      <td>0.0</td>\n",
       "    </tr>\n",
       "    <tr>\n",
       "      <th>mean</th>\n",
       "      <td>3.037183e+07</td>\n",
       "      <td>14.127292</td>\n",
       "      <td>19.289649</td>\n",
       "      <td>91.969033</td>\n",
       "      <td>654.889104</td>\n",
       "      <td>0.096360</td>\n",
       "      <td>0.104341</td>\n",
       "      <td>0.088799</td>\n",
       "      <td>0.048919</td>\n",
       "      <td>0.181162</td>\n",
       "      <td>...</td>\n",
       "      <td>25.677223</td>\n",
       "      <td>107.261213</td>\n",
       "      <td>880.583128</td>\n",
       "      <td>0.132369</td>\n",
       "      <td>0.254265</td>\n",
       "      <td>0.272188</td>\n",
       "      <td>0.114606</td>\n",
       "      <td>0.290076</td>\n",
       "      <td>0.083946</td>\n",
       "      <td>NaN</td>\n",
       "    </tr>\n",
       "    <tr>\n",
       "      <th>std</th>\n",
       "      <td>1.250206e+08</td>\n",
       "      <td>3.524049</td>\n",
       "      <td>4.301036</td>\n",
       "      <td>24.298981</td>\n",
       "      <td>351.914129</td>\n",
       "      <td>0.014064</td>\n",
       "      <td>0.052813</td>\n",
       "      <td>0.079720</td>\n",
       "      <td>0.038803</td>\n",
       "      <td>0.027414</td>\n",
       "      <td>...</td>\n",
       "      <td>6.146258</td>\n",
       "      <td>33.602542</td>\n",
       "      <td>569.356993</td>\n",
       "      <td>0.022832</td>\n",
       "      <td>0.157336</td>\n",
       "      <td>0.208624</td>\n",
       "      <td>0.065732</td>\n",
       "      <td>0.061867</td>\n",
       "      <td>0.018061</td>\n",
       "      <td>NaN</td>\n",
       "    </tr>\n",
       "    <tr>\n",
       "      <th>min</th>\n",
       "      <td>8.670000e+03</td>\n",
       "      <td>6.981000</td>\n",
       "      <td>9.710000</td>\n",
       "      <td>43.790000</td>\n",
       "      <td>143.500000</td>\n",
       "      <td>0.052630</td>\n",
       "      <td>0.019380</td>\n",
       "      <td>0.000000</td>\n",
       "      <td>0.000000</td>\n",
       "      <td>0.106000</td>\n",
       "      <td>...</td>\n",
       "      <td>12.020000</td>\n",
       "      <td>50.410000</td>\n",
       "      <td>185.200000</td>\n",
       "      <td>0.071170</td>\n",
       "      <td>0.027290</td>\n",
       "      <td>0.000000</td>\n",
       "      <td>0.000000</td>\n",
       "      <td>0.156500</td>\n",
       "      <td>0.055040</td>\n",
       "      <td>NaN</td>\n",
       "    </tr>\n",
       "    <tr>\n",
       "      <th>25%</th>\n",
       "      <td>8.692180e+05</td>\n",
       "      <td>11.700000</td>\n",
       "      <td>16.170000</td>\n",
       "      <td>75.170000</td>\n",
       "      <td>420.300000</td>\n",
       "      <td>0.086370</td>\n",
       "      <td>0.064920</td>\n",
       "      <td>0.029560</td>\n",
       "      <td>0.020310</td>\n",
       "      <td>0.161900</td>\n",
       "      <td>...</td>\n",
       "      <td>21.080000</td>\n",
       "      <td>84.110000</td>\n",
       "      <td>515.300000</td>\n",
       "      <td>0.116600</td>\n",
       "      <td>0.147200</td>\n",
       "      <td>0.114500</td>\n",
       "      <td>0.064930</td>\n",
       "      <td>0.250400</td>\n",
       "      <td>0.071460</td>\n",
       "      <td>NaN</td>\n",
       "    </tr>\n",
       "    <tr>\n",
       "      <th>50%</th>\n",
       "      <td>9.060240e+05</td>\n",
       "      <td>13.370000</td>\n",
       "      <td>18.840000</td>\n",
       "      <td>86.240000</td>\n",
       "      <td>551.100000</td>\n",
       "      <td>0.095870</td>\n",
       "      <td>0.092630</td>\n",
       "      <td>0.061540</td>\n",
       "      <td>0.033500</td>\n",
       "      <td>0.179200</td>\n",
       "      <td>...</td>\n",
       "      <td>25.410000</td>\n",
       "      <td>97.660000</td>\n",
       "      <td>686.500000</td>\n",
       "      <td>0.131300</td>\n",
       "      <td>0.211900</td>\n",
       "      <td>0.226700</td>\n",
       "      <td>0.099930</td>\n",
       "      <td>0.282200</td>\n",
       "      <td>0.080040</td>\n",
       "      <td>NaN</td>\n",
       "    </tr>\n",
       "    <tr>\n",
       "      <th>75%</th>\n",
       "      <td>8.813129e+06</td>\n",
       "      <td>15.780000</td>\n",
       "      <td>21.800000</td>\n",
       "      <td>104.100000</td>\n",
       "      <td>782.700000</td>\n",
       "      <td>0.105300</td>\n",
       "      <td>0.130400</td>\n",
       "      <td>0.130700</td>\n",
       "      <td>0.074000</td>\n",
       "      <td>0.195700</td>\n",
       "      <td>...</td>\n",
       "      <td>29.720000</td>\n",
       "      <td>125.400000</td>\n",
       "      <td>1084.000000</td>\n",
       "      <td>0.146000</td>\n",
       "      <td>0.339100</td>\n",
       "      <td>0.382900</td>\n",
       "      <td>0.161400</td>\n",
       "      <td>0.317900</td>\n",
       "      <td>0.092080</td>\n",
       "      <td>NaN</td>\n",
       "    </tr>\n",
       "    <tr>\n",
       "      <th>max</th>\n",
       "      <td>9.113205e+08</td>\n",
       "      <td>28.110000</td>\n",
       "      <td>39.280000</td>\n",
       "      <td>188.500000</td>\n",
       "      <td>2501.000000</td>\n",
       "      <td>0.163400</td>\n",
       "      <td>0.345400</td>\n",
       "      <td>0.426800</td>\n",
       "      <td>0.201200</td>\n",
       "      <td>0.304000</td>\n",
       "      <td>...</td>\n",
       "      <td>49.540000</td>\n",
       "      <td>251.200000</td>\n",
       "      <td>4254.000000</td>\n",
       "      <td>0.222600</td>\n",
       "      <td>1.058000</td>\n",
       "      <td>1.252000</td>\n",
       "      <td>0.291000</td>\n",
       "      <td>0.663800</td>\n",
       "      <td>0.207500</td>\n",
       "      <td>NaN</td>\n",
       "    </tr>\n",
       "  </tbody>\n",
       "</table>\n",
       "<p>8 rows × 32 columns</p>\n",
       "</div>"
      ],
      "text/plain": [
       "                 id  radius_mean  texture_mean  perimeter_mean    area_mean  \\\n",
       "count  5.690000e+02   569.000000    569.000000      569.000000   569.000000   \n",
       "mean   3.037183e+07    14.127292     19.289649       91.969033   654.889104   \n",
       "std    1.250206e+08     3.524049      4.301036       24.298981   351.914129   \n",
       "min    8.670000e+03     6.981000      9.710000       43.790000   143.500000   \n",
       "25%    8.692180e+05    11.700000     16.170000       75.170000   420.300000   \n",
       "50%    9.060240e+05    13.370000     18.840000       86.240000   551.100000   \n",
       "75%    8.813129e+06    15.780000     21.800000      104.100000   782.700000   \n",
       "max    9.113205e+08    28.110000     39.280000      188.500000  2501.000000   \n",
       "\n",
       "       smoothness_mean  compactness_mean  concavity_mean  concave points_mean  \\\n",
       "count       569.000000        569.000000      569.000000           569.000000   \n",
       "mean          0.096360          0.104341        0.088799             0.048919   \n",
       "std           0.014064          0.052813        0.079720             0.038803   \n",
       "min           0.052630          0.019380        0.000000             0.000000   \n",
       "25%           0.086370          0.064920        0.029560             0.020310   \n",
       "50%           0.095870          0.092630        0.061540             0.033500   \n",
       "75%           0.105300          0.130400        0.130700             0.074000   \n",
       "max           0.163400          0.345400        0.426800             0.201200   \n",
       "\n",
       "       symmetry_mean  ...  texture_worst  perimeter_worst   area_worst  \\\n",
       "count     569.000000  ...     569.000000       569.000000   569.000000   \n",
       "mean        0.181162  ...      25.677223       107.261213   880.583128   \n",
       "std         0.027414  ...       6.146258        33.602542   569.356993   \n",
       "min         0.106000  ...      12.020000        50.410000   185.200000   \n",
       "25%         0.161900  ...      21.080000        84.110000   515.300000   \n",
       "50%         0.179200  ...      25.410000        97.660000   686.500000   \n",
       "75%         0.195700  ...      29.720000       125.400000  1084.000000   \n",
       "max         0.304000  ...      49.540000       251.200000  4254.000000   \n",
       "\n",
       "       smoothness_worst  compactness_worst  concavity_worst  \\\n",
       "count        569.000000         569.000000       569.000000   \n",
       "mean           0.132369           0.254265         0.272188   \n",
       "std            0.022832           0.157336         0.208624   \n",
       "min            0.071170           0.027290         0.000000   \n",
       "25%            0.116600           0.147200         0.114500   \n",
       "50%            0.131300           0.211900         0.226700   \n",
       "75%            0.146000           0.339100         0.382900   \n",
       "max            0.222600           1.058000         1.252000   \n",
       "\n",
       "       concave points_worst  symmetry_worst  fractal_dimension_worst  \\\n",
       "count            569.000000      569.000000               569.000000   \n",
       "mean               0.114606        0.290076                 0.083946   \n",
       "std                0.065732        0.061867                 0.018061   \n",
       "min                0.000000        0.156500                 0.055040   \n",
       "25%                0.064930        0.250400                 0.071460   \n",
       "50%                0.099930        0.282200                 0.080040   \n",
       "75%                0.161400        0.317900                 0.092080   \n",
       "max                0.291000        0.663800                 0.207500   \n",
       "\n",
       "       Unnamed: 32  \n",
       "count          0.0  \n",
       "mean           NaN  \n",
       "std            NaN  \n",
       "min            NaN  \n",
       "25%            NaN  \n",
       "50%            NaN  \n",
       "75%            NaN  \n",
       "max            NaN  \n",
       "\n",
       "[8 rows x 32 columns]"
      ]
     },
     "execution_count": 99,
     "metadata": {},
     "output_type": "execute_result"
    }
   ],
   "source": [
    "df.describe()"
   ]
  },
  {
   "cell_type": "code",
   "execution_count": 100,
   "metadata": {},
   "outputs": [
    {
     "name": "stdout",
     "output_type": "stream",
     "text": [
      "<class 'pandas.core.frame.DataFrame'>\n",
      "RangeIndex: 569 entries, 0 to 568\n",
      "Data columns (total 33 columns):\n",
      " #   Column                   Non-Null Count  Dtype  \n",
      "---  ------                   --------------  -----  \n",
      " 0   id                       569 non-null    int64  \n",
      " 1   diagnosis                569 non-null    object \n",
      " 2   radius_mean              569 non-null    float64\n",
      " 3   texture_mean             569 non-null    float64\n",
      " 4   perimeter_mean           569 non-null    float64\n",
      " 5   area_mean                569 non-null    float64\n",
      " 6   smoothness_mean          569 non-null    float64\n",
      " 7   compactness_mean         569 non-null    float64\n",
      " 8   concavity_mean           569 non-null    float64\n",
      " 9   concave points_mean      569 non-null    float64\n",
      " 10  symmetry_mean            569 non-null    float64\n",
      " 11  fractal_dimension_mean   569 non-null    float64\n",
      " 12  radius_se                569 non-null    float64\n",
      " 13  texture_se               569 non-null    float64\n",
      " 14  perimeter_se             569 non-null    float64\n",
      " 15  area_se                  569 non-null    float64\n",
      " 16  smoothness_se            569 non-null    float64\n",
      " 17  compactness_se           569 non-null    float64\n",
      " 18  concavity_se             569 non-null    float64\n",
      " 19  concave points_se        569 non-null    float64\n",
      " 20  symmetry_se              569 non-null    float64\n",
      " 21  fractal_dimension_se     569 non-null    float64\n",
      " 22  radius_worst             569 non-null    float64\n",
      " 23  texture_worst            569 non-null    float64\n",
      " 24  perimeter_worst          569 non-null    float64\n",
      " 25  area_worst               569 non-null    float64\n",
      " 26  smoothness_worst         569 non-null    float64\n",
      " 27  compactness_worst        569 non-null    float64\n",
      " 28  concavity_worst          569 non-null    float64\n",
      " 29  concave points_worst     569 non-null    float64\n",
      " 30  symmetry_worst           569 non-null    float64\n",
      " 31  fractal_dimension_worst  569 non-null    float64\n",
      " 32  Unnamed: 32              0 non-null      float64\n",
      "dtypes: float64(31), int64(1), object(1)\n",
      "memory usage: 146.8+ KB\n"
     ]
    }
   ],
   "source": [
    "df.info()"
   ]
  },
  {
   "cell_type": "code",
   "execution_count": 101,
   "metadata": {},
   "outputs": [],
   "source": [
    "#report = ProfileReport(df)"
   ]
  },
  {
   "cell_type": "code",
   "execution_count": 102,
   "metadata": {},
   "outputs": [],
   "source": [
    "#report"
   ]
  },
  {
   "cell_type": "code",
   "execution_count": 103,
   "metadata": {},
   "outputs": [
    {
     "data": {
      "text/plain": [
       "id                           0\n",
       "diagnosis                    0\n",
       "radius_mean                  0\n",
       "texture_mean                 0\n",
       "perimeter_mean               0\n",
       "area_mean                    0\n",
       "smoothness_mean              0\n",
       "compactness_mean             0\n",
       "concavity_mean               0\n",
       "concave points_mean          0\n",
       "symmetry_mean                0\n",
       "fractal_dimension_mean       0\n",
       "radius_se                    0\n",
       "texture_se                   0\n",
       "perimeter_se                 0\n",
       "area_se                      0\n",
       "smoothness_se                0\n",
       "compactness_se               0\n",
       "concavity_se                 0\n",
       "concave points_se            0\n",
       "symmetry_se                  0\n",
       "fractal_dimension_se         0\n",
       "radius_worst                 0\n",
       "texture_worst                0\n",
       "perimeter_worst              0\n",
       "area_worst                   0\n",
       "smoothness_worst             0\n",
       "compactness_worst            0\n",
       "concavity_worst              0\n",
       "concave points_worst         0\n",
       "symmetry_worst               0\n",
       "fractal_dimension_worst      0\n",
       "Unnamed: 32                569\n",
       "dtype: int64"
      ]
     },
     "execution_count": 103,
     "metadata": {},
     "output_type": "execute_result"
    }
   ],
   "source": [
    "# Check if there are Null values in the dataframe\n",
    "df.isna().sum()"
   ]
  },
  {
   "cell_type": "code",
   "execution_count": 104,
   "metadata": {},
   "outputs": [],
   "source": [
    "df = df.drop(columns = \"Unnamed: 32\", axis = 1) "
   ]
  },
  {
   "cell_type": "code",
   "execution_count": 105,
   "metadata": {},
   "outputs": [
    {
     "data": {
      "text/plain": [
       "Index(['id', 'diagnosis', 'radius_mean', 'texture_mean', 'perimeter_mean',\n",
       "       'area_mean', 'smoothness_mean', 'compactness_mean', 'concavity_mean',\n",
       "       'concave points_mean', 'symmetry_mean', 'fractal_dimension_mean',\n",
       "       'radius_se', 'texture_se', 'perimeter_se', 'area_se', 'smoothness_se',\n",
       "       'compactness_se', 'concavity_se', 'concave points_se', 'symmetry_se',\n",
       "       'fractal_dimension_se', 'radius_worst', 'texture_worst',\n",
       "       'perimeter_worst', 'area_worst', 'smoothness_worst',\n",
       "       'compactness_worst', 'concavity_worst', 'concave points_worst',\n",
       "       'symmetry_worst', 'fractal_dimension_worst'],\n",
       "      dtype='object')"
      ]
     },
     "execution_count": 105,
     "metadata": {},
     "output_type": "execute_result"
    }
   ],
   "source": [
    "df.columns"
   ]
  },
  {
   "cell_type": "code",
   "execution_count": 106,
   "metadata": {},
   "outputs": [
    {
     "data": {
      "text/plain": [
       "id                         False\n",
       "diagnosis                  False\n",
       "radius_mean                False\n",
       "texture_mean               False\n",
       "perimeter_mean             False\n",
       "area_mean                  False\n",
       "smoothness_mean            False\n",
       "compactness_mean           False\n",
       "concavity_mean             False\n",
       "concave points_mean        False\n",
       "symmetry_mean              False\n",
       "fractal_dimension_mean     False\n",
       "radius_se                  False\n",
       "texture_se                 False\n",
       "perimeter_se               False\n",
       "area_se                    False\n",
       "smoothness_se              False\n",
       "compactness_se             False\n",
       "concavity_se               False\n",
       "concave points_se          False\n",
       "symmetry_se                False\n",
       "fractal_dimension_se       False\n",
       "radius_worst               False\n",
       "texture_worst              False\n",
       "perimeter_worst            False\n",
       "area_worst                 False\n",
       "smoothness_worst           False\n",
       "compactness_worst          False\n",
       "concavity_worst            False\n",
       "concave points_worst       False\n",
       "symmetry_worst             False\n",
       "fractal_dimension_worst    False\n",
       "dtype: bool"
      ]
     },
     "execution_count": 106,
     "metadata": {},
     "output_type": "execute_result"
    }
   ],
   "source": [
    "df.isnull().any()"
   ]
  },
  {
   "cell_type": "code",
   "execution_count": 107,
   "metadata": {},
   "outputs": [],
   "source": [
    "df[\"diagnosis\"] = df[\"diagnosis\"].map({'M':1, 'B':0})"
   ]
  },
  {
   "cell_type": "code",
   "execution_count": 108,
   "metadata": {},
   "outputs": [
    {
     "data": {
      "text/html": [
       "<div>\n",
       "<style scoped>\n",
       "    .dataframe tbody tr th:only-of-type {\n",
       "        vertical-align: middle;\n",
       "    }\n",
       "\n",
       "    .dataframe tbody tr th {\n",
       "        vertical-align: top;\n",
       "    }\n",
       "\n",
       "    .dataframe thead th {\n",
       "        text-align: right;\n",
       "    }\n",
       "</style>\n",
       "<table border=\"1\" class=\"dataframe\">\n",
       "  <thead>\n",
       "    <tr style=\"text-align: right;\">\n",
       "      <th></th>\n",
       "      <th>id</th>\n",
       "      <th>diagnosis</th>\n",
       "      <th>radius_mean</th>\n",
       "      <th>texture_mean</th>\n",
       "      <th>perimeter_mean</th>\n",
       "      <th>area_mean</th>\n",
       "      <th>smoothness_mean</th>\n",
       "      <th>compactness_mean</th>\n",
       "      <th>concavity_mean</th>\n",
       "      <th>concave points_mean</th>\n",
       "      <th>...</th>\n",
       "      <th>radius_worst</th>\n",
       "      <th>texture_worst</th>\n",
       "      <th>perimeter_worst</th>\n",
       "      <th>area_worst</th>\n",
       "      <th>smoothness_worst</th>\n",
       "      <th>compactness_worst</th>\n",
       "      <th>concavity_worst</th>\n",
       "      <th>concave points_worst</th>\n",
       "      <th>symmetry_worst</th>\n",
       "      <th>fractal_dimension_worst</th>\n",
       "    </tr>\n",
       "  </thead>\n",
       "  <tbody>\n",
       "    <tr>\n",
       "      <th>0</th>\n",
       "      <td>842302</td>\n",
       "      <td>1</td>\n",
       "      <td>17.99</td>\n",
       "      <td>10.38</td>\n",
       "      <td>122.80</td>\n",
       "      <td>1001.0</td>\n",
       "      <td>0.11840</td>\n",
       "      <td>0.27760</td>\n",
       "      <td>0.3001</td>\n",
       "      <td>0.14710</td>\n",
       "      <td>...</td>\n",
       "      <td>25.38</td>\n",
       "      <td>17.33</td>\n",
       "      <td>184.60</td>\n",
       "      <td>2019.0</td>\n",
       "      <td>0.1622</td>\n",
       "      <td>0.6656</td>\n",
       "      <td>0.7119</td>\n",
       "      <td>0.2654</td>\n",
       "      <td>0.4601</td>\n",
       "      <td>0.11890</td>\n",
       "    </tr>\n",
       "    <tr>\n",
       "      <th>1</th>\n",
       "      <td>842517</td>\n",
       "      <td>1</td>\n",
       "      <td>20.57</td>\n",
       "      <td>17.77</td>\n",
       "      <td>132.90</td>\n",
       "      <td>1326.0</td>\n",
       "      <td>0.08474</td>\n",
       "      <td>0.07864</td>\n",
       "      <td>0.0869</td>\n",
       "      <td>0.07017</td>\n",
       "      <td>...</td>\n",
       "      <td>24.99</td>\n",
       "      <td>23.41</td>\n",
       "      <td>158.80</td>\n",
       "      <td>1956.0</td>\n",
       "      <td>0.1238</td>\n",
       "      <td>0.1866</td>\n",
       "      <td>0.2416</td>\n",
       "      <td>0.1860</td>\n",
       "      <td>0.2750</td>\n",
       "      <td>0.08902</td>\n",
       "    </tr>\n",
       "    <tr>\n",
       "      <th>2</th>\n",
       "      <td>84300903</td>\n",
       "      <td>1</td>\n",
       "      <td>19.69</td>\n",
       "      <td>21.25</td>\n",
       "      <td>130.00</td>\n",
       "      <td>1203.0</td>\n",
       "      <td>0.10960</td>\n",
       "      <td>0.15990</td>\n",
       "      <td>0.1974</td>\n",
       "      <td>0.12790</td>\n",
       "      <td>...</td>\n",
       "      <td>23.57</td>\n",
       "      <td>25.53</td>\n",
       "      <td>152.50</td>\n",
       "      <td>1709.0</td>\n",
       "      <td>0.1444</td>\n",
       "      <td>0.4245</td>\n",
       "      <td>0.4504</td>\n",
       "      <td>0.2430</td>\n",
       "      <td>0.3613</td>\n",
       "      <td>0.08758</td>\n",
       "    </tr>\n",
       "    <tr>\n",
       "      <th>3</th>\n",
       "      <td>84348301</td>\n",
       "      <td>1</td>\n",
       "      <td>11.42</td>\n",
       "      <td>20.38</td>\n",
       "      <td>77.58</td>\n",
       "      <td>386.1</td>\n",
       "      <td>0.14250</td>\n",
       "      <td>0.28390</td>\n",
       "      <td>0.2414</td>\n",
       "      <td>0.10520</td>\n",
       "      <td>...</td>\n",
       "      <td>14.91</td>\n",
       "      <td>26.50</td>\n",
       "      <td>98.87</td>\n",
       "      <td>567.7</td>\n",
       "      <td>0.2098</td>\n",
       "      <td>0.8663</td>\n",
       "      <td>0.6869</td>\n",
       "      <td>0.2575</td>\n",
       "      <td>0.6638</td>\n",
       "      <td>0.17300</td>\n",
       "    </tr>\n",
       "    <tr>\n",
       "      <th>4</th>\n",
       "      <td>84358402</td>\n",
       "      <td>1</td>\n",
       "      <td>20.29</td>\n",
       "      <td>14.34</td>\n",
       "      <td>135.10</td>\n",
       "      <td>1297.0</td>\n",
       "      <td>0.10030</td>\n",
       "      <td>0.13280</td>\n",
       "      <td>0.1980</td>\n",
       "      <td>0.10430</td>\n",
       "      <td>...</td>\n",
       "      <td>22.54</td>\n",
       "      <td>16.67</td>\n",
       "      <td>152.20</td>\n",
       "      <td>1575.0</td>\n",
       "      <td>0.1374</td>\n",
       "      <td>0.2050</td>\n",
       "      <td>0.4000</td>\n",
       "      <td>0.1625</td>\n",
       "      <td>0.2364</td>\n",
       "      <td>0.07678</td>\n",
       "    </tr>\n",
       "  </tbody>\n",
       "</table>\n",
       "<p>5 rows × 32 columns</p>\n",
       "</div>"
      ],
      "text/plain": [
       "         id  diagnosis  radius_mean  texture_mean  perimeter_mean  area_mean  \\\n",
       "0    842302          1        17.99         10.38          122.80     1001.0   \n",
       "1    842517          1        20.57         17.77          132.90     1326.0   \n",
       "2  84300903          1        19.69         21.25          130.00     1203.0   \n",
       "3  84348301          1        11.42         20.38           77.58      386.1   \n",
       "4  84358402          1        20.29         14.34          135.10     1297.0   \n",
       "\n",
       "   smoothness_mean  compactness_mean  concavity_mean  concave points_mean  \\\n",
       "0          0.11840           0.27760          0.3001              0.14710   \n",
       "1          0.08474           0.07864          0.0869              0.07017   \n",
       "2          0.10960           0.15990          0.1974              0.12790   \n",
       "3          0.14250           0.28390          0.2414              0.10520   \n",
       "4          0.10030           0.13280          0.1980              0.10430   \n",
       "\n",
       "   ...  radius_worst  texture_worst  perimeter_worst  area_worst  \\\n",
       "0  ...         25.38          17.33           184.60      2019.0   \n",
       "1  ...         24.99          23.41           158.80      1956.0   \n",
       "2  ...         23.57          25.53           152.50      1709.0   \n",
       "3  ...         14.91          26.50            98.87       567.7   \n",
       "4  ...         22.54          16.67           152.20      1575.0   \n",
       "\n",
       "   smoothness_worst  compactness_worst  concavity_worst  concave points_worst  \\\n",
       "0            0.1622             0.6656           0.7119                0.2654   \n",
       "1            0.1238             0.1866           0.2416                0.1860   \n",
       "2            0.1444             0.4245           0.4504                0.2430   \n",
       "3            0.2098             0.8663           0.6869                0.2575   \n",
       "4            0.1374             0.2050           0.4000                0.1625   \n",
       "\n",
       "   symmetry_worst  fractal_dimension_worst  \n",
       "0          0.4601                  0.11890  \n",
       "1          0.2750                  0.08902  \n",
       "2          0.3613                  0.08758  \n",
       "3          0.6638                  0.17300  \n",
       "4          0.2364                  0.07678  \n",
       "\n",
       "[5 rows x 32 columns]"
      ]
     },
     "execution_count": 108,
     "metadata": {},
     "output_type": "execute_result"
    }
   ],
   "source": [
    "df.head()"
   ]
  },
  {
   "cell_type": "code",
   "execution_count": 109,
   "metadata": {},
   "outputs": [
    {
     "data": {
      "application/vnd.plotly.v1+json": {
       "config": {
        "plotlyServerURL": "https://plot.ly"
       },
       "data": [
        {
         "bingroup": "x",
         "hovertemplate": "color=Malignant<br>x=%{x}<br>count=%{y}<extra></extra>",
         "legendgroup": "Malignant",
         "marker": {
          "color": "#ee8ef5",
          "pattern": {
           "shape": ""
          }
         },
         "name": "Malignant",
         "orientation": "v",
         "showlegend": true,
         "type": "histogram",
         "x": [
          "Malignant",
          "Malignant",
          "Malignant",
          "Malignant",
          "Malignant",
          "Malignant",
          "Malignant",
          "Malignant",
          "Malignant",
          "Malignant",
          "Malignant",
          "Malignant",
          "Malignant",
          "Malignant",
          "Malignant",
          "Malignant",
          "Malignant",
          "Malignant",
          "Malignant",
          "Malignant",
          "Malignant",
          "Malignant",
          "Malignant",
          "Malignant",
          "Malignant",
          "Malignant",
          "Malignant",
          "Malignant",
          "Malignant",
          "Malignant",
          "Malignant",
          "Malignant",
          "Malignant",
          "Malignant",
          "Malignant",
          "Malignant",
          "Malignant",
          "Malignant",
          "Malignant",
          "Malignant",
          "Malignant",
          "Malignant",
          "Malignant",
          "Malignant",
          "Malignant",
          "Malignant",
          "Malignant",
          "Malignant",
          "Malignant",
          "Malignant",
          "Malignant",
          "Malignant",
          "Malignant",
          "Malignant",
          "Malignant",
          "Malignant",
          "Malignant",
          "Malignant",
          "Malignant",
          "Malignant",
          "Malignant",
          "Malignant",
          "Malignant",
          "Malignant",
          "Malignant",
          "Malignant",
          "Malignant",
          "Malignant",
          "Malignant",
          "Malignant",
          "Malignant",
          "Malignant",
          "Malignant",
          "Malignant",
          "Malignant",
          "Malignant",
          "Malignant",
          "Malignant",
          "Malignant",
          "Malignant",
          "Malignant",
          "Malignant",
          "Malignant",
          "Malignant",
          "Malignant",
          "Malignant",
          "Malignant",
          "Malignant",
          "Malignant",
          "Malignant",
          "Malignant",
          "Malignant",
          "Malignant",
          "Malignant",
          "Malignant",
          "Malignant",
          "Malignant",
          "Malignant",
          "Malignant",
          "Malignant",
          "Malignant",
          "Malignant",
          "Malignant",
          "Malignant",
          "Malignant",
          "Malignant",
          "Malignant",
          "Malignant",
          "Malignant",
          "Malignant",
          "Malignant",
          "Malignant",
          "Malignant",
          "Malignant",
          "Malignant",
          "Malignant",
          "Malignant",
          "Malignant",
          "Malignant",
          "Malignant",
          "Malignant",
          "Malignant",
          "Malignant",
          "Malignant",
          "Malignant",
          "Malignant",
          "Malignant",
          "Malignant",
          "Malignant",
          "Malignant",
          "Malignant",
          "Malignant",
          "Malignant",
          "Malignant",
          "Malignant",
          "Malignant",
          "Malignant",
          "Malignant",
          "Malignant",
          "Malignant",
          "Malignant",
          "Malignant",
          "Malignant",
          "Malignant",
          "Malignant",
          "Malignant",
          "Malignant",
          "Malignant",
          "Malignant",
          "Malignant",
          "Malignant",
          "Malignant",
          "Malignant",
          "Malignant",
          "Malignant",
          "Malignant",
          "Malignant",
          "Malignant",
          "Malignant",
          "Malignant",
          "Malignant",
          "Malignant",
          "Malignant",
          "Malignant",
          "Malignant",
          "Malignant",
          "Malignant",
          "Malignant",
          "Malignant",
          "Malignant",
          "Malignant",
          "Malignant",
          "Malignant",
          "Malignant",
          "Malignant",
          "Malignant",
          "Malignant",
          "Malignant",
          "Malignant",
          "Malignant",
          "Malignant",
          "Malignant",
          "Malignant",
          "Malignant",
          "Malignant",
          "Malignant",
          "Malignant",
          "Malignant",
          "Malignant",
          "Malignant",
          "Malignant",
          "Malignant",
          "Malignant",
          "Malignant",
          "Malignant",
          "Malignant",
          "Malignant",
          "Malignant",
          "Malignant",
          "Malignant",
          "Malignant",
          "Malignant",
          "Malignant",
          "Malignant",
          "Malignant",
          "Malignant",
          "Malignant",
          "Malignant",
          "Malignant",
          "Malignant",
          "Malignant",
          "Malignant"
         ],
         "xaxis": "x",
         "yaxis": "y"
        },
        {
         "bingroup": "x",
         "hovertemplate": "color=Benign<br>x=%{x}<br>count=%{y}<extra></extra>",
         "legendgroup": "Benign",
         "marker": {
          "color": "rgb(50, 80, 168)",
          "pattern": {
           "shape": ""
          }
         },
         "name": "Benign",
         "orientation": "v",
         "showlegend": true,
         "type": "histogram",
         "x": [
          "Benign",
          "Benign",
          "Benign",
          "Benign",
          "Benign",
          "Benign",
          "Benign",
          "Benign",
          "Benign",
          "Benign",
          "Benign",
          "Benign",
          "Benign",
          "Benign",
          "Benign",
          "Benign",
          "Benign",
          "Benign",
          "Benign",
          "Benign",
          "Benign",
          "Benign",
          "Benign",
          "Benign",
          "Benign",
          "Benign",
          "Benign",
          "Benign",
          "Benign",
          "Benign",
          "Benign",
          "Benign",
          "Benign",
          "Benign",
          "Benign",
          "Benign",
          "Benign",
          "Benign",
          "Benign",
          "Benign",
          "Benign",
          "Benign",
          "Benign",
          "Benign",
          "Benign",
          "Benign",
          "Benign",
          "Benign",
          "Benign",
          "Benign",
          "Benign",
          "Benign",
          "Benign",
          "Benign",
          "Benign",
          "Benign",
          "Benign",
          "Benign",
          "Benign",
          "Benign",
          "Benign",
          "Benign",
          "Benign",
          "Benign",
          "Benign",
          "Benign",
          "Benign",
          "Benign",
          "Benign",
          "Benign",
          "Benign",
          "Benign",
          "Benign",
          "Benign",
          "Benign",
          "Benign",
          "Benign",
          "Benign",
          "Benign",
          "Benign",
          "Benign",
          "Benign",
          "Benign",
          "Benign",
          "Benign",
          "Benign",
          "Benign",
          "Benign",
          "Benign",
          "Benign",
          "Benign",
          "Benign",
          "Benign",
          "Benign",
          "Benign",
          "Benign",
          "Benign",
          "Benign",
          "Benign",
          "Benign",
          "Benign",
          "Benign",
          "Benign",
          "Benign",
          "Benign",
          "Benign",
          "Benign",
          "Benign",
          "Benign",
          "Benign",
          "Benign",
          "Benign",
          "Benign",
          "Benign",
          "Benign",
          "Benign",
          "Benign",
          "Benign",
          "Benign",
          "Benign",
          "Benign",
          "Benign",
          "Benign",
          "Benign",
          "Benign",
          "Benign",
          "Benign",
          "Benign",
          "Benign",
          "Benign",
          "Benign",
          "Benign",
          "Benign",
          "Benign",
          "Benign",
          "Benign",
          "Benign",
          "Benign",
          "Benign",
          "Benign",
          "Benign",
          "Benign",
          "Benign",
          "Benign",
          "Benign",
          "Benign",
          "Benign",
          "Benign",
          "Benign",
          "Benign",
          "Benign",
          "Benign",
          "Benign",
          "Benign",
          "Benign",
          "Benign",
          "Benign",
          "Benign",
          "Benign",
          "Benign",
          "Benign",
          "Benign",
          "Benign",
          "Benign",
          "Benign",
          "Benign",
          "Benign",
          "Benign",
          "Benign",
          "Benign",
          "Benign",
          "Benign",
          "Benign",
          "Benign",
          "Benign",
          "Benign",
          "Benign",
          "Benign",
          "Benign",
          "Benign",
          "Benign",
          "Benign",
          "Benign",
          "Benign",
          "Benign",
          "Benign",
          "Benign",
          "Benign",
          "Benign",
          "Benign",
          "Benign",
          "Benign",
          "Benign",
          "Benign",
          "Benign",
          "Benign",
          "Benign",
          "Benign",
          "Benign",
          "Benign",
          "Benign",
          "Benign",
          "Benign",
          "Benign",
          "Benign",
          "Benign",
          "Benign",
          "Benign",
          "Benign",
          "Benign",
          "Benign",
          "Benign",
          "Benign",
          "Benign",
          "Benign",
          "Benign",
          "Benign",
          "Benign",
          "Benign",
          "Benign",
          "Benign",
          "Benign",
          "Benign",
          "Benign",
          "Benign",
          "Benign",
          "Benign",
          "Benign",
          "Benign",
          "Benign",
          "Benign",
          "Benign",
          "Benign",
          "Benign",
          "Benign",
          "Benign",
          "Benign",
          "Benign",
          "Benign",
          "Benign",
          "Benign",
          "Benign",
          "Benign",
          "Benign",
          "Benign",
          "Benign",
          "Benign",
          "Benign",
          "Benign",
          "Benign",
          "Benign",
          "Benign",
          "Benign",
          "Benign",
          "Benign",
          "Benign",
          "Benign",
          "Benign",
          "Benign",
          "Benign",
          "Benign",
          "Benign",
          "Benign",
          "Benign",
          "Benign",
          "Benign",
          "Benign",
          "Benign",
          "Benign",
          "Benign",
          "Benign",
          "Benign",
          "Benign",
          "Benign",
          "Benign",
          "Benign",
          "Benign",
          "Benign",
          "Benign",
          "Benign",
          "Benign",
          "Benign",
          "Benign",
          "Benign",
          "Benign",
          "Benign",
          "Benign",
          "Benign",
          "Benign",
          "Benign",
          "Benign",
          "Benign",
          "Benign",
          "Benign",
          "Benign",
          "Benign",
          "Benign",
          "Benign",
          "Benign",
          "Benign",
          "Benign",
          "Benign",
          "Benign",
          "Benign",
          "Benign",
          "Benign",
          "Benign",
          "Benign",
          "Benign",
          "Benign",
          "Benign",
          "Benign",
          "Benign",
          "Benign",
          "Benign",
          "Benign",
          "Benign",
          "Benign",
          "Benign",
          "Benign",
          "Benign",
          "Benign",
          "Benign",
          "Benign",
          "Benign",
          "Benign",
          "Benign",
          "Benign",
          "Benign",
          "Benign",
          "Benign",
          "Benign",
          "Benign",
          "Benign",
          "Benign",
          "Benign",
          "Benign",
          "Benign",
          "Benign",
          "Benign",
          "Benign",
          "Benign",
          "Benign",
          "Benign",
          "Benign",
          "Benign",
          "Benign",
          "Benign",
          "Benign",
          "Benign",
          "Benign",
          "Benign",
          "Benign",
          "Benign",
          "Benign",
          "Benign",
          "Benign"
         ],
         "xaxis": "x",
         "yaxis": "y"
        }
       ],
       "layout": {
        "barmode": "relative",
        "font": {
         "color": "darkblue",
         "family": "Arial, Courier New, monospace",
         "size": 12
        },
        "height": 400,
        "legend": {
         "title": {
          "text": "color"
         },
         "tracegroupgap": 0
        },
        "margin": {
         "t": 60
        },
        "plot_bgcolor": "white",
        "template": {
         "data": {
          "bar": [
           {
            "error_x": {
             "color": "#2a3f5f"
            },
            "error_y": {
             "color": "#2a3f5f"
            },
            "marker": {
             "line": {
              "color": "#E5ECF6",
              "width": 0.5
             },
             "pattern": {
              "fillmode": "overlay",
              "size": 10,
              "solidity": 0.2
             }
            },
            "type": "bar"
           }
          ],
          "barpolar": [
           {
            "marker": {
             "line": {
              "color": "#E5ECF6",
              "width": 0.5
             },
             "pattern": {
              "fillmode": "overlay",
              "size": 10,
              "solidity": 0.2
             }
            },
            "type": "barpolar"
           }
          ],
          "carpet": [
           {
            "aaxis": {
             "endlinecolor": "#2a3f5f",
             "gridcolor": "white",
             "linecolor": "white",
             "minorgridcolor": "white",
             "startlinecolor": "#2a3f5f"
            },
            "baxis": {
             "endlinecolor": "#2a3f5f",
             "gridcolor": "white",
             "linecolor": "white",
             "minorgridcolor": "white",
             "startlinecolor": "#2a3f5f"
            },
            "type": "carpet"
           }
          ],
          "choropleth": [
           {
            "colorbar": {
             "outlinewidth": 0,
             "ticks": ""
            },
            "type": "choropleth"
           }
          ],
          "contour": [
           {
            "colorbar": {
             "outlinewidth": 0,
             "ticks": ""
            },
            "colorscale": [
             [
              0,
              "#0d0887"
             ],
             [
              0.1111111111111111,
              "#46039f"
             ],
             [
              0.2222222222222222,
              "#7201a8"
             ],
             [
              0.3333333333333333,
              "#9c179e"
             ],
             [
              0.4444444444444444,
              "#bd3786"
             ],
             [
              0.5555555555555556,
              "#d8576b"
             ],
             [
              0.6666666666666666,
              "#ed7953"
             ],
             [
              0.7777777777777778,
              "#fb9f3a"
             ],
             [
              0.8888888888888888,
              "#fdca26"
             ],
             [
              1,
              "#f0f921"
             ]
            ],
            "type": "contour"
           }
          ],
          "contourcarpet": [
           {
            "colorbar": {
             "outlinewidth": 0,
             "ticks": ""
            },
            "type": "contourcarpet"
           }
          ],
          "heatmap": [
           {
            "colorbar": {
             "outlinewidth": 0,
             "ticks": ""
            },
            "colorscale": [
             [
              0,
              "#0d0887"
             ],
             [
              0.1111111111111111,
              "#46039f"
             ],
             [
              0.2222222222222222,
              "#7201a8"
             ],
             [
              0.3333333333333333,
              "#9c179e"
             ],
             [
              0.4444444444444444,
              "#bd3786"
             ],
             [
              0.5555555555555556,
              "#d8576b"
             ],
             [
              0.6666666666666666,
              "#ed7953"
             ],
             [
              0.7777777777777778,
              "#fb9f3a"
             ],
             [
              0.8888888888888888,
              "#fdca26"
             ],
             [
              1,
              "#f0f921"
             ]
            ],
            "type": "heatmap"
           }
          ],
          "histogram": [
           {
            "marker": {
             "pattern": {
              "fillmode": "overlay",
              "size": 10,
              "solidity": 0.2
             }
            },
            "type": "histogram"
           }
          ],
          "histogram2d": [
           {
            "colorbar": {
             "outlinewidth": 0,
             "ticks": ""
            },
            "colorscale": [
             [
              0,
              "#0d0887"
             ],
             [
              0.1111111111111111,
              "#46039f"
             ],
             [
              0.2222222222222222,
              "#7201a8"
             ],
             [
              0.3333333333333333,
              "#9c179e"
             ],
             [
              0.4444444444444444,
              "#bd3786"
             ],
             [
              0.5555555555555556,
              "#d8576b"
             ],
             [
              0.6666666666666666,
              "#ed7953"
             ],
             [
              0.7777777777777778,
              "#fb9f3a"
             ],
             [
              0.8888888888888888,
              "#fdca26"
             ],
             [
              1,
              "#f0f921"
             ]
            ],
            "type": "histogram2d"
           }
          ],
          "histogram2dcontour": [
           {
            "colorbar": {
             "outlinewidth": 0,
             "ticks": ""
            },
            "colorscale": [
             [
              0,
              "#0d0887"
             ],
             [
              0.1111111111111111,
              "#46039f"
             ],
             [
              0.2222222222222222,
              "#7201a8"
             ],
             [
              0.3333333333333333,
              "#9c179e"
             ],
             [
              0.4444444444444444,
              "#bd3786"
             ],
             [
              0.5555555555555556,
              "#d8576b"
             ],
             [
              0.6666666666666666,
              "#ed7953"
             ],
             [
              0.7777777777777778,
              "#fb9f3a"
             ],
             [
              0.8888888888888888,
              "#fdca26"
             ],
             [
              1,
              "#f0f921"
             ]
            ],
            "type": "histogram2dcontour"
           }
          ],
          "mesh3d": [
           {
            "colorbar": {
             "outlinewidth": 0,
             "ticks": ""
            },
            "type": "mesh3d"
           }
          ],
          "parcoords": [
           {
            "line": {
             "colorbar": {
              "outlinewidth": 0,
              "ticks": ""
             }
            },
            "type": "parcoords"
           }
          ],
          "pie": [
           {
            "automargin": true,
            "type": "pie"
           }
          ],
          "scatter": [
           {
            "fillpattern": {
             "fillmode": "overlay",
             "size": 10,
             "solidity": 0.2
            },
            "type": "scatter"
           }
          ],
          "scatter3d": [
           {
            "line": {
             "colorbar": {
              "outlinewidth": 0,
              "ticks": ""
             }
            },
            "marker": {
             "colorbar": {
              "outlinewidth": 0,
              "ticks": ""
             }
            },
            "type": "scatter3d"
           }
          ],
          "scattercarpet": [
           {
            "marker": {
             "colorbar": {
              "outlinewidth": 0,
              "ticks": ""
             }
            },
            "type": "scattercarpet"
           }
          ],
          "scattergeo": [
           {
            "marker": {
             "colorbar": {
              "outlinewidth": 0,
              "ticks": ""
             }
            },
            "type": "scattergeo"
           }
          ],
          "scattergl": [
           {
            "marker": {
             "colorbar": {
              "outlinewidth": 0,
              "ticks": ""
             }
            },
            "type": "scattergl"
           }
          ],
          "scattermap": [
           {
            "marker": {
             "colorbar": {
              "outlinewidth": 0,
              "ticks": ""
             }
            },
            "type": "scattermap"
           }
          ],
          "scattermapbox": [
           {
            "marker": {
             "colorbar": {
              "outlinewidth": 0,
              "ticks": ""
             }
            },
            "type": "scattermapbox"
           }
          ],
          "scatterpolar": [
           {
            "marker": {
             "colorbar": {
              "outlinewidth": 0,
              "ticks": ""
             }
            },
            "type": "scatterpolar"
           }
          ],
          "scatterpolargl": [
           {
            "marker": {
             "colorbar": {
              "outlinewidth": 0,
              "ticks": ""
             }
            },
            "type": "scatterpolargl"
           }
          ],
          "scatterternary": [
           {
            "marker": {
             "colorbar": {
              "outlinewidth": 0,
              "ticks": ""
             }
            },
            "type": "scatterternary"
           }
          ],
          "surface": [
           {
            "colorbar": {
             "outlinewidth": 0,
             "ticks": ""
            },
            "colorscale": [
             [
              0,
              "#0d0887"
             ],
             [
              0.1111111111111111,
              "#46039f"
             ],
             [
              0.2222222222222222,
              "#7201a8"
             ],
             [
              0.3333333333333333,
              "#9c179e"
             ],
             [
              0.4444444444444444,
              "#bd3786"
             ],
             [
              0.5555555555555556,
              "#d8576b"
             ],
             [
              0.6666666666666666,
              "#ed7953"
             ],
             [
              0.7777777777777778,
              "#fb9f3a"
             ],
             [
              0.8888888888888888,
              "#fdca26"
             ],
             [
              1,
              "#f0f921"
             ]
            ],
            "type": "surface"
           }
          ],
          "table": [
           {
            "cells": {
             "fill": {
              "color": "#EBF0F8"
             },
             "line": {
              "color": "white"
             }
            },
            "header": {
             "fill": {
              "color": "#C8D4E3"
             },
             "line": {
              "color": "white"
             }
            },
            "type": "table"
           }
          ]
         },
         "layout": {
          "annotationdefaults": {
           "arrowcolor": "#2a3f5f",
           "arrowhead": 0,
           "arrowwidth": 1
          },
          "autotypenumbers": "strict",
          "coloraxis": {
           "colorbar": {
            "outlinewidth": 0,
            "ticks": ""
           }
          },
          "colorscale": {
           "diverging": [
            [
             0,
             "#8e0152"
            ],
            [
             0.1,
             "#c51b7d"
            ],
            [
             0.2,
             "#de77ae"
            ],
            [
             0.3,
             "#f1b6da"
            ],
            [
             0.4,
             "#fde0ef"
            ],
            [
             0.5,
             "#f7f7f7"
            ],
            [
             0.6,
             "#e6f5d0"
            ],
            [
             0.7,
             "#b8e186"
            ],
            [
             0.8,
             "#7fbc41"
            ],
            [
             0.9,
             "#4d9221"
            ],
            [
             1,
             "#276419"
            ]
           ],
           "sequential": [
            [
             0,
             "#0d0887"
            ],
            [
             0.1111111111111111,
             "#46039f"
            ],
            [
             0.2222222222222222,
             "#7201a8"
            ],
            [
             0.3333333333333333,
             "#9c179e"
            ],
            [
             0.4444444444444444,
             "#bd3786"
            ],
            [
             0.5555555555555556,
             "#d8576b"
            ],
            [
             0.6666666666666666,
             "#ed7953"
            ],
            [
             0.7777777777777778,
             "#fb9f3a"
            ],
            [
             0.8888888888888888,
             "#fdca26"
            ],
            [
             1,
             "#f0f921"
            ]
           ],
           "sequentialminus": [
            [
             0,
             "#0d0887"
            ],
            [
             0.1111111111111111,
             "#46039f"
            ],
            [
             0.2222222222222222,
             "#7201a8"
            ],
            [
             0.3333333333333333,
             "#9c179e"
            ],
            [
             0.4444444444444444,
             "#bd3786"
            ],
            [
             0.5555555555555556,
             "#d8576b"
            ],
            [
             0.6666666666666666,
             "#ed7953"
            ],
            [
             0.7777777777777778,
             "#fb9f3a"
            ],
            [
             0.8888888888888888,
             "#fdca26"
            ],
            [
             1,
             "#f0f921"
            ]
           ]
          },
          "colorway": [
           "#636efa",
           "#EF553B",
           "#00cc96",
           "#ab63fa",
           "#FFA15A",
           "#19d3f3",
           "#FF6692",
           "#B6E880",
           "#FF97FF",
           "#FECB52"
          ],
          "font": {
           "color": "#2a3f5f"
          },
          "geo": {
           "bgcolor": "white",
           "lakecolor": "white",
           "landcolor": "#E5ECF6",
           "showlakes": true,
           "showland": true,
           "subunitcolor": "white"
          },
          "hoverlabel": {
           "align": "left"
          },
          "hovermode": "closest",
          "mapbox": {
           "style": "light"
          },
          "paper_bgcolor": "white",
          "plot_bgcolor": "#E5ECF6",
          "polar": {
           "angularaxis": {
            "gridcolor": "white",
            "linecolor": "white",
            "ticks": ""
           },
           "bgcolor": "#E5ECF6",
           "radialaxis": {
            "gridcolor": "white",
            "linecolor": "white",
            "ticks": ""
           }
          },
          "scene": {
           "xaxis": {
            "backgroundcolor": "#E5ECF6",
            "gridcolor": "white",
            "gridwidth": 2,
            "linecolor": "white",
            "showbackground": true,
            "ticks": "",
            "zerolinecolor": "white"
           },
           "yaxis": {
            "backgroundcolor": "#E5ECF6",
            "gridcolor": "white",
            "gridwidth": 2,
            "linecolor": "white",
            "showbackground": true,
            "ticks": "",
            "zerolinecolor": "white"
           },
           "zaxis": {
            "backgroundcolor": "#E5ECF6",
            "gridcolor": "white",
            "gridwidth": 2,
            "linecolor": "white",
            "showbackground": true,
            "ticks": "",
            "zerolinecolor": "white"
           }
          },
          "shapedefaults": {
           "line": {
            "color": "#2a3f5f"
           }
          },
          "ternary": {
           "aaxis": {
            "gridcolor": "white",
            "linecolor": "white",
            "ticks": ""
           },
           "baxis": {
            "gridcolor": "white",
            "linecolor": "white",
            "ticks": ""
           },
           "bgcolor": "#E5ECF6",
           "caxis": {
            "gridcolor": "white",
            "linecolor": "white",
            "ticks": ""
           }
          },
          "title": {
           "x": 0.05
          },
          "xaxis": {
           "automargin": true,
           "gridcolor": "white",
           "linecolor": "white",
           "ticks": "",
           "title": {
            "standoff": 15
           },
           "zerolinecolor": "white",
           "zerolinewidth": 2
          },
          "yaxis": {
           "automargin": true,
           "gridcolor": "white",
           "linecolor": "white",
           "ticks": "",
           "title": {
            "standoff": 15
           },
           "zerolinecolor": "white",
           "zerolinewidth": 2
          }
         }
        },
        "title": {
         "text": "Distribution of Diagnosis"
        },
        "width": 600,
        "xaxis": {
         "anchor": "y",
         "categoryarray": [
          "Benign",
          "Malignant"
         ],
         "categoryorder": "array",
         "domain": [
          0,
          1
         ],
         "gridcolor": "lightgray",
         "gridwidth": 1,
         "linecolor": "darkgray",
         "showgrid": true,
         "showline": true,
         "title": {
          "text": "Diagnosis"
         }
        },
        "yaxis": {
         "anchor": "x",
         "domain": [
          0,
          1
         ],
         "gridcolor": "lightgray",
         "gridwidth": 1,
         "linecolor": "darkgray",
         "showgrid": true,
         "showline": true,
         "title": {
          "text": "Count of Diagnosis Distribution"
         }
        }
       }
      }
     },
     "metadata": {},
     "output_type": "display_data"
    }
   ],
   "source": [
    "# Map numeric diagnosis back to string labels for plotting\n",
    "diagnosis_labels = df['diagnosis'].map({0: 'Benign', 1: 'Malignant'})\n",
    "\n",
    "fig1 = px.histogram(x=diagnosis_labels, \n",
    "                   color=diagnosis_labels,\n",
    "                   color_discrete_map={\n",
    "        'Benign': 'rgb(50, 80, 168)',     \n",
    "        'Malignant': '#ee8ef5'     \n",
    "    })\n",
    "fig1.update_xaxes(categoryorder=\"array\", categoryarray=['Benign', 'Malignant'])\n",
    "fig1.update_layout(\n",
    "    title=\"Distribution of Diagnosis\",\n",
    "    xaxis_title=\"Diagnosis\",\n",
    "    yaxis_title=\"Count of Diagnosis Distribution\"\n",
    ")\n",
    "fig1.update_layout(\n",
    "    width=600,\n",
    "    height=400,\n",
    "    font=dict(\n",
    "        family=\"Arial, Courier New, monospace\",  # font family\n",
    "        size=12,                                 # font size (pixels)\n",
    "        color=\"darkblue\"                         # font color\n",
    "    )\n",
    ")\n",
    "\n",
    "fig1.update_layout(\n",
    "    plot_bgcolor='white',\n",
    "    xaxis=dict(\n",
    "        showline=True,            # show axis line\n",
    "        linecolor='darkgray',        # axis line color\n",
    "        showgrid=True,            # show grid lines\n",
    "        gridcolor='lightgray',    # grid line color\n",
    "        gridwidth=1\n",
    "    ),\n",
    "    yaxis=dict(\n",
    "        showline=True,\n",
    "        linecolor='darkgray',\n",
    "        showgrid=True,\n",
    "        gridcolor='lightgray',\n",
    "        gridwidth=1\n",
    "    )\n",
    ")\n",
    "\n",
    "fig1.show()\n",
    "\n",
    "# filename = f\"fig_1.pdf\"\n",
    "# fig1.write_image(filename)"
   ]
  },
  {
   "cell_type": "code",
   "execution_count": 110,
   "metadata": {},
   "outputs": [
    {
     "data": {
      "text/plain": [
       "id                          True\n",
       "diagnosis                   True\n",
       "radius_mean                 True\n",
       "texture_mean                True\n",
       "perimeter_mean              True\n",
       "area_mean                   True\n",
       "smoothness_mean             True\n",
       "compactness_mean            True\n",
       "concavity_mean              True\n",
       "concave points_mean         True\n",
       "symmetry_mean               True\n",
       "fractal_dimension_mean     False\n",
       "radius_se                   True\n",
       "texture_se                 False\n",
       "perimeter_se                True\n",
       "area_se                     True\n",
       "smoothness_se              False\n",
       "compactness_se              True\n",
       "concavity_se                True\n",
       "concave points_se           True\n",
       "symmetry_se                False\n",
       "fractal_dimension_se        True\n",
       "radius_worst                True\n",
       "texture_worst               True\n",
       "perimeter_worst             True\n",
       "area_worst                  True\n",
       "smoothness_worst            True\n",
       "compactness_worst           True\n",
       "concavity_worst             True\n",
       "concave points_worst        True\n",
       "symmetry_worst              True\n",
       "fractal_dimension_worst     True\n",
       "Name: diagnosis, dtype: bool"
      ]
     },
     "execution_count": 110,
     "metadata": {},
     "output_type": "execute_result"
    }
   ],
   "source": [
    "df.corr()['diagnosis'] > 0"
   ]
  },
  {
   "cell_type": "code",
   "execution_count": 111,
   "metadata": {},
   "outputs": [],
   "source": [
    "# Map numeric diagnosis back to string labels for plotting\n",
    "diagnosis_labels = df['diagnosis'].map({0: 'Benign', 1: 'Malignant'})"
   ]
  },
  {
   "cell_type": "code",
   "execution_count": 112,
   "metadata": {},
   "outputs": [
    {
     "data": {
      "application/vnd.plotly.v1+json": {
       "config": {
        "plotlyServerURL": "https://plot.ly"
       },
       "data": [
        {
         "dimensions": [
          {
           "axis": {
            "matches": true
           },
           "label": "radius_worst",
           "values": {
            "bdata": "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",
            "dtype": "f8"
           }
          },
          {
           "axis": {
            "matches": true
           },
           "label": "texture_worst",
           "values": {
            "bdata": "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",
            "dtype": "f8"
           }
          },
          {
           "axis": {
            "matches": true
           },
           "label": "perimeter_worst",
           "values": {
            "bdata": "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",
            "dtype": "f8"
           }
          },
          {
           "axis": {
            "matches": true
           },
           "label": "area_worst",
           "values": {
            "bdata": "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",
            "dtype": "f8"
           }
          },
          {
           "axis": {
            "matches": true
           },
           "label": "smoothness_worst",
           "values": {
            "bdata": "NKK0N/jCxD82qz5XW7G/P11txf6ye8I/0LNZ9bnayj8RNjy9UpbBPz9XW7G/7MY/TKYKRiV1wj9AE2HD0yvFP1wgQfFjzMU/R3L5D+m3xz95WKg1zTu+P8rDQq1p3sE/B1+YTBWMuj8ydy0hH/S8P6foSC7/IcU/CmgibHh6xT8FNBE2PL3CPy6QoPgx5sY/mN2Th4Vawz+YbhKDwMrBP3S1FfvL7sE/tMh2vp8axz8tsp3vp8bDP4XrUbgehcM/4zYawFsgwT9TBaOSOgHFP6rx0k1iEMA/aLPqc7UVwz8ydy0hH/TEP5hMFYxK6sQ//7J78rBQwz9uNIC3QILCP8SxLm6jAcQ/bjSAt0CCwj9HVRNE3Qe4P8/3U+Olm8Q/xLEubqMBvD8dOGdEaW/IP86qz9VW7L8/L90kBoGVwz/MXUvIBz3DP5LLf0i/fcU/lWWIY13cxj/8qfHSTWLAPw8LtaZ5x8E/RGlv8IXJxD/f4AuTqYLBP8uhRbbz/cQ/Nqs+V1uxxz8OvjCZKhjFP0Otad5xir4/fT81XrpJxD/ImLuWkA/CPzMzMzMzM8M/eqUsQxzrwj9CPujZrPrEPxiV1AloIsQ/qDXNO07RwT/biv1l9+TBP9bFbTSAt8A/7zhFR3L5vz+7uI0G8BbAP18HzhlR2sM/EFg5tMh2vj9wXwfOGVHCP/7UeOkmMcA/E/JBz2bVxz9LWYY41sXFP5kqGJXUCcg/WDm0yHa+xz9TliGOdXG7P8xdS8gHPcM/oWez6nO1xT/A7J48LNTCP/rt68A5I7o/UrgehetRwD+1FfvL7snDP0Jg5dAi28E/jZduEoPAwj8LtaZ5xynCP8iYu5aQD8I/GeJYF7fRwD/ufD81XrrBP4NRSZ2AJsI/vAUSFD/GvD8rGJXUCWjCP4/k8h/Sb78/nzws1JrmvT8i/fZ14JzBP3S1FfvL7sE/uECC4seYwz/pJjEIrBzCP0hQ/Bhz18I/aLPqc7UVwz9hw9MrZRnCPyzUmuYdp8A/845TdCSXvz/IBz2bVZ/DPwwCK4cW2cY/KqkT0ETYwD95WKg1zTvGPxNm2v6VlbY/Xf5D+u3rwD/oaiv2l93DP8zuycNCrcE/YTJVMCqpwz8DeAskKH7MP2iz6nO1FcM/4umVsgxxvD9HA3gLJCi+P+oENBE2PL0/io7k8h/Svz+jI7n8h/TDP+Olm8QgsMI/4QuTqYJRwT8vbqMBvAXCP+hqK/aX3cM/yeU/pN++xj9cIEHxY8zFPzsBTYQNT78/FNBE2PD0wj+P5PIf0m+/P0a28/3UeME/fdCzWfW5wj9xrIvbaAC/PxfZzvdT48U/coqO5PIfwj+aCBueXinDP5jdk4eFWsM/hA1Pr5RlwD9kO99PjZfGP1XBqKROQMM/Qxzr4jYayD/swDkjSnvDP1g5tMh2vr8/ZMxdS8gHvT8c6+I2GsC7PxrAWyBB8cM/dLUV+8vuwT+5jQbwFkjAP6JFtvP91MA/io7k8h/Svz9z1xLyQc/GP8oyxLEubsM/Rrbz/dR4wT+WIY51cRu9P4lBYOXQIsM/rrZif9k9wT8Jih9j7lrCPySX/5B++7o/OPjCZKpgxD8nMQisHFrEP8ZtNIC3QMI/ke18PzVewj8HX5hMFYzCPyJseHqlLMM/MQisHFpkwz/nHafoSC6/P9ejcD0K18M/L90kBoGVwz9zaJHtfD/FPwfwFkhQ/MA/6+I2GsBbwD817zhFR3LBP3EbDeAtkMA/6SYxCKwcwj8y5q4l5IO+PzxO0ZFc/sM/oyO5/If0yz8JG55eKcvAP4hjXdxGA8A/o5I6AU2ExT9E+u3rwDnDP+84RUdy+cc/nDOitDf4wj9Pr5RliGO9P0LPZtXnasM/C7Wmeccpwj8dWmQ730/FP5huEoPAysE/aCJseHqlxD8aUdobfGHCP+0NvjCZKsA/dLUV+8vuwT/f4AuTqYLBPx4Wak3zjsM/exSuR+F6xD8Cmggbnl7BPy6QoPgx5r4/qmBUUiegwT+ppE5AE2HDPzGZKhiV1Lk/b/CFyVTBwD9Q/Bhz1xLCPwU0ETY8vcI/2IFzRpT2xj+oV8oyxLG+P89m1edqK8Y/ofgx5q4lxD+94xQdyeW/P/AWSFD8GMM/+u3rwDkjwj8FxY8xdy3BP/cGX5hMFbw/l/+Qfvs6wD9Ei2zn+6nBP/rt68A5I8I/pgpGJXUCwj8/NV66SQzCP32utmJ/2b0/uK8D54wovT8fhetRuB7FPw==",
            "dtype": "f8"
           }
          },
          {
           "axis": {
            "matches": true
           },
           "label": "compactness_worst",
           "values": {
            "bdata": "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",
            "dtype": "f8"
           }
          },
          {
           "axis": {
            "matches": true
           },
           "label": "concavity_worst",
           "values": {
            "bdata": "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",
            "dtype": "f8"
           }
          },
          {
           "axis": {
            "matches": true
           },
           "label": "concave points_worst",
           "values": {
            "bdata": "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",
            "dtype": "f8"
           }
          },
          {
           "axis": {
            "matches": true
           },
           "label": "symmetry_worst",
           "values": {
            "bdata": "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",
            "dtype": "f8"
           }
          },
          {
           "axis": {
            "matches": true
           },
           "label": "fractal_dimension_worst",
           "values": {
            "bdata": "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",
            "dtype": "f8"
           }
          }
         ],
         "hovertemplate": "color=Malignant<br>%{xaxis.title.text}=%{x}<br>%{yaxis.title.text}=%{y}<extra></extra>",
         "legendgroup": "Malignant",
         "marker": {
          "color": "#ee8ef5",
          "symbol": "circle"
         },
         "name": "Malignant",
         "showlegend": true,
         "type": "splom"
        },
        {
         "dimensions": [
          {
           "axis": {
            "matches": true
           },
           "label": "radius_worst",
           "values": {
            "bdata": "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",
            "dtype": "f8"
           }
          },
          {
           "axis": {
            "matches": true
           },
           "label": "texture_worst",
           "values": {
            "bdata": "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",
            "dtype": "f8"
           }
          },
          {
           "axis": {
            "matches": true
           },
           "label": "perimeter_worst",
           "values": {
            "bdata": "zczMzMzsWED2KFyPwgVYQLgehetRSFBAPQrXo3AdVUDhehSuR6FMQLgehetReFZAAAAAAADAWEAfhetRuL5UQIXrUbgeBVhAexSuR+HqVECkcD0K13NUQI/C9Shcj1ZAMzMzMzPzTUDXo3A9CndRQEjhehSuB09A9ihcj8JlUEBSuB6F68FQQAAAAAAAgFNAAAAAAABgUEB7FK5H4WpVQEjhehSuR09APQrXo3BtVkDXo3A9CtdWQLgehetR+FZAUrgeheshVUAK16NwPSpYQFK4HoXr8VVAPQrXo3DdVkCamZmZmVlbQJqZmZmZuVlAAAAAAAAgWkD2KFyPwmVYQClcj8L1iFRApHA9CtczUUA9CtejcL1UQBSuR+F6NElAhetRuB4lVUCuR+F6FA5SQK5H4XoUjlJAcT0K16NgVUCkcD0K12NVQI/C9Shc/1RA7FG4HoXrUUAAAAAAAEBWQAAAAAAAwFpASOF6FK4nUkAfhetRuB5QQMP1KFyP4lVA7FG4HoWrT0CPwvUoXO9UQDMzMzMzs1lAj8L1KFz/VkAzMzMzMxNZQJqZmZmZeVpAuB6F61HYVkAzMzMzM5NcQArXo3A9ilVA7FG4HoX7U0BSuB6F6yFTQFK4HoXroVBACtejcD2qVEB7FK5H4UpYQMP1KFyPclNAcT0K16OQVUBmZmZmZsZaQGZmZmZmJltAXI/C9ShMWEAUrkfherRWQArXo3A9Ck1Aw/UoXI/CUUAAAAAAABBTQHsUrkfhalhAZmZmZmamVUAzMzMzMxNeQIXrUbgeBVVAFK5H4XqEU0AK16NwPTpWQNejcD0K11VAMzMzMzOTWUAK16NwPWpSQGZmZmZmJlpArkfhehS+VUBxPQrXowBSQM3MzMzMTFJArkfhehQuTUAUrkfhekRSQOxRuB6FC1ZAzczMzMysVUBI4XoUrsdTQClcj8L12FJAexSuR+EaVUAUrkfheuRTQJqZmZmZqVVAw/UoXI9CVkAAAAAAACBPQKRwPQrXs1ZAmpmZmZkJV0AzMzMzMwNYQIXrUbgexVBAH4XrUbjeWEDNzMzMzGxcQK5H4XoUTlVAzczMzMyMVUCamZmZmdlSQD0K16Nw7VhAZmZmZmZGWUBcj8L1KPxRQPYoXI/CtVhAmpmZmZmZW0CuR+F6FF5SQM3MzMzMjFxAexSuR+GqVkAUrkfhevRTQFyPwvUonFNAj8L1KFxvUEDhehSuR5FYQAAAAAAAoFlA16NwPQqHV0BmZmZmZvZUQArXo3A9ylVAAAAAAACAWEDsUbgehWtSQFK4HoXrEVZAAAAAAABAWkAfhetRuH5TQLgehetROFRASOF6FK7HVEBSuB6F65FTQArXo3A9alhA4XoUrkdRVkBxPQrXoyBTQFyPwvUonFdA4XoUrkeRU0D2KFyPwgVRQD0K16Nw3VNASOF6FK5XU0AK16NwPbpYQEjhehSul1hAzczMzMwsVUBI4XoUrgdXQKRwPQrXY1VAzczMzMwMV0CamZmZmdlVQOF6FK5HkVNAw/UoXI/SU0DNzMzMzGxZQGZmZmZmRltApHA9CtczVkBmZmZmZhZVQMP1KFyPIlZAexSuR+GKV0B7FK5H4RpSQDMzMzMzc1pAZmZmZmaGUUC4HoXrUQhWQHE9CtejsFFAXI/C9SisVEApXI/C9VhUQAAAAAAAAFdAMzMzMzNzTkAfhetRuN5XQD0K16NwfVdAexSuR+E6VEDNzMzMzOxZQMP1KFyPAldAH4XrUbhOVEAzMzMzM1NMQB+F61G4HlVAZmZmZmZmVEBI4XoUridRQHE9CtejcFRAUrgehevhUUAzMzMzMzNXQNejcD0Kx1ZAzczMzMwsVkCamZmZmZlYQI/C9Shcr1RAPQrXo3DNWEAK16NwPTpTQIXrUbgehVRAUrgeheshVUC4HoXrUdhVQB+F61G4/lFAmpmZmZnZW0AAAAAAANBRQHE9Ctej8FNACtejcD0KVUApXI/C9bhRQMP1KFyPolVAzczMzMyMXEB7FK5H4epTQPYoXI/CxVRA16NwPQrnVEBI4XoUrudTQOF6FK5HQVZArkfhehSOV0CPwvUoXC9YQOF6FK5HUVBAw/UoXI/yUkAUrkfherRVQFyPwvUoPFdAFK5H4Xr0VUDNzMzMzExdQHE9CtejcFdAZmZmZmZ2V0AAAAAAACBaQArXo3A9ylhAZmZmZmZGXEBxPQrXoyBTQNejcD0KR1hAPQrXo3B9WEDsUbgehTtVQB+F61G47lNA16NwPQrXVUAfhetRuM5XQPYoXI/CJVhAmpmZmZnpVUAK16NwPepYQB+F61G47lNAH4XrUbhOUkBxPQrXowBQQIXrUbgeFVZAexSuR+EaWECF61G4HlVYQK5H4XoUrlZAw/UoXI8yVEAAAAAAAIBVQClcj8L16FVApHA9CtcTWEBcj8L1KGxWQNejcD0KB1VAcT0K16OwVECamZmZmflcQLgehetR6FZAAAAAAABAVkAUrkfhekRVQOxRuB6F+1NA16NwPQqnUEDNzMzMzIxbQPYoXI/CRVVAH4XrUbguUUBI4XoUrgdWQHE9Ctej0FNA7FG4HoWbVUBmZmZmZoZcQOxRuB6Fe1RAmpmZmZlZWUDD9Shcj/JRQHsUrkfhelFACtejcD1aVEBcj8L1KOxUQGZmZmZmllJASOF6FK43VkDXo3A9CmdWQDMzMzMzk1lAKVyPwvXIV0DNzMzMzExZQJqZmZmZOVlAUrgeheshWEApXI/C9YhWQJqZmZmZeVhAZmZmZmZWUUAfhetRuB5VQJqZmZmZeVpAZmZmZmYGW0BxPQrXo+BUQBSuR+F6RFVAZmZmZmbGWUBI4XoUrudWQFyPwvUoLFhAw/UoXI+CVUDD9Shcj9JWQKRwPQrXw1ZAUrgehesBUUCamZmZmRlZQOxRuB6Fq1RAZmZmZmbGV0AAAAAAAMBcQJqZmZmZOVlA16NwPQrHUUApXI/C9QhWQLgehetRuFFAj8L1KFzPVUAAAAAAAABcQIXrUbgeRVVAUrgehesxVECuR+F6FE5XQGZmZmZmBlxAzczMzMxMWUDD9Shcj4JUQIXrUbgeNVZAmpmZmZkZWkBcj8L1KLxXQFK4HoXr8VdAAAAAAAAgXEAUrkfhenRYQAAAAAAAgFpAFK5H4XqkVUCPwvUoXC9XQGZmZmZmxl9Aj8L1KFzPVEDD9Shcj9JXQJqZmZmZ+VlAw/UoXI/SV0AUrkfhejRXQM3MzMzMbFtAexSuR+GqVUAzMzMzM0NRQK5H4XoUXlFAuB6F61FIVUCF61G4HgVTQDMzMzMzc1tAAAAAAABQVEDNzMzMzGxZQAAAAAAAIFtAmpmZmZnJU0CkcD0K19NYQLgehetRaFdA9ihcj8L1UEC4HoXrURhTQOxRuB6F21hAFK5H4XqUUkBmZmZmZqZPQJqZmZmZeVlArkfhehTOVUDhehSuR6FXQHsUrkfhulVA4XoUrkchVkAAAAAAAMBVQGZmZmZmZllA7FG4HoUbU0BI4XoUrodVQPYoXI/ClUxAH4XrUbg+S0BSuB6F67FTQAAAAAAAYFxAmpmZmZnZWkAfhetRuB5XQHsUrkfhylhAhetRuB5lWEBI4XoUrsdRQIXrUbgexVFAZmZmZmZGUUCamZmZmflUQIXrUbgehVJAMzMzMzNzU0BmZmZmZgZWQK5H4XoUbk9A9ihcj8I1VkAUrkfhemRRQLgehetR+FBAAAAAAACgUECamZmZmXlaQFK4HoXrkVRAzczMzMwMWUBcj8L1KMxSQBSuR+F6lE1A",
            "dtype": "f8"
           }
          },
          {
           "axis": {
            "matches": true
           },
           "label": "area_worst",
           "values": {
            "bdata": "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",
            "dtype": "f8"
           }
          },
          {
           "axis": {
            "matches": true
           },
           "label": "smoothness_worst",
           "values": {
            "bdata": "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",
            "dtype": "f8"
           }
          },
          {
           "axis": {
            "matches": true
           },
           "label": "compactness_worst",
           "values": {
            "bdata": "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",
            "dtype": "f8"
           }
          },
          {
           "axis": {
            "matches": true
           },
           "label": "concavity_worst",
           "values": {
            "bdata": "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",
            "dtype": "f8"
           }
          },
          {
           "axis": {
            "matches": true
           },
           "label": "concave points_worst",
           "values": {
            "bdata": "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",
            "dtype": "f8"
           }
          },
          {
           "axis": {
            "matches": true
           },
           "label": "symmetry_worst",
           "values": {
            "bdata": "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",
            "dtype": "f8"
           }
          },
          {
           "axis": {
            "matches": true
           },
           "label": "fractal_dimension_worst",
           "values": {
            "bdata": "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",
            "dtype": "f8"
           }
          }
         ],
         "hovertemplate": "color=Benign<br>%{xaxis.title.text}=%{x}<br>%{yaxis.title.text}=%{y}<extra></extra>",
         "legendgroup": "Benign",
         "marker": {
          "color": "rgb(50, 80, 168)",
          "symbol": "circle"
         },
         "name": "Benign",
         "showlegend": true,
         "type": "splom"
        }
       ],
       "layout": {
        "dragmode": "select",
        "font": {
         "color": "darkblue",
         "family": "Arial, Courier New, monospace",
         "size": 12
        },
        "height": 1500,
        "legend": {
         "title": {
          "text": "color"
         },
         "tracegroupgap": 0
        },
        "margin": {
         "t": 60
        },
        "plot_bgcolor": "white",
        "template": {
         "data": {
          "bar": [
           {
            "error_x": {
             "color": "#2a3f5f"
            },
            "error_y": {
             "color": "#2a3f5f"
            },
            "marker": {
             "line": {
              "color": "#E5ECF6",
              "width": 0.5
             },
             "pattern": {
              "fillmode": "overlay",
              "size": 10,
              "solidity": 0.2
             }
            },
            "type": "bar"
           }
          ],
          "barpolar": [
           {
            "marker": {
             "line": {
              "color": "#E5ECF6",
              "width": 0.5
             },
             "pattern": {
              "fillmode": "overlay",
              "size": 10,
              "solidity": 0.2
             }
            },
            "type": "barpolar"
           }
          ],
          "carpet": [
           {
            "aaxis": {
             "endlinecolor": "#2a3f5f",
             "gridcolor": "white",
             "linecolor": "white",
             "minorgridcolor": "white",
             "startlinecolor": "#2a3f5f"
            },
            "baxis": {
             "endlinecolor": "#2a3f5f",
             "gridcolor": "white",
             "linecolor": "white",
             "minorgridcolor": "white",
             "startlinecolor": "#2a3f5f"
            },
            "type": "carpet"
           }
          ],
          "choropleth": [
           {
            "colorbar": {
             "outlinewidth": 0,
             "ticks": ""
            },
            "type": "choropleth"
           }
          ],
          "contour": [
           {
            "colorbar": {
             "outlinewidth": 0,
             "ticks": ""
            },
            "colorscale": [
             [
              0,
              "#0d0887"
             ],
             [
              0.1111111111111111,
              "#46039f"
             ],
             [
              0.2222222222222222,
              "#7201a8"
             ],
             [
              0.3333333333333333,
              "#9c179e"
             ],
             [
              0.4444444444444444,
              "#bd3786"
             ],
             [
              0.5555555555555556,
              "#d8576b"
             ],
             [
              0.6666666666666666,
              "#ed7953"
             ],
             [
              0.7777777777777778,
              "#fb9f3a"
             ],
             [
              0.8888888888888888,
              "#fdca26"
             ],
             [
              1,
              "#f0f921"
             ]
            ],
            "type": "contour"
           }
          ],
          "contourcarpet": [
           {
            "colorbar": {
             "outlinewidth": 0,
             "ticks": ""
            },
            "type": "contourcarpet"
           }
          ],
          "heatmap": [
           {
            "colorbar": {
             "outlinewidth": 0,
             "ticks": ""
            },
            "colorscale": [
             [
              0,
              "#0d0887"
             ],
             [
              0.1111111111111111,
              "#46039f"
             ],
             [
              0.2222222222222222,
              "#7201a8"
             ],
             [
              0.3333333333333333,
              "#9c179e"
             ],
             [
              0.4444444444444444,
              "#bd3786"
             ],
             [
              0.5555555555555556,
              "#d8576b"
             ],
             [
              0.6666666666666666,
              "#ed7953"
             ],
             [
              0.7777777777777778,
              "#fb9f3a"
             ],
             [
              0.8888888888888888,
              "#fdca26"
             ],
             [
              1,
              "#f0f921"
             ]
            ],
            "type": "heatmap"
           }
          ],
          "histogram": [
           {
            "marker": {
             "pattern": {
              "fillmode": "overlay",
              "size": 10,
              "solidity": 0.2
             }
            },
            "type": "histogram"
           }
          ],
          "histogram2d": [
           {
            "colorbar": {
             "outlinewidth": 0,
             "ticks": ""
            },
            "colorscale": [
             [
              0,
              "#0d0887"
             ],
             [
              0.1111111111111111,
              "#46039f"
             ],
             [
              0.2222222222222222,
              "#7201a8"
             ],
             [
              0.3333333333333333,
              "#9c179e"
             ],
             [
              0.4444444444444444,
              "#bd3786"
             ],
             [
              0.5555555555555556,
              "#d8576b"
             ],
             [
              0.6666666666666666,
              "#ed7953"
             ],
             [
              0.7777777777777778,
              "#fb9f3a"
             ],
             [
              0.8888888888888888,
              "#fdca26"
             ],
             [
              1,
              "#f0f921"
             ]
            ],
            "type": "histogram2d"
           }
          ],
          "histogram2dcontour": [
           {
            "colorbar": {
             "outlinewidth": 0,
             "ticks": ""
            },
            "colorscale": [
             [
              0,
              "#0d0887"
             ],
             [
              0.1111111111111111,
              "#46039f"
             ],
             [
              0.2222222222222222,
              "#7201a8"
             ],
             [
              0.3333333333333333,
              "#9c179e"
             ],
             [
              0.4444444444444444,
              "#bd3786"
             ],
             [
              0.5555555555555556,
              "#d8576b"
             ],
             [
              0.6666666666666666,
              "#ed7953"
             ],
             [
              0.7777777777777778,
              "#fb9f3a"
             ],
             [
              0.8888888888888888,
              "#fdca26"
             ],
             [
              1,
              "#f0f921"
             ]
            ],
            "type": "histogram2dcontour"
           }
          ],
          "mesh3d": [
           {
            "colorbar": {
             "outlinewidth": 0,
             "ticks": ""
            },
            "type": "mesh3d"
           }
          ],
          "parcoords": [
           {
            "line": {
             "colorbar": {
              "outlinewidth": 0,
              "ticks": ""
             }
            },
            "type": "parcoords"
           }
          ],
          "pie": [
           {
            "automargin": true,
            "type": "pie"
           }
          ],
          "scatter": [
           {
            "fillpattern": {
             "fillmode": "overlay",
             "size": 10,
             "solidity": 0.2
            },
            "type": "scatter"
           }
          ],
          "scatter3d": [
           {
            "line": {
             "colorbar": {
              "outlinewidth": 0,
              "ticks": ""
             }
            },
            "marker": {
             "colorbar": {
              "outlinewidth": 0,
              "ticks": ""
             }
            },
            "type": "scatter3d"
           }
          ],
          "scattercarpet": [
           {
            "marker": {
             "colorbar": {
              "outlinewidth": 0,
              "ticks": ""
             }
            },
            "type": "scattercarpet"
           }
          ],
          "scattergeo": [
           {
            "marker": {
             "colorbar": {
              "outlinewidth": 0,
              "ticks": ""
             }
            },
            "type": "scattergeo"
           }
          ],
          "scattergl": [
           {
            "marker": {
             "colorbar": {
              "outlinewidth": 0,
              "ticks": ""
             }
            },
            "type": "scattergl"
           }
          ],
          "scattermap": [
           {
            "marker": {
             "colorbar": {
              "outlinewidth": 0,
              "ticks": ""
             }
            },
            "type": "scattermap"
           }
          ],
          "scattermapbox": [
           {
            "marker": {
             "colorbar": {
              "outlinewidth": 0,
              "ticks": ""
             }
            },
            "type": "scattermapbox"
           }
          ],
          "scatterpolar": [
           {
            "marker": {
             "colorbar": {
              "outlinewidth": 0,
              "ticks": ""
             }
            },
            "type": "scatterpolar"
           }
          ],
          "scatterpolargl": [
           {
            "marker": {
             "colorbar": {
              "outlinewidth": 0,
              "ticks": ""
             }
            },
            "type": "scatterpolargl"
           }
          ],
          "scatterternary": [
           {
            "marker": {
             "colorbar": {
              "outlinewidth": 0,
              "ticks": ""
             }
            },
            "type": "scatterternary"
           }
          ],
          "surface": [
           {
            "colorbar": {
             "outlinewidth": 0,
             "ticks": ""
            },
            "colorscale": [
             [
              0,
              "#0d0887"
             ],
             [
              0.1111111111111111,
              "#46039f"
             ],
             [
              0.2222222222222222,
              "#7201a8"
             ],
             [
              0.3333333333333333,
              "#9c179e"
             ],
             [
              0.4444444444444444,
              "#bd3786"
             ],
             [
              0.5555555555555556,
              "#d8576b"
             ],
             [
              0.6666666666666666,
              "#ed7953"
             ],
             [
              0.7777777777777778,
              "#fb9f3a"
             ],
             [
              0.8888888888888888,
              "#fdca26"
             ],
             [
              1,
              "#f0f921"
             ]
            ],
            "type": "surface"
           }
          ],
          "table": [
           {
            "cells": {
             "fill": {
              "color": "#EBF0F8"
             },
             "line": {
              "color": "white"
             }
            },
            "header": {
             "fill": {
              "color": "#C8D4E3"
             },
             "line": {
              "color": "white"
             }
            },
            "type": "table"
           }
          ]
         },
         "layout": {
          "annotationdefaults": {
           "arrowcolor": "#2a3f5f",
           "arrowhead": 0,
           "arrowwidth": 1
          },
          "autotypenumbers": "strict",
          "coloraxis": {
           "colorbar": {
            "outlinewidth": 0,
            "ticks": ""
           }
          },
          "colorscale": {
           "diverging": [
            [
             0,
             "#8e0152"
            ],
            [
             0.1,
             "#c51b7d"
            ],
            [
             0.2,
             "#de77ae"
            ],
            [
             0.3,
             "#f1b6da"
            ],
            [
             0.4,
             "#fde0ef"
            ],
            [
             0.5,
             "#f7f7f7"
            ],
            [
             0.6,
             "#e6f5d0"
            ],
            [
             0.7,
             "#b8e186"
            ],
            [
             0.8,
             "#7fbc41"
            ],
            [
             0.9,
             "#4d9221"
            ],
            [
             1,
             "#276419"
            ]
           ],
           "sequential": [
            [
             0,
             "#0d0887"
            ],
            [
             0.1111111111111111,
             "#46039f"
            ],
            [
             0.2222222222222222,
             "#7201a8"
            ],
            [
             0.3333333333333333,
             "#9c179e"
            ],
            [
             0.4444444444444444,
             "#bd3786"
            ],
            [
             0.5555555555555556,
             "#d8576b"
            ],
            [
             0.6666666666666666,
             "#ed7953"
            ],
            [
             0.7777777777777778,
             "#fb9f3a"
            ],
            [
             0.8888888888888888,
             "#fdca26"
            ],
            [
             1,
             "#f0f921"
            ]
           ],
           "sequentialminus": [
            [
             0,
             "#0d0887"
            ],
            [
             0.1111111111111111,
             "#46039f"
            ],
            [
             0.2222222222222222,
             "#7201a8"
            ],
            [
             0.3333333333333333,
             "#9c179e"
            ],
            [
             0.4444444444444444,
             "#bd3786"
            ],
            [
             0.5555555555555556,
             "#d8576b"
            ],
            [
             0.6666666666666666,
             "#ed7953"
            ],
            [
             0.7777777777777778,
             "#fb9f3a"
            ],
            [
             0.8888888888888888,
             "#fdca26"
            ],
            [
             1,
             "#f0f921"
            ]
           ]
          },
          "colorway": [
           "#636efa",
           "#EF553B",
           "#00cc96",
           "#ab63fa",
           "#FFA15A",
           "#19d3f3",
           "#FF6692",
           "#B6E880",
           "#FF97FF",
           "#FECB52"
          ],
          "font": {
           "color": "#2a3f5f"
          },
          "geo": {
           "bgcolor": "white",
           "lakecolor": "white",
           "landcolor": "#E5ECF6",
           "showlakes": true,
           "showland": true,
           "subunitcolor": "white"
          },
          "hoverlabel": {
           "align": "left"
          },
          "hovermode": "closest",
          "mapbox": {
           "style": "light"
          },
          "paper_bgcolor": "white",
          "plot_bgcolor": "#E5ECF6",
          "polar": {
           "angularaxis": {
            "gridcolor": "white",
            "linecolor": "white",
            "ticks": ""
           },
           "bgcolor": "#E5ECF6",
           "radialaxis": {
            "gridcolor": "white",
            "linecolor": "white",
            "ticks": ""
           }
          },
          "scene": {
           "xaxis": {
            "backgroundcolor": "#E5ECF6",
            "gridcolor": "white",
            "gridwidth": 2,
            "linecolor": "white",
            "showbackground": true,
            "ticks": "",
            "zerolinecolor": "white"
           },
           "yaxis": {
            "backgroundcolor": "#E5ECF6",
            "gridcolor": "white",
            "gridwidth": 2,
            "linecolor": "white",
            "showbackground": true,
            "ticks": "",
            "zerolinecolor": "white"
           },
           "zaxis": {
            "backgroundcolor": "#E5ECF6",
            "gridcolor": "white",
            "gridwidth": 2,
            "linecolor": "white",
            "showbackground": true,
            "ticks": "",
            "zerolinecolor": "white"
           }
          },
          "shapedefaults": {
           "line": {
            "color": "#2a3f5f"
           }
          },
          "ternary": {
           "aaxis": {
            "gridcolor": "white",
            "linecolor": "white",
            "ticks": ""
           },
           "baxis": {
            "gridcolor": "white",
            "linecolor": "white",
            "ticks": ""
           },
           "bgcolor": "#E5ECF6",
           "caxis": {
            "gridcolor": "white",
            "linecolor": "white",
            "ticks": ""
           }
          },
          "title": {
           "x": 0.05
          },
          "xaxis": {
           "automargin": true,
           "gridcolor": "white",
           "linecolor": "white",
           "ticks": "",
           "title": {
            "standoff": 15
           },
           "zerolinecolor": "white",
           "zerolinewidth": 2
          },
          "yaxis": {
           "automargin": true,
           "gridcolor": "white",
           "linecolor": "white",
           "ticks": "",
           "title": {
            "standoff": 15
           },
           "zerolinecolor": "white",
           "zerolinewidth": 2
          }
         }
        },
        "title": {
         "text": "Breast Cancer Diagnosis"
        },
        "width": 1500
       }
      }
     },
     "metadata": {},
     "output_type": "display_data"
    }
   ],
   "source": [
    "fig2 = px.scatter_matrix(df,\n",
    "    dimensions=['radius_worst', 'texture_worst',\n",
    "       'perimeter_worst', 'area_worst', 'smoothness_worst',\n",
    "       'compactness_worst', 'concavity_worst', 'concave points_worst',\n",
    "       'symmetry_worst', 'fractal_dimension_worst'],\n",
    "    color=diagnosis_labels, \n",
    "    color_discrete_map={\n",
    "        'Benign': 'rgb(50, 80, 168)',     \n",
    "        'Malignant': '#ee8ef5'     \n",
    "    })\n",
    "\n",
    "fig2.update_layout(\n",
    "    title=dict(text='Breast Cancer Diagnosis'),\n",
    "    width=1500,\n",
    "    height=1500,\n",
    "    font=dict(\n",
    "        family=\"Arial, Courier New, monospace\",  # font family\n",
    "        size=12,                                 # font size (pixels)\n",
    "        color=\"darkblue\"                         # font color\n",
    "    ),\n",
    "    plot_bgcolor='white'\n",
    ")\n",
    "\n",
    "fig2.show()\n",
    "\n",
    "# filename = f\"fig_2.pdf\"\n",
    "# fig2.write_image(filename)"
   ]
  },
  {
   "cell_type": "code",
   "execution_count": 113,
   "metadata": {},
   "outputs": [],
   "source": [
    "# Benign cases: Peak at lower values (left side)\n",
    "# Malignant cases: Peak at higher values (right side)\n",
    "# Minimal overlap in the middle"
   ]
  },
  {
   "cell_type": "code",
   "execution_count": 114,
   "metadata": {},
   "outputs": [],
   "source": [
    "# Both groups: Similar peaks at similar locations\n",
    "# Heavy overlap throughout the range\n",
    "# Hard to distinguish the two colors"
   ]
  },
  {
   "cell_type": "markdown",
   "metadata": {},
   "source": [
    "Clear Separation = Easy Classification:\n",
    "\n",
    "When histograms show distinct peaks with minimal overlap\n",
    "A simple threshold could classify most cases correctly\n",
    "High accuracy expected from machine learning models\n",
    "\n",
    "Heavy Overlap = Difficult Classification:\n",
    "\n",
    "When both diagnosis groups have similar distributions\n",
    "High error rates expected\n",
    "Models will struggle to distinguish between classes\n",
    "\n",
    "Threshold-Based Classification:\n",
    "If you see clear separation (like area_worst), you could literally draw a vertical line:\n",
    "If area_worst > 800: Predict Malignant\n",
    "If area_worst ≤ 800: Predict Benign\n",
    "This simple rule might achieve 85-90% accuracy!\n",
    "\n",
    "Features with good separation → Keep these\n",
    "good_features = [\"area_worst\", \"radius_worst\", \"concavity_worst\"]\n",
    "\n",
    "Features with poor separation → Consider removing\n",
    "weak_features = [\"symmetry_mean\", \"fractal_dimension_mean\"]"
   ]
  },
  {
   "cell_type": "code",
   "execution_count": 115,
   "metadata": {},
   "outputs": [
    {
     "data": {
      "application/vnd.plotly.v1+json": {
       "config": {
        "plotlyServerURL": "https://plot.ly"
       },
       "data": [
        {
         "bingroup": "x",
         "hovertemplate": "diagnosis=1<br>radius_mean=%{x}<br>count=%{y}<extra></extra>",
         "legendgroup": "1",
         "marker": {
          "color": "#ee8ef5",
          "pattern": {
           "shape": ""
          }
         },
         "name": "1",
         "orientation": "v",
         "showlegend": true,
         "type": "histogram",
         "x": {
          "bdata": "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",
          "dtype": "f8"
         },
         "xaxis": "x",
         "yaxis": "y"
        },
        {
         "hovertemplate": "diagnosis=1<br>radius_mean=%{x}<extra></extra>",
         "legendgroup": "1",
         "marker": {
          "color": "#ee8ef5"
         },
         "name": "1",
         "notched": true,
         "showlegend": false,
         "type": "box",
         "x": {
          "bdata": "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",
          "dtype": "f8"
         },
         "xaxis": "x2",
         "yaxis": "y2"
        },
        {
         "bingroup": "x",
         "hovertemplate": "diagnosis=0<br>radius_mean=%{x}<br>count=%{y}<extra></extra>",
         "legendgroup": "0",
         "marker": {
          "color": "rgb(50, 80, 168)",
          "pattern": {
           "shape": ""
          }
         },
         "name": "0",
         "orientation": "v",
         "showlegend": true,
         "type": "histogram",
         "x": {
          "bdata": "FK5H4XoUK0ApXI/C9SgqQDVeukkMAiNAj8L1KFwPKkAxCKwcWmQgQJqZmZmZGShAexSuR+H6KkCF61G4HoUnQEjhehSuRytA4XoUrkfhJ0AK16NwPQonQJqZmZmZGSpAI9v5fmo8IUDXo3A9ClckQBkEVg4tMiFAf2q8dJNYIkCuR+F6FO4iQB+F61G4niZAAiuHFtkOIkCPwvUoXI8pQC2yne+nxiFAH4XrUbieKECPwvUoXA8rQLgehetRuClAZmZmZmbmJkCuR+F6FK4qQAAAAAAAAChAuB6F61G4KEBI4XoUrkctQD0K16NwPS1ACtejcD2KKkBmZmZmZuYqQFyPwvUoXChAbef7qfGSI0AzMzMzMzMnQAaBlUOL7BtAXI/C9ShcKECNl24Sg8AjQHsUrkfh+iRASOF6FK5HJ0C4HoXrUbgoQK5H4XoUriZA5/up8dKNI0DD9Shcj0IpQIXrUbgehSxAhetRuB4FJUDByqFFtnMhQFyPwvUo3CdAZmZmZmbmIUBSuB6F69EmQAAAAAAAAC1APQrXo3C9KkAzMzMzM7MrQDMzMzMzMy5A4XoUrkdhKEDsUbgehWsvQOxRuB6FaydAXI/C9SjcJkCPwvUoXI8mQGDl0CLbeSNAXI/C9SjcJkDNzMzMzMwpQAAAAAAAgCVAzczMzMzMJ0BmZmZmZuYtQOF6FK5H4SxAexSuR+F6K0AAAAAAAAAqQOOlm8QgcCBAg8DKoUV2I0DNzMzMzEwmQM3MzMzMTCpAAAAAAACAKEDXo3A9CtcwQB+F61G4HihAzczMzMzMJUAAAAAAAIAnQK5H4XoUrihAcT0K16PwLUCamZmZmZklQHE9Ctej8C1ApHA9CtejKEApXI/C9SgmQFK4HoXrUSVAZDvfT41XIUACK4cW2c4jQIXrUbgeBSpAH4XrUbieKUBSuB6F69EmQClcj8L1KCRA7FG4HoVrJ0AfhetRuJ4nQJqZmZmZmShACtejcD2KKUBxPQrXo3AjQFK4HoXr0SlA9ihcj8J1KEBxPQrXo/AoQI2XbhKDwCNAuB6F61E4KkAK16NwPYouQK5H4XoUridASOF6FK7HJ0BmZmZmZmYkQM3MzMzMTCtAH4XrUbgeK0Bcj8L1KFwkQArXo3A9iipArkfhehSuLEDhehSuR+EkQAAAAAAAAC5APQrXo3A9KUCkcD0K16MmQHE9CtejcCZA/Knx0k0iI0CPwvUoXA8sQHE9CtejcCxASOF6FK5HK0DXo3A9CtcoQJqZmZmZmSZAAAAAAACAK0D2KFyPwvUkQGZmZmZmZipASOF6FK7HKUDNzMzMzEwlQArXo3A9CidAAAAAAAAAJ0AzMzMzMzMlQK5H4XoULitAPQrXo3C9KUDsUbgehWslQBSuR+F6lCxAFK5H4XqUJkCWQ4ts53sjQEjhehSuxydAKVyPwvWoJkCuR+F6FC4rQDMzMzMzsytAexSuR+F6J0BI4XoUrscpQClcj8L1KClA4XoUrkfhJ0BI4XoUrscpQIXrUbgehSZAPQrXo3C9JkBSuB6F69EsQOxRuB6F6y1AZmZmZmbmKUAzMzMzM7MnQHE9CtejcClACtejcD2KK0BSuB6F69ElQIXrUbgehSxAhetRuB4FJUDsUbgehesoQHsUrkfh+iRA7FG4HoXrJkAzMzMzMzMnQGZmZmZmZipAAAAAAAAAIkAAAAAAAAArQJqZmZmZGSpAZmZmZmZmJ0C4HoXrUTgtQIXrUbgehSlAFK5H4XoUJ0CLbOf7qTEhQHsUrkfh+ihAXI/C9ShcKEAv3SQGgRUiQFyPwvUo3ChAAAAAAACAJEC4HoXrUbgpQGZmZmZmZihA16NwPQpXKUC4HoXrUTgsQI/C9ShcDyhA9ihcj8L1KUBxPQrXo3AmQAAAAAAAgCZAmpmZmZmZKEB7FK5H4fopQJqZmZmZGSRA16NwPQrXLECDwMqhRTYjQB+F61G4HiZA7FG4HoVrJ0CF61G4HoUkQB+F61G4HihAhetRuB6FLUBxPQrXo/AmQGZmZmZm5idAUrgehetRJ0BI4XoUrkcmQB+F61G4HilAmpmZmZkZKkA9CtejcL0rQKjGSzeJwSFArBxaZDvfIkAUrkfhehQpQJqZmZmZmSpAhetRuB6FKUAAAAAAAIAwQM3MzMzMzCpA7FG4HoVrKEDhehSuR2EuQOF6FK5HYStA7FG4HoUrMECkcD0K1yMlQOxRuB6F6ypAUrgehetRK0AK16NwPYomQBSuR+F6FCZAmpmZmZkZKEBI4XoUrscoQI/C9ShcjypA7FG4HoVrKEDD9Shcj8IrQArXo3A9iiZAhetRuB6FJEArhxbZznchQDMzMzMzMyhAH4XrUbgeLECF61G4HgUrQJqZmZmZmSlAH4XrUbgeJkCamZmZmZknQFyPwvUo3CdA7FG4HoXrKUDhehSuR+EpQK5H4XoUrihA4XoUrkfhJUCkcD0K1yMwQDMzMzMzsylACtejcD2KKEC4HoXrUbgmQBSuR+F6FCZAJQaBlUPLIkB7FK5H4fotQEjhehSuxydAj8L1KFzPIkBmZmZmZmYpQFK4HoXrUSZApHA9CtcjJ0DhehSuR2EtQLgehetROCdAUrgehetRK0CWQ4ts53sjQI/C9ShcDyRA9ihcj8L1JECamZmZmZklQMP1KFyPQiZAcT0K16NwKUDNzMzMzMwoQLgehetRuC1APQrXo3C9KUAUrkfhehQsQDMzMzMzsytACtejcD0KLEBxPQrXo/AlQI/C9ShcjytApHA9CtcjJUB7FK5H4fonQJqZmZmZmS1Aj8L1KFwPLUA9CtejcL0nQAAAAAAAAChAj8L1KFwPLUA9CtejcD0pQMP1KFyPwipAw/UoXI9CJ0DsUbgehWsqQAAAAAAAACpAw/UoXI+CI0DNzMzMzMwsQDMzMzMzMydA16NwPQpXKkB7FK5H4XoqQEjhehSuRypAvHSTGARWI0A9CtejcD0nQC/dJAaBVSNAFK5H4XoUKEDXo3A9CtctQArXo3A9iihAw/UoXI/CJUApXI/C9agpQGZmZmZmZixAzczMzMzMK0B7FK5H4fomQFK4HoXrUShAzczMzMzMK0BxPQrXo/AqQGZmZmZmZitA9ihcj8J1L0BmZmZmZuYoQEjhehSuRy1AXI/C9ShcJ0AAAAAAAIAoQJqZmZmZ2TFA7FG4HoXrKEBSuB6F61EqQD0K16NwvS1AzczMzMxMKUBxPQrXo/AoQBSuR+F6FC5AFK5H4XoUKUDwp8ZLN4kiQCcxCKwcWiNAcT0K16NwKEAfhetRuB4mQM3MzMzMTDBAexSuR+F6J0AfhetRuJ4tQClcj8L1KC1ArkfhehSuJkDD9Shcj8IpQAAAAAAAgClA16NwPQqXIkCF61G4HoUmQOxRuB6FaytAi2zn+6mxI0AxCKwcWiQhQOxRuB6F6ypArkfhehSuKEDhehSuR+ErQKRwPQrXIyhAAAAAAACAJ0DXo3A9ClcnQFyPwvUoXCtA7FG4HoXrJUDhehSuR2EnQNEi2/l+6h5A3SQGgZXDHkAUrkfhehQnQHE9Ctej8CxAexSuR+F6LUDsUbgehWsqQD0K16NwvStAPQrXo3A9K0CkcD0K16MkQIXrUbgehSRABFYOLbJdI0CkcD0K16MlQLgehetRuCVAw/UoXI9CJkAK16NwPYopQNEi2/l+qiJAw/UoXI/CKUAUrkfhepQkQFK4HoXrUSRAf2q8dJPYIkCuR+F6FC4tQIXrUbgeBSdAmpmZmZkZLEBmZmZmZmYmQArXo3A9Ch9A",
          "dtype": "f8"
         },
         "xaxis": "x",
         "yaxis": "y"
        },
        {
         "hovertemplate": "diagnosis=0<br>radius_mean=%{x}<extra></extra>",
         "legendgroup": "0",
         "marker": {
          "color": "rgb(50, 80, 168)"
         },
         "name": "0",
         "notched": true,
         "showlegend": false,
         "type": "box",
         "x": {
          "bdata": "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",
          "dtype": "f8"
         },
         "xaxis": "x2",
         "yaxis": "y2"
        }
       ],
       "layout": {
        "barmode": "relative",
        "font": {
         "color": "darkblue",
         "family": "Arial, Courier New, monospace",
         "size": 12
        },
        "height": 400,
        "legend": {
         "title": {
          "text": "diagnosis"
         },
         "tracegroupgap": 0
        },
        "margin": {
         "t": 60
        },
        "plot_bgcolor": "white",
        "template": {
         "data": {
          "bar": [
           {
            "error_x": {
             "color": "#2a3f5f"
            },
            "error_y": {
             "color": "#2a3f5f"
            },
            "marker": {
             "line": {
              "color": "#E5ECF6",
              "width": 0.5
             },
             "pattern": {
              "fillmode": "overlay",
              "size": 10,
              "solidity": 0.2
             }
            },
            "type": "bar"
           }
          ],
          "barpolar": [
           {
            "marker": {
             "line": {
              "color": "#E5ECF6",
              "width": 0.5
             },
             "pattern": {
              "fillmode": "overlay",
              "size": 10,
              "solidity": 0.2
             }
            },
            "type": "barpolar"
           }
          ],
          "carpet": [
           {
            "aaxis": {
             "endlinecolor": "#2a3f5f",
             "gridcolor": "white",
             "linecolor": "white",
             "minorgridcolor": "white",
             "startlinecolor": "#2a3f5f"
            },
            "baxis": {
             "endlinecolor": "#2a3f5f",
             "gridcolor": "white",
             "linecolor": "white",
             "minorgridcolor": "white",
             "startlinecolor": "#2a3f5f"
            },
            "type": "carpet"
           }
          ],
          "choropleth": [
           {
            "colorbar": {
             "outlinewidth": 0,
             "ticks": ""
            },
            "type": "choropleth"
           }
          ],
          "contour": [
           {
            "colorbar": {
             "outlinewidth": 0,
             "ticks": ""
            },
            "colorscale": [
             [
              0,
              "#0d0887"
             ],
             [
              0.1111111111111111,
              "#46039f"
             ],
             [
              0.2222222222222222,
              "#7201a8"
             ],
             [
              0.3333333333333333,
              "#9c179e"
             ],
             [
              0.4444444444444444,
              "#bd3786"
             ],
             [
              0.5555555555555556,
              "#d8576b"
             ],
             [
              0.6666666666666666,
              "#ed7953"
             ],
             [
              0.7777777777777778,
              "#fb9f3a"
             ],
             [
              0.8888888888888888,
              "#fdca26"
             ],
             [
              1,
              "#f0f921"
             ]
            ],
            "type": "contour"
           }
          ],
          "contourcarpet": [
           {
            "colorbar": {
             "outlinewidth": 0,
             "ticks": ""
            },
            "type": "contourcarpet"
           }
          ],
          "heatmap": [
           {
            "colorbar": {
             "outlinewidth": 0,
             "ticks": ""
            },
            "colorscale": [
             [
              0,
              "#0d0887"
             ],
             [
              0.1111111111111111,
              "#46039f"
             ],
             [
              0.2222222222222222,
              "#7201a8"
             ],
             [
              0.3333333333333333,
              "#9c179e"
             ],
             [
              0.4444444444444444,
              "#bd3786"
             ],
             [
              0.5555555555555556,
              "#d8576b"
             ],
             [
              0.6666666666666666,
              "#ed7953"
             ],
             [
              0.7777777777777778,
              "#fb9f3a"
             ],
             [
              0.8888888888888888,
              "#fdca26"
             ],
             [
              1,
              "#f0f921"
             ]
            ],
            "type": "heatmap"
           }
          ],
          "histogram": [
           {
            "marker": {
             "pattern": {
              "fillmode": "overlay",
              "size": 10,
              "solidity": 0.2
             }
            },
            "type": "histogram"
           }
          ],
          "histogram2d": [
           {
            "colorbar": {
             "outlinewidth": 0,
             "ticks": ""
            },
            "colorscale": [
             [
              0,
              "#0d0887"
             ],
             [
              0.1111111111111111,
              "#46039f"
             ],
             [
              0.2222222222222222,
              "#7201a8"
             ],
             [
              0.3333333333333333,
              "#9c179e"
             ],
             [
              0.4444444444444444,
              "#bd3786"
             ],
             [
              0.5555555555555556,
              "#d8576b"
             ],
             [
              0.6666666666666666,
              "#ed7953"
             ],
             [
              0.7777777777777778,
              "#fb9f3a"
             ],
             [
              0.8888888888888888,
              "#fdca26"
             ],
             [
              1,
              "#f0f921"
             ]
            ],
            "type": "histogram2d"
           }
          ],
          "histogram2dcontour": [
           {
            "colorbar": {
             "outlinewidth": 0,
             "ticks": ""
            },
            "colorscale": [
             [
              0,
              "#0d0887"
             ],
             [
              0.1111111111111111,
              "#46039f"
             ],
             [
              0.2222222222222222,
              "#7201a8"
             ],
             [
              0.3333333333333333,
              "#9c179e"
             ],
             [
              0.4444444444444444,
              "#bd3786"
             ],
             [
              0.5555555555555556,
              "#d8576b"
             ],
             [
              0.6666666666666666,
              "#ed7953"
             ],
             [
              0.7777777777777778,
              "#fb9f3a"
             ],
             [
              0.8888888888888888,
              "#fdca26"
             ],
             [
              1,
              "#f0f921"
             ]
            ],
            "type": "histogram2dcontour"
           }
          ],
          "mesh3d": [
           {
            "colorbar": {
             "outlinewidth": 0,
             "ticks": ""
            },
            "type": "mesh3d"
           }
          ],
          "parcoords": [
           {
            "line": {
             "colorbar": {
              "outlinewidth": 0,
              "ticks": ""
             }
            },
            "type": "parcoords"
           }
          ],
          "pie": [
           {
            "automargin": true,
            "type": "pie"
           }
          ],
          "scatter": [
           {
            "fillpattern": {
             "fillmode": "overlay",
             "size": 10,
             "solidity": 0.2
            },
            "type": "scatter"
           }
          ],
          "scatter3d": [
           {
            "line": {
             "colorbar": {
              "outlinewidth": 0,
              "ticks": ""
             }
            },
            "marker": {
             "colorbar": {
              "outlinewidth": 0,
              "ticks": ""
             }
            },
            "type": "scatter3d"
           }
          ],
          "scattercarpet": [
           {
            "marker": {
             "colorbar": {
              "outlinewidth": 0,
              "ticks": ""
             }
            },
            "type": "scattercarpet"
           }
          ],
          "scattergeo": [
           {
            "marker": {
             "colorbar": {
              "outlinewidth": 0,
              "ticks": ""
             }
            },
            "type": "scattergeo"
           }
          ],
          "scattergl": [
           {
            "marker": {
             "colorbar": {
              "outlinewidth": 0,
              "ticks": ""
             }
            },
            "type": "scattergl"
           }
          ],
          "scattermap": [
           {
            "marker": {
             "colorbar": {
              "outlinewidth": 0,
              "ticks": ""
             }
            },
            "type": "scattermap"
           }
          ],
          "scattermapbox": [
           {
            "marker": {
             "colorbar": {
              "outlinewidth": 0,
              "ticks": ""
             }
            },
            "type": "scattermapbox"
           }
          ],
          "scatterpolar": [
           {
            "marker": {
             "colorbar": {
              "outlinewidth": 0,
              "ticks": ""
             }
            },
            "type": "scatterpolar"
           }
          ],
          "scatterpolargl": [
           {
            "marker": {
             "colorbar": {
              "outlinewidth": 0,
              "ticks": ""
             }
            },
            "type": "scatterpolargl"
           }
          ],
          "scatterternary": [
           {
            "marker": {
             "colorbar": {
              "outlinewidth": 0,
              "ticks": ""
             }
            },
            "type": "scatterternary"
           }
          ],
          "surface": [
           {
            "colorbar": {
             "outlinewidth": 0,
             "ticks": ""
            },
            "colorscale": [
             [
              0,
              "#0d0887"
             ],
             [
              0.1111111111111111,
              "#46039f"
             ],
             [
              0.2222222222222222,
              "#7201a8"
             ],
             [
              0.3333333333333333,
              "#9c179e"
             ],
             [
              0.4444444444444444,
              "#bd3786"
             ],
             [
              0.5555555555555556,
              "#d8576b"
             ],
             [
              0.6666666666666666,
              "#ed7953"
             ],
             [
              0.7777777777777778,
              "#fb9f3a"
             ],
             [
              0.8888888888888888,
              "#fdca26"
             ],
             [
              1,
              "#f0f921"
             ]
            ],
            "type": "surface"
           }
          ],
          "table": [
           {
            "cells": {
             "fill": {
              "color": "#EBF0F8"
             },
             "line": {
              "color": "white"
             }
            },
            "header": {
             "fill": {
              "color": "#C8D4E3"
             },
             "line": {
              "color": "white"
             }
            },
            "type": "table"
           }
          ]
         },
         "layout": {
          "annotationdefaults": {
           "arrowcolor": "#2a3f5f",
           "arrowhead": 0,
           "arrowwidth": 1
          },
          "autotypenumbers": "strict",
          "coloraxis": {
           "colorbar": {
            "outlinewidth": 0,
            "ticks": ""
           }
          },
          "colorscale": {
           "diverging": [
            [
             0,
             "#8e0152"
            ],
            [
             0.1,
             "#c51b7d"
            ],
            [
             0.2,
             "#de77ae"
            ],
            [
             0.3,
             "#f1b6da"
            ],
            [
             0.4,
             "#fde0ef"
            ],
            [
             0.5,
             "#f7f7f7"
            ],
            [
             0.6,
             "#e6f5d0"
            ],
            [
             0.7,
             "#b8e186"
            ],
            [
             0.8,
             "#7fbc41"
            ],
            [
             0.9,
             "#4d9221"
            ],
            [
             1,
             "#276419"
            ]
           ],
           "sequential": [
            [
             0,
             "#0d0887"
            ],
            [
             0.1111111111111111,
             "#46039f"
            ],
            [
             0.2222222222222222,
             "#7201a8"
            ],
            [
             0.3333333333333333,
             "#9c179e"
            ],
            [
             0.4444444444444444,
             "#bd3786"
            ],
            [
             0.5555555555555556,
             "#d8576b"
            ],
            [
             0.6666666666666666,
             "#ed7953"
            ],
            [
             0.7777777777777778,
             "#fb9f3a"
            ],
            [
             0.8888888888888888,
             "#fdca26"
            ],
            [
             1,
             "#f0f921"
            ]
           ],
           "sequentialminus": [
            [
             0,
             "#0d0887"
            ],
            [
             0.1111111111111111,
             "#46039f"
            ],
            [
             0.2222222222222222,
             "#7201a8"
            ],
            [
             0.3333333333333333,
             "#9c179e"
            ],
            [
             0.4444444444444444,
             "#bd3786"
            ],
            [
             0.5555555555555556,
             "#d8576b"
            ],
            [
             0.6666666666666666,
             "#ed7953"
            ],
            [
             0.7777777777777778,
             "#fb9f3a"
            ],
            [
             0.8888888888888888,
             "#fdca26"
            ],
            [
             1,
             "#f0f921"
            ]
           ]
          },
          "colorway": [
           "#636efa",
           "#EF553B",
           "#00cc96",
           "#ab63fa",
           "#FFA15A",
           "#19d3f3",
           "#FF6692",
           "#B6E880",
           "#FF97FF",
           "#FECB52"
          ],
          "font": {
           "color": "#2a3f5f"
          },
          "geo": {
           "bgcolor": "white",
           "lakecolor": "white",
           "landcolor": "#E5ECF6",
           "showlakes": true,
           "showland": true,
           "subunitcolor": "white"
          },
          "hoverlabel": {
           "align": "left"
          },
          "hovermode": "closest",
          "mapbox": {
           "style": "light"
          },
          "paper_bgcolor": "white",
          "plot_bgcolor": "#E5ECF6",
          "polar": {
           "angularaxis": {
            "gridcolor": "white",
            "linecolor": "white",
            "ticks": ""
           },
           "bgcolor": "#E5ECF6",
           "radialaxis": {
            "gridcolor": "white",
            "linecolor": "white",
            "ticks": ""
           }
          },
          "scene": {
           "xaxis": {
            "backgroundcolor": "#E5ECF6",
            "gridcolor": "white",
            "gridwidth": 2,
            "linecolor": "white",
            "showbackground": true,
            "ticks": "",
            "zerolinecolor": "white"
           },
           "yaxis": {
            "backgroundcolor": "#E5ECF6",
            "gridcolor": "white",
            "gridwidth": 2,
            "linecolor": "white",
            "showbackground": true,
            "ticks": "",
            "zerolinecolor": "white"
           },
           "zaxis": {
            "backgroundcolor": "#E5ECF6",
            "gridcolor": "white",
            "gridwidth": 2,
            "linecolor": "white",
            "showbackground": true,
            "ticks": "",
            "zerolinecolor": "white"
           }
          },
          "shapedefaults": {
           "line": {
            "color": "#2a3f5f"
           }
          },
          "ternary": {
           "aaxis": {
            "gridcolor": "white",
            "linecolor": "white",
            "ticks": ""
           },
           "baxis": {
            "gridcolor": "white",
            "linecolor": "white",
            "ticks": ""
           },
           "bgcolor": "#E5ECF6",
           "caxis": {
            "gridcolor": "white",
            "linecolor": "white",
            "ticks": ""
           }
          },
          "title": {
           "x": 0.05
          },
          "xaxis": {
           "automargin": true,
           "gridcolor": "white",
           "linecolor": "white",
           "ticks": "",
           "title": {
            "standoff": 15
           },
           "zerolinecolor": "white",
           "zerolinewidth": 2
          },
          "yaxis": {
           "automargin": true,
           "gridcolor": "white",
           "linecolor": "white",
           "ticks": "",
           "title": {
            "standoff": 15
           },
           "zerolinecolor": "white",
           "zerolinewidth": 2
          }
         }
        },
        "title": {
         "text": "Box plot of radius_mean by Diagnosis"
        },
        "width": 600,
        "xaxis": {
         "anchor": "y",
         "domain": [
          0,
          1
         ],
         "gridcolor": "lightgray",
         "gridwidth": 1,
         "linecolor": "darkgray",
         "showgrid": true,
         "showline": true,
         "title": {
          "text": "radius_mean"
         }
        },
        "xaxis2": {
         "anchor": "y2",
         "domain": [
          0,
          1
         ],
         "matches": "x",
         "showgrid": true,
         "showticklabels": false
        },
        "yaxis": {
         "anchor": "x",
         "domain": [
          0,
          0.7326
         ],
         "gridcolor": "lightgray",
         "gridwidth": 1,
         "linecolor": "darkgray",
         "showgrid": true,
         "showline": true,
         "title": {
          "text": "count"
         }
        },
        "yaxis2": {
         "anchor": "x2",
         "domain": [
          0.7426,
          1
         ],
         "matches": "y2",
         "showgrid": false,
         "showline": false,
         "showticklabels": false,
         "ticks": ""
        }
       }
      }
     },
     "metadata": {},
     "output_type": "display_data"
    },
    {
     "data": {
      "application/vnd.plotly.v1+json": {
       "config": {
        "plotlyServerURL": "https://plot.ly"
       },
       "data": [
        {
         "bingroup": "x",
         "hovertemplate": "diagnosis=1<br>texture_mean=%{x}<br>count=%{y}<extra></extra>",
         "legendgroup": "1",
         "marker": {
          "color": "#ee8ef5",
          "pattern": {
           "shape": ""
          }
         },
         "name": "1",
         "orientation": "v",
         "showlegend": true,
         "type": "histogram",
         "x": {
          "bdata": "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",
          "dtype": "f8"
         },
         "xaxis": "x",
         "yaxis": "y"
        },
        {
         "hovertemplate": "diagnosis=1<br>texture_mean=%{x}<extra></extra>",
         "legendgroup": "1",
         "marker": {
          "color": "#ee8ef5"
         },
         "name": "1",
         "notched": true,
         "showlegend": false,
         "type": "box",
         "x": {
          "bdata": "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",
          "dtype": "f8"
         },
         "xaxis": "x2",
         "yaxis": "y2"
        },
        {
         "bingroup": "x",
         "hovertemplate": "diagnosis=0<br>texture_mean=%{x}<br>count=%{y}<extra></extra>",
         "legendgroup": "0",
         "marker": {
          "color": "rgb(50, 80, 168)",
          "pattern": {
           "shape": ""
          }
         },
         "name": "0",
         "orientation": "v",
         "showlegend": true,
         "type": "histogram",
         "x": {
          "bdata": "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",
          "dtype": "f8"
         },
         "xaxis": "x",
         "yaxis": "y"
        },
        {
         "hovertemplate": "diagnosis=0<br>texture_mean=%{x}<extra></extra>",
         "legendgroup": "0",
         "marker": {
          "color": "rgb(50, 80, 168)"
         },
         "name": "0",
         "notched": true,
         "showlegend": false,
         "type": "box",
         "x": {
          "bdata": "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",
          "dtype": "f8"
         },
         "xaxis": "x2",
         "yaxis": "y2"
        }
       ],
       "layout": {
        "barmode": "relative",
        "font": {
         "color": "darkblue",
         "family": "Arial, Courier New, monospace",
         "size": 12
        },
        "height": 400,
        "legend": {
         "title": {
          "text": "diagnosis"
         },
         "tracegroupgap": 0
        },
        "margin": {
         "t": 60
        },
        "plot_bgcolor": "white",
        "template": {
         "data": {
          "bar": [
           {
            "error_x": {
             "color": "#2a3f5f"
            },
            "error_y": {
             "color": "#2a3f5f"
            },
            "marker": {
             "line": {
              "color": "#E5ECF6",
              "width": 0.5
             },
             "pattern": {
              "fillmode": "overlay",
              "size": 10,
              "solidity": 0.2
             }
            },
            "type": "bar"
           }
          ],
          "barpolar": [
           {
            "marker": {
             "line": {
              "color": "#E5ECF6",
              "width": 0.5
             },
             "pattern": {
              "fillmode": "overlay",
              "size": 10,
              "solidity": 0.2
             }
            },
            "type": "barpolar"
           }
          ],
          "carpet": [
           {
            "aaxis": {
             "endlinecolor": "#2a3f5f",
             "gridcolor": "white",
             "linecolor": "white",
             "minorgridcolor": "white",
             "startlinecolor": "#2a3f5f"
            },
            "baxis": {
             "endlinecolor": "#2a3f5f",
             "gridcolor": "white",
             "linecolor": "white",
             "minorgridcolor": "white",
             "startlinecolor": "#2a3f5f"
            },
            "type": "carpet"
           }
          ],
          "choropleth": [
           {
            "colorbar": {
             "outlinewidth": 0,
             "ticks": ""
            },
            "type": "choropleth"
           }
          ],
          "contour": [
           {
            "colorbar": {
             "outlinewidth": 0,
             "ticks": ""
            },
            "colorscale": [
             [
              0,
              "#0d0887"
             ],
             [
              0.1111111111111111,
              "#46039f"
             ],
             [
              0.2222222222222222,
              "#7201a8"
             ],
             [
              0.3333333333333333,
              "#9c179e"
             ],
             [
              0.4444444444444444,
              "#bd3786"
             ],
             [
              0.5555555555555556,
              "#d8576b"
             ],
             [
              0.6666666666666666,
              "#ed7953"
             ],
             [
              0.7777777777777778,
              "#fb9f3a"
             ],
             [
              0.8888888888888888,
              "#fdca26"
             ],
             [
              1,
              "#f0f921"
             ]
            ],
            "type": "contour"
           }
          ],
          "contourcarpet": [
           {
            "colorbar": {
             "outlinewidth": 0,
             "ticks": ""
            },
            "type": "contourcarpet"
           }
          ],
          "heatmap": [
           {
            "colorbar": {
             "outlinewidth": 0,
             "ticks": ""
            },
            "colorscale": [
             [
              0,
              "#0d0887"
             ],
             [
              0.1111111111111111,
              "#46039f"
             ],
             [
              0.2222222222222222,
              "#7201a8"
             ],
             [
              0.3333333333333333,
              "#9c179e"
             ],
             [
              0.4444444444444444,
              "#bd3786"
             ],
             [
              0.5555555555555556,
              "#d8576b"
             ],
             [
              0.6666666666666666,
              "#ed7953"
             ],
             [
              0.7777777777777778,
              "#fb9f3a"
             ],
             [
              0.8888888888888888,
              "#fdca26"
             ],
             [
              1,
              "#f0f921"
             ]
            ],
            "type": "heatmap"
           }
          ],
          "histogram": [
           {
            "marker": {
             "pattern": {
              "fillmode": "overlay",
              "size": 10,
              "solidity": 0.2
             }
            },
            "type": "histogram"
           }
          ],
          "histogram2d": [
           {
            "colorbar": {
             "outlinewidth": 0,
             "ticks": ""
            },
            "colorscale": [
             [
              0,
              "#0d0887"
             ],
             [
              0.1111111111111111,
              "#46039f"
             ],
             [
              0.2222222222222222,
              "#7201a8"
             ],
             [
              0.3333333333333333,
              "#9c179e"
             ],
             [
              0.4444444444444444,
              "#bd3786"
             ],
             [
              0.5555555555555556,
              "#d8576b"
             ],
             [
              0.6666666666666666,
              "#ed7953"
             ],
             [
              0.7777777777777778,
              "#fb9f3a"
             ],
             [
              0.8888888888888888,
              "#fdca26"
             ],
             [
              1,
              "#f0f921"
             ]
            ],
            "type": "histogram2d"
           }
          ],
          "histogram2dcontour": [
           {
            "colorbar": {
             "outlinewidth": 0,
             "ticks": ""
            },
            "colorscale": [
             [
              0,
              "#0d0887"
             ],
             [
              0.1111111111111111,
              "#46039f"
             ],
             [
              0.2222222222222222,
              "#7201a8"
             ],
             [
              0.3333333333333333,
              "#9c179e"
             ],
             [
              0.4444444444444444,
              "#bd3786"
             ],
             [
              0.5555555555555556,
              "#d8576b"
             ],
             [
              0.6666666666666666,
              "#ed7953"
             ],
             [
              0.7777777777777778,
              "#fb9f3a"
             ],
             [
              0.8888888888888888,
              "#fdca26"
             ],
             [
              1,
              "#f0f921"
             ]
            ],
            "type": "histogram2dcontour"
           }
          ],
          "mesh3d": [
           {
            "colorbar": {
             "outlinewidth": 0,
             "ticks": ""
            },
            "type": "mesh3d"
           }
          ],
          "parcoords": [
           {
            "line": {
             "colorbar": {
              "outlinewidth": 0,
              "ticks": ""
             }
            },
            "type": "parcoords"
           }
          ],
          "pie": [
           {
            "automargin": true,
            "type": "pie"
           }
          ],
          "scatter": [
           {
            "fillpattern": {
             "fillmode": "overlay",
             "size": 10,
             "solidity": 0.2
            },
            "type": "scatter"
           }
          ],
          "scatter3d": [
           {
            "line": {
             "colorbar": {
              "outlinewidth": 0,
              "ticks": ""
             }
            },
            "marker": {
             "colorbar": {
              "outlinewidth": 0,
              "ticks": ""
             }
            },
            "type": "scatter3d"
           }
          ],
          "scattercarpet": [
           {
            "marker": {
             "colorbar": {
              "outlinewidth": 0,
              "ticks": ""
             }
            },
            "type": "scattercarpet"
           }
          ],
          "scattergeo": [
           {
            "marker": {
             "colorbar": {
              "outlinewidth": 0,
              "ticks": ""
             }
            },
            "type": "scattergeo"
           }
          ],
          "scattergl": [
           {
            "marker": {
             "colorbar": {
              "outlinewidth": 0,
              "ticks": ""
             }
            },
            "type": "scattergl"
           }
          ],
          "scattermap": [
           {
            "marker": {
             "colorbar": {
              "outlinewidth": 0,
              "ticks": ""
             }
            },
            "type": "scattermap"
           }
          ],
          "scattermapbox": [
           {
            "marker": {
             "colorbar": {
              "outlinewidth": 0,
              "ticks": ""
             }
            },
            "type": "scattermapbox"
           }
          ],
          "scatterpolar": [
           {
            "marker": {
             "colorbar": {
              "outlinewidth": 0,
              "ticks": ""
             }
            },
            "type": "scatterpolar"
           }
          ],
          "scatterpolargl": [
           {
            "marker": {
             "colorbar": {
              "outlinewidth": 0,
              "ticks": ""
             }
            },
            "type": "scatterpolargl"
           }
          ],
          "scatterternary": [
           {
            "marker": {
             "colorbar": {
              "outlinewidth": 0,
              "ticks": ""
             }
            },
            "type": "scatterternary"
           }
          ],
          "surface": [
           {
            "colorbar": {
             "outlinewidth": 0,
             "ticks": ""
            },
            "colorscale": [
             [
              0,
              "#0d0887"
             ],
             [
              0.1111111111111111,
              "#46039f"
             ],
             [
              0.2222222222222222,
              "#7201a8"
             ],
             [
              0.3333333333333333,
              "#9c179e"
             ],
             [
              0.4444444444444444,
              "#bd3786"
             ],
             [
              0.5555555555555556,
              "#d8576b"
             ],
             [
              0.6666666666666666,
              "#ed7953"
             ],
             [
              0.7777777777777778,
              "#fb9f3a"
             ],
             [
              0.8888888888888888,
              "#fdca26"
             ],
             [
              1,
              "#f0f921"
             ]
            ],
            "type": "surface"
           }
          ],
          "table": [
           {
            "cells": {
             "fill": {
              "color": "#EBF0F8"
             },
             "line": {
              "color": "white"
             }
            },
            "header": {
             "fill": {
              "color": "#C8D4E3"
             },
             "line": {
              "color": "white"
             }
            },
            "type": "table"
           }
          ]
         },
         "layout": {
          "annotationdefaults": {
           "arrowcolor": "#2a3f5f",
           "arrowhead": 0,
           "arrowwidth": 1
          },
          "autotypenumbers": "strict",
          "coloraxis": {
           "colorbar": {
            "outlinewidth": 0,
            "ticks": ""
           }
          },
          "colorscale": {
           "diverging": [
            [
             0,
             "#8e0152"
            ],
            [
             0.1,
             "#c51b7d"
            ],
            [
             0.2,
             "#de77ae"
            ],
            [
             0.3,
             "#f1b6da"
            ],
            [
             0.4,
             "#fde0ef"
            ],
            [
             0.5,
             "#f7f7f7"
            ],
            [
             0.6,
             "#e6f5d0"
            ],
            [
             0.7,
             "#b8e186"
            ],
            [
             0.8,
             "#7fbc41"
            ],
            [
             0.9,
             "#4d9221"
            ],
            [
             1,
             "#276419"
            ]
           ],
           "sequential": [
            [
             0,
             "#0d0887"
            ],
            [
             0.1111111111111111,
             "#46039f"
            ],
            [
             0.2222222222222222,
             "#7201a8"
            ],
            [
             0.3333333333333333,
             "#9c179e"
            ],
            [
             0.4444444444444444,
             "#bd3786"
            ],
            [
             0.5555555555555556,
             "#d8576b"
            ],
            [
             0.6666666666666666,
             "#ed7953"
            ],
            [
             0.7777777777777778,
             "#fb9f3a"
            ],
            [
             0.8888888888888888,
             "#fdca26"
            ],
            [
             1,
             "#f0f921"
            ]
           ],
           "sequentialminus": [
            [
             0,
             "#0d0887"
            ],
            [
             0.1111111111111111,
             "#46039f"
            ],
            [
             0.2222222222222222,
             "#7201a8"
            ],
            [
             0.3333333333333333,
             "#9c179e"
            ],
            [
             0.4444444444444444,
             "#bd3786"
            ],
            [
             0.5555555555555556,
             "#d8576b"
            ],
            [
             0.6666666666666666,
             "#ed7953"
            ],
            [
             0.7777777777777778,
             "#fb9f3a"
            ],
            [
             0.8888888888888888,
             "#fdca26"
            ],
            [
             1,
             "#f0f921"
            ]
           ]
          },
          "colorway": [
           "#636efa",
           "#EF553B",
           "#00cc96",
           "#ab63fa",
           "#FFA15A",
           "#19d3f3",
           "#FF6692",
           "#B6E880",
           "#FF97FF",
           "#FECB52"
          ],
          "font": {
           "color": "#2a3f5f"
          },
          "geo": {
           "bgcolor": "white",
           "lakecolor": "white",
           "landcolor": "#E5ECF6",
           "showlakes": true,
           "showland": true,
           "subunitcolor": "white"
          },
          "hoverlabel": {
           "align": "left"
          },
          "hovermode": "closest",
          "mapbox": {
           "style": "light"
          },
          "paper_bgcolor": "white",
          "plot_bgcolor": "#E5ECF6",
          "polar": {
           "angularaxis": {
            "gridcolor": "white",
            "linecolor": "white",
            "ticks": ""
           },
           "bgcolor": "#E5ECF6",
           "radialaxis": {
            "gridcolor": "white",
            "linecolor": "white",
            "ticks": ""
           }
          },
          "scene": {
           "xaxis": {
            "backgroundcolor": "#E5ECF6",
            "gridcolor": "white",
            "gridwidth": 2,
            "linecolor": "white",
            "showbackground": true,
            "ticks": "",
            "zerolinecolor": "white"
           },
           "yaxis": {
            "backgroundcolor": "#E5ECF6",
            "gridcolor": "white",
            "gridwidth": 2,
            "linecolor": "white",
            "showbackground": true,
            "ticks": "",
            "zerolinecolor": "white"
           },
           "zaxis": {
            "backgroundcolor": "#E5ECF6",
            "gridcolor": "white",
            "gridwidth": 2,
            "linecolor": "white",
            "showbackground": true,
            "ticks": "",
            "zerolinecolor": "white"
           }
          },
          "shapedefaults": {
           "line": {
            "color": "#2a3f5f"
           }
          },
          "ternary": {
           "aaxis": {
            "gridcolor": "white",
            "linecolor": "white",
            "ticks": ""
           },
           "baxis": {
            "gridcolor": "white",
            "linecolor": "white",
            "ticks": ""
           },
           "bgcolor": "#E5ECF6",
           "caxis": {
            "gridcolor": "white",
            "linecolor": "white",
            "ticks": ""
           }
          },
          "title": {
           "x": 0.05
          },
          "xaxis": {
           "automargin": true,
           "gridcolor": "white",
           "linecolor": "white",
           "ticks": "",
           "title": {
            "standoff": 15
           },
           "zerolinecolor": "white",
           "zerolinewidth": 2
          },
          "yaxis": {
           "automargin": true,
           "gridcolor": "white",
           "linecolor": "white",
           "ticks": "",
           "title": {
            "standoff": 15
           },
           "zerolinecolor": "white",
           "zerolinewidth": 2
          }
         }
        },
        "title": {
         "text": "Box plot of texture_mean by Diagnosis"
        },
        "width": 600,
        "xaxis": {
         "anchor": "y",
         "domain": [
          0,
          1
         ],
         "gridcolor": "lightgray",
         "gridwidth": 1,
         "linecolor": "darkgray",
         "showgrid": true,
         "showline": true,
         "title": {
          "text": "texture_mean"
         }
        },
        "xaxis2": {
         "anchor": "y2",
         "domain": [
          0,
          1
         ],
         "matches": "x",
         "showgrid": true,
         "showticklabels": false
        },
        "yaxis": {
         "anchor": "x",
         "domain": [
          0,
          0.7326
         ],
         "gridcolor": "lightgray",
         "gridwidth": 1,
         "linecolor": "darkgray",
         "showgrid": true,
         "showline": true,
         "title": {
          "text": "count"
         }
        },
        "yaxis2": {
         "anchor": "x2",
         "domain": [
          0.7426,
          1
         ],
         "matches": "y2",
         "showgrid": false,
         "showline": false,
         "showticklabels": false,
         "ticks": ""
        }
       }
      }
     },
     "metadata": {},
     "output_type": "display_data"
    },
    {
     "data": {
      "application/vnd.plotly.v1+json": {
       "config": {
        "plotlyServerURL": "https://plot.ly"
       },
       "data": [
        {
         "bingroup": "x",
         "hovertemplate": "diagnosis=1<br>perimeter_mean=%{x}<br>count=%{y}<extra></extra>",
         "legendgroup": "1",
         "marker": {
          "color": "#ee8ef5",
          "pattern": {
           "shape": ""
          }
         },
         "name": "1",
         "orientation": "v",
         "showlegend": true,
         "type": "histogram",
         "x": {
          "bdata": "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",
          "dtype": "f8"
         },
         "xaxis": "x",
         "yaxis": "y"
        },
        {
         "hovertemplate": "diagnosis=1<br>perimeter_mean=%{x}<extra></extra>",
         "legendgroup": "1",
         "marker": {
          "color": "#ee8ef5"
         },
         "name": "1",
         "notched": true,
         "showlegend": false,
         "type": "box",
         "x": {
          "bdata": "MzMzMzOzXkDNzMzMzJxgQAAAAAAAQGBAhetRuB5lU0AzMzMzM+NgQBSuR+F6pFRAZmZmZmbmXUDNzMzMzIxWQAAAAAAA4FVArkfhehT+VEDNzMzMzKxZQGZmZmZm5llAzczMzMyMYEDNzMzMzOxZQGZmZmZmZldAH4XrUbguWECPwvUoXK9XQGZmZmZmBltAAAAAAABAYEAAAAAAAKBZQGZmZmZmJmFAAAAAAACAW0AAAAAAAABdQArXo3A9WlhAZmZmZmaGXkCamZmZmZlZQAAAAAAAwFxAMzMzMzMzX0DsUbgehXtTQDMzMzMzM1xAmpmZmZn5X0AAAAAAAMBaQGZmZmZmhltAuB6F61FoV0DD9Shcj+JXQJqZmZmZGVZA7FG4HoWLVUCamZmZmflRQJqZmZmZCWBAFK5H4XrUVUB7FK5H4VpVQM3MzMzM7F5AH4XrUbh+VUAzMzMzMxNeQHE9CtejUFhAAAAAAABgX0AzMzMzM+NXQHsUrkfhGlhAXI/C9SisVECamZmZmVlYQGZmZmZm5l5AzczMzMyMXEDsUbgehZtWQGZmZmZmBlpAzczMzMwMXkBmZmZmZvZhQAAAAAAAcGVAMzMzMzMjYEBmZmZmZkZeQAAAAAAAkFdAAAAAAACAXkDNzMzMzAxZQDMzMzMzE1lAzczMzMyMYEAfhetRuJ5XQDMzMzMzA1ZAPQrXo3DNVUCamZmZmRljQClcj8L1qFhAzczMzMxsWkDNzMzMzIxcQJqZmZmZWV5AZmZmZmbGZEBxPQrXo/BVQJqZmZmZ2V5AzczMzMxMYEDNzMzMzGxZQM3MzMzMjFpAzczMzMwMXkCuR+F6FG5UQGZmZmZmNlhAZmZmZmZGWkCPwvUoXL9TQJqZmZmZWV1AMzMzMzOTX0BmZmZmZlZgQDMzMzMzA2NAMzMzMzNTW0BmZmZmZgZdQPYoXI/CdVVAAAAAAACgWUAzMzMzM1NbQDMzMzMzw2ZAZmZmZmbWYUDNzMzMzExZQHsUrkfhulhAZmZmZmamXUBI4XoUrpdXQJqZmZmZSVRAmpmZmZkZWUC4HoXrUahWQJqZmZmZWV1AAAAAAADgX0CPwvUoXJ9XQGZmZmZmxlxAzczMzMzcY0CkcD0K1+NWQFK4HoXrsVhAzczMzMxsW0BmZmZmZtZgQAAAAAAAkGdAAAAAAACgXEBI4XoUrjdXQD0K16NwvVZAZmZmZmY2YEAAAAAAAABgQGZmZmZmpllAcT0K16NQVUCamZmZmVlcQM3MzMzMzGBAAAAAAAAwY0AAAAAAAJBgQJqZmZmZWVxAMzMzMzMjYEDNzMzMzFxhQGZmZmZmVmBAAAAAAABAXEAAAAAAAKBfQOxRuB6F21ZAMzMzMzOzYEDNzMzMzMxZQM3MzMzMjFtAzczMzMzsWUDNzMzMzJxgQAAAAAAAwFtAmpmZmZmZXEAAAAAAAABZQGZmZmZm5ltAZmZmZmb2YECamZmZmWliQM3MzMzMzFxAmpmZmZk5XkDNzMzMzIxfQM3MzMzMzF9AMzMzMzMzW0AAAAAAAMBSQAAAAAAAMGBAZmZmZmbWYEDNzMzMzKxdQDMzMzMzY2BAzczMzMz8YECamZmZmblaQAAAAAAA4FpAMzMzMzNzWkAzMzMzM/NbQJqZmZmZuV5AMzMzMzNjY0DNzMzMzDxgQGZmZmZmxlpAZmZmZmbGZUAAAAAAAIBYQJqZmZmZuWBAZmZmZma2YEDNzMzMzJxhQGZmZmZmZmJAAAAAAABAW0CamZmZmalhQJqZmZmZ2WBAMzMzMzNTUkCuR+F6FH5XQM3MzMzMHGBAmpmZmZmZWUDNzMzMzAxiQJqZmZmZGV9AMzMzMzNzXUA9CtejcC1YQJqZmZmZuVlAZmZmZmaGWUCamZmZmblgQM3MzMzM7F5ASOF6FK7HVkCamZmZmRlcQAAAAAAAYF1AMzMzMzNTXUAzMzMzM0NhQM3MzMzM7F9AzczMzMzMW0DNzMzMzFxnQAAAAAAAwF1AMzMzMzNzW0AzMzMzMwNgQGZmZmZmxlpAmpmZmZmZXUAzMzMzM1NeQJqZmZmZOWFAhetRuB4VV0AzMzMzMwNjQDMzMzMz81lAKVyPwvUoVkBxPQrXo1BYQDMzMzMzM15AAAAAAABQYEAAAAAAALBkQGZmZmZm1mBAmpmZmZk5YUDhehSuR3FXQJqZmZmZ2VlAAAAAAADgYUAAAAAAAMBhQGZmZmZmZmBAMzMzMzMTW0AzMzMzM4NhQA==",
          "dtype": "f8"
         },
         "xaxis": "x2",
         "yaxis": "y2"
        },
        {
         "bingroup": "x",
         "hovertemplate": "diagnosis=0<br>perimeter_mean=%{x}<br>count=%{y}<extra></extra>",
         "legendgroup": "0",
         "marker": {
          "color": "rgb(50, 80, 168)",
          "pattern": {
           "shape": ""
          }
         },
         "name": "0",
         "orientation": "v",
         "showlegend": true,
         "type": "histogram",
         "x": {
          "bdata": "PQrXo3DdVUC4HoXrUWhVQOxRuB6FK05A16NwPQqnVEB7FK5H4dpJQMP1KFyPglNACtejcD26VUCuR+F6FK5SQD0K16NwzVVAPQrXo3DtUkD2KFyPwlVSQNejcD0Kp1RA7FG4HoUrS0AzMzMzMyNQQBSuR+F6VEtAmpmZmZmZTUCuR+F6FA5OQDMzMzMz81FAhetRuB5lTUBI4XoUrldUQIXrUbgeZU1AXI/C9SjMU0AK16NwPfpVQFyPwvUozFRApHA9CtdzUkCPwvUoXJ9VQM3MzMzMPFNAUrgehevxU0DhehSuR/FXQBSuR+F6pFdAj8L1KFwvVUBmZmZmZqZVQMP1KFyPclNArkfhehQOT0D2KFyPwpVSQIXrUbge5UVArkfhehROU0CamZmZmflPQArXo3A92lBAexSuR+HKUkBxPQrXo8BTQB+F61G4HlJAAAAAAABAT0CamZmZmYlUQIXrUbgedVhAKVyPwvUoUUDsUbgehetLQFK4HoXrIVNAH4XrUbheTUD2KFyPwlVSQFK4HoXrkVdAZmZmZmaGVUBcj8L1KBxWQIXrUbge5VhAhetRuB7FU0AAAAAAAIBZQK5H4XoUrlJApHA9CtdDUkAAAAAAAEBSQB+F61G4nk5ACtejcD1qUkCPwvUoXO9UQHE9CtejEFFA16NwPQqHU0D2KFyPwnVYQK5H4XoUfldASOF6FK4HVkBxPQrXo+BUQMP1KFyPokpApHA9CtfjT0BI4XoUrrdRQKRwPQrXU1VA4XoUrkeRU0CamZmZmRlbQPYoXI/CNVNAXI/C9SgsUUBmZmZmZgZTQGZmZmZm9lNAAAAAAADgV0DhehSuRzFRQK5H4XoUDlhAZmZmZma2U0A9CtejcI1RQI/C9Shc31BA9ihcj8I1S0BmZmZmZiZQQHE9CtejgFRAw/UoXI9SVEBSuB6F62FSQOF6FK5H4U9A7FG4HoWrUkDhehSuR9FSQIXrUbgetVNA4XoUrkeBVEA9CtejcF1OQFK4HoXroVRAw/UoXI+iU0D2KFyPwkVUQPYoXI/CdU9A4XoUrkfBVUB7FK5H4YpYQHE9Ctej4FJAFK5H4XpUU0AzMzMzM0NQQLgehetR+FVA9ihcj8IlVkBI4XoUrkdQQDMzMzMzI1VAcT0K16MgV0BI4XoUrqdQQM3MzMzMXFhAZmZmZmZWVEBxPQrXo/BRQMP1KFyPslFAexSuR+EaTkDD9Shcj3JWQDMzMzMzI1dAuB6F61HYVUDXo3A9CqdTQOxRuB6Fe1JAw/UoXI8iVkCuR+F6FK5QQLgehetRCFVAzczMzMw8VUBxPQrXowBRQEjhehSud1JAUrgehetRUkBSuB6F61FRQArXo3A9ylVAuB6F61GYVEAAAAAAAGBRQDMzMzMzk1ZAH4XrUbgOUkAAAAAAAMBOQM3MzMzMDFNAw/UoXI/yUUCPwvUoXI9VQI/C9ShcP1ZAj8L1KFyPUkCF61G4HgVVQIXrUbge9VNASOF6FK53U0ApXI/C9XhUQK5H4XoUblJAexSuR+EKUkBSuB6F6wFYQFK4HoXrQVhAKVyPwvXIVEDD9Shcj+JSQFK4HoXrcVRApHA9CtcDVkApXI/C9UhRQK5H4XoUzlZAZmZmZma2UEDsUbgehRtUQNejcD0Kt1BA9ihcj8JlUkAfhetRuI5SQBSuR+F6BFVArkfhehQuTEBcj8L1KGxVQD0K16NwrVRAhetRuB6VUkDsUbgehStXQMP1KFyPklRAH4XrUbhuUkDsUbgehQtLQFyPwvUozFNAAAAAAABQU0ApXI/C9QhOQGZmZmZmplNA4XoUrkehUEAUrkfherRUQHE9CtejgFNAAAAAAABQVEBSuB6F64FWQPYoXI/CBVNA4XoUrkchVUBcj8L1KPxRQLgehetR2FFAuB6F61F4U0CF61G4HgVVQArXo3A9GlBAmpmZmZmJV0BSuB6F69FOQI/C9Shc31FAUrgehevBUkDNzMzMzIxQQArXo3A9KlNASOF6FK63V0DhehSuR0FSQB+F61G4TlNAzczMzMxsUkCPwvUoXM9RQHsUrkfhelRA9ihcj8JFVUDhehSuRyFWQB+F61G4XkxAKVyPwvXoTUB7FK5H4dpTQI/C9ShcT1VASOF6FK53VEBmZmZmZqZaQB+F61G4XlVApHA9CteTU0CamZmZmWlYQPYoXI/C9VVAMzMzMzOTWkCamZmZmYlRQClcj8L1eFVA4XoUrkcRVkAK16NwPUpSQHsUrkfhqlFAAAAAAACwU0ApXI/C9ShUQMP1KFyPclVAUrgeheuxU0BI4XoUrhdWQLgehetRWFJAAAAAAABwUEDD9Shcj6JLQBSuR+F6hFNAAAAAAABwVkBmZmZmZgZWQDMzMzMzw1RApHA9CteTUUBxPQrXo9BSQClcj8L1CFNA7FG4HoULVUDsUbgehctUQMP1KFyPklNAKVyPwvWYUUAzMzMzMxNaQLgehetRqFRACtejcD2aU0CPwvUoXB9SQHsUrkfhulFAAAAAAADgTUBSuB6F62FYQClcj8L1GFNAzczMzMzMTUC4HoXrUThUQM3MzMzMvFFAzczMzMyMUkCuR+F6FI5YQD0K16Nw3VJAPQrXo3BdVkDXo3A9CvdOQLgehetRmE9Aj8L1KFzfUEDD9ShcjzJRQK5H4XoUnlFAH4XrUbg+VECuR+F6FF5UQClcj8L1uFdAexSuR+GqVEBSuB6F63FWQOxRuB6FK1ZA9ihcj8JlVkAfhetRuO5RQEjhehSuF1ZAFK5H4Xq0UEDXo3A9CmdTQLgehetR+FdAAAAAAACQV0CF61G4HjVTQOF6FK5HMVNA16NwPQp3V0BI4XoUridUQPYoXI/ClVVASOF6FK63UkBmZmZmZgZVQNejcD0Kp1RA16NwPQrXTkAAAAAAABBXQLgehetReFJAUrgehesRVUBI4XoUrrdVQB+F61G4flVASOF6FK6HTkC4HoXrURhTQB+F61G4vk5AZmZmZmY2U0DNzMzMzBxYQHsUrkfhWlNACtejcD2aUUApXI/C9bhUQArXo3A9GldArkfhehQ+VkCPwvUoXH9SQMP1KFyPklNAH4XrUbguVkAUrkfhetRVQHE9Ctej8FVAMzMzMzOzWUBmZmZmZrZUQD0K16NwjVdAj8L1KFzfUkDsUbgehYtTQGZmZmZmplxAhetRuB61U0CkcD0K1wNVQEjhehSuB1hAXI/C9SisVEDNzMzMzBxUQB+F61G4rlhAAAAAAABQVEAfhetRuL5OQEjhehSuB1BArkfhehTeU0AAAAAAANBRQM3MzMzMLFpApHA9CtcTU0AK16NwPapXQMP1KFyPkldAcT0K16MwUkDNzMzMzBxVQHE9CtejoFRAexSuR+H6TUAzMzMzM9NRQB+F61G4LlZAAAAAAACAT0CkcD0K10NLQFyPwvUo3FVAXI/C9Si8U0CkcD0K15NWQIXrUbgedVNAKVyPwvX4UkA9CtejcM1SQHE9Ctej8FVAw/UoXI+yUUBI4XoUrhdTQD0K16Nw/UdA7FG4HoUrSECamZmZmalSQKRwPQrX81dAzczMzMysV0C4HoXrUThVQOF6FK5HcVZAXI/C9SjMVUCkcD0K11NQQGZmZmZmdlBAZmZmZmaGTkApXI/C9ThRQHE9CtejIFFAj8L1KFzfUUBmZmZmZlZUQOF6FK5HgU1AAAAAAACgVEB7FK5H4WpQQB+F61G4LlBA4XoUrkehTUApXI/C9RhYQOF6FK5HoVJAuB6F61HYVkB7FK5H4apRQPYoXI/C9UdA",
          "dtype": "f8"
         },
         "xaxis": "x",
         "yaxis": "y"
        },
        {
         "hovertemplate": "diagnosis=0<br>perimeter_mean=%{x}<extra></extra>",
         "legendgroup": "0",
         "marker": {
          "color": "rgb(50, 80, 168)"
         },
         "name": "0",
         "notched": true,
         "showlegend": false,
         "type": "box",
         "x": {
          "bdata": "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",
          "dtype": "f8"
         },
         "xaxis": "x2",
         "yaxis": "y2"
        }
       ],
       "layout": {
        "barmode": "relative",
        "font": {
         "color": "darkblue",
         "family": "Arial, Courier New, monospace",
         "size": 12
        },
        "height": 400,
        "legend": {
         "title": {
          "text": "diagnosis"
         },
         "tracegroupgap": 0
        },
        "margin": {
         "t": 60
        },
        "plot_bgcolor": "white",
        "template": {
         "data": {
          "bar": [
           {
            "error_x": {
             "color": "#2a3f5f"
            },
            "error_y": {
             "color": "#2a3f5f"
            },
            "marker": {
             "line": {
              "color": "#E5ECF6",
              "width": 0.5
             },
             "pattern": {
              "fillmode": "overlay",
              "size": 10,
              "solidity": 0.2
             }
            },
            "type": "bar"
           }
          ],
          "barpolar": [
           {
            "marker": {
             "line": {
              "color": "#E5ECF6",
              "width": 0.5
             },
             "pattern": {
              "fillmode": "overlay",
              "size": 10,
              "solidity": 0.2
             }
            },
            "type": "barpolar"
           }
          ],
          "carpet": [
           {
            "aaxis": {
             "endlinecolor": "#2a3f5f",
             "gridcolor": "white",
             "linecolor": "white",
             "minorgridcolor": "white",
             "startlinecolor": "#2a3f5f"
            },
            "baxis": {
             "endlinecolor": "#2a3f5f",
             "gridcolor": "white",
             "linecolor": "white",
             "minorgridcolor": "white",
             "startlinecolor": "#2a3f5f"
            },
            "type": "carpet"
           }
          ],
          "choropleth": [
           {
            "colorbar": {
             "outlinewidth": 0,
             "ticks": ""
            },
            "type": "choropleth"
           }
          ],
          "contour": [
           {
            "colorbar": {
             "outlinewidth": 0,
             "ticks": ""
            },
            "colorscale": [
             [
              0,
              "#0d0887"
             ],
             [
              0.1111111111111111,
              "#46039f"
             ],
             [
              0.2222222222222222,
              "#7201a8"
             ],
             [
              0.3333333333333333,
              "#9c179e"
             ],
             [
              0.4444444444444444,
              "#bd3786"
             ],
             [
              0.5555555555555556,
              "#d8576b"
             ],
             [
              0.6666666666666666,
              "#ed7953"
             ],
             [
              0.7777777777777778,
              "#fb9f3a"
             ],
             [
              0.8888888888888888,
              "#fdca26"
             ],
             [
              1,
              "#f0f921"
             ]
            ],
            "type": "contour"
           }
          ],
          "contourcarpet": [
           {
            "colorbar": {
             "outlinewidth": 0,
             "ticks": ""
            },
            "type": "contourcarpet"
           }
          ],
          "heatmap": [
           {
            "colorbar": {
             "outlinewidth": 0,
             "ticks": ""
            },
            "colorscale": [
             [
              0,
              "#0d0887"
             ],
             [
              0.1111111111111111,
              "#46039f"
             ],
             [
              0.2222222222222222,
              "#7201a8"
             ],
             [
              0.3333333333333333,
              "#9c179e"
             ],
             [
              0.4444444444444444,
              "#bd3786"
             ],
             [
              0.5555555555555556,
              "#d8576b"
             ],
             [
              0.6666666666666666,
              "#ed7953"
             ],
             [
              0.7777777777777778,
              "#fb9f3a"
             ],
             [
              0.8888888888888888,
              "#fdca26"
             ],
             [
              1,
              "#f0f921"
             ]
            ],
            "type": "heatmap"
           }
          ],
          "histogram": [
           {
            "marker": {
             "pattern": {
              "fillmode": "overlay",
              "size": 10,
              "solidity": 0.2
             }
            },
            "type": "histogram"
           }
          ],
          "histogram2d": [
           {
            "colorbar": {
             "outlinewidth": 0,
             "ticks": ""
            },
            "colorscale": [
             [
              0,
              "#0d0887"
             ],
             [
              0.1111111111111111,
              "#46039f"
             ],
             [
              0.2222222222222222,
              "#7201a8"
             ],
             [
              0.3333333333333333,
              "#9c179e"
             ],
             [
              0.4444444444444444,
              "#bd3786"
             ],
             [
              0.5555555555555556,
              "#d8576b"
             ],
             [
              0.6666666666666666,
              "#ed7953"
             ],
             [
              0.7777777777777778,
              "#fb9f3a"
             ],
             [
              0.8888888888888888,
              "#fdca26"
             ],
             [
              1,
              "#f0f921"
             ]
            ],
            "type": "histogram2d"
           }
          ],
          "histogram2dcontour": [
           {
            "colorbar": {
             "outlinewidth": 0,
             "ticks": ""
            },
            "colorscale": [
             [
              0,
              "#0d0887"
             ],
             [
              0.1111111111111111,
              "#46039f"
             ],
             [
              0.2222222222222222,
              "#7201a8"
             ],
             [
              0.3333333333333333,
              "#9c179e"
             ],
             [
              0.4444444444444444,
              "#bd3786"
             ],
             [
              0.5555555555555556,
              "#d8576b"
             ],
             [
              0.6666666666666666,
              "#ed7953"
             ],
             [
              0.7777777777777778,
              "#fb9f3a"
             ],
             [
              0.8888888888888888,
              "#fdca26"
             ],
             [
              1,
              "#f0f921"
             ]
            ],
            "type": "histogram2dcontour"
           }
          ],
          "mesh3d": [
           {
            "colorbar": {
             "outlinewidth": 0,
             "ticks": ""
            },
            "type": "mesh3d"
           }
          ],
          "parcoords": [
           {
            "line": {
             "colorbar": {
              "outlinewidth": 0,
              "ticks": ""
             }
            },
            "type": "parcoords"
           }
          ],
          "pie": [
           {
            "automargin": true,
            "type": "pie"
           }
          ],
          "scatter": [
           {
            "fillpattern": {
             "fillmode": "overlay",
             "size": 10,
             "solidity": 0.2
            },
            "type": "scatter"
           }
          ],
          "scatter3d": [
           {
            "line": {
             "colorbar": {
              "outlinewidth": 0,
              "ticks": ""
             }
            },
            "marker": {
             "colorbar": {
              "outlinewidth": 0,
              "ticks": ""
             }
            },
            "type": "scatter3d"
           }
          ],
          "scattercarpet": [
           {
            "marker": {
             "colorbar": {
              "outlinewidth": 0,
              "ticks": ""
             }
            },
            "type": "scattercarpet"
           }
          ],
          "scattergeo": [
           {
            "marker": {
             "colorbar": {
              "outlinewidth": 0,
              "ticks": ""
             }
            },
            "type": "scattergeo"
           }
          ],
          "scattergl": [
           {
            "marker": {
             "colorbar": {
              "outlinewidth": 0,
              "ticks": ""
             }
            },
            "type": "scattergl"
           }
          ],
          "scattermap": [
           {
            "marker": {
             "colorbar": {
              "outlinewidth": 0,
              "ticks": ""
             }
            },
            "type": "scattermap"
           }
          ],
          "scattermapbox": [
           {
            "marker": {
             "colorbar": {
              "outlinewidth": 0,
              "ticks": ""
             }
            },
            "type": "scattermapbox"
           }
          ],
          "scatterpolar": [
           {
            "marker": {
             "colorbar": {
              "outlinewidth": 0,
              "ticks": ""
             }
            },
            "type": "scatterpolar"
           }
          ],
          "scatterpolargl": [
           {
            "marker": {
             "colorbar": {
              "outlinewidth": 0,
              "ticks": ""
             }
            },
            "type": "scatterpolargl"
           }
          ],
          "scatterternary": [
           {
            "marker": {
             "colorbar": {
              "outlinewidth": 0,
              "ticks": ""
             }
            },
            "type": "scatterternary"
           }
          ],
          "surface": [
           {
            "colorbar": {
             "outlinewidth": 0,
             "ticks": ""
            },
            "colorscale": [
             [
              0,
              "#0d0887"
             ],
             [
              0.1111111111111111,
              "#46039f"
             ],
             [
              0.2222222222222222,
              "#7201a8"
             ],
             [
              0.3333333333333333,
              "#9c179e"
             ],
             [
              0.4444444444444444,
              "#bd3786"
             ],
             [
              0.5555555555555556,
              "#d8576b"
             ],
             [
              0.6666666666666666,
              "#ed7953"
             ],
             [
              0.7777777777777778,
              "#fb9f3a"
             ],
             [
              0.8888888888888888,
              "#fdca26"
             ],
             [
              1,
              "#f0f921"
             ]
            ],
            "type": "surface"
           }
          ],
          "table": [
           {
            "cells": {
             "fill": {
              "color": "#EBF0F8"
             },
             "line": {
              "color": "white"
             }
            },
            "header": {
             "fill": {
              "color": "#C8D4E3"
             },
             "line": {
              "color": "white"
             }
            },
            "type": "table"
           }
          ]
         },
         "layout": {
          "annotationdefaults": {
           "arrowcolor": "#2a3f5f",
           "arrowhead": 0,
           "arrowwidth": 1
          },
          "autotypenumbers": "strict",
          "coloraxis": {
           "colorbar": {
            "outlinewidth": 0,
            "ticks": ""
           }
          },
          "colorscale": {
           "diverging": [
            [
             0,
             "#8e0152"
            ],
            [
             0.1,
             "#c51b7d"
            ],
            [
             0.2,
             "#de77ae"
            ],
            [
             0.3,
             "#f1b6da"
            ],
            [
             0.4,
             "#fde0ef"
            ],
            [
             0.5,
             "#f7f7f7"
            ],
            [
             0.6,
             "#e6f5d0"
            ],
            [
             0.7,
             "#b8e186"
            ],
            [
             0.8,
             "#7fbc41"
            ],
            [
             0.9,
             "#4d9221"
            ],
            [
             1,
             "#276419"
            ]
           ],
           "sequential": [
            [
             0,
             "#0d0887"
            ],
            [
             0.1111111111111111,
             "#46039f"
            ],
            [
             0.2222222222222222,
             "#7201a8"
            ],
            [
             0.3333333333333333,
             "#9c179e"
            ],
            [
             0.4444444444444444,
             "#bd3786"
            ],
            [
             0.5555555555555556,
             "#d8576b"
            ],
            [
             0.6666666666666666,
             "#ed7953"
            ],
            [
             0.7777777777777778,
             "#fb9f3a"
            ],
            [
             0.8888888888888888,
             "#fdca26"
            ],
            [
             1,
             "#f0f921"
            ]
           ],
           "sequentialminus": [
            [
             0,
             "#0d0887"
            ],
            [
             0.1111111111111111,
             "#46039f"
            ],
            [
             0.2222222222222222,
             "#7201a8"
            ],
            [
             0.3333333333333333,
             "#9c179e"
            ],
            [
             0.4444444444444444,
             "#bd3786"
            ],
            [
             0.5555555555555556,
             "#d8576b"
            ],
            [
             0.6666666666666666,
             "#ed7953"
            ],
            [
             0.7777777777777778,
             "#fb9f3a"
            ],
            [
             0.8888888888888888,
             "#fdca26"
            ],
            [
             1,
             "#f0f921"
            ]
           ]
          },
          "colorway": [
           "#636efa",
           "#EF553B",
           "#00cc96",
           "#ab63fa",
           "#FFA15A",
           "#19d3f3",
           "#FF6692",
           "#B6E880",
           "#FF97FF",
           "#FECB52"
          ],
          "font": {
           "color": "#2a3f5f"
          },
          "geo": {
           "bgcolor": "white",
           "lakecolor": "white",
           "landcolor": "#E5ECF6",
           "showlakes": true,
           "showland": true,
           "subunitcolor": "white"
          },
          "hoverlabel": {
           "align": "left"
          },
          "hovermode": "closest",
          "mapbox": {
           "style": "light"
          },
          "paper_bgcolor": "white",
          "plot_bgcolor": "#E5ECF6",
          "polar": {
           "angularaxis": {
            "gridcolor": "white",
            "linecolor": "white",
            "ticks": ""
           },
           "bgcolor": "#E5ECF6",
           "radialaxis": {
            "gridcolor": "white",
            "linecolor": "white",
            "ticks": ""
           }
          },
          "scene": {
           "xaxis": {
            "backgroundcolor": "#E5ECF6",
            "gridcolor": "white",
            "gridwidth": 2,
            "linecolor": "white",
            "showbackground": true,
            "ticks": "",
            "zerolinecolor": "white"
           },
           "yaxis": {
            "backgroundcolor": "#E5ECF6",
            "gridcolor": "white",
            "gridwidth": 2,
            "linecolor": "white",
            "showbackground": true,
            "ticks": "",
            "zerolinecolor": "white"
           },
           "zaxis": {
            "backgroundcolor": "#E5ECF6",
            "gridcolor": "white",
            "gridwidth": 2,
            "linecolor": "white",
            "showbackground": true,
            "ticks": "",
            "zerolinecolor": "white"
           }
          },
          "shapedefaults": {
           "line": {
            "color": "#2a3f5f"
           }
          },
          "ternary": {
           "aaxis": {
            "gridcolor": "white",
            "linecolor": "white",
            "ticks": ""
           },
           "baxis": {
            "gridcolor": "white",
            "linecolor": "white",
            "ticks": ""
           },
           "bgcolor": "#E5ECF6",
           "caxis": {
            "gridcolor": "white",
            "linecolor": "white",
            "ticks": ""
           }
          },
          "title": {
           "x": 0.05
          },
          "xaxis": {
           "automargin": true,
           "gridcolor": "white",
           "linecolor": "white",
           "ticks": "",
           "title": {
            "standoff": 15
           },
           "zerolinecolor": "white",
           "zerolinewidth": 2
          },
          "yaxis": {
           "automargin": true,
           "gridcolor": "white",
           "linecolor": "white",
           "ticks": "",
           "title": {
            "standoff": 15
           },
           "zerolinecolor": "white",
           "zerolinewidth": 2
          }
         }
        },
        "title": {
         "text": "Box plot of perimeter_mean by Diagnosis"
        },
        "width": 600,
        "xaxis": {
         "anchor": "y",
         "domain": [
          0,
          1
         ],
         "gridcolor": "lightgray",
         "gridwidth": 1,
         "linecolor": "darkgray",
         "showgrid": true,
         "showline": true,
         "title": {
          "text": "perimeter_mean"
         }
        },
        "xaxis2": {
         "anchor": "y2",
         "domain": [
          0,
          1
         ],
         "matches": "x",
         "showgrid": true,
         "showticklabels": false
        },
        "yaxis": {
         "anchor": "x",
         "domain": [
          0,
          0.7326
         ],
         "gridcolor": "lightgray",
         "gridwidth": 1,
         "linecolor": "darkgray",
         "showgrid": true,
         "showline": true,
         "title": {
          "text": "count"
         }
        },
        "yaxis2": {
         "anchor": "x2",
         "domain": [
          0.7426,
          1
         ],
         "matches": "y2",
         "showgrid": false,
         "showline": false,
         "showticklabels": false,
         "ticks": ""
        }
       }
      }
     },
     "metadata": {},
     "output_type": "display_data"
    }
   ],
   "source": [
    "columns_to_plot = ['radius_mean', 'texture_mean', 'perimeter_mean']\n",
    "\n",
    "for column in columns_to_plot:\n",
    "    fig = px.histogram(df, x=df[column], color=\"diagnosis\", marginal=\"box\",\n",
    "                       color_discrete_map={\n",
    "                                0: 'rgb(50, 80, 168)',     \n",
    "                                1: '#ee8ef5'})\n",
    "    fig.update_layout(\n",
    "    title=dict(text=f\"Box plot of {column} by Diagnosis\"),\n",
    "    width=800,\n",
    "    height=400\n",
    "    )\n",
    "    fig.update_layout(\n",
    "    width=600,\n",
    "    height=400,\n",
    "    font=dict(\n",
    "        family=\"Arial, Courier New, monospace\",  # font family\n",
    "        size=12,                                 # font size (pixels)\n",
    "        color=\"darkblue\"                         # font color\n",
    "    )\n",
    "    )\n",
    "\n",
    "    fig.update_layout(\n",
    "        plot_bgcolor='white',\n",
    "        xaxis=dict(\n",
    "            showline=True,            # show axis line\n",
    "            linecolor='darkgray',        # axis line color\n",
    "            showgrid=True,            # show grid lines\n",
    "            gridcolor='lightgray',    # grid line color\n",
    "            gridwidth=1\n",
    "        ),\n",
    "        yaxis=dict(\n",
    "            showline=True,\n",
    "            linecolor='darkgray',\n",
    "            showgrid=True,\n",
    "            gridcolor='lightgray',\n",
    "            gridwidth=1\n",
    "        )\n",
    "    )\n",
    "    fig.show()\n",
    "    \n",
    "    # filename = f\"fig_{column}.pdf\"\n",
    "    # fig.write_image(filename)"
   ]
  },
  {
   "cell_type": "code",
   "execution_count": 116,
   "metadata": {},
   "outputs": [
    {
     "data": {
      "application/vnd.plotly.v1+json": {
       "config": {
        "plotlyServerURL": "https://plot.ly"
       },
       "data": [
        {
         "alignmentgroup": "True",
         "hovertemplate": "diagnosis=%{x}<br>radius_mean=%{y}<extra></extra>",
         "legendgroup": "1",
         "marker": {
          "color": "#ee8ef5"
         },
         "name": "1",
         "notched": false,
         "offsetgroup": "1",
         "orientation": "v",
         "showlegend": true,
         "type": "box",
         "x": {
          "bdata": "AQEBAQEBAQEBAQEBAQEBAQEBAQEBAQEBAQEBAQEBAQEBAQEBAQEBAQEBAQEBAQEBAQEBAQEBAQEBAQEBAQEBAQEBAQEBAQEBAQEBAQEBAQEBAQEBAQEBAQEBAQEBAQEBAQEBAQEBAQEBAQEBAQEBAQEBAQEBAQEBAQEBAQEBAQEBAQEBAQEBAQEBAQEBAQEBAQEBAQEBAQEBAQEBAQEBAQEBAQEBAQEBAQEBAQEBAQEBAQEBAQEBAQEBAQEBAQEBAQEBAQEBAQEBAQEBAQEBAQEBAQE=",
          "dtype": "i1"
         },
         "x0": " ",
         "xaxis": "x",
         "y": {
          "bdata": "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",
          "dtype": "f8"
         },
         "y0": " ",
         "yaxis": "y"
        },
        {
         "alignmentgroup": "True",
         "hovertemplate": "diagnosis=%{x}<br>radius_mean=%{y}<extra></extra>",
         "legendgroup": "0",
         "marker": {
          "color": "rgb(50, 80, 168)"
         },
         "name": "0",
         "notched": false,
         "offsetgroup": "0",
         "orientation": "v",
         "showlegend": true,
         "type": "box",
         "x": {
          "bdata": "AAAAAAAAAAAAAAAAAAAAAAAAAAAAAAAAAAAAAAAAAAAAAAAAAAAAAAAAAAAAAAAAAAAAAAAAAAAAAAAAAAAAAAAAAAAAAAAAAAAAAAAAAAAAAAAAAAAAAAAAAAAAAAAAAAAAAAAAAAAAAAAAAAAAAAAAAAAAAAAAAAAAAAAAAAAAAAAAAAAAAAAAAAAAAAAAAAAAAAAAAAAAAAAAAAAAAAAAAAAAAAAAAAAAAAAAAAAAAAAAAAAAAAAAAAAAAAAAAAAAAAAAAAAAAAAAAAAAAAAAAAAAAAAAAAAAAAAAAAAAAAAAAAAAAAAAAAAAAAAAAAAAAAAAAAAAAAAAAAAAAAAAAAAAAAAAAAAAAAAAAAAAAAAAAAAAAAAAAAAAAAAAAAAAAAAAAAAAAAAAAAAAAAAAAAAAAAAAAAAAAAAAAAAAAAAAAAAAAAAAAAAAAAAAAAAAAAAAAAAAAAAAAAAAAAAAAAAA",
          "dtype": "i1"
         },
         "x0": " ",
         "xaxis": "x",
         "y": {
          "bdata": "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",
          "dtype": "f8"
         },
         "y0": " ",
         "yaxis": "y"
        }
       ],
       "layout": {
        "boxmode": "overlay",
        "font": {
         "color": "darkblue",
         "family": "Arial, Courier New, monospace",
         "size": 12
        },
        "height": 400,
        "legend": {
         "title": {
          "text": "diagnosis"
         },
         "tracegroupgap": 0
        },
        "margin": {
         "t": 60
        },
        "plot_bgcolor": "white",
        "template": {
         "data": {
          "bar": [
           {
            "error_x": {
             "color": "#2a3f5f"
            },
            "error_y": {
             "color": "#2a3f5f"
            },
            "marker": {
             "line": {
              "color": "#E5ECF6",
              "width": 0.5
             },
             "pattern": {
              "fillmode": "overlay",
              "size": 10,
              "solidity": 0.2
             }
            },
            "type": "bar"
           }
          ],
          "barpolar": [
           {
            "marker": {
             "line": {
              "color": "#E5ECF6",
              "width": 0.5
             },
             "pattern": {
              "fillmode": "overlay",
              "size": 10,
              "solidity": 0.2
             }
            },
            "type": "barpolar"
           }
          ],
          "carpet": [
           {
            "aaxis": {
             "endlinecolor": "#2a3f5f",
             "gridcolor": "white",
             "linecolor": "white",
             "minorgridcolor": "white",
             "startlinecolor": "#2a3f5f"
            },
            "baxis": {
             "endlinecolor": "#2a3f5f",
             "gridcolor": "white",
             "linecolor": "white",
             "minorgridcolor": "white",
             "startlinecolor": "#2a3f5f"
            },
            "type": "carpet"
           }
          ],
          "choropleth": [
           {
            "colorbar": {
             "outlinewidth": 0,
             "ticks": ""
            },
            "type": "choropleth"
           }
          ],
          "contour": [
           {
            "colorbar": {
             "outlinewidth": 0,
             "ticks": ""
            },
            "colorscale": [
             [
              0,
              "#0d0887"
             ],
             [
              0.1111111111111111,
              "#46039f"
             ],
             [
              0.2222222222222222,
              "#7201a8"
             ],
             [
              0.3333333333333333,
              "#9c179e"
             ],
             [
              0.4444444444444444,
              "#bd3786"
             ],
             [
              0.5555555555555556,
              "#d8576b"
             ],
             [
              0.6666666666666666,
              "#ed7953"
             ],
             [
              0.7777777777777778,
              "#fb9f3a"
             ],
             [
              0.8888888888888888,
              "#fdca26"
             ],
             [
              1,
              "#f0f921"
             ]
            ],
            "type": "contour"
           }
          ],
          "contourcarpet": [
           {
            "colorbar": {
             "outlinewidth": 0,
             "ticks": ""
            },
            "type": "contourcarpet"
           }
          ],
          "heatmap": [
           {
            "colorbar": {
             "outlinewidth": 0,
             "ticks": ""
            },
            "colorscale": [
             [
              0,
              "#0d0887"
             ],
             [
              0.1111111111111111,
              "#46039f"
             ],
             [
              0.2222222222222222,
              "#7201a8"
             ],
             [
              0.3333333333333333,
              "#9c179e"
             ],
             [
              0.4444444444444444,
              "#bd3786"
             ],
             [
              0.5555555555555556,
              "#d8576b"
             ],
             [
              0.6666666666666666,
              "#ed7953"
             ],
             [
              0.7777777777777778,
              "#fb9f3a"
             ],
             [
              0.8888888888888888,
              "#fdca26"
             ],
             [
              1,
              "#f0f921"
             ]
            ],
            "type": "heatmap"
           }
          ],
          "histogram": [
           {
            "marker": {
             "pattern": {
              "fillmode": "overlay",
              "size": 10,
              "solidity": 0.2
             }
            },
            "type": "histogram"
           }
          ],
          "histogram2d": [
           {
            "colorbar": {
             "outlinewidth": 0,
             "ticks": ""
            },
            "colorscale": [
             [
              0,
              "#0d0887"
             ],
             [
              0.1111111111111111,
              "#46039f"
             ],
             [
              0.2222222222222222,
              "#7201a8"
             ],
             [
              0.3333333333333333,
              "#9c179e"
             ],
             [
              0.4444444444444444,
              "#bd3786"
             ],
             [
              0.5555555555555556,
              "#d8576b"
             ],
             [
              0.6666666666666666,
              "#ed7953"
             ],
             [
              0.7777777777777778,
              "#fb9f3a"
             ],
             [
              0.8888888888888888,
              "#fdca26"
             ],
             [
              1,
              "#f0f921"
             ]
            ],
            "type": "histogram2d"
           }
          ],
          "histogram2dcontour": [
           {
            "colorbar": {
             "outlinewidth": 0,
             "ticks": ""
            },
            "colorscale": [
             [
              0,
              "#0d0887"
             ],
             [
              0.1111111111111111,
              "#46039f"
             ],
             [
              0.2222222222222222,
              "#7201a8"
             ],
             [
              0.3333333333333333,
              "#9c179e"
             ],
             [
              0.4444444444444444,
              "#bd3786"
             ],
             [
              0.5555555555555556,
              "#d8576b"
             ],
             [
              0.6666666666666666,
              "#ed7953"
             ],
             [
              0.7777777777777778,
              "#fb9f3a"
             ],
             [
              0.8888888888888888,
              "#fdca26"
             ],
             [
              1,
              "#f0f921"
             ]
            ],
            "type": "histogram2dcontour"
           }
          ],
          "mesh3d": [
           {
            "colorbar": {
             "outlinewidth": 0,
             "ticks": ""
            },
            "type": "mesh3d"
           }
          ],
          "parcoords": [
           {
            "line": {
             "colorbar": {
              "outlinewidth": 0,
              "ticks": ""
             }
            },
            "type": "parcoords"
           }
          ],
          "pie": [
           {
            "automargin": true,
            "type": "pie"
           }
          ],
          "scatter": [
           {
            "fillpattern": {
             "fillmode": "overlay",
             "size": 10,
             "solidity": 0.2
            },
            "type": "scatter"
           }
          ],
          "scatter3d": [
           {
            "line": {
             "colorbar": {
              "outlinewidth": 0,
              "ticks": ""
             }
            },
            "marker": {
             "colorbar": {
              "outlinewidth": 0,
              "ticks": ""
             }
            },
            "type": "scatter3d"
           }
          ],
          "scattercarpet": [
           {
            "marker": {
             "colorbar": {
              "outlinewidth": 0,
              "ticks": ""
             }
            },
            "type": "scattercarpet"
           }
          ],
          "scattergeo": [
           {
            "marker": {
             "colorbar": {
              "outlinewidth": 0,
              "ticks": ""
             }
            },
            "type": "scattergeo"
           }
          ],
          "scattergl": [
           {
            "marker": {
             "colorbar": {
              "outlinewidth": 0,
              "ticks": ""
             }
            },
            "type": "scattergl"
           }
          ],
          "scattermap": [
           {
            "marker": {
             "colorbar": {
              "outlinewidth": 0,
              "ticks": ""
             }
            },
            "type": "scattermap"
           }
          ],
          "scattermapbox": [
           {
            "marker": {
             "colorbar": {
              "outlinewidth": 0,
              "ticks": ""
             }
            },
            "type": "scattermapbox"
           }
          ],
          "scatterpolar": [
           {
            "marker": {
             "colorbar": {
              "outlinewidth": 0,
              "ticks": ""
             }
            },
            "type": "scatterpolar"
           }
          ],
          "scatterpolargl": [
           {
            "marker": {
             "colorbar": {
              "outlinewidth": 0,
              "ticks": ""
             }
            },
            "type": "scatterpolargl"
           }
          ],
          "scatterternary": [
           {
            "marker": {
             "colorbar": {
              "outlinewidth": 0,
              "ticks": ""
             }
            },
            "type": "scatterternary"
           }
          ],
          "surface": [
           {
            "colorbar": {
             "outlinewidth": 0,
             "ticks": ""
            },
            "colorscale": [
             [
              0,
              "#0d0887"
             ],
             [
              0.1111111111111111,
              "#46039f"
             ],
             [
              0.2222222222222222,
              "#7201a8"
             ],
             [
              0.3333333333333333,
              "#9c179e"
             ],
             [
              0.4444444444444444,
              "#bd3786"
             ],
             [
              0.5555555555555556,
              "#d8576b"
             ],
             [
              0.6666666666666666,
              "#ed7953"
             ],
             [
              0.7777777777777778,
              "#fb9f3a"
             ],
             [
              0.8888888888888888,
              "#fdca26"
             ],
             [
              1,
              "#f0f921"
             ]
            ],
            "type": "surface"
           }
          ],
          "table": [
           {
            "cells": {
             "fill": {
              "color": "#EBF0F8"
             },
             "line": {
              "color": "white"
             }
            },
            "header": {
             "fill": {
              "color": "#C8D4E3"
             },
             "line": {
              "color": "white"
             }
            },
            "type": "table"
           }
          ]
         },
         "layout": {
          "annotationdefaults": {
           "arrowcolor": "#2a3f5f",
           "arrowhead": 0,
           "arrowwidth": 1
          },
          "autotypenumbers": "strict",
          "coloraxis": {
           "colorbar": {
            "outlinewidth": 0,
            "ticks": ""
           }
          },
          "colorscale": {
           "diverging": [
            [
             0,
             "#8e0152"
            ],
            [
             0.1,
             "#c51b7d"
            ],
            [
             0.2,
             "#de77ae"
            ],
            [
             0.3,
             "#f1b6da"
            ],
            [
             0.4,
             "#fde0ef"
            ],
            [
             0.5,
             "#f7f7f7"
            ],
            [
             0.6,
             "#e6f5d0"
            ],
            [
             0.7,
             "#b8e186"
            ],
            [
             0.8,
             "#7fbc41"
            ],
            [
             0.9,
             "#4d9221"
            ],
            [
             1,
             "#276419"
            ]
           ],
           "sequential": [
            [
             0,
             "#0d0887"
            ],
            [
             0.1111111111111111,
             "#46039f"
            ],
            [
             0.2222222222222222,
             "#7201a8"
            ],
            [
             0.3333333333333333,
             "#9c179e"
            ],
            [
             0.4444444444444444,
             "#bd3786"
            ],
            [
             0.5555555555555556,
             "#d8576b"
            ],
            [
             0.6666666666666666,
             "#ed7953"
            ],
            [
             0.7777777777777778,
             "#fb9f3a"
            ],
            [
             0.8888888888888888,
             "#fdca26"
            ],
            [
             1,
             "#f0f921"
            ]
           ],
           "sequentialminus": [
            [
             0,
             "#0d0887"
            ],
            [
             0.1111111111111111,
             "#46039f"
            ],
            [
             0.2222222222222222,
             "#7201a8"
            ],
            [
             0.3333333333333333,
             "#9c179e"
            ],
            [
             0.4444444444444444,
             "#bd3786"
            ],
            [
             0.5555555555555556,
             "#d8576b"
            ],
            [
             0.6666666666666666,
             "#ed7953"
            ],
            [
             0.7777777777777778,
             "#fb9f3a"
            ],
            [
             0.8888888888888888,
             "#fdca26"
            ],
            [
             1,
             "#f0f921"
            ]
           ]
          },
          "colorway": [
           "#636efa",
           "#EF553B",
           "#00cc96",
           "#ab63fa",
           "#FFA15A",
           "#19d3f3",
           "#FF6692",
           "#B6E880",
           "#FF97FF",
           "#FECB52"
          ],
          "font": {
           "color": "#2a3f5f"
          },
          "geo": {
           "bgcolor": "white",
           "lakecolor": "white",
           "landcolor": "#E5ECF6",
           "showlakes": true,
           "showland": true,
           "subunitcolor": "white"
          },
          "hoverlabel": {
           "align": "left"
          },
          "hovermode": "closest",
          "mapbox": {
           "style": "light"
          },
          "paper_bgcolor": "white",
          "plot_bgcolor": "#E5ECF6",
          "polar": {
           "angularaxis": {
            "gridcolor": "white",
            "linecolor": "white",
            "ticks": ""
           },
           "bgcolor": "#E5ECF6",
           "radialaxis": {
            "gridcolor": "white",
            "linecolor": "white",
            "ticks": ""
           }
          },
          "scene": {
           "xaxis": {
            "backgroundcolor": "#E5ECF6",
            "gridcolor": "white",
            "gridwidth": 2,
            "linecolor": "white",
            "showbackground": true,
            "ticks": "",
            "zerolinecolor": "white"
           },
           "yaxis": {
            "backgroundcolor": "#E5ECF6",
            "gridcolor": "white",
            "gridwidth": 2,
            "linecolor": "white",
            "showbackground": true,
            "ticks": "",
            "zerolinecolor": "white"
           },
           "zaxis": {
            "backgroundcolor": "#E5ECF6",
            "gridcolor": "white",
            "gridwidth": 2,
            "linecolor": "white",
            "showbackground": true,
            "ticks": "",
            "zerolinecolor": "white"
           }
          },
          "shapedefaults": {
           "line": {
            "color": "#2a3f5f"
           }
          },
          "ternary": {
           "aaxis": {
            "gridcolor": "white",
            "linecolor": "white",
            "ticks": ""
           },
           "baxis": {
            "gridcolor": "white",
            "linecolor": "white",
            "ticks": ""
           },
           "bgcolor": "#E5ECF6",
           "caxis": {
            "gridcolor": "white",
            "linecolor": "white",
            "ticks": ""
           }
          },
          "title": {
           "x": 0.05
          },
          "xaxis": {
           "automargin": true,
           "gridcolor": "white",
           "linecolor": "white",
           "ticks": "",
           "title": {
            "standoff": 15
           },
           "zerolinecolor": "white",
           "zerolinewidth": 2
          },
          "yaxis": {
           "automargin": true,
           "gridcolor": "white",
           "linecolor": "white",
           "ticks": "",
           "title": {
            "standoff": 15
           },
           "zerolinecolor": "white",
           "zerolinewidth": 2
          }
         }
        },
        "title": {
         "text": "Box plot of radius_mean by Diagnosis"
        },
        "width": 600,
        "xaxis": {
         "anchor": "y",
         "categoryarray": [
          1,
          0
         ],
         "categoryorder": "array",
         "domain": [
          0,
          1
         ],
         "gridcolor": "lightgray",
         "gridwidth": 1,
         "linecolor": "darkgray",
         "showgrid": true,
         "showline": true,
         "title": {
          "text": "diagnosis"
         }
        },
        "yaxis": {
         "anchor": "x",
         "domain": [
          0,
          1
         ],
         "gridcolor": "lightgray",
         "gridwidth": 1,
         "linecolor": "darkgray",
         "showgrid": true,
         "showline": true,
         "title": {
          "text": "radius_mean"
         }
        }
       }
      }
     },
     "metadata": {},
     "output_type": "display_data"
    },
    {
     "data": {
      "application/vnd.plotly.v1+json": {
       "config": {
        "plotlyServerURL": "https://plot.ly"
       },
       "data": [
        {
         "alignmentgroup": "True",
         "hovertemplate": "diagnosis=%{x}<br>texture_mean=%{y}<extra></extra>",
         "legendgroup": "1",
         "marker": {
          "color": "#ee8ef5"
         },
         "name": "1",
         "notched": false,
         "offsetgroup": "1",
         "orientation": "v",
         "showlegend": true,
         "type": "box",
         "x": {
          "bdata": "AQEBAQEBAQEBAQEBAQEBAQEBAQEBAQEBAQEBAQEBAQEBAQEBAQEBAQEBAQEBAQEBAQEBAQEBAQEBAQEBAQEBAQEBAQEBAQEBAQEBAQEBAQEBAQEBAQEBAQEBAQEBAQEBAQEBAQEBAQEBAQEBAQEBAQEBAQEBAQEBAQEBAQEBAQEBAQEBAQEBAQEBAQEBAQEBAQEBAQEBAQEBAQEBAQEBAQEBAQEBAQEBAQEBAQEBAQEBAQEBAQEBAQEBAQEBAQEBAQEBAQEBAQEBAQEBAQEBAQEBAQE=",
          "dtype": "i1"
         },
         "x0": " ",
         "xaxis": "x",
         "y": {
          "bdata": "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",
          "dtype": "f8"
         },
         "y0": " ",
         "yaxis": "y"
        },
        {
         "alignmentgroup": "True",
         "hovertemplate": "diagnosis=%{x}<br>texture_mean=%{y}<extra></extra>",
         "legendgroup": "0",
         "marker": {
          "color": "rgb(50, 80, 168)"
         },
         "name": "0",
         "notched": false,
         "offsetgroup": "0",
         "orientation": "v",
         "showlegend": true,
         "type": "box",
         "x": {
          "bdata": "AAAAAAAAAAAAAAAAAAAAAAAAAAAAAAAAAAAAAAAAAAAAAAAAAAAAAAAAAAAAAAAAAAAAAAAAAAAAAAAAAAAAAAAAAAAAAAAAAAAAAAAAAAAAAAAAAAAAAAAAAAAAAAAAAAAAAAAAAAAAAAAAAAAAAAAAAAAAAAAAAAAAAAAAAAAAAAAAAAAAAAAAAAAAAAAAAAAAAAAAAAAAAAAAAAAAAAAAAAAAAAAAAAAAAAAAAAAAAAAAAAAAAAAAAAAAAAAAAAAAAAAAAAAAAAAAAAAAAAAAAAAAAAAAAAAAAAAAAAAAAAAAAAAAAAAAAAAAAAAAAAAAAAAAAAAAAAAAAAAAAAAAAAAAAAAAAAAAAAAAAAAAAAAAAAAAAAAAAAAAAAAAAAAAAAAAAAAAAAAAAAAAAAAAAAAAAAAAAAAAAAAAAAAAAAAAAAAAAAAAAAAAAAAAAAAAAAAAAAAAAAAAAAAAAAAAAAAA",
          "dtype": "i1"
         },
         "x0": " ",
         "xaxis": "x",
         "y": {
          "bdata": "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",
          "dtype": "f8"
         },
         "y0": " ",
         "yaxis": "y"
        }
       ],
       "layout": {
        "boxmode": "overlay",
        "font": {
         "color": "darkblue",
         "family": "Arial, Courier New, monospace",
         "size": 12
        },
        "height": 400,
        "legend": {
         "title": {
          "text": "diagnosis"
         },
         "tracegroupgap": 0
        },
        "margin": {
         "t": 60
        },
        "plot_bgcolor": "white",
        "template": {
         "data": {
          "bar": [
           {
            "error_x": {
             "color": "#2a3f5f"
            },
            "error_y": {
             "color": "#2a3f5f"
            },
            "marker": {
             "line": {
              "color": "#E5ECF6",
              "width": 0.5
             },
             "pattern": {
              "fillmode": "overlay",
              "size": 10,
              "solidity": 0.2
             }
            },
            "type": "bar"
           }
          ],
          "barpolar": [
           {
            "marker": {
             "line": {
              "color": "#E5ECF6",
              "width": 0.5
             },
             "pattern": {
              "fillmode": "overlay",
              "size": 10,
              "solidity": 0.2
             }
            },
            "type": "barpolar"
           }
          ],
          "carpet": [
           {
            "aaxis": {
             "endlinecolor": "#2a3f5f",
             "gridcolor": "white",
             "linecolor": "white",
             "minorgridcolor": "white",
             "startlinecolor": "#2a3f5f"
            },
            "baxis": {
             "endlinecolor": "#2a3f5f",
             "gridcolor": "white",
             "linecolor": "white",
             "minorgridcolor": "white",
             "startlinecolor": "#2a3f5f"
            },
            "type": "carpet"
           }
          ],
          "choropleth": [
           {
            "colorbar": {
             "outlinewidth": 0,
             "ticks": ""
            },
            "type": "choropleth"
           }
          ],
          "contour": [
           {
            "colorbar": {
             "outlinewidth": 0,
             "ticks": ""
            },
            "colorscale": [
             [
              0,
              "#0d0887"
             ],
             [
              0.1111111111111111,
              "#46039f"
             ],
             [
              0.2222222222222222,
              "#7201a8"
             ],
             [
              0.3333333333333333,
              "#9c179e"
             ],
             [
              0.4444444444444444,
              "#bd3786"
             ],
             [
              0.5555555555555556,
              "#d8576b"
             ],
             [
              0.6666666666666666,
              "#ed7953"
             ],
             [
              0.7777777777777778,
              "#fb9f3a"
             ],
             [
              0.8888888888888888,
              "#fdca26"
             ],
             [
              1,
              "#f0f921"
             ]
            ],
            "type": "contour"
           }
          ],
          "contourcarpet": [
           {
            "colorbar": {
             "outlinewidth": 0,
             "ticks": ""
            },
            "type": "contourcarpet"
           }
          ],
          "heatmap": [
           {
            "colorbar": {
             "outlinewidth": 0,
             "ticks": ""
            },
            "colorscale": [
             [
              0,
              "#0d0887"
             ],
             [
              0.1111111111111111,
              "#46039f"
             ],
             [
              0.2222222222222222,
              "#7201a8"
             ],
             [
              0.3333333333333333,
              "#9c179e"
             ],
             [
              0.4444444444444444,
              "#bd3786"
             ],
             [
              0.5555555555555556,
              "#d8576b"
             ],
             [
              0.6666666666666666,
              "#ed7953"
             ],
             [
              0.7777777777777778,
              "#fb9f3a"
             ],
             [
              0.8888888888888888,
              "#fdca26"
             ],
             [
              1,
              "#f0f921"
             ]
            ],
            "type": "heatmap"
           }
          ],
          "histogram": [
           {
            "marker": {
             "pattern": {
              "fillmode": "overlay",
              "size": 10,
              "solidity": 0.2
             }
            },
            "type": "histogram"
           }
          ],
          "histogram2d": [
           {
            "colorbar": {
             "outlinewidth": 0,
             "ticks": ""
            },
            "colorscale": [
             [
              0,
              "#0d0887"
             ],
             [
              0.1111111111111111,
              "#46039f"
             ],
             [
              0.2222222222222222,
              "#7201a8"
             ],
             [
              0.3333333333333333,
              "#9c179e"
             ],
             [
              0.4444444444444444,
              "#bd3786"
             ],
             [
              0.5555555555555556,
              "#d8576b"
             ],
             [
              0.6666666666666666,
              "#ed7953"
             ],
             [
              0.7777777777777778,
              "#fb9f3a"
             ],
             [
              0.8888888888888888,
              "#fdca26"
             ],
             [
              1,
              "#f0f921"
             ]
            ],
            "type": "histogram2d"
           }
          ],
          "histogram2dcontour": [
           {
            "colorbar": {
             "outlinewidth": 0,
             "ticks": ""
            },
            "colorscale": [
             [
              0,
              "#0d0887"
             ],
             [
              0.1111111111111111,
              "#46039f"
             ],
             [
              0.2222222222222222,
              "#7201a8"
             ],
             [
              0.3333333333333333,
              "#9c179e"
             ],
             [
              0.4444444444444444,
              "#bd3786"
             ],
             [
              0.5555555555555556,
              "#d8576b"
             ],
             [
              0.6666666666666666,
              "#ed7953"
             ],
             [
              0.7777777777777778,
              "#fb9f3a"
             ],
             [
              0.8888888888888888,
              "#fdca26"
             ],
             [
              1,
              "#f0f921"
             ]
            ],
            "type": "histogram2dcontour"
           }
          ],
          "mesh3d": [
           {
            "colorbar": {
             "outlinewidth": 0,
             "ticks": ""
            },
            "type": "mesh3d"
           }
          ],
          "parcoords": [
           {
            "line": {
             "colorbar": {
              "outlinewidth": 0,
              "ticks": ""
             }
            },
            "type": "parcoords"
           }
          ],
          "pie": [
           {
            "automargin": true,
            "type": "pie"
           }
          ],
          "scatter": [
           {
            "fillpattern": {
             "fillmode": "overlay",
             "size": 10,
             "solidity": 0.2
            },
            "type": "scatter"
           }
          ],
          "scatter3d": [
           {
            "line": {
             "colorbar": {
              "outlinewidth": 0,
              "ticks": ""
             }
            },
            "marker": {
             "colorbar": {
              "outlinewidth": 0,
              "ticks": ""
             }
            },
            "type": "scatter3d"
           }
          ],
          "scattercarpet": [
           {
            "marker": {
             "colorbar": {
              "outlinewidth": 0,
              "ticks": ""
             }
            },
            "type": "scattercarpet"
           }
          ],
          "scattergeo": [
           {
            "marker": {
             "colorbar": {
              "outlinewidth": 0,
              "ticks": ""
             }
            },
            "type": "scattergeo"
           }
          ],
          "scattergl": [
           {
            "marker": {
             "colorbar": {
              "outlinewidth": 0,
              "ticks": ""
             }
            },
            "type": "scattergl"
           }
          ],
          "scattermap": [
           {
            "marker": {
             "colorbar": {
              "outlinewidth": 0,
              "ticks": ""
             }
            },
            "type": "scattermap"
           }
          ],
          "scattermapbox": [
           {
            "marker": {
             "colorbar": {
              "outlinewidth": 0,
              "ticks": ""
             }
            },
            "type": "scattermapbox"
           }
          ],
          "scatterpolar": [
           {
            "marker": {
             "colorbar": {
              "outlinewidth": 0,
              "ticks": ""
             }
            },
            "type": "scatterpolar"
           }
          ],
          "scatterpolargl": [
           {
            "marker": {
             "colorbar": {
              "outlinewidth": 0,
              "ticks": ""
             }
            },
            "type": "scatterpolargl"
           }
          ],
          "scatterternary": [
           {
            "marker": {
             "colorbar": {
              "outlinewidth": 0,
              "ticks": ""
             }
            },
            "type": "scatterternary"
           }
          ],
          "surface": [
           {
            "colorbar": {
             "outlinewidth": 0,
             "ticks": ""
            },
            "colorscale": [
             [
              0,
              "#0d0887"
             ],
             [
              0.1111111111111111,
              "#46039f"
             ],
             [
              0.2222222222222222,
              "#7201a8"
             ],
             [
              0.3333333333333333,
              "#9c179e"
             ],
             [
              0.4444444444444444,
              "#bd3786"
             ],
             [
              0.5555555555555556,
              "#d8576b"
             ],
             [
              0.6666666666666666,
              "#ed7953"
             ],
             [
              0.7777777777777778,
              "#fb9f3a"
             ],
             [
              0.8888888888888888,
              "#fdca26"
             ],
             [
              1,
              "#f0f921"
             ]
            ],
            "type": "surface"
           }
          ],
          "table": [
           {
            "cells": {
             "fill": {
              "color": "#EBF0F8"
             },
             "line": {
              "color": "white"
             }
            },
            "header": {
             "fill": {
              "color": "#C8D4E3"
             },
             "line": {
              "color": "white"
             }
            },
            "type": "table"
           }
          ]
         },
         "layout": {
          "annotationdefaults": {
           "arrowcolor": "#2a3f5f",
           "arrowhead": 0,
           "arrowwidth": 1
          },
          "autotypenumbers": "strict",
          "coloraxis": {
           "colorbar": {
            "outlinewidth": 0,
            "ticks": ""
           }
          },
          "colorscale": {
           "diverging": [
            [
             0,
             "#8e0152"
            ],
            [
             0.1,
             "#c51b7d"
            ],
            [
             0.2,
             "#de77ae"
            ],
            [
             0.3,
             "#f1b6da"
            ],
            [
             0.4,
             "#fde0ef"
            ],
            [
             0.5,
             "#f7f7f7"
            ],
            [
             0.6,
             "#e6f5d0"
            ],
            [
             0.7,
             "#b8e186"
            ],
            [
             0.8,
             "#7fbc41"
            ],
            [
             0.9,
             "#4d9221"
            ],
            [
             1,
             "#276419"
            ]
           ],
           "sequential": [
            [
             0,
             "#0d0887"
            ],
            [
             0.1111111111111111,
             "#46039f"
            ],
            [
             0.2222222222222222,
             "#7201a8"
            ],
            [
             0.3333333333333333,
             "#9c179e"
            ],
            [
             0.4444444444444444,
             "#bd3786"
            ],
            [
             0.5555555555555556,
             "#d8576b"
            ],
            [
             0.6666666666666666,
             "#ed7953"
            ],
            [
             0.7777777777777778,
             "#fb9f3a"
            ],
            [
             0.8888888888888888,
             "#fdca26"
            ],
            [
             1,
             "#f0f921"
            ]
           ],
           "sequentialminus": [
            [
             0,
             "#0d0887"
            ],
            [
             0.1111111111111111,
             "#46039f"
            ],
            [
             0.2222222222222222,
             "#7201a8"
            ],
            [
             0.3333333333333333,
             "#9c179e"
            ],
            [
             0.4444444444444444,
             "#bd3786"
            ],
            [
             0.5555555555555556,
             "#d8576b"
            ],
            [
             0.6666666666666666,
             "#ed7953"
            ],
            [
             0.7777777777777778,
             "#fb9f3a"
            ],
            [
             0.8888888888888888,
             "#fdca26"
            ],
            [
             1,
             "#f0f921"
            ]
           ]
          },
          "colorway": [
           "#636efa",
           "#EF553B",
           "#00cc96",
           "#ab63fa",
           "#FFA15A",
           "#19d3f3",
           "#FF6692",
           "#B6E880",
           "#FF97FF",
           "#FECB52"
          ],
          "font": {
           "color": "#2a3f5f"
          },
          "geo": {
           "bgcolor": "white",
           "lakecolor": "white",
           "landcolor": "#E5ECF6",
           "showlakes": true,
           "showland": true,
           "subunitcolor": "white"
          },
          "hoverlabel": {
           "align": "left"
          },
          "hovermode": "closest",
          "mapbox": {
           "style": "light"
          },
          "paper_bgcolor": "white",
          "plot_bgcolor": "#E5ECF6",
          "polar": {
           "angularaxis": {
            "gridcolor": "white",
            "linecolor": "white",
            "ticks": ""
           },
           "bgcolor": "#E5ECF6",
           "radialaxis": {
            "gridcolor": "white",
            "linecolor": "white",
            "ticks": ""
           }
          },
          "scene": {
           "xaxis": {
            "backgroundcolor": "#E5ECF6",
            "gridcolor": "white",
            "gridwidth": 2,
            "linecolor": "white",
            "showbackground": true,
            "ticks": "",
            "zerolinecolor": "white"
           },
           "yaxis": {
            "backgroundcolor": "#E5ECF6",
            "gridcolor": "white",
            "gridwidth": 2,
            "linecolor": "white",
            "showbackground": true,
            "ticks": "",
            "zerolinecolor": "white"
           },
           "zaxis": {
            "backgroundcolor": "#E5ECF6",
            "gridcolor": "white",
            "gridwidth": 2,
            "linecolor": "white",
            "showbackground": true,
            "ticks": "",
            "zerolinecolor": "white"
           }
          },
          "shapedefaults": {
           "line": {
            "color": "#2a3f5f"
           }
          },
          "ternary": {
           "aaxis": {
            "gridcolor": "white",
            "linecolor": "white",
            "ticks": ""
           },
           "baxis": {
            "gridcolor": "white",
            "linecolor": "white",
            "ticks": ""
           },
           "bgcolor": "#E5ECF6",
           "caxis": {
            "gridcolor": "white",
            "linecolor": "white",
            "ticks": ""
           }
          },
          "title": {
           "x": 0.05
          },
          "xaxis": {
           "automargin": true,
           "gridcolor": "white",
           "linecolor": "white",
           "ticks": "",
           "title": {
            "standoff": 15
           },
           "zerolinecolor": "white",
           "zerolinewidth": 2
          },
          "yaxis": {
           "automargin": true,
           "gridcolor": "white",
           "linecolor": "white",
           "ticks": "",
           "title": {
            "standoff": 15
           },
           "zerolinecolor": "white",
           "zerolinewidth": 2
          }
         }
        },
        "title": {
         "text": "Box plot of texture_mean by Diagnosis"
        },
        "width": 600,
        "xaxis": {
         "anchor": "y",
         "categoryarray": [
          1,
          0
         ],
         "categoryorder": "array",
         "domain": [
          0,
          1
         ],
         "gridcolor": "lightgray",
         "gridwidth": 1,
         "linecolor": "darkgray",
         "showgrid": true,
         "showline": true,
         "title": {
          "text": "diagnosis"
         }
        },
        "yaxis": {
         "anchor": "x",
         "domain": [
          0,
          1
         ],
         "gridcolor": "lightgray",
         "gridwidth": 1,
         "linecolor": "darkgray",
         "showgrid": true,
         "showline": true,
         "title": {
          "text": "texture_mean"
         }
        }
       }
      }
     },
     "metadata": {},
     "output_type": "display_data"
    },
    {
     "data": {
      "application/vnd.plotly.v1+json": {
       "config": {
        "plotlyServerURL": "https://plot.ly"
       },
       "data": [
        {
         "alignmentgroup": "True",
         "hovertemplate": "diagnosis=%{x}<br>perimeter_mean=%{y}<extra></extra>",
         "legendgroup": "1",
         "marker": {
          "color": "#ee8ef5"
         },
         "name": "1",
         "notched": false,
         "offsetgroup": "1",
         "orientation": "v",
         "showlegend": true,
         "type": "box",
         "x": {
          "bdata": "AQEBAQEBAQEBAQEBAQEBAQEBAQEBAQEBAQEBAQEBAQEBAQEBAQEBAQEBAQEBAQEBAQEBAQEBAQEBAQEBAQEBAQEBAQEBAQEBAQEBAQEBAQEBAQEBAQEBAQEBAQEBAQEBAQEBAQEBAQEBAQEBAQEBAQEBAQEBAQEBAQEBAQEBAQEBAQEBAQEBAQEBAQEBAQEBAQEBAQEBAQEBAQEBAQEBAQEBAQEBAQEBAQEBAQEBAQEBAQEBAQEBAQEBAQEBAQEBAQEBAQEBAQEBAQEBAQEBAQEBAQE=",
          "dtype": "i1"
         },
         "x0": " ",
         "xaxis": "x",
         "y": {
          "bdata": "MzMzMzOzXkDNzMzMzJxgQAAAAAAAQGBAhetRuB5lU0AzMzMzM+NgQBSuR+F6pFRAZmZmZmbmXUDNzMzMzIxWQAAAAAAA4FVArkfhehT+VEDNzMzMzKxZQGZmZmZm5llAzczMzMyMYEDNzMzMzOxZQGZmZmZmZldAH4XrUbguWECPwvUoXK9XQGZmZmZmBltAAAAAAABAYEAAAAAAAKBZQGZmZmZmJmFAAAAAAACAW0AAAAAAAABdQArXo3A9WlhAZmZmZmaGXkCamZmZmZlZQAAAAAAAwFxAMzMzMzMzX0DsUbgehXtTQDMzMzMzM1xAmpmZmZn5X0AAAAAAAMBaQGZmZmZmhltAuB6F61FoV0DD9Shcj+JXQJqZmZmZGVZA7FG4HoWLVUCamZmZmflRQJqZmZmZCWBAFK5H4XrUVUB7FK5H4VpVQM3MzMzM7F5AH4XrUbh+VUAzMzMzMxNeQHE9CtejUFhAAAAAAABgX0AzMzMzM+NXQHsUrkfhGlhAXI/C9SisVECamZmZmVlYQGZmZmZm5l5AzczMzMyMXEDsUbgehZtWQGZmZmZmBlpAzczMzMwMXkBmZmZmZvZhQAAAAAAAcGVAMzMzMzMjYEBmZmZmZkZeQAAAAAAAkFdAAAAAAACAXkDNzMzMzAxZQDMzMzMzE1lAzczMzMyMYEAfhetRuJ5XQDMzMzMzA1ZAPQrXo3DNVUCamZmZmRljQClcj8L1qFhAzczMzMxsWkDNzMzMzIxcQJqZmZmZWV5AZmZmZmbGZEBxPQrXo/BVQJqZmZmZ2V5AzczMzMxMYEDNzMzMzGxZQM3MzMzMjFpAzczMzMwMXkCuR+F6FG5UQGZmZmZmNlhAZmZmZmZGWkCPwvUoXL9TQJqZmZmZWV1AMzMzMzOTX0BmZmZmZlZgQDMzMzMzA2NAMzMzMzNTW0BmZmZmZgZdQPYoXI/CdVVAAAAAAACgWUAzMzMzM1NbQDMzMzMzw2ZAZmZmZmbWYUDNzMzMzExZQHsUrkfhulhAZmZmZmamXUBI4XoUrpdXQJqZmZmZSVRAmpmZmZkZWUC4HoXrUahWQJqZmZmZWV1AAAAAAADgX0CPwvUoXJ9XQGZmZmZmxlxAzczMzMzcY0CkcD0K1+NWQFK4HoXrsVhAzczMzMxsW0BmZmZmZtZgQAAAAAAAkGdAAAAAAACgXEBI4XoUrjdXQD0K16NwvVZAZmZmZmY2YEAAAAAAAABgQGZmZmZmpllAcT0K16NQVUCamZmZmVlcQM3MzMzMzGBAAAAAAAAwY0AAAAAAAJBgQJqZmZmZWVxAMzMzMzMjYEDNzMzMzFxhQGZmZmZmVmBAAAAAAABAXEAAAAAAAKBfQOxRuB6F21ZAMzMzMzOzYEDNzMzMzMxZQM3MzMzMjFtAzczMzMzsWUDNzMzMzJxgQAAAAAAAwFtAmpmZmZmZXEAAAAAAAABZQGZmZmZm5ltAZmZmZmb2YECamZmZmWliQM3MzMzMzFxAmpmZmZk5XkDNzMzMzIxfQM3MzMzMzF9AMzMzMzMzW0AAAAAAAMBSQAAAAAAAMGBAZmZmZmbWYEDNzMzMzKxdQDMzMzMzY2BAzczMzMz8YECamZmZmblaQAAAAAAA4FpAMzMzMzNzWkAzMzMzM/NbQJqZmZmZuV5AMzMzMzNjY0DNzMzMzDxgQGZmZmZmxlpAZmZmZmbGZUAAAAAAAIBYQJqZmZmZuWBAZmZmZma2YEDNzMzMzJxhQGZmZmZmZmJAAAAAAABAW0CamZmZmalhQJqZmZmZ2WBAMzMzMzNTUkCuR+F6FH5XQM3MzMzMHGBAmpmZmZmZWUDNzMzMzAxiQJqZmZmZGV9AMzMzMzNzXUA9CtejcC1YQJqZmZmZuVlAZmZmZmaGWUCamZmZmblgQM3MzMzM7F5ASOF6FK7HVkCamZmZmRlcQAAAAAAAYF1AMzMzMzNTXUAzMzMzM0NhQM3MzMzM7F9AzczMzMzMW0DNzMzMzFxnQAAAAAAAwF1AMzMzMzNzW0AzMzMzMwNgQGZmZmZmxlpAmpmZmZmZXUAzMzMzM1NeQJqZmZmZOWFAhetRuB4VV0AzMzMzMwNjQDMzMzMz81lAKVyPwvUoVkBxPQrXo1BYQDMzMzMzM15AAAAAAABQYEAAAAAAALBkQGZmZmZm1mBAmpmZmZk5YUDhehSuR3FXQJqZmZmZ2VlAAAAAAADgYUAAAAAAAMBhQGZmZmZmZmBAMzMzMzMTW0AzMzMzM4NhQA==",
          "dtype": "f8"
         },
         "y0": " ",
         "yaxis": "y"
        },
        {
         "alignmentgroup": "True",
         "hovertemplate": "diagnosis=%{x}<br>perimeter_mean=%{y}<extra></extra>",
         "legendgroup": "0",
         "marker": {
          "color": "rgb(50, 80, 168)"
         },
         "name": "0",
         "notched": false,
         "offsetgroup": "0",
         "orientation": "v",
         "showlegend": true,
         "type": "box",
         "x": {
          "bdata": "AAAAAAAAAAAAAAAAAAAAAAAAAAAAAAAAAAAAAAAAAAAAAAAAAAAAAAAAAAAAAAAAAAAAAAAAAAAAAAAAAAAAAAAAAAAAAAAAAAAAAAAAAAAAAAAAAAAAAAAAAAAAAAAAAAAAAAAAAAAAAAAAAAAAAAAAAAAAAAAAAAAAAAAAAAAAAAAAAAAAAAAAAAAAAAAAAAAAAAAAAAAAAAAAAAAAAAAAAAAAAAAAAAAAAAAAAAAAAAAAAAAAAAAAAAAAAAAAAAAAAAAAAAAAAAAAAAAAAAAAAAAAAAAAAAAAAAAAAAAAAAAAAAAAAAAAAAAAAAAAAAAAAAAAAAAAAAAAAAAAAAAAAAAAAAAAAAAAAAAAAAAAAAAAAAAAAAAAAAAAAAAAAAAAAAAAAAAAAAAAAAAAAAAAAAAAAAAAAAAAAAAAAAAAAAAAAAAAAAAAAAAAAAAAAAAAAAAAAAAAAAAAAAAAAAAAAAAA",
          "dtype": "i1"
         },
         "x0": " ",
         "xaxis": "x",
         "y": {
          "bdata": "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",
          "dtype": "f8"
         },
         "y0": " ",
         "yaxis": "y"
        }
       ],
       "layout": {
        "boxmode": "overlay",
        "font": {
         "color": "darkblue",
         "family": "Arial, Courier New, monospace",
         "size": 12
        },
        "height": 400,
        "legend": {
         "title": {
          "text": "diagnosis"
         },
         "tracegroupgap": 0
        },
        "margin": {
         "t": 60
        },
        "plot_bgcolor": "white",
        "template": {
         "data": {
          "bar": [
           {
            "error_x": {
             "color": "#2a3f5f"
            },
            "error_y": {
             "color": "#2a3f5f"
            },
            "marker": {
             "line": {
              "color": "#E5ECF6",
              "width": 0.5
             },
             "pattern": {
              "fillmode": "overlay",
              "size": 10,
              "solidity": 0.2
             }
            },
            "type": "bar"
           }
          ],
          "barpolar": [
           {
            "marker": {
             "line": {
              "color": "#E5ECF6",
              "width": 0.5
             },
             "pattern": {
              "fillmode": "overlay",
              "size": 10,
              "solidity": 0.2
             }
            },
            "type": "barpolar"
           }
          ],
          "carpet": [
           {
            "aaxis": {
             "endlinecolor": "#2a3f5f",
             "gridcolor": "white",
             "linecolor": "white",
             "minorgridcolor": "white",
             "startlinecolor": "#2a3f5f"
            },
            "baxis": {
             "endlinecolor": "#2a3f5f",
             "gridcolor": "white",
             "linecolor": "white",
             "minorgridcolor": "white",
             "startlinecolor": "#2a3f5f"
            },
            "type": "carpet"
           }
          ],
          "choropleth": [
           {
            "colorbar": {
             "outlinewidth": 0,
             "ticks": ""
            },
            "type": "choropleth"
           }
          ],
          "contour": [
           {
            "colorbar": {
             "outlinewidth": 0,
             "ticks": ""
            },
            "colorscale": [
             [
              0,
              "#0d0887"
             ],
             [
              0.1111111111111111,
              "#46039f"
             ],
             [
              0.2222222222222222,
              "#7201a8"
             ],
             [
              0.3333333333333333,
              "#9c179e"
             ],
             [
              0.4444444444444444,
              "#bd3786"
             ],
             [
              0.5555555555555556,
              "#d8576b"
             ],
             [
              0.6666666666666666,
              "#ed7953"
             ],
             [
              0.7777777777777778,
              "#fb9f3a"
             ],
             [
              0.8888888888888888,
              "#fdca26"
             ],
             [
              1,
              "#f0f921"
             ]
            ],
            "type": "contour"
           }
          ],
          "contourcarpet": [
           {
            "colorbar": {
             "outlinewidth": 0,
             "ticks": ""
            },
            "type": "contourcarpet"
           }
          ],
          "heatmap": [
           {
            "colorbar": {
             "outlinewidth": 0,
             "ticks": ""
            },
            "colorscale": [
             [
              0,
              "#0d0887"
             ],
             [
              0.1111111111111111,
              "#46039f"
             ],
             [
              0.2222222222222222,
              "#7201a8"
             ],
             [
              0.3333333333333333,
              "#9c179e"
             ],
             [
              0.4444444444444444,
              "#bd3786"
             ],
             [
              0.5555555555555556,
              "#d8576b"
             ],
             [
              0.6666666666666666,
              "#ed7953"
             ],
             [
              0.7777777777777778,
              "#fb9f3a"
             ],
             [
              0.8888888888888888,
              "#fdca26"
             ],
             [
              1,
              "#f0f921"
             ]
            ],
            "type": "heatmap"
           }
          ],
          "histogram": [
           {
            "marker": {
             "pattern": {
              "fillmode": "overlay",
              "size": 10,
              "solidity": 0.2
             }
            },
            "type": "histogram"
           }
          ],
          "histogram2d": [
           {
            "colorbar": {
             "outlinewidth": 0,
             "ticks": ""
            },
            "colorscale": [
             [
              0,
              "#0d0887"
             ],
             [
              0.1111111111111111,
              "#46039f"
             ],
             [
              0.2222222222222222,
              "#7201a8"
             ],
             [
              0.3333333333333333,
              "#9c179e"
             ],
             [
              0.4444444444444444,
              "#bd3786"
             ],
             [
              0.5555555555555556,
              "#d8576b"
             ],
             [
              0.6666666666666666,
              "#ed7953"
             ],
             [
              0.7777777777777778,
              "#fb9f3a"
             ],
             [
              0.8888888888888888,
              "#fdca26"
             ],
             [
              1,
              "#f0f921"
             ]
            ],
            "type": "histogram2d"
           }
          ],
          "histogram2dcontour": [
           {
            "colorbar": {
             "outlinewidth": 0,
             "ticks": ""
            },
            "colorscale": [
             [
              0,
              "#0d0887"
             ],
             [
              0.1111111111111111,
              "#46039f"
             ],
             [
              0.2222222222222222,
              "#7201a8"
             ],
             [
              0.3333333333333333,
              "#9c179e"
             ],
             [
              0.4444444444444444,
              "#bd3786"
             ],
             [
              0.5555555555555556,
              "#d8576b"
             ],
             [
              0.6666666666666666,
              "#ed7953"
             ],
             [
              0.7777777777777778,
              "#fb9f3a"
             ],
             [
              0.8888888888888888,
              "#fdca26"
             ],
             [
              1,
              "#f0f921"
             ]
            ],
            "type": "histogram2dcontour"
           }
          ],
          "mesh3d": [
           {
            "colorbar": {
             "outlinewidth": 0,
             "ticks": ""
            },
            "type": "mesh3d"
           }
          ],
          "parcoords": [
           {
            "line": {
             "colorbar": {
              "outlinewidth": 0,
              "ticks": ""
             }
            },
            "type": "parcoords"
           }
          ],
          "pie": [
           {
            "automargin": true,
            "type": "pie"
           }
          ],
          "scatter": [
           {
            "fillpattern": {
             "fillmode": "overlay",
             "size": 10,
             "solidity": 0.2
            },
            "type": "scatter"
           }
          ],
          "scatter3d": [
           {
            "line": {
             "colorbar": {
              "outlinewidth": 0,
              "ticks": ""
             }
            },
            "marker": {
             "colorbar": {
              "outlinewidth": 0,
              "ticks": ""
             }
            },
            "type": "scatter3d"
           }
          ],
          "scattercarpet": [
           {
            "marker": {
             "colorbar": {
              "outlinewidth": 0,
              "ticks": ""
             }
            },
            "type": "scattercarpet"
           }
          ],
          "scattergeo": [
           {
            "marker": {
             "colorbar": {
              "outlinewidth": 0,
              "ticks": ""
             }
            },
            "type": "scattergeo"
           }
          ],
          "scattergl": [
           {
            "marker": {
             "colorbar": {
              "outlinewidth": 0,
              "ticks": ""
             }
            },
            "type": "scattergl"
           }
          ],
          "scattermap": [
           {
            "marker": {
             "colorbar": {
              "outlinewidth": 0,
              "ticks": ""
             }
            },
            "type": "scattermap"
           }
          ],
          "scattermapbox": [
           {
            "marker": {
             "colorbar": {
              "outlinewidth": 0,
              "ticks": ""
             }
            },
            "type": "scattermapbox"
           }
          ],
          "scatterpolar": [
           {
            "marker": {
             "colorbar": {
              "outlinewidth": 0,
              "ticks": ""
             }
            },
            "type": "scatterpolar"
           }
          ],
          "scatterpolargl": [
           {
            "marker": {
             "colorbar": {
              "outlinewidth": 0,
              "ticks": ""
             }
            },
            "type": "scatterpolargl"
           }
          ],
          "scatterternary": [
           {
            "marker": {
             "colorbar": {
              "outlinewidth": 0,
              "ticks": ""
             }
            },
            "type": "scatterternary"
           }
          ],
          "surface": [
           {
            "colorbar": {
             "outlinewidth": 0,
             "ticks": ""
            },
            "colorscale": [
             [
              0,
              "#0d0887"
             ],
             [
              0.1111111111111111,
              "#46039f"
             ],
             [
              0.2222222222222222,
              "#7201a8"
             ],
             [
              0.3333333333333333,
              "#9c179e"
             ],
             [
              0.4444444444444444,
              "#bd3786"
             ],
             [
              0.5555555555555556,
              "#d8576b"
             ],
             [
              0.6666666666666666,
              "#ed7953"
             ],
             [
              0.7777777777777778,
              "#fb9f3a"
             ],
             [
              0.8888888888888888,
              "#fdca26"
             ],
             [
              1,
              "#f0f921"
             ]
            ],
            "type": "surface"
           }
          ],
          "table": [
           {
            "cells": {
             "fill": {
              "color": "#EBF0F8"
             },
             "line": {
              "color": "white"
             }
            },
            "header": {
             "fill": {
              "color": "#C8D4E3"
             },
             "line": {
              "color": "white"
             }
            },
            "type": "table"
           }
          ]
         },
         "layout": {
          "annotationdefaults": {
           "arrowcolor": "#2a3f5f",
           "arrowhead": 0,
           "arrowwidth": 1
          },
          "autotypenumbers": "strict",
          "coloraxis": {
           "colorbar": {
            "outlinewidth": 0,
            "ticks": ""
           }
          },
          "colorscale": {
           "diverging": [
            [
             0,
             "#8e0152"
            ],
            [
             0.1,
             "#c51b7d"
            ],
            [
             0.2,
             "#de77ae"
            ],
            [
             0.3,
             "#f1b6da"
            ],
            [
             0.4,
             "#fde0ef"
            ],
            [
             0.5,
             "#f7f7f7"
            ],
            [
             0.6,
             "#e6f5d0"
            ],
            [
             0.7,
             "#b8e186"
            ],
            [
             0.8,
             "#7fbc41"
            ],
            [
             0.9,
             "#4d9221"
            ],
            [
             1,
             "#276419"
            ]
           ],
           "sequential": [
            [
             0,
             "#0d0887"
            ],
            [
             0.1111111111111111,
             "#46039f"
            ],
            [
             0.2222222222222222,
             "#7201a8"
            ],
            [
             0.3333333333333333,
             "#9c179e"
            ],
            [
             0.4444444444444444,
             "#bd3786"
            ],
            [
             0.5555555555555556,
             "#d8576b"
            ],
            [
             0.6666666666666666,
             "#ed7953"
            ],
            [
             0.7777777777777778,
             "#fb9f3a"
            ],
            [
             0.8888888888888888,
             "#fdca26"
            ],
            [
             1,
             "#f0f921"
            ]
           ],
           "sequentialminus": [
            [
             0,
             "#0d0887"
            ],
            [
             0.1111111111111111,
             "#46039f"
            ],
            [
             0.2222222222222222,
             "#7201a8"
            ],
            [
             0.3333333333333333,
             "#9c179e"
            ],
            [
             0.4444444444444444,
             "#bd3786"
            ],
            [
             0.5555555555555556,
             "#d8576b"
            ],
            [
             0.6666666666666666,
             "#ed7953"
            ],
            [
             0.7777777777777778,
             "#fb9f3a"
            ],
            [
             0.8888888888888888,
             "#fdca26"
            ],
            [
             1,
             "#f0f921"
            ]
           ]
          },
          "colorway": [
           "#636efa",
           "#EF553B",
           "#00cc96",
           "#ab63fa",
           "#FFA15A",
           "#19d3f3",
           "#FF6692",
           "#B6E880",
           "#FF97FF",
           "#FECB52"
          ],
          "font": {
           "color": "#2a3f5f"
          },
          "geo": {
           "bgcolor": "white",
           "lakecolor": "white",
           "landcolor": "#E5ECF6",
           "showlakes": true,
           "showland": true,
           "subunitcolor": "white"
          },
          "hoverlabel": {
           "align": "left"
          },
          "hovermode": "closest",
          "mapbox": {
           "style": "light"
          },
          "paper_bgcolor": "white",
          "plot_bgcolor": "#E5ECF6",
          "polar": {
           "angularaxis": {
            "gridcolor": "white",
            "linecolor": "white",
            "ticks": ""
           },
           "bgcolor": "#E5ECF6",
           "radialaxis": {
            "gridcolor": "white",
            "linecolor": "white",
            "ticks": ""
           }
          },
          "scene": {
           "xaxis": {
            "backgroundcolor": "#E5ECF6",
            "gridcolor": "white",
            "gridwidth": 2,
            "linecolor": "white",
            "showbackground": true,
            "ticks": "",
            "zerolinecolor": "white"
           },
           "yaxis": {
            "backgroundcolor": "#E5ECF6",
            "gridcolor": "white",
            "gridwidth": 2,
            "linecolor": "white",
            "showbackground": true,
            "ticks": "",
            "zerolinecolor": "white"
           },
           "zaxis": {
            "backgroundcolor": "#E5ECF6",
            "gridcolor": "white",
            "gridwidth": 2,
            "linecolor": "white",
            "showbackground": true,
            "ticks": "",
            "zerolinecolor": "white"
           }
          },
          "shapedefaults": {
           "line": {
            "color": "#2a3f5f"
           }
          },
          "ternary": {
           "aaxis": {
            "gridcolor": "white",
            "linecolor": "white",
            "ticks": ""
           },
           "baxis": {
            "gridcolor": "white",
            "linecolor": "white",
            "ticks": ""
           },
           "bgcolor": "#E5ECF6",
           "caxis": {
            "gridcolor": "white",
            "linecolor": "white",
            "ticks": ""
           }
          },
          "title": {
           "x": 0.05
          },
          "xaxis": {
           "automargin": true,
           "gridcolor": "white",
           "linecolor": "white",
           "ticks": "",
           "title": {
            "standoff": 15
           },
           "zerolinecolor": "white",
           "zerolinewidth": 2
          },
          "yaxis": {
           "automargin": true,
           "gridcolor": "white",
           "linecolor": "white",
           "ticks": "",
           "title": {
            "standoff": 15
           },
           "zerolinecolor": "white",
           "zerolinewidth": 2
          }
         }
        },
        "title": {
         "text": "Box plot of perimeter_mean by Diagnosis"
        },
        "width": 600,
        "xaxis": {
         "anchor": "y",
         "categoryarray": [
          1,
          0
         ],
         "categoryorder": "array",
         "domain": [
          0,
          1
         ],
         "gridcolor": "lightgray",
         "gridwidth": 1,
         "linecolor": "darkgray",
         "showgrid": true,
         "showline": true,
         "title": {
          "text": "diagnosis"
         }
        },
        "yaxis": {
         "anchor": "x",
         "domain": [
          0,
          1
         ],
         "gridcolor": "lightgray",
         "gridwidth": 1,
         "linecolor": "darkgray",
         "showgrid": true,
         "showline": true,
         "title": {
          "text": "perimeter_mean"
         }
        }
       }
      }
     },
     "metadata": {},
     "output_type": "display_data"
    }
   ],
   "source": [
    "columns_to_plot = ['radius_mean', 'texture_mean', 'perimeter_mean']\n",
    "\n",
    "for column in columns_to_plot:\n",
    "    fig = px.box(df, x=\"diagnosis\", \n",
    "                 y=column, \n",
    "                 color=\"diagnosis\", \n",
    "                 color_discrete_map={\n",
    "                                0: 'rgb(50, 80, 168)',     \n",
    "                                1: '#ee8ef5'}\n",
    "    )\n",
    "    fig.update_layout(\n",
    "        title=dict(text=f\"Box plot of {column} by Diagnosis\"),\n",
    "        width=800,\n",
    "        height=400\n",
    "    )\n",
    "    fig.update_layout(\n",
    "    width=600,\n",
    "    height=400,\n",
    "    font=dict(\n",
    "        family=\"Arial, Courier New, monospace\",  # font family\n",
    "        size=12,                                 # font size (pixels)\n",
    "        color=\"darkblue\"                         # font color\n",
    "    )\n",
    "    )\n",
    "\n",
    "    fig.update_layout(\n",
    "        plot_bgcolor='white',\n",
    "        xaxis=dict(\n",
    "            showline=True,            # show axis line\n",
    "            linecolor='darkgray',        # axis line color\n",
    "            showgrid=True,            # show grid lines\n",
    "            gridcolor='lightgray',    # grid line color\n",
    "            gridwidth=1\n",
    "        ),\n",
    "        yaxis=dict(\n",
    "            showline=True,\n",
    "            linecolor='darkgray',\n",
    "            showgrid=True,\n",
    "            gridcolor='lightgray',\n",
    "            gridwidth=1\n",
    "        )\n",
    "    )\n",
    "    fig.show()\n",
    "    # filename = f\"temp_fig_{column}.pdf\"\n",
    "    # fig.write_image(filename)"
   ]
  },
  {
   "cell_type": "code",
   "execution_count": 117,
   "metadata": {},
   "outputs": [
    {
     "data": {
      "application/vnd.plotly.v1+json": {
       "config": {
        "plotlyServerURL": "https://plot.ly"
       },
       "data": [
        {
         "colorscale": [
          [
           0,
           "rgb(243, 224, 247)"
          ],
          [
           0.16666666666666666,
           "rgb(228, 199, 241)"
          ],
          [
           0.3333333333333333,
           "rgb(209, 175, 232)"
          ],
          [
           0.5,
           "rgb(185, 152, 221)"
          ],
          [
           0.6666666666666666,
           "rgb(159, 130, 206)"
          ],
          [
           0.8333333333333334,
           "rgb(130, 109, 186)"
          ],
          [
           1,
           "rgb(99, 88, 159)"
          ]
         ],
         "showscale": true,
         "text": {
          "bdata": "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",
          "dtype": "f8",
          "shape": "32, 32"
         },
         "texttemplate": "%{z:.2f}",
         "type": "heatmap",
         "x": [
          "id",
          "diagnosis",
          "radius_mean",
          "texture_mean",
          "perimeter_mean",
          "area_mean",
          "smoothness_mean",
          "compactness_mean",
          "concavity_mean",
          "concave points_mean",
          "symmetry_mean",
          "fractal_dimension_mean",
          "radius_se",
          "texture_se",
          "perimeter_se",
          "area_se",
          "smoothness_se",
          "compactness_se",
          "concavity_se",
          "concave points_se",
          "symmetry_se",
          "fractal_dimension_se",
          "radius_worst",
          "texture_worst",
          "perimeter_worst",
          "area_worst",
          "smoothness_worst",
          "compactness_worst",
          "concavity_worst",
          "concave points_worst",
          "symmetry_worst",
          "fractal_dimension_worst"
         ],
         "y": [
          "id",
          "diagnosis",
          "radius_mean",
          "texture_mean",
          "perimeter_mean",
          "area_mean",
          "smoothness_mean",
          "compactness_mean",
          "concavity_mean",
          "concave points_mean",
          "symmetry_mean",
          "fractal_dimension_mean",
          "radius_se",
          "texture_se",
          "perimeter_se",
          "area_se",
          "smoothness_se",
          "compactness_se",
          "concavity_se",
          "concave points_se",
          "symmetry_se",
          "fractal_dimension_se",
          "radius_worst",
          "texture_worst",
          "perimeter_worst",
          "area_worst",
          "smoothness_worst",
          "compactness_worst",
          "concavity_worst",
          "concave points_worst",
          "symmetry_worst",
          "fractal_dimension_worst"
         ],
         "z": {
          "bdata": "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",
          "dtype": "f8",
          "shape": "32, 32"
         }
        }
       ],
       "layout": {
        "font": {
         "color": "darkblue",
         "family": "Arial, Courier New, monospace",
         "size": 12
        },
        "height": 800,
        "template": {
         "data": {
          "bar": [
           {
            "error_x": {
             "color": "#2a3f5f"
            },
            "error_y": {
             "color": "#2a3f5f"
            },
            "marker": {
             "line": {
              "color": "#E5ECF6",
              "width": 0.5
             },
             "pattern": {
              "fillmode": "overlay",
              "size": 10,
              "solidity": 0.2
             }
            },
            "type": "bar"
           }
          ],
          "barpolar": [
           {
            "marker": {
             "line": {
              "color": "#E5ECF6",
              "width": 0.5
             },
             "pattern": {
              "fillmode": "overlay",
              "size": 10,
              "solidity": 0.2
             }
            },
            "type": "barpolar"
           }
          ],
          "carpet": [
           {
            "aaxis": {
             "endlinecolor": "#2a3f5f",
             "gridcolor": "white",
             "linecolor": "white",
             "minorgridcolor": "white",
             "startlinecolor": "#2a3f5f"
            },
            "baxis": {
             "endlinecolor": "#2a3f5f",
             "gridcolor": "white",
             "linecolor": "white",
             "minorgridcolor": "white",
             "startlinecolor": "#2a3f5f"
            },
            "type": "carpet"
           }
          ],
          "choropleth": [
           {
            "colorbar": {
             "outlinewidth": 0,
             "ticks": ""
            },
            "type": "choropleth"
           }
          ],
          "contour": [
           {
            "colorbar": {
             "outlinewidth": 0,
             "ticks": ""
            },
            "colorscale": [
             [
              0,
              "#0d0887"
             ],
             [
              0.1111111111111111,
              "#46039f"
             ],
             [
              0.2222222222222222,
              "#7201a8"
             ],
             [
              0.3333333333333333,
              "#9c179e"
             ],
             [
              0.4444444444444444,
              "#bd3786"
             ],
             [
              0.5555555555555556,
              "#d8576b"
             ],
             [
              0.6666666666666666,
              "#ed7953"
             ],
             [
              0.7777777777777778,
              "#fb9f3a"
             ],
             [
              0.8888888888888888,
              "#fdca26"
             ],
             [
              1,
              "#f0f921"
             ]
            ],
            "type": "contour"
           }
          ],
          "contourcarpet": [
           {
            "colorbar": {
             "outlinewidth": 0,
             "ticks": ""
            },
            "type": "contourcarpet"
           }
          ],
          "heatmap": [
           {
            "colorbar": {
             "outlinewidth": 0,
             "ticks": ""
            },
            "colorscale": [
             [
              0,
              "#0d0887"
             ],
             [
              0.1111111111111111,
              "#46039f"
             ],
             [
              0.2222222222222222,
              "#7201a8"
             ],
             [
              0.3333333333333333,
              "#9c179e"
             ],
             [
              0.4444444444444444,
              "#bd3786"
             ],
             [
              0.5555555555555556,
              "#d8576b"
             ],
             [
              0.6666666666666666,
              "#ed7953"
             ],
             [
              0.7777777777777778,
              "#fb9f3a"
             ],
             [
              0.8888888888888888,
              "#fdca26"
             ],
             [
              1,
              "#f0f921"
             ]
            ],
            "type": "heatmap"
           }
          ],
          "histogram": [
           {
            "marker": {
             "pattern": {
              "fillmode": "overlay",
              "size": 10,
              "solidity": 0.2
             }
            },
            "type": "histogram"
           }
          ],
          "histogram2d": [
           {
            "colorbar": {
             "outlinewidth": 0,
             "ticks": ""
            },
            "colorscale": [
             [
              0,
              "#0d0887"
             ],
             [
              0.1111111111111111,
              "#46039f"
             ],
             [
              0.2222222222222222,
              "#7201a8"
             ],
             [
              0.3333333333333333,
              "#9c179e"
             ],
             [
              0.4444444444444444,
              "#bd3786"
             ],
             [
              0.5555555555555556,
              "#d8576b"
             ],
             [
              0.6666666666666666,
              "#ed7953"
             ],
             [
              0.7777777777777778,
              "#fb9f3a"
             ],
             [
              0.8888888888888888,
              "#fdca26"
             ],
             [
              1,
              "#f0f921"
             ]
            ],
            "type": "histogram2d"
           }
          ],
          "histogram2dcontour": [
           {
            "colorbar": {
             "outlinewidth": 0,
             "ticks": ""
            },
            "colorscale": [
             [
              0,
              "#0d0887"
             ],
             [
              0.1111111111111111,
              "#46039f"
             ],
             [
              0.2222222222222222,
              "#7201a8"
             ],
             [
              0.3333333333333333,
              "#9c179e"
             ],
             [
              0.4444444444444444,
              "#bd3786"
             ],
             [
              0.5555555555555556,
              "#d8576b"
             ],
             [
              0.6666666666666666,
              "#ed7953"
             ],
             [
              0.7777777777777778,
              "#fb9f3a"
             ],
             [
              0.8888888888888888,
              "#fdca26"
             ],
             [
              1,
              "#f0f921"
             ]
            ],
            "type": "histogram2dcontour"
           }
          ],
          "mesh3d": [
           {
            "colorbar": {
             "outlinewidth": 0,
             "ticks": ""
            },
            "type": "mesh3d"
           }
          ],
          "parcoords": [
           {
            "line": {
             "colorbar": {
              "outlinewidth": 0,
              "ticks": ""
             }
            },
            "type": "parcoords"
           }
          ],
          "pie": [
           {
            "automargin": true,
            "type": "pie"
           }
          ],
          "scatter": [
           {
            "fillpattern": {
             "fillmode": "overlay",
             "size": 10,
             "solidity": 0.2
            },
            "type": "scatter"
           }
          ],
          "scatter3d": [
           {
            "line": {
             "colorbar": {
              "outlinewidth": 0,
              "ticks": ""
             }
            },
            "marker": {
             "colorbar": {
              "outlinewidth": 0,
              "ticks": ""
             }
            },
            "type": "scatter3d"
           }
          ],
          "scattercarpet": [
           {
            "marker": {
             "colorbar": {
              "outlinewidth": 0,
              "ticks": ""
             }
            },
            "type": "scattercarpet"
           }
          ],
          "scattergeo": [
           {
            "marker": {
             "colorbar": {
              "outlinewidth": 0,
              "ticks": ""
             }
            },
            "type": "scattergeo"
           }
          ],
          "scattergl": [
           {
            "marker": {
             "colorbar": {
              "outlinewidth": 0,
              "ticks": ""
             }
            },
            "type": "scattergl"
           }
          ],
          "scattermap": [
           {
            "marker": {
             "colorbar": {
              "outlinewidth": 0,
              "ticks": ""
             }
            },
            "type": "scattermap"
           }
          ],
          "scattermapbox": [
           {
            "marker": {
             "colorbar": {
              "outlinewidth": 0,
              "ticks": ""
             }
            },
            "type": "scattermapbox"
           }
          ],
          "scatterpolar": [
           {
            "marker": {
             "colorbar": {
              "outlinewidth": 0,
              "ticks": ""
             }
            },
            "type": "scatterpolar"
           }
          ],
          "scatterpolargl": [
           {
            "marker": {
             "colorbar": {
              "outlinewidth": 0,
              "ticks": ""
             }
            },
            "type": "scatterpolargl"
           }
          ],
          "scatterternary": [
           {
            "marker": {
             "colorbar": {
              "outlinewidth": 0,
              "ticks": ""
             }
            },
            "type": "scatterternary"
           }
          ],
          "surface": [
           {
            "colorbar": {
             "outlinewidth": 0,
             "ticks": ""
            },
            "colorscale": [
             [
              0,
              "#0d0887"
             ],
             [
              0.1111111111111111,
              "#46039f"
             ],
             [
              0.2222222222222222,
              "#7201a8"
             ],
             [
              0.3333333333333333,
              "#9c179e"
             ],
             [
              0.4444444444444444,
              "#bd3786"
             ],
             [
              0.5555555555555556,
              "#d8576b"
             ],
             [
              0.6666666666666666,
              "#ed7953"
             ],
             [
              0.7777777777777778,
              "#fb9f3a"
             ],
             [
              0.8888888888888888,
              "#fdca26"
             ],
             [
              1,
              "#f0f921"
             ]
            ],
            "type": "surface"
           }
          ],
          "table": [
           {
            "cells": {
             "fill": {
              "color": "#EBF0F8"
             },
             "line": {
              "color": "white"
             }
            },
            "header": {
             "fill": {
              "color": "#C8D4E3"
             },
             "line": {
              "color": "white"
             }
            },
            "type": "table"
           }
          ]
         },
         "layout": {
          "annotationdefaults": {
           "arrowcolor": "#2a3f5f",
           "arrowhead": 0,
           "arrowwidth": 1
          },
          "autotypenumbers": "strict",
          "coloraxis": {
           "colorbar": {
            "outlinewidth": 0,
            "ticks": ""
           }
          },
          "colorscale": {
           "diverging": [
            [
             0,
             "#8e0152"
            ],
            [
             0.1,
             "#c51b7d"
            ],
            [
             0.2,
             "#de77ae"
            ],
            [
             0.3,
             "#f1b6da"
            ],
            [
             0.4,
             "#fde0ef"
            ],
            [
             0.5,
             "#f7f7f7"
            ],
            [
             0.6,
             "#e6f5d0"
            ],
            [
             0.7,
             "#b8e186"
            ],
            [
             0.8,
             "#7fbc41"
            ],
            [
             0.9,
             "#4d9221"
            ],
            [
             1,
             "#276419"
            ]
           ],
           "sequential": [
            [
             0,
             "#0d0887"
            ],
            [
             0.1111111111111111,
             "#46039f"
            ],
            [
             0.2222222222222222,
             "#7201a8"
            ],
            [
             0.3333333333333333,
             "#9c179e"
            ],
            [
             0.4444444444444444,
             "#bd3786"
            ],
            [
             0.5555555555555556,
             "#d8576b"
            ],
            [
             0.6666666666666666,
             "#ed7953"
            ],
            [
             0.7777777777777778,
             "#fb9f3a"
            ],
            [
             0.8888888888888888,
             "#fdca26"
            ],
            [
             1,
             "#f0f921"
            ]
           ],
           "sequentialminus": [
            [
             0,
             "#0d0887"
            ],
            [
             0.1111111111111111,
             "#46039f"
            ],
            [
             0.2222222222222222,
             "#7201a8"
            ],
            [
             0.3333333333333333,
             "#9c179e"
            ],
            [
             0.4444444444444444,
             "#bd3786"
            ],
            [
             0.5555555555555556,
             "#d8576b"
            ],
            [
             0.6666666666666666,
             "#ed7953"
            ],
            [
             0.7777777777777778,
             "#fb9f3a"
            ],
            [
             0.8888888888888888,
             "#fdca26"
            ],
            [
             1,
             "#f0f921"
            ]
           ]
          },
          "colorway": [
           "#636efa",
           "#EF553B",
           "#00cc96",
           "#ab63fa",
           "#FFA15A",
           "#19d3f3",
           "#FF6692",
           "#B6E880",
           "#FF97FF",
           "#FECB52"
          ],
          "font": {
           "color": "#2a3f5f"
          },
          "geo": {
           "bgcolor": "white",
           "lakecolor": "white",
           "landcolor": "#E5ECF6",
           "showlakes": true,
           "showland": true,
           "subunitcolor": "white"
          },
          "hoverlabel": {
           "align": "left"
          },
          "hovermode": "closest",
          "mapbox": {
           "style": "light"
          },
          "paper_bgcolor": "white",
          "plot_bgcolor": "#E5ECF6",
          "polar": {
           "angularaxis": {
            "gridcolor": "white",
            "linecolor": "white",
            "ticks": ""
           },
           "bgcolor": "#E5ECF6",
           "radialaxis": {
            "gridcolor": "white",
            "linecolor": "white",
            "ticks": ""
           }
          },
          "scene": {
           "xaxis": {
            "backgroundcolor": "#E5ECF6",
            "gridcolor": "white",
            "gridwidth": 2,
            "linecolor": "white",
            "showbackground": true,
            "ticks": "",
            "zerolinecolor": "white"
           },
           "yaxis": {
            "backgroundcolor": "#E5ECF6",
            "gridcolor": "white",
            "gridwidth": 2,
            "linecolor": "white",
            "showbackground": true,
            "ticks": "",
            "zerolinecolor": "white"
           },
           "zaxis": {
            "backgroundcolor": "#E5ECF6",
            "gridcolor": "white",
            "gridwidth": 2,
            "linecolor": "white",
            "showbackground": true,
            "ticks": "",
            "zerolinecolor": "white"
           }
          },
          "shapedefaults": {
           "line": {
            "color": "#2a3f5f"
           }
          },
          "ternary": {
           "aaxis": {
            "gridcolor": "white",
            "linecolor": "white",
            "ticks": ""
           },
           "baxis": {
            "gridcolor": "white",
            "linecolor": "white",
            "ticks": ""
           },
           "bgcolor": "#E5ECF6",
           "caxis": {
            "gridcolor": "white",
            "linecolor": "white",
            "ticks": ""
           }
          },
          "title": {
           "x": 0.05
          },
          "xaxis": {
           "automargin": true,
           "gridcolor": "white",
           "linecolor": "white",
           "ticks": "",
           "title": {
            "standoff": 15
           },
           "zerolinecolor": "white",
           "zerolinewidth": 2
          },
          "yaxis": {
           "automargin": true,
           "gridcolor": "white",
           "linecolor": "white",
           "ticks": "",
           "title": {
            "standoff": 15
           },
           "zerolinecolor": "white",
           "zerolinewidth": 2
          }
         }
        },
        "title": {
         "text": "Correlation Heatmap"
        },
        "width": 1000
       }
      }
     },
     "metadata": {},
     "output_type": "display_data"
    }
   ],
   "source": [
    "corr_matrix = df.corr(numeric_only=True)\n",
    "fig3 = go.Figure(data=go.Heatmap(\n",
    "    z=corr_matrix.values,\n",
    "    x=corr_matrix.columns,\n",
    "    y=corr_matrix.columns,\n",
    "    colorscale='Purp',  \n",
    "    text=corr_matrix.values,  # Add the correlation values as text\n",
    "    texttemplate=\"%{z:.2f}\",  # Format the text (2 decimal places)\n",
    "    showscale=True\n",
    "))\n",
    "fig3.update_layout(title='Correlation Heatmap')\n",
    "fig3.update_layout(\n",
    "    width=1000,\n",
    "    height=800,\n",
    "    font=dict(\n",
    "        family=\"Arial, Courier New, monospace\",  # font family\n",
    "        size=12,                                 # font size (pixels)\n",
    "        color=\"darkblue\"                         # font color\n",
    "    )\n",
    ")\n",
    "fig3.show()\n",
    "\n",
    "# filename = f\"fig_3.pdf\"\n",
    "# fig3.write_image(filename)"
   ]
  },
  {
   "cell_type": "code",
   "execution_count": 118,
   "metadata": {},
   "outputs": [
    {
     "name": "stdout",
     "output_type": "stream",
     "text": [
      "Features most correlated with diagnosis:\n",
      "concave points_worst    0.793566\n",
      "perimeter_worst         0.782914\n",
      "concave points_mean     0.776614\n",
      "radius_worst            0.776454\n",
      "perimeter_mean          0.742636\n",
      "area_worst              0.733825\n",
      "radius_mean             0.730029\n",
      "area_mean               0.708984\n",
      "concavity_mean          0.696360\n",
      "concavity_worst         0.659610\n",
      "Name: diagnosis, dtype: float64\n",
      "Features negatively correlated with diagnosis:\n",
      "symmetry_mean              0.330499\n",
      "fractal_dimension_worst    0.323872\n",
      "compactness_se             0.292999\n",
      "concavity_se               0.253730\n",
      "fractal_dimension_se       0.077972\n",
      "id                         0.039769\n",
      "symmetry_se               -0.006522\n",
      "texture_se                -0.008303\n",
      "fractal_dimension_mean    -0.012838\n",
      "smoothness_se             -0.067016\n",
      "Name: diagnosis, dtype: float64\n"
     ]
    }
   ],
   "source": [
    "df_numeric = df.copy()\n",
    "target_corr = df_numeric.corr()['diagnosis'].drop('diagnosis').sort_values(ascending=False)\n",
    "\n",
    "print(\"Features most correlated with diagnosis:\")\n",
    "print(target_corr.head(10))\n",
    "\n",
    "print(\"Features negatively correlated with diagnosis:\")\n",
    "print(target_corr.tail(10))"
   ]
  },
  {
   "cell_type": "code",
   "execution_count": 119,
   "metadata": {},
   "outputs": [
    {
     "name": "stdout",
     "output_type": "stream",
     "text": [
      "perimeter_mean & radius_mean => correlation: 0.998\n",
      "radius_mean & perimeter_mean => correlation: 0.998\n",
      "perimeter_worst & radius_worst => correlation: 0.994\n",
      "radius_worst & perimeter_worst => correlation: 0.994\n",
      "area_mean & radius_mean => correlation: 0.987\n",
      "radius_mean & area_mean => correlation: 0.987\n",
      "perimeter_mean & area_mean => correlation: 0.987\n",
      "area_mean & perimeter_mean => correlation: 0.987\n",
      "area_worst & radius_worst => correlation: 0.984\n",
      "radius_worst & area_worst => correlation: 0.984\n",
      "perimeter_worst & area_worst => correlation: 0.978\n",
      "area_worst & perimeter_worst => correlation: 0.978\n",
      "radius_se & perimeter_se => correlation: 0.973\n",
      "perimeter_se & radius_se => correlation: 0.973\n",
      "perimeter_worst & perimeter_mean => correlation: 0.970\n",
      "perimeter_mean & perimeter_worst => correlation: 0.970\n",
      "radius_worst & radius_mean => correlation: 0.970\n",
      "radius_mean & radius_worst => correlation: 0.970\n",
      "perimeter_mean & radius_worst => correlation: 0.969\n",
      "radius_worst & perimeter_mean => correlation: 0.969\n",
      "radius_mean & perimeter_worst => correlation: 0.965\n",
      "perimeter_worst & radius_mean => correlation: 0.965\n",
      "radius_worst & area_mean => correlation: 0.963\n",
      "area_mean & radius_worst => correlation: 0.963\n",
      "area_mean & area_worst => correlation: 0.959\n",
      "area_worst & area_mean => correlation: 0.959\n",
      "perimeter_worst & area_mean => correlation: 0.959\n",
      "area_mean & perimeter_worst => correlation: 0.959\n",
      "radius_se & area_se => correlation: 0.952\n",
      "area_se & radius_se => correlation: 0.952\n",
      "area_worst & perimeter_mean => correlation: 0.942\n",
      "perimeter_mean & area_worst => correlation: 0.942\n",
      "area_worst & radius_mean => correlation: 0.941\n",
      "radius_mean & area_worst => correlation: 0.941\n",
      "area_se & perimeter_se => correlation: 0.938\n",
      "perimeter_se & area_se => correlation: 0.938\n",
      "concavity_mean & concave points_mean => correlation: 0.921\n",
      "concave points_mean & concavity_mean => correlation: 0.921\n",
      "texture_worst & texture_mean => correlation: 0.912\n",
      "texture_mean & texture_worst => correlation: 0.912\n",
      "concave points_mean & concave points_worst => correlation: 0.910\n",
      "concave points_worst & concave points_mean => correlation: 0.910\n"
     ]
    }
   ],
   "source": [
    "# Find features with correlation > 0.9 (or <-0.9)\n",
    "threshold = 0.9\n",
    "corr_pairs = corr_matrix.abs().unstack().sort_values(ascending=False)\n",
    "\n",
    "# Filter out self-correlations\n",
    "high_corr_pairs = [(a, b, corr_matrix.loc[a, b]) for a, b in corr_pairs.index if a != b and corr_matrix.loc[a, b] > threshold]\n",
    "\n",
    "# Show results\n",
    "for a, b, corr_val in high_corr_pairs:\n",
    "    print(f\"{a} & {b} => correlation: {corr_val:.3f}\")"
   ]
  },
  {
   "cell_type": "markdown",
   "metadata": {},
   "source": [
    "<strong>Geometric Relationships (0.98-0.99 correlations):</strong> <br>\n",
    "Radius ↔ Perimeter: Mathematically linked (perimeter ≈ 2πr for circles)<br>\n",
    "Radius ↔ Area: Geometrically linked (area ≈ πr² for circles) <br>\n",
    "Perimeter ↔ Area: Both measure size, just different dimensions<br>\n",
    "\n",
    "<strong>Measurement Consistency (0.91-0.97 correlations):</strong><br>\n",
    "mean ↔ worst: Same feature, different summary statistics<br>\n",
    "texture_mean ↔ texture_worst: Measuring same cell property at different extremes<br>\n",
    "If a tumor has rough texture on average, it likely has very rough texture at worst points<br>"
   ]
  },
  {
   "cell_type": "markdown",
   "metadata": {},
   "source": [
    "<strong>Feature\t        Correlation\tInterpretation</strong> <br>\n",
    "concave points_worst\t0.79\t    High number of concave contour points in the worst case is a very strong indicator of malignancy. <br>\n",
    "perimeter_worst\t        0.78\t    Larger perimeter suggests larger or more irregular cell shapes.<br>\n",
    "concave points_mean\t    0.77\t    Even the average number of concave points is strongly predictive.<br>\n",
    "radius_worst\t        0.77\t    Larger radius in worst case linked with malignant growth.<br>\n",
    "perimeter_mean\t        0.74\t    Similar story — average perimeter is important.<br>\n",
    "area_worst\t            0.73\t    Malignant tumors are often larger.<br>\n",
    "radius_mean\t            0.73\t    Again, size matters here.<br>\n",
    "area_mean\t            0.71\t    Strongly predictive.<br>\n",
    "concavity_mean\t        0.70\t    Irregular shape is a key feature of malignancy.<br>\n",
    "concavity_worst\t        0.66\t    Reinforces how irregular boundaries matter.<br>"
   ]
  },
  {
   "cell_type": "code",
   "execution_count": 120,
   "metadata": {},
   "outputs": [
    {
     "data": {
      "text/html": [
       "<div>\n",
       "<style scoped>\n",
       "    .dataframe tbody tr th:only-of-type {\n",
       "        vertical-align: middle;\n",
       "    }\n",
       "\n",
       "    .dataframe tbody tr th {\n",
       "        vertical-align: top;\n",
       "    }\n",
       "\n",
       "    .dataframe thead th {\n",
       "        text-align: right;\n",
       "    }\n",
       "</style>\n",
       "<table border=\"1\" class=\"dataframe\">\n",
       "  <thead>\n",
       "    <tr style=\"text-align: right;\">\n",
       "      <th></th>\n",
       "      <th>id</th>\n",
       "      <th>diagnosis</th>\n",
       "      <th>radius_mean</th>\n",
       "      <th>texture_mean</th>\n",
       "      <th>perimeter_mean</th>\n",
       "      <th>area_mean</th>\n",
       "      <th>smoothness_mean</th>\n",
       "      <th>compactness_mean</th>\n",
       "      <th>concavity_mean</th>\n",
       "      <th>concave points_mean</th>\n",
       "      <th>...</th>\n",
       "      <th>radius_worst</th>\n",
       "      <th>texture_worst</th>\n",
       "      <th>perimeter_worst</th>\n",
       "      <th>area_worst</th>\n",
       "      <th>smoothness_worst</th>\n",
       "      <th>compactness_worst</th>\n",
       "      <th>concavity_worst</th>\n",
       "      <th>concave points_worst</th>\n",
       "      <th>symmetry_worst</th>\n",
       "      <th>fractal_dimension_worst</th>\n",
       "    </tr>\n",
       "  </thead>\n",
       "  <tbody>\n",
       "    <tr>\n",
       "      <th>0</th>\n",
       "      <td>842302</td>\n",
       "      <td>1</td>\n",
       "      <td>17.99</td>\n",
       "      <td>10.38</td>\n",
       "      <td>122.80</td>\n",
       "      <td>1001.0</td>\n",
       "      <td>0.11840</td>\n",
       "      <td>0.27760</td>\n",
       "      <td>0.3001</td>\n",
       "      <td>0.14710</td>\n",
       "      <td>...</td>\n",
       "      <td>25.38</td>\n",
       "      <td>17.33</td>\n",
       "      <td>184.60</td>\n",
       "      <td>2019.0</td>\n",
       "      <td>0.1622</td>\n",
       "      <td>0.6656</td>\n",
       "      <td>0.7119</td>\n",
       "      <td>0.2654</td>\n",
       "      <td>0.4601</td>\n",
       "      <td>0.11890</td>\n",
       "    </tr>\n",
       "    <tr>\n",
       "      <th>1</th>\n",
       "      <td>842517</td>\n",
       "      <td>1</td>\n",
       "      <td>20.57</td>\n",
       "      <td>17.77</td>\n",
       "      <td>132.90</td>\n",
       "      <td>1326.0</td>\n",
       "      <td>0.08474</td>\n",
       "      <td>0.07864</td>\n",
       "      <td>0.0869</td>\n",
       "      <td>0.07017</td>\n",
       "      <td>...</td>\n",
       "      <td>24.99</td>\n",
       "      <td>23.41</td>\n",
       "      <td>158.80</td>\n",
       "      <td>1956.0</td>\n",
       "      <td>0.1238</td>\n",
       "      <td>0.1866</td>\n",
       "      <td>0.2416</td>\n",
       "      <td>0.1860</td>\n",
       "      <td>0.2750</td>\n",
       "      <td>0.08902</td>\n",
       "    </tr>\n",
       "    <tr>\n",
       "      <th>2</th>\n",
       "      <td>84300903</td>\n",
       "      <td>1</td>\n",
       "      <td>19.69</td>\n",
       "      <td>21.25</td>\n",
       "      <td>130.00</td>\n",
       "      <td>1203.0</td>\n",
       "      <td>0.10960</td>\n",
       "      <td>0.15990</td>\n",
       "      <td>0.1974</td>\n",
       "      <td>0.12790</td>\n",
       "      <td>...</td>\n",
       "      <td>23.57</td>\n",
       "      <td>25.53</td>\n",
       "      <td>152.50</td>\n",
       "      <td>1709.0</td>\n",
       "      <td>0.1444</td>\n",
       "      <td>0.4245</td>\n",
       "      <td>0.4504</td>\n",
       "      <td>0.2430</td>\n",
       "      <td>0.3613</td>\n",
       "      <td>0.08758</td>\n",
       "    </tr>\n",
       "    <tr>\n",
       "      <th>3</th>\n",
       "      <td>84348301</td>\n",
       "      <td>1</td>\n",
       "      <td>11.42</td>\n",
       "      <td>20.38</td>\n",
       "      <td>77.58</td>\n",
       "      <td>386.1</td>\n",
       "      <td>0.14250</td>\n",
       "      <td>0.28390</td>\n",
       "      <td>0.2414</td>\n",
       "      <td>0.10520</td>\n",
       "      <td>...</td>\n",
       "      <td>14.91</td>\n",
       "      <td>26.50</td>\n",
       "      <td>98.87</td>\n",
       "      <td>567.7</td>\n",
       "      <td>0.2098</td>\n",
       "      <td>0.8663</td>\n",
       "      <td>0.6869</td>\n",
       "      <td>0.2575</td>\n",
       "      <td>0.6638</td>\n",
       "      <td>0.17300</td>\n",
       "    </tr>\n",
       "    <tr>\n",
       "      <th>4</th>\n",
       "      <td>84358402</td>\n",
       "      <td>1</td>\n",
       "      <td>20.29</td>\n",
       "      <td>14.34</td>\n",
       "      <td>135.10</td>\n",
       "      <td>1297.0</td>\n",
       "      <td>0.10030</td>\n",
       "      <td>0.13280</td>\n",
       "      <td>0.1980</td>\n",
       "      <td>0.10430</td>\n",
       "      <td>...</td>\n",
       "      <td>22.54</td>\n",
       "      <td>16.67</td>\n",
       "      <td>152.20</td>\n",
       "      <td>1575.0</td>\n",
       "      <td>0.1374</td>\n",
       "      <td>0.2050</td>\n",
       "      <td>0.4000</td>\n",
       "      <td>0.1625</td>\n",
       "      <td>0.2364</td>\n",
       "      <td>0.07678</td>\n",
       "    </tr>\n",
       "  </tbody>\n",
       "</table>\n",
       "<p>5 rows × 32 columns</p>\n",
       "</div>"
      ],
      "text/plain": [
       "         id  diagnosis  radius_mean  texture_mean  perimeter_mean  area_mean  \\\n",
       "0    842302          1        17.99         10.38          122.80     1001.0   \n",
       "1    842517          1        20.57         17.77          132.90     1326.0   \n",
       "2  84300903          1        19.69         21.25          130.00     1203.0   \n",
       "3  84348301          1        11.42         20.38           77.58      386.1   \n",
       "4  84358402          1        20.29         14.34          135.10     1297.0   \n",
       "\n",
       "   smoothness_mean  compactness_mean  concavity_mean  concave points_mean  \\\n",
       "0          0.11840           0.27760          0.3001              0.14710   \n",
       "1          0.08474           0.07864          0.0869              0.07017   \n",
       "2          0.10960           0.15990          0.1974              0.12790   \n",
       "3          0.14250           0.28390          0.2414              0.10520   \n",
       "4          0.10030           0.13280          0.1980              0.10430   \n",
       "\n",
       "   ...  radius_worst  texture_worst  perimeter_worst  area_worst  \\\n",
       "0  ...         25.38          17.33           184.60      2019.0   \n",
       "1  ...         24.99          23.41           158.80      1956.0   \n",
       "2  ...         23.57          25.53           152.50      1709.0   \n",
       "3  ...         14.91          26.50            98.87       567.7   \n",
       "4  ...         22.54          16.67           152.20      1575.0   \n",
       "\n",
       "   smoothness_worst  compactness_worst  concavity_worst  concave points_worst  \\\n",
       "0            0.1622             0.6656           0.7119                0.2654   \n",
       "1            0.1238             0.1866           0.2416                0.1860   \n",
       "2            0.1444             0.4245           0.4504                0.2430   \n",
       "3            0.2098             0.8663           0.6869                0.2575   \n",
       "4            0.1374             0.2050           0.4000                0.1625   \n",
       "\n",
       "   symmetry_worst  fractal_dimension_worst  \n",
       "0          0.4601                  0.11890  \n",
       "1          0.2750                  0.08902  \n",
       "2          0.3613                  0.08758  \n",
       "3          0.6638                  0.17300  \n",
       "4          0.2364                  0.07678  \n",
       "\n",
       "[5 rows x 32 columns]"
      ]
     },
     "execution_count": 120,
     "metadata": {},
     "output_type": "execute_result"
    }
   ],
   "source": [
    "df.head()"
   ]
  },
  {
   "cell_type": "code",
   "execution_count": 121,
   "metadata": {},
   "outputs": [],
   "source": [
    "df = df.drop(columns=['id'])"
   ]
  },
  {
   "cell_type": "code",
   "execution_count": 122,
   "metadata": {},
   "outputs": [
    {
     "data": {
      "text/plain": [
       "Index(['diagnosis', 'radius_mean', 'texture_mean', 'perimeter_mean',\n",
       "       'area_mean', 'smoothness_mean', 'compactness_mean', 'concavity_mean',\n",
       "       'concave points_mean', 'symmetry_mean', 'fractal_dimension_mean',\n",
       "       'radius_se', 'texture_se', 'perimeter_se', 'area_se', 'smoothness_se',\n",
       "       'compactness_se', 'concavity_se', 'concave points_se', 'symmetry_se',\n",
       "       'fractal_dimension_se', 'radius_worst', 'texture_worst',\n",
       "       'perimeter_worst', 'area_worst', 'smoothness_worst',\n",
       "       'compactness_worst', 'concavity_worst', 'concave points_worst',\n",
       "       'symmetry_worst', 'fractal_dimension_worst'],\n",
       "      dtype='object')"
      ]
     },
     "execution_count": 122,
     "metadata": {},
     "output_type": "execute_result"
    }
   ],
   "source": [
    "df.columns"
   ]
  },
  {
   "cell_type": "code",
   "execution_count": 123,
   "metadata": {},
   "outputs": [],
   "source": [
    "df.rename(columns=lambda x: x.replace(' ', '_'), inplace=True)"
   ]
  },
  {
   "cell_type": "markdown",
   "metadata": {},
   "source": [
    "Splitting the dataset"
   ]
  },
  {
   "cell_type": "code",
   "execution_count": 124,
   "metadata": {},
   "outputs": [],
   "source": [
    "X = df.drop('diagnosis', axis=1)\n",
    "y = df['diagnosis']"
   ]
  },
  {
   "cell_type": "code",
   "execution_count": 125,
   "metadata": {},
   "outputs": [
    {
     "data": {
      "text/html": [
       "<div>\n",
       "<style scoped>\n",
       "    .dataframe tbody tr th:only-of-type {\n",
       "        vertical-align: middle;\n",
       "    }\n",
       "\n",
       "    .dataframe tbody tr th {\n",
       "        vertical-align: top;\n",
       "    }\n",
       "\n",
       "    .dataframe thead th {\n",
       "        text-align: right;\n",
       "    }\n",
       "</style>\n",
       "<table border=\"1\" class=\"dataframe\">\n",
       "  <thead>\n",
       "    <tr style=\"text-align: right;\">\n",
       "      <th></th>\n",
       "      <th>radius_mean</th>\n",
       "      <th>texture_mean</th>\n",
       "      <th>perimeter_mean</th>\n",
       "      <th>area_mean</th>\n",
       "      <th>smoothness_mean</th>\n",
       "      <th>compactness_mean</th>\n",
       "      <th>concavity_mean</th>\n",
       "      <th>concave_points_mean</th>\n",
       "      <th>symmetry_mean</th>\n",
       "      <th>fractal_dimension_mean</th>\n",
       "      <th>...</th>\n",
       "      <th>radius_worst</th>\n",
       "      <th>texture_worst</th>\n",
       "      <th>perimeter_worst</th>\n",
       "      <th>area_worst</th>\n",
       "      <th>smoothness_worst</th>\n",
       "      <th>compactness_worst</th>\n",
       "      <th>concavity_worst</th>\n",
       "      <th>concave_points_worst</th>\n",
       "      <th>symmetry_worst</th>\n",
       "      <th>fractal_dimension_worst</th>\n",
       "    </tr>\n",
       "  </thead>\n",
       "  <tbody>\n",
       "    <tr>\n",
       "      <th>0</th>\n",
       "      <td>17.99</td>\n",
       "      <td>10.38</td>\n",
       "      <td>122.80</td>\n",
       "      <td>1001.0</td>\n",
       "      <td>0.11840</td>\n",
       "      <td>0.27760</td>\n",
       "      <td>0.3001</td>\n",
       "      <td>0.14710</td>\n",
       "      <td>0.2419</td>\n",
       "      <td>0.07871</td>\n",
       "      <td>...</td>\n",
       "      <td>25.38</td>\n",
       "      <td>17.33</td>\n",
       "      <td>184.60</td>\n",
       "      <td>2019.0</td>\n",
       "      <td>0.1622</td>\n",
       "      <td>0.6656</td>\n",
       "      <td>0.7119</td>\n",
       "      <td>0.2654</td>\n",
       "      <td>0.4601</td>\n",
       "      <td>0.11890</td>\n",
       "    </tr>\n",
       "    <tr>\n",
       "      <th>1</th>\n",
       "      <td>20.57</td>\n",
       "      <td>17.77</td>\n",
       "      <td>132.90</td>\n",
       "      <td>1326.0</td>\n",
       "      <td>0.08474</td>\n",
       "      <td>0.07864</td>\n",
       "      <td>0.0869</td>\n",
       "      <td>0.07017</td>\n",
       "      <td>0.1812</td>\n",
       "      <td>0.05667</td>\n",
       "      <td>...</td>\n",
       "      <td>24.99</td>\n",
       "      <td>23.41</td>\n",
       "      <td>158.80</td>\n",
       "      <td>1956.0</td>\n",
       "      <td>0.1238</td>\n",
       "      <td>0.1866</td>\n",
       "      <td>0.2416</td>\n",
       "      <td>0.1860</td>\n",
       "      <td>0.2750</td>\n",
       "      <td>0.08902</td>\n",
       "    </tr>\n",
       "    <tr>\n",
       "      <th>2</th>\n",
       "      <td>19.69</td>\n",
       "      <td>21.25</td>\n",
       "      <td>130.00</td>\n",
       "      <td>1203.0</td>\n",
       "      <td>0.10960</td>\n",
       "      <td>0.15990</td>\n",
       "      <td>0.1974</td>\n",
       "      <td>0.12790</td>\n",
       "      <td>0.2069</td>\n",
       "      <td>0.05999</td>\n",
       "      <td>...</td>\n",
       "      <td>23.57</td>\n",
       "      <td>25.53</td>\n",
       "      <td>152.50</td>\n",
       "      <td>1709.0</td>\n",
       "      <td>0.1444</td>\n",
       "      <td>0.4245</td>\n",
       "      <td>0.4504</td>\n",
       "      <td>0.2430</td>\n",
       "      <td>0.3613</td>\n",
       "      <td>0.08758</td>\n",
       "    </tr>\n",
       "    <tr>\n",
       "      <th>3</th>\n",
       "      <td>11.42</td>\n",
       "      <td>20.38</td>\n",
       "      <td>77.58</td>\n",
       "      <td>386.1</td>\n",
       "      <td>0.14250</td>\n",
       "      <td>0.28390</td>\n",
       "      <td>0.2414</td>\n",
       "      <td>0.10520</td>\n",
       "      <td>0.2597</td>\n",
       "      <td>0.09744</td>\n",
       "      <td>...</td>\n",
       "      <td>14.91</td>\n",
       "      <td>26.50</td>\n",
       "      <td>98.87</td>\n",
       "      <td>567.7</td>\n",
       "      <td>0.2098</td>\n",
       "      <td>0.8663</td>\n",
       "      <td>0.6869</td>\n",
       "      <td>0.2575</td>\n",
       "      <td>0.6638</td>\n",
       "      <td>0.17300</td>\n",
       "    </tr>\n",
       "    <tr>\n",
       "      <th>4</th>\n",
       "      <td>20.29</td>\n",
       "      <td>14.34</td>\n",
       "      <td>135.10</td>\n",
       "      <td>1297.0</td>\n",
       "      <td>0.10030</td>\n",
       "      <td>0.13280</td>\n",
       "      <td>0.1980</td>\n",
       "      <td>0.10430</td>\n",
       "      <td>0.1809</td>\n",
       "      <td>0.05883</td>\n",
       "      <td>...</td>\n",
       "      <td>22.54</td>\n",
       "      <td>16.67</td>\n",
       "      <td>152.20</td>\n",
       "      <td>1575.0</td>\n",
       "      <td>0.1374</td>\n",
       "      <td>0.2050</td>\n",
       "      <td>0.4000</td>\n",
       "      <td>0.1625</td>\n",
       "      <td>0.2364</td>\n",
       "      <td>0.07678</td>\n",
       "    </tr>\n",
       "  </tbody>\n",
       "</table>\n",
       "<p>5 rows × 30 columns</p>\n",
       "</div>"
      ],
      "text/plain": [
       "   radius_mean  texture_mean  perimeter_mean  area_mean  smoothness_mean  \\\n",
       "0        17.99         10.38          122.80     1001.0          0.11840   \n",
       "1        20.57         17.77          132.90     1326.0          0.08474   \n",
       "2        19.69         21.25          130.00     1203.0          0.10960   \n",
       "3        11.42         20.38           77.58      386.1          0.14250   \n",
       "4        20.29         14.34          135.10     1297.0          0.10030   \n",
       "\n",
       "   compactness_mean  concavity_mean  concave_points_mean  symmetry_mean  \\\n",
       "0           0.27760          0.3001              0.14710         0.2419   \n",
       "1           0.07864          0.0869              0.07017         0.1812   \n",
       "2           0.15990          0.1974              0.12790         0.2069   \n",
       "3           0.28390          0.2414              0.10520         0.2597   \n",
       "4           0.13280          0.1980              0.10430         0.1809   \n",
       "\n",
       "   fractal_dimension_mean  ...  radius_worst  texture_worst  perimeter_worst  \\\n",
       "0                 0.07871  ...         25.38          17.33           184.60   \n",
       "1                 0.05667  ...         24.99          23.41           158.80   \n",
       "2                 0.05999  ...         23.57          25.53           152.50   \n",
       "3                 0.09744  ...         14.91          26.50            98.87   \n",
       "4                 0.05883  ...         22.54          16.67           152.20   \n",
       "\n",
       "   area_worst  smoothness_worst  compactness_worst  concavity_worst  \\\n",
       "0      2019.0            0.1622             0.6656           0.7119   \n",
       "1      1956.0            0.1238             0.1866           0.2416   \n",
       "2      1709.0            0.1444             0.4245           0.4504   \n",
       "3       567.7            0.2098             0.8663           0.6869   \n",
       "4      1575.0            0.1374             0.2050           0.4000   \n",
       "\n",
       "   concave_points_worst  symmetry_worst  fractal_dimension_worst  \n",
       "0                0.2654          0.4601                  0.11890  \n",
       "1                0.1860          0.2750                  0.08902  \n",
       "2                0.2430          0.3613                  0.08758  \n",
       "3                0.2575          0.6638                  0.17300  \n",
       "4                0.1625          0.2364                  0.07678  \n",
       "\n",
       "[5 rows x 30 columns]"
      ]
     },
     "execution_count": 125,
     "metadata": {},
     "output_type": "execute_result"
    }
   ],
   "source": [
    "X.head()"
   ]
  },
  {
   "cell_type": "code",
   "execution_count": 126,
   "metadata": {},
   "outputs": [
    {
     "data": {
      "text/plain": [
       "0    1\n",
       "1    1\n",
       "2    1\n",
       "3    1\n",
       "4    1\n",
       "Name: diagnosis, dtype: int64"
      ]
     },
     "execution_count": 126,
     "metadata": {},
     "output_type": "execute_result"
    }
   ],
   "source": [
    "y.head()"
   ]
  },
  {
   "cell_type": "code",
   "execution_count": 127,
   "metadata": {},
   "outputs": [],
   "source": [
    "from sklearn.model_selection import StratifiedKFold"
   ]
  },
  {
   "cell_type": "code",
   "execution_count": 128,
   "metadata": {},
   "outputs": [],
   "source": [
    "cv = StratifiedKFold(n_splits=5, shuffle=True, random_state=42)"
   ]
  },
  {
   "cell_type": "code",
   "execution_count": 129,
   "metadata": {},
   "outputs": [],
   "source": [
    "fold_metrics = []"
   ]
  },
  {
   "cell_type": "code",
   "execution_count": 130,
   "metadata": {},
   "outputs": [
    {
     "name": "stdout",
     "output_type": "stream",
     "text": [
      "Fold 1\n",
      "              precision    recall  f1-score   support\n",
      "\n",
      "           0       0.99      0.97      0.98        71\n",
      "           1       0.95      0.98      0.97        43\n",
      "\n",
      "    accuracy                           0.97       114\n",
      "   macro avg       0.97      0.97      0.97       114\n",
      "weighted avg       0.97      0.97      0.97       114\n",
      "\n",
      "\n",
      "Confusion Matrix:\n",
      "[[69  2]\n",
      " [ 1 42]]\n"
     ]
    },
    {
     "data": {
      "application/vnd.plotly.v1+json": {
       "config": {
        "plotlyServerURL": "https://plot.ly"
       },
       "data": [
        {
         "coloraxis": "coloraxis",
         "hovertemplate": "Predicted: %{x}<br>True: %{y}<br>color: %{z}<extra></extra>",
         "name": "0",
         "texttemplate": "%{z}",
         "type": "heatmap",
         "x": [
          "Benign",
          "Malignant"
         ],
         "xaxis": "x",
         "y": [
          "Benign",
          "Malignant"
         ],
         "yaxis": "y",
         "z": {
          "bdata": "KOO3Sz0Z7z8LmwOJVticP/QFfUFf0Jc/0Bf0BX1B7z8=",
          "dtype": "f8",
          "shape": "2, 2"
         }
        }
       ],
       "layout": {
        "coloraxis": {
         "colorscale": [
          [
           0,
           "#ee8ef5"
          ],
          [
           1,
           "rgb(50, 80, 168)"
          ]
         ]
        },
        "font": {
         "color": "darkblue",
         "family": "Arial, Courier New, monospace",
         "size": 12
        },
        "height": 500,
        "margin": {
         "t": 60
        },
        "template": {
         "data": {
          "bar": [
           {
            "error_x": {
             "color": "#2a3f5f"
            },
            "error_y": {
             "color": "#2a3f5f"
            },
            "marker": {
             "line": {
              "color": "#E5ECF6",
              "width": 0.5
             },
             "pattern": {
              "fillmode": "overlay",
              "size": 10,
              "solidity": 0.2
             }
            },
            "type": "bar"
           }
          ],
          "barpolar": [
           {
            "marker": {
             "line": {
              "color": "#E5ECF6",
              "width": 0.5
             },
             "pattern": {
              "fillmode": "overlay",
              "size": 10,
              "solidity": 0.2
             }
            },
            "type": "barpolar"
           }
          ],
          "carpet": [
           {
            "aaxis": {
             "endlinecolor": "#2a3f5f",
             "gridcolor": "white",
             "linecolor": "white",
             "minorgridcolor": "white",
             "startlinecolor": "#2a3f5f"
            },
            "baxis": {
             "endlinecolor": "#2a3f5f",
             "gridcolor": "white",
             "linecolor": "white",
             "minorgridcolor": "white",
             "startlinecolor": "#2a3f5f"
            },
            "type": "carpet"
           }
          ],
          "choropleth": [
           {
            "colorbar": {
             "outlinewidth": 0,
             "ticks": ""
            },
            "type": "choropleth"
           }
          ],
          "contour": [
           {
            "colorbar": {
             "outlinewidth": 0,
             "ticks": ""
            },
            "colorscale": [
             [
              0,
              "#0d0887"
             ],
             [
              0.1111111111111111,
              "#46039f"
             ],
             [
              0.2222222222222222,
              "#7201a8"
             ],
             [
              0.3333333333333333,
              "#9c179e"
             ],
             [
              0.4444444444444444,
              "#bd3786"
             ],
             [
              0.5555555555555556,
              "#d8576b"
             ],
             [
              0.6666666666666666,
              "#ed7953"
             ],
             [
              0.7777777777777778,
              "#fb9f3a"
             ],
             [
              0.8888888888888888,
              "#fdca26"
             ],
             [
              1,
              "#f0f921"
             ]
            ],
            "type": "contour"
           }
          ],
          "contourcarpet": [
           {
            "colorbar": {
             "outlinewidth": 0,
             "ticks": ""
            },
            "type": "contourcarpet"
           }
          ],
          "heatmap": [
           {
            "colorbar": {
             "outlinewidth": 0,
             "ticks": ""
            },
            "colorscale": [
             [
              0,
              "#0d0887"
             ],
             [
              0.1111111111111111,
              "#46039f"
             ],
             [
              0.2222222222222222,
              "#7201a8"
             ],
             [
              0.3333333333333333,
              "#9c179e"
             ],
             [
              0.4444444444444444,
              "#bd3786"
             ],
             [
              0.5555555555555556,
              "#d8576b"
             ],
             [
              0.6666666666666666,
              "#ed7953"
             ],
             [
              0.7777777777777778,
              "#fb9f3a"
             ],
             [
              0.8888888888888888,
              "#fdca26"
             ],
             [
              1,
              "#f0f921"
             ]
            ],
            "type": "heatmap"
           }
          ],
          "histogram": [
           {
            "marker": {
             "pattern": {
              "fillmode": "overlay",
              "size": 10,
              "solidity": 0.2
             }
            },
            "type": "histogram"
           }
          ],
          "histogram2d": [
           {
            "colorbar": {
             "outlinewidth": 0,
             "ticks": ""
            },
            "colorscale": [
             [
              0,
              "#0d0887"
             ],
             [
              0.1111111111111111,
              "#46039f"
             ],
             [
              0.2222222222222222,
              "#7201a8"
             ],
             [
              0.3333333333333333,
              "#9c179e"
             ],
             [
              0.4444444444444444,
              "#bd3786"
             ],
             [
              0.5555555555555556,
              "#d8576b"
             ],
             [
              0.6666666666666666,
              "#ed7953"
             ],
             [
              0.7777777777777778,
              "#fb9f3a"
             ],
             [
              0.8888888888888888,
              "#fdca26"
             ],
             [
              1,
              "#f0f921"
             ]
            ],
            "type": "histogram2d"
           }
          ],
          "histogram2dcontour": [
           {
            "colorbar": {
             "outlinewidth": 0,
             "ticks": ""
            },
            "colorscale": [
             [
              0,
              "#0d0887"
             ],
             [
              0.1111111111111111,
              "#46039f"
             ],
             [
              0.2222222222222222,
              "#7201a8"
             ],
             [
              0.3333333333333333,
              "#9c179e"
             ],
             [
              0.4444444444444444,
              "#bd3786"
             ],
             [
              0.5555555555555556,
              "#d8576b"
             ],
             [
              0.6666666666666666,
              "#ed7953"
             ],
             [
              0.7777777777777778,
              "#fb9f3a"
             ],
             [
              0.8888888888888888,
              "#fdca26"
             ],
             [
              1,
              "#f0f921"
             ]
            ],
            "type": "histogram2dcontour"
           }
          ],
          "mesh3d": [
           {
            "colorbar": {
             "outlinewidth": 0,
             "ticks": ""
            },
            "type": "mesh3d"
           }
          ],
          "parcoords": [
           {
            "line": {
             "colorbar": {
              "outlinewidth": 0,
              "ticks": ""
             }
            },
            "type": "parcoords"
           }
          ],
          "pie": [
           {
            "automargin": true,
            "type": "pie"
           }
          ],
          "scatter": [
           {
            "fillpattern": {
             "fillmode": "overlay",
             "size": 10,
             "solidity": 0.2
            },
            "type": "scatter"
           }
          ],
          "scatter3d": [
           {
            "line": {
             "colorbar": {
              "outlinewidth": 0,
              "ticks": ""
             }
            },
            "marker": {
             "colorbar": {
              "outlinewidth": 0,
              "ticks": ""
             }
            },
            "type": "scatter3d"
           }
          ],
          "scattercarpet": [
           {
            "marker": {
             "colorbar": {
              "outlinewidth": 0,
              "ticks": ""
             }
            },
            "type": "scattercarpet"
           }
          ],
          "scattergeo": [
           {
            "marker": {
             "colorbar": {
              "outlinewidth": 0,
              "ticks": ""
             }
            },
            "type": "scattergeo"
           }
          ],
          "scattergl": [
           {
            "marker": {
             "colorbar": {
              "outlinewidth": 0,
              "ticks": ""
             }
            },
            "type": "scattergl"
           }
          ],
          "scattermap": [
           {
            "marker": {
             "colorbar": {
              "outlinewidth": 0,
              "ticks": ""
             }
            },
            "type": "scattermap"
           }
          ],
          "scattermapbox": [
           {
            "marker": {
             "colorbar": {
              "outlinewidth": 0,
              "ticks": ""
             }
            },
            "type": "scattermapbox"
           }
          ],
          "scatterpolar": [
           {
            "marker": {
             "colorbar": {
              "outlinewidth": 0,
              "ticks": ""
             }
            },
            "type": "scatterpolar"
           }
          ],
          "scatterpolargl": [
           {
            "marker": {
             "colorbar": {
              "outlinewidth": 0,
              "ticks": ""
             }
            },
            "type": "scatterpolargl"
           }
          ],
          "scatterternary": [
           {
            "marker": {
             "colorbar": {
              "outlinewidth": 0,
              "ticks": ""
             }
            },
            "type": "scatterternary"
           }
          ],
          "surface": [
           {
            "colorbar": {
             "outlinewidth": 0,
             "ticks": ""
            },
            "colorscale": [
             [
              0,
              "#0d0887"
             ],
             [
              0.1111111111111111,
              "#46039f"
             ],
             [
              0.2222222222222222,
              "#7201a8"
             ],
             [
              0.3333333333333333,
              "#9c179e"
             ],
             [
              0.4444444444444444,
              "#bd3786"
             ],
             [
              0.5555555555555556,
              "#d8576b"
             ],
             [
              0.6666666666666666,
              "#ed7953"
             ],
             [
              0.7777777777777778,
              "#fb9f3a"
             ],
             [
              0.8888888888888888,
              "#fdca26"
             ],
             [
              1,
              "#f0f921"
             ]
            ],
            "type": "surface"
           }
          ],
          "table": [
           {
            "cells": {
             "fill": {
              "color": "#EBF0F8"
             },
             "line": {
              "color": "white"
             }
            },
            "header": {
             "fill": {
              "color": "#C8D4E3"
             },
             "line": {
              "color": "white"
             }
            },
            "type": "table"
           }
          ]
         },
         "layout": {
          "annotationdefaults": {
           "arrowcolor": "#2a3f5f",
           "arrowhead": 0,
           "arrowwidth": 1
          },
          "autotypenumbers": "strict",
          "coloraxis": {
           "colorbar": {
            "outlinewidth": 0,
            "ticks": ""
           }
          },
          "colorscale": {
           "diverging": [
            [
             0,
             "#8e0152"
            ],
            [
             0.1,
             "#c51b7d"
            ],
            [
             0.2,
             "#de77ae"
            ],
            [
             0.3,
             "#f1b6da"
            ],
            [
             0.4,
             "#fde0ef"
            ],
            [
             0.5,
             "#f7f7f7"
            ],
            [
             0.6,
             "#e6f5d0"
            ],
            [
             0.7,
             "#b8e186"
            ],
            [
             0.8,
             "#7fbc41"
            ],
            [
             0.9,
             "#4d9221"
            ],
            [
             1,
             "#276419"
            ]
           ],
           "sequential": [
            [
             0,
             "#0d0887"
            ],
            [
             0.1111111111111111,
             "#46039f"
            ],
            [
             0.2222222222222222,
             "#7201a8"
            ],
            [
             0.3333333333333333,
             "#9c179e"
            ],
            [
             0.4444444444444444,
             "#bd3786"
            ],
            [
             0.5555555555555556,
             "#d8576b"
            ],
            [
             0.6666666666666666,
             "#ed7953"
            ],
            [
             0.7777777777777778,
             "#fb9f3a"
            ],
            [
             0.8888888888888888,
             "#fdca26"
            ],
            [
             1,
             "#f0f921"
            ]
           ],
           "sequentialminus": [
            [
             0,
             "#0d0887"
            ],
            [
             0.1111111111111111,
             "#46039f"
            ],
            [
             0.2222222222222222,
             "#7201a8"
            ],
            [
             0.3333333333333333,
             "#9c179e"
            ],
            [
             0.4444444444444444,
             "#bd3786"
            ],
            [
             0.5555555555555556,
             "#d8576b"
            ],
            [
             0.6666666666666666,
             "#ed7953"
            ],
            [
             0.7777777777777778,
             "#fb9f3a"
            ],
            [
             0.8888888888888888,
             "#fdca26"
            ],
            [
             1,
             "#f0f921"
            ]
           ]
          },
          "colorway": [
           "#636efa",
           "#EF553B",
           "#00cc96",
           "#ab63fa",
           "#FFA15A",
           "#19d3f3",
           "#FF6692",
           "#B6E880",
           "#FF97FF",
           "#FECB52"
          ],
          "font": {
           "color": "#2a3f5f"
          },
          "geo": {
           "bgcolor": "white",
           "lakecolor": "white",
           "landcolor": "#E5ECF6",
           "showlakes": true,
           "showland": true,
           "subunitcolor": "white"
          },
          "hoverlabel": {
           "align": "left"
          },
          "hovermode": "closest",
          "mapbox": {
           "style": "light"
          },
          "paper_bgcolor": "white",
          "plot_bgcolor": "#E5ECF6",
          "polar": {
           "angularaxis": {
            "gridcolor": "white",
            "linecolor": "white",
            "ticks": ""
           },
           "bgcolor": "#E5ECF6",
           "radialaxis": {
            "gridcolor": "white",
            "linecolor": "white",
            "ticks": ""
           }
          },
          "scene": {
           "xaxis": {
            "backgroundcolor": "#E5ECF6",
            "gridcolor": "white",
            "gridwidth": 2,
            "linecolor": "white",
            "showbackground": true,
            "ticks": "",
            "zerolinecolor": "white"
           },
           "yaxis": {
            "backgroundcolor": "#E5ECF6",
            "gridcolor": "white",
            "gridwidth": 2,
            "linecolor": "white",
            "showbackground": true,
            "ticks": "",
            "zerolinecolor": "white"
           },
           "zaxis": {
            "backgroundcolor": "#E5ECF6",
            "gridcolor": "white",
            "gridwidth": 2,
            "linecolor": "white",
            "showbackground": true,
            "ticks": "",
            "zerolinecolor": "white"
           }
          },
          "shapedefaults": {
           "line": {
            "color": "#2a3f5f"
           }
          },
          "ternary": {
           "aaxis": {
            "gridcolor": "white",
            "linecolor": "white",
            "ticks": ""
           },
           "baxis": {
            "gridcolor": "white",
            "linecolor": "white",
            "ticks": ""
           },
           "bgcolor": "#E5ECF6",
           "caxis": {
            "gridcolor": "white",
            "linecolor": "white",
            "ticks": ""
           }
          },
          "title": {
           "x": 0.05
          },
          "xaxis": {
           "automargin": true,
           "gridcolor": "white",
           "linecolor": "white",
           "ticks": "",
           "title": {
            "standoff": 15
           },
           "zerolinecolor": "white",
           "zerolinewidth": 2
          },
          "yaxis": {
           "automargin": true,
           "gridcolor": "white",
           "linecolor": "white",
           "ticks": "",
           "title": {
            "standoff": 15
           },
           "zerolinecolor": "white",
           "zerolinewidth": 2
          }
         }
        },
        "title": {
         "text": "Confusion Matrix"
        },
        "width": 500,
        "xaxis": {
         "anchor": "y",
         "constrain": "domain",
         "domain": [
          0,
          1
         ],
         "scaleanchor": "y",
         "title": {
          "text": "Predicted"
         }
        },
        "yaxis": {
         "anchor": "x",
         "autorange": "reversed",
         "constrain": "domain",
         "domain": [
          0,
          1
         ],
         "title": {
          "text": "True"
         }
        }
       }
      }
     },
     "metadata": {},
     "output_type": "display_data"
    },
    {
     "name": "stdout",
     "output_type": "stream",
     "text": [
      "Fold 1 metrics: Precision=0.9545454545454546, Recall=0.9767441860465116, F1=0.9655172413793104, PR AUC=0.9945661787635697, ROC AUC = 0.9963969865705863  Accuracy=0.9736842105263158, Log Loss=0.07030360834550589\n",
      "Fold 2\n",
      "              precision    recall  f1-score   support\n",
      "\n",
      "           0       0.93      0.97      0.95        71\n",
      "           1       0.95      0.88      0.92        43\n",
      "\n",
      "    accuracy                           0.94       114\n",
      "   macro avg       0.94      0.93      0.93       114\n",
      "weighted avg       0.94      0.94      0.94       114\n",
      "\n",
      "\n",
      "Confusion Matrix:\n",
      "[[69  2]\n",
      " [ 5 38]]\n"
     ]
    },
    {
     "data": {
      "application/vnd.plotly.v1+json": {
       "config": {
        "plotlyServerURL": "https://plot.ly"
       },
       "data": [
        {
         "coloraxis": "coloraxis",
         "hovertemplate": "Predicted: %{x}<br>True: %{y}<br>color: %{z}<extra></extra>",
         "name": "0",
         "texttemplate": "%{z}",
         "type": "heatmap",
         "x": [
          "Benign",
          "Malignant"
         ],
         "xaxis": "x",
         "y": [
          "Benign",
          "Malignant"
         ],
         "yaxis": "y",
         "z": {
          "bdata": "KOO3Sz0Z7z8LmwOJVticP3FH3BF3xL0/EnfEHXFH7D8=",
          "dtype": "f8",
          "shape": "2, 2"
         }
        }
       ],
       "layout": {
        "coloraxis": {
         "colorscale": [
          [
           0,
           "#ee8ef5"
          ],
          [
           1,
           "rgb(50, 80, 168)"
          ]
         ]
        },
        "font": {
         "color": "darkblue",
         "family": "Arial, Courier New, monospace",
         "size": 12
        },
        "height": 500,
        "margin": {
         "t": 60
        },
        "template": {
         "data": {
          "bar": [
           {
            "error_x": {
             "color": "#2a3f5f"
            },
            "error_y": {
             "color": "#2a3f5f"
            },
            "marker": {
             "line": {
              "color": "#E5ECF6",
              "width": 0.5
             },
             "pattern": {
              "fillmode": "overlay",
              "size": 10,
              "solidity": 0.2
             }
            },
            "type": "bar"
           }
          ],
          "barpolar": [
           {
            "marker": {
             "line": {
              "color": "#E5ECF6",
              "width": 0.5
             },
             "pattern": {
              "fillmode": "overlay",
              "size": 10,
              "solidity": 0.2
             }
            },
            "type": "barpolar"
           }
          ],
          "carpet": [
           {
            "aaxis": {
             "endlinecolor": "#2a3f5f",
             "gridcolor": "white",
             "linecolor": "white",
             "minorgridcolor": "white",
             "startlinecolor": "#2a3f5f"
            },
            "baxis": {
             "endlinecolor": "#2a3f5f",
             "gridcolor": "white",
             "linecolor": "white",
             "minorgridcolor": "white",
             "startlinecolor": "#2a3f5f"
            },
            "type": "carpet"
           }
          ],
          "choropleth": [
           {
            "colorbar": {
             "outlinewidth": 0,
             "ticks": ""
            },
            "type": "choropleth"
           }
          ],
          "contour": [
           {
            "colorbar": {
             "outlinewidth": 0,
             "ticks": ""
            },
            "colorscale": [
             [
              0,
              "#0d0887"
             ],
             [
              0.1111111111111111,
              "#46039f"
             ],
             [
              0.2222222222222222,
              "#7201a8"
             ],
             [
              0.3333333333333333,
              "#9c179e"
             ],
             [
              0.4444444444444444,
              "#bd3786"
             ],
             [
              0.5555555555555556,
              "#d8576b"
             ],
             [
              0.6666666666666666,
              "#ed7953"
             ],
             [
              0.7777777777777778,
              "#fb9f3a"
             ],
             [
              0.8888888888888888,
              "#fdca26"
             ],
             [
              1,
              "#f0f921"
             ]
            ],
            "type": "contour"
           }
          ],
          "contourcarpet": [
           {
            "colorbar": {
             "outlinewidth": 0,
             "ticks": ""
            },
            "type": "contourcarpet"
           }
          ],
          "heatmap": [
           {
            "colorbar": {
             "outlinewidth": 0,
             "ticks": ""
            },
            "colorscale": [
             [
              0,
              "#0d0887"
             ],
             [
              0.1111111111111111,
              "#46039f"
             ],
             [
              0.2222222222222222,
              "#7201a8"
             ],
             [
              0.3333333333333333,
              "#9c179e"
             ],
             [
              0.4444444444444444,
              "#bd3786"
             ],
             [
              0.5555555555555556,
              "#d8576b"
             ],
             [
              0.6666666666666666,
              "#ed7953"
             ],
             [
              0.7777777777777778,
              "#fb9f3a"
             ],
             [
              0.8888888888888888,
              "#fdca26"
             ],
             [
              1,
              "#f0f921"
             ]
            ],
            "type": "heatmap"
           }
          ],
          "histogram": [
           {
            "marker": {
             "pattern": {
              "fillmode": "overlay",
              "size": 10,
              "solidity": 0.2
             }
            },
            "type": "histogram"
           }
          ],
          "histogram2d": [
           {
            "colorbar": {
             "outlinewidth": 0,
             "ticks": ""
            },
            "colorscale": [
             [
              0,
              "#0d0887"
             ],
             [
              0.1111111111111111,
              "#46039f"
             ],
             [
              0.2222222222222222,
              "#7201a8"
             ],
             [
              0.3333333333333333,
              "#9c179e"
             ],
             [
              0.4444444444444444,
              "#bd3786"
             ],
             [
              0.5555555555555556,
              "#d8576b"
             ],
             [
              0.6666666666666666,
              "#ed7953"
             ],
             [
              0.7777777777777778,
              "#fb9f3a"
             ],
             [
              0.8888888888888888,
              "#fdca26"
             ],
             [
              1,
              "#f0f921"
             ]
            ],
            "type": "histogram2d"
           }
          ],
          "histogram2dcontour": [
           {
            "colorbar": {
             "outlinewidth": 0,
             "ticks": ""
            },
            "colorscale": [
             [
              0,
              "#0d0887"
             ],
             [
              0.1111111111111111,
              "#46039f"
             ],
             [
              0.2222222222222222,
              "#7201a8"
             ],
             [
              0.3333333333333333,
              "#9c179e"
             ],
             [
              0.4444444444444444,
              "#bd3786"
             ],
             [
              0.5555555555555556,
              "#d8576b"
             ],
             [
              0.6666666666666666,
              "#ed7953"
             ],
             [
              0.7777777777777778,
              "#fb9f3a"
             ],
             [
              0.8888888888888888,
              "#fdca26"
             ],
             [
              1,
              "#f0f921"
             ]
            ],
            "type": "histogram2dcontour"
           }
          ],
          "mesh3d": [
           {
            "colorbar": {
             "outlinewidth": 0,
             "ticks": ""
            },
            "type": "mesh3d"
           }
          ],
          "parcoords": [
           {
            "line": {
             "colorbar": {
              "outlinewidth": 0,
              "ticks": ""
             }
            },
            "type": "parcoords"
           }
          ],
          "pie": [
           {
            "automargin": true,
            "type": "pie"
           }
          ],
          "scatter": [
           {
            "fillpattern": {
             "fillmode": "overlay",
             "size": 10,
             "solidity": 0.2
            },
            "type": "scatter"
           }
          ],
          "scatter3d": [
           {
            "line": {
             "colorbar": {
              "outlinewidth": 0,
              "ticks": ""
             }
            },
            "marker": {
             "colorbar": {
              "outlinewidth": 0,
              "ticks": ""
             }
            },
            "type": "scatter3d"
           }
          ],
          "scattercarpet": [
           {
            "marker": {
             "colorbar": {
              "outlinewidth": 0,
              "ticks": ""
             }
            },
            "type": "scattercarpet"
           }
          ],
          "scattergeo": [
           {
            "marker": {
             "colorbar": {
              "outlinewidth": 0,
              "ticks": ""
             }
            },
            "type": "scattergeo"
           }
          ],
          "scattergl": [
           {
            "marker": {
             "colorbar": {
              "outlinewidth": 0,
              "ticks": ""
             }
            },
            "type": "scattergl"
           }
          ],
          "scattermap": [
           {
            "marker": {
             "colorbar": {
              "outlinewidth": 0,
              "ticks": ""
             }
            },
            "type": "scattermap"
           }
          ],
          "scattermapbox": [
           {
            "marker": {
             "colorbar": {
              "outlinewidth": 0,
              "ticks": ""
             }
            },
            "type": "scattermapbox"
           }
          ],
          "scatterpolar": [
           {
            "marker": {
             "colorbar": {
              "outlinewidth": 0,
              "ticks": ""
             }
            },
            "type": "scatterpolar"
           }
          ],
          "scatterpolargl": [
           {
            "marker": {
             "colorbar": {
              "outlinewidth": 0,
              "ticks": ""
             }
            },
            "type": "scatterpolargl"
           }
          ],
          "scatterternary": [
           {
            "marker": {
             "colorbar": {
              "outlinewidth": 0,
              "ticks": ""
             }
            },
            "type": "scatterternary"
           }
          ],
          "surface": [
           {
            "colorbar": {
             "outlinewidth": 0,
             "ticks": ""
            },
            "colorscale": [
             [
              0,
              "#0d0887"
             ],
             [
              0.1111111111111111,
              "#46039f"
             ],
             [
              0.2222222222222222,
              "#7201a8"
             ],
             [
              0.3333333333333333,
              "#9c179e"
             ],
             [
              0.4444444444444444,
              "#bd3786"
             ],
             [
              0.5555555555555556,
              "#d8576b"
             ],
             [
              0.6666666666666666,
              "#ed7953"
             ],
             [
              0.7777777777777778,
              "#fb9f3a"
             ],
             [
              0.8888888888888888,
              "#fdca26"
             ],
             [
              1,
              "#f0f921"
             ]
            ],
            "type": "surface"
           }
          ],
          "table": [
           {
            "cells": {
             "fill": {
              "color": "#EBF0F8"
             },
             "line": {
              "color": "white"
             }
            },
            "header": {
             "fill": {
              "color": "#C8D4E3"
             },
             "line": {
              "color": "white"
             }
            },
            "type": "table"
           }
          ]
         },
         "layout": {
          "annotationdefaults": {
           "arrowcolor": "#2a3f5f",
           "arrowhead": 0,
           "arrowwidth": 1
          },
          "autotypenumbers": "strict",
          "coloraxis": {
           "colorbar": {
            "outlinewidth": 0,
            "ticks": ""
           }
          },
          "colorscale": {
           "diverging": [
            [
             0,
             "#8e0152"
            ],
            [
             0.1,
             "#c51b7d"
            ],
            [
             0.2,
             "#de77ae"
            ],
            [
             0.3,
             "#f1b6da"
            ],
            [
             0.4,
             "#fde0ef"
            ],
            [
             0.5,
             "#f7f7f7"
            ],
            [
             0.6,
             "#e6f5d0"
            ],
            [
             0.7,
             "#b8e186"
            ],
            [
             0.8,
             "#7fbc41"
            ],
            [
             0.9,
             "#4d9221"
            ],
            [
             1,
             "#276419"
            ]
           ],
           "sequential": [
            [
             0,
             "#0d0887"
            ],
            [
             0.1111111111111111,
             "#46039f"
            ],
            [
             0.2222222222222222,
             "#7201a8"
            ],
            [
             0.3333333333333333,
             "#9c179e"
            ],
            [
             0.4444444444444444,
             "#bd3786"
            ],
            [
             0.5555555555555556,
             "#d8576b"
            ],
            [
             0.6666666666666666,
             "#ed7953"
            ],
            [
             0.7777777777777778,
             "#fb9f3a"
            ],
            [
             0.8888888888888888,
             "#fdca26"
            ],
            [
             1,
             "#f0f921"
            ]
           ],
           "sequentialminus": [
            [
             0,
             "#0d0887"
            ],
            [
             0.1111111111111111,
             "#46039f"
            ],
            [
             0.2222222222222222,
             "#7201a8"
            ],
            [
             0.3333333333333333,
             "#9c179e"
            ],
            [
             0.4444444444444444,
             "#bd3786"
            ],
            [
             0.5555555555555556,
             "#d8576b"
            ],
            [
             0.6666666666666666,
             "#ed7953"
            ],
            [
             0.7777777777777778,
             "#fb9f3a"
            ],
            [
             0.8888888888888888,
             "#fdca26"
            ],
            [
             1,
             "#f0f921"
            ]
           ]
          },
          "colorway": [
           "#636efa",
           "#EF553B",
           "#00cc96",
           "#ab63fa",
           "#FFA15A",
           "#19d3f3",
           "#FF6692",
           "#B6E880",
           "#FF97FF",
           "#FECB52"
          ],
          "font": {
           "color": "#2a3f5f"
          },
          "geo": {
           "bgcolor": "white",
           "lakecolor": "white",
           "landcolor": "#E5ECF6",
           "showlakes": true,
           "showland": true,
           "subunitcolor": "white"
          },
          "hoverlabel": {
           "align": "left"
          },
          "hovermode": "closest",
          "mapbox": {
           "style": "light"
          },
          "paper_bgcolor": "white",
          "plot_bgcolor": "#E5ECF6",
          "polar": {
           "angularaxis": {
            "gridcolor": "white",
            "linecolor": "white",
            "ticks": ""
           },
           "bgcolor": "#E5ECF6",
           "radialaxis": {
            "gridcolor": "white",
            "linecolor": "white",
            "ticks": ""
           }
          },
          "scene": {
           "xaxis": {
            "backgroundcolor": "#E5ECF6",
            "gridcolor": "white",
            "gridwidth": 2,
            "linecolor": "white",
            "showbackground": true,
            "ticks": "",
            "zerolinecolor": "white"
           },
           "yaxis": {
            "backgroundcolor": "#E5ECF6",
            "gridcolor": "white",
            "gridwidth": 2,
            "linecolor": "white",
            "showbackground": true,
            "ticks": "",
            "zerolinecolor": "white"
           },
           "zaxis": {
            "backgroundcolor": "#E5ECF6",
            "gridcolor": "white",
            "gridwidth": 2,
            "linecolor": "white",
            "showbackground": true,
            "ticks": "",
            "zerolinecolor": "white"
           }
          },
          "shapedefaults": {
           "line": {
            "color": "#2a3f5f"
           }
          },
          "ternary": {
           "aaxis": {
            "gridcolor": "white",
            "linecolor": "white",
            "ticks": ""
           },
           "baxis": {
            "gridcolor": "white",
            "linecolor": "white",
            "ticks": ""
           },
           "bgcolor": "#E5ECF6",
           "caxis": {
            "gridcolor": "white",
            "linecolor": "white",
            "ticks": ""
           }
          },
          "title": {
           "x": 0.05
          },
          "xaxis": {
           "automargin": true,
           "gridcolor": "white",
           "linecolor": "white",
           "ticks": "",
           "title": {
            "standoff": 15
           },
           "zerolinecolor": "white",
           "zerolinewidth": 2
          },
          "yaxis": {
           "automargin": true,
           "gridcolor": "white",
           "linecolor": "white",
           "ticks": "",
           "title": {
            "standoff": 15
           },
           "zerolinecolor": "white",
           "zerolinewidth": 2
          }
         }
        },
        "title": {
         "text": "Confusion Matrix"
        },
        "width": 500,
        "xaxis": {
         "anchor": "y",
         "constrain": "domain",
         "domain": [
          0,
          1
         ],
         "scaleanchor": "y",
         "title": {
          "text": "Predicted"
         }
        },
        "yaxis": {
         "anchor": "x",
         "autorange": "reversed",
         "constrain": "domain",
         "domain": [
          0,
          1
         ],
         "title": {
          "text": "True"
         }
        }
       }
      }
     },
     "metadata": {},
     "output_type": "display_data"
    },
    {
     "name": "stdout",
     "output_type": "stream",
     "text": [
      "Fold 2 metrics: Precision=0.95, Recall=0.8837209302325582, F1=0.9156626506024096, PR AUC=0.9867601676194393, ROC AUC = 0.9911562397641664  Accuracy=0.9385964912280702, Log Loss=0.14266896641759186\n",
      "Fold 3\n",
      "              precision    recall  f1-score   support\n",
      "\n",
      "           0       0.96      0.99      0.97        72\n",
      "           1       0.97      0.93      0.95        42\n",
      "\n",
      "    accuracy                           0.96       114\n",
      "   macro avg       0.97      0.96      0.96       114\n",
      "weighted avg       0.97      0.96      0.96       114\n",
      "\n",
      "\n",
      "Confusion Matrix:\n",
      "[[71  1]\n",
      " [ 3 39]]\n"
     ]
    },
    {
     "data": {
      "application/vnd.plotly.v1+json": {
       "config": {
        "plotlyServerURL": "https://plot.ly"
       },
       "data": [
        {
         "coloraxis": "coloraxis",
         "hovertemplate": "Predicted: %{x}<br>True: %{y}<br>color: %{z}<extra></extra>",
         "name": "0",
         "texttemplate": "%{z}",
         "type": "heatmap",
         "x": [
          "Benign",
          "Malignant"
         ],
         "xaxis": "x",
         "y": [
          "Benign",
          "Malignant"
         ],
         "yaxis": "y",
         "z": {
          "bdata": "5DiO4ziO7z8cx3Ecx3GMP5IkSZIkSbI/btu2bdu27T8=",
          "dtype": "f8",
          "shape": "2, 2"
         }
        }
       ],
       "layout": {
        "coloraxis": {
         "colorscale": [
          [
           0,
           "#ee8ef5"
          ],
          [
           1,
           "rgb(50, 80, 168)"
          ]
         ]
        },
        "font": {
         "color": "darkblue",
         "family": "Arial, Courier New, monospace",
         "size": 12
        },
        "height": 500,
        "margin": {
         "t": 60
        },
        "template": {
         "data": {
          "bar": [
           {
            "error_x": {
             "color": "#2a3f5f"
            },
            "error_y": {
             "color": "#2a3f5f"
            },
            "marker": {
             "line": {
              "color": "#E5ECF6",
              "width": 0.5
             },
             "pattern": {
              "fillmode": "overlay",
              "size": 10,
              "solidity": 0.2
             }
            },
            "type": "bar"
           }
          ],
          "barpolar": [
           {
            "marker": {
             "line": {
              "color": "#E5ECF6",
              "width": 0.5
             },
             "pattern": {
              "fillmode": "overlay",
              "size": 10,
              "solidity": 0.2
             }
            },
            "type": "barpolar"
           }
          ],
          "carpet": [
           {
            "aaxis": {
             "endlinecolor": "#2a3f5f",
             "gridcolor": "white",
             "linecolor": "white",
             "minorgridcolor": "white",
             "startlinecolor": "#2a3f5f"
            },
            "baxis": {
             "endlinecolor": "#2a3f5f",
             "gridcolor": "white",
             "linecolor": "white",
             "minorgridcolor": "white",
             "startlinecolor": "#2a3f5f"
            },
            "type": "carpet"
           }
          ],
          "choropleth": [
           {
            "colorbar": {
             "outlinewidth": 0,
             "ticks": ""
            },
            "type": "choropleth"
           }
          ],
          "contour": [
           {
            "colorbar": {
             "outlinewidth": 0,
             "ticks": ""
            },
            "colorscale": [
             [
              0,
              "#0d0887"
             ],
             [
              0.1111111111111111,
              "#46039f"
             ],
             [
              0.2222222222222222,
              "#7201a8"
             ],
             [
              0.3333333333333333,
              "#9c179e"
             ],
             [
              0.4444444444444444,
              "#bd3786"
             ],
             [
              0.5555555555555556,
              "#d8576b"
             ],
             [
              0.6666666666666666,
              "#ed7953"
             ],
             [
              0.7777777777777778,
              "#fb9f3a"
             ],
             [
              0.8888888888888888,
              "#fdca26"
             ],
             [
              1,
              "#f0f921"
             ]
            ],
            "type": "contour"
           }
          ],
          "contourcarpet": [
           {
            "colorbar": {
             "outlinewidth": 0,
             "ticks": ""
            },
            "type": "contourcarpet"
           }
          ],
          "heatmap": [
           {
            "colorbar": {
             "outlinewidth": 0,
             "ticks": ""
            },
            "colorscale": [
             [
              0,
              "#0d0887"
             ],
             [
              0.1111111111111111,
              "#46039f"
             ],
             [
              0.2222222222222222,
              "#7201a8"
             ],
             [
              0.3333333333333333,
              "#9c179e"
             ],
             [
              0.4444444444444444,
              "#bd3786"
             ],
             [
              0.5555555555555556,
              "#d8576b"
             ],
             [
              0.6666666666666666,
              "#ed7953"
             ],
             [
              0.7777777777777778,
              "#fb9f3a"
             ],
             [
              0.8888888888888888,
              "#fdca26"
             ],
             [
              1,
              "#f0f921"
             ]
            ],
            "type": "heatmap"
           }
          ],
          "histogram": [
           {
            "marker": {
             "pattern": {
              "fillmode": "overlay",
              "size": 10,
              "solidity": 0.2
             }
            },
            "type": "histogram"
           }
          ],
          "histogram2d": [
           {
            "colorbar": {
             "outlinewidth": 0,
             "ticks": ""
            },
            "colorscale": [
             [
              0,
              "#0d0887"
             ],
             [
              0.1111111111111111,
              "#46039f"
             ],
             [
              0.2222222222222222,
              "#7201a8"
             ],
             [
              0.3333333333333333,
              "#9c179e"
             ],
             [
              0.4444444444444444,
              "#bd3786"
             ],
             [
              0.5555555555555556,
              "#d8576b"
             ],
             [
              0.6666666666666666,
              "#ed7953"
             ],
             [
              0.7777777777777778,
              "#fb9f3a"
             ],
             [
              0.8888888888888888,
              "#fdca26"
             ],
             [
              1,
              "#f0f921"
             ]
            ],
            "type": "histogram2d"
           }
          ],
          "histogram2dcontour": [
           {
            "colorbar": {
             "outlinewidth": 0,
             "ticks": ""
            },
            "colorscale": [
             [
              0,
              "#0d0887"
             ],
             [
              0.1111111111111111,
              "#46039f"
             ],
             [
              0.2222222222222222,
              "#7201a8"
             ],
             [
              0.3333333333333333,
              "#9c179e"
             ],
             [
              0.4444444444444444,
              "#bd3786"
             ],
             [
              0.5555555555555556,
              "#d8576b"
             ],
             [
              0.6666666666666666,
              "#ed7953"
             ],
             [
              0.7777777777777778,
              "#fb9f3a"
             ],
             [
              0.8888888888888888,
              "#fdca26"
             ],
             [
              1,
              "#f0f921"
             ]
            ],
            "type": "histogram2dcontour"
           }
          ],
          "mesh3d": [
           {
            "colorbar": {
             "outlinewidth": 0,
             "ticks": ""
            },
            "type": "mesh3d"
           }
          ],
          "parcoords": [
           {
            "line": {
             "colorbar": {
              "outlinewidth": 0,
              "ticks": ""
             }
            },
            "type": "parcoords"
           }
          ],
          "pie": [
           {
            "automargin": true,
            "type": "pie"
           }
          ],
          "scatter": [
           {
            "fillpattern": {
             "fillmode": "overlay",
             "size": 10,
             "solidity": 0.2
            },
            "type": "scatter"
           }
          ],
          "scatter3d": [
           {
            "line": {
             "colorbar": {
              "outlinewidth": 0,
              "ticks": ""
             }
            },
            "marker": {
             "colorbar": {
              "outlinewidth": 0,
              "ticks": ""
             }
            },
            "type": "scatter3d"
           }
          ],
          "scattercarpet": [
           {
            "marker": {
             "colorbar": {
              "outlinewidth": 0,
              "ticks": ""
             }
            },
            "type": "scattercarpet"
           }
          ],
          "scattergeo": [
           {
            "marker": {
             "colorbar": {
              "outlinewidth": 0,
              "ticks": ""
             }
            },
            "type": "scattergeo"
           }
          ],
          "scattergl": [
           {
            "marker": {
             "colorbar": {
              "outlinewidth": 0,
              "ticks": ""
             }
            },
            "type": "scattergl"
           }
          ],
          "scattermap": [
           {
            "marker": {
             "colorbar": {
              "outlinewidth": 0,
              "ticks": ""
             }
            },
            "type": "scattermap"
           }
          ],
          "scattermapbox": [
           {
            "marker": {
             "colorbar": {
              "outlinewidth": 0,
              "ticks": ""
             }
            },
            "type": "scattermapbox"
           }
          ],
          "scatterpolar": [
           {
            "marker": {
             "colorbar": {
              "outlinewidth": 0,
              "ticks": ""
             }
            },
            "type": "scatterpolar"
           }
          ],
          "scatterpolargl": [
           {
            "marker": {
             "colorbar": {
              "outlinewidth": 0,
              "ticks": ""
             }
            },
            "type": "scatterpolargl"
           }
          ],
          "scatterternary": [
           {
            "marker": {
             "colorbar": {
              "outlinewidth": 0,
              "ticks": ""
             }
            },
            "type": "scatterternary"
           }
          ],
          "surface": [
           {
            "colorbar": {
             "outlinewidth": 0,
             "ticks": ""
            },
            "colorscale": [
             [
              0,
              "#0d0887"
             ],
             [
              0.1111111111111111,
              "#46039f"
             ],
             [
              0.2222222222222222,
              "#7201a8"
             ],
             [
              0.3333333333333333,
              "#9c179e"
             ],
             [
              0.4444444444444444,
              "#bd3786"
             ],
             [
              0.5555555555555556,
              "#d8576b"
             ],
             [
              0.6666666666666666,
              "#ed7953"
             ],
             [
              0.7777777777777778,
              "#fb9f3a"
             ],
             [
              0.8888888888888888,
              "#fdca26"
             ],
             [
              1,
              "#f0f921"
             ]
            ],
            "type": "surface"
           }
          ],
          "table": [
           {
            "cells": {
             "fill": {
              "color": "#EBF0F8"
             },
             "line": {
              "color": "white"
             }
            },
            "header": {
             "fill": {
              "color": "#C8D4E3"
             },
             "line": {
              "color": "white"
             }
            },
            "type": "table"
           }
          ]
         },
         "layout": {
          "annotationdefaults": {
           "arrowcolor": "#2a3f5f",
           "arrowhead": 0,
           "arrowwidth": 1
          },
          "autotypenumbers": "strict",
          "coloraxis": {
           "colorbar": {
            "outlinewidth": 0,
            "ticks": ""
           }
          },
          "colorscale": {
           "diverging": [
            [
             0,
             "#8e0152"
            ],
            [
             0.1,
             "#c51b7d"
            ],
            [
             0.2,
             "#de77ae"
            ],
            [
             0.3,
             "#f1b6da"
            ],
            [
             0.4,
             "#fde0ef"
            ],
            [
             0.5,
             "#f7f7f7"
            ],
            [
             0.6,
             "#e6f5d0"
            ],
            [
             0.7,
             "#b8e186"
            ],
            [
             0.8,
             "#7fbc41"
            ],
            [
             0.9,
             "#4d9221"
            ],
            [
             1,
             "#276419"
            ]
           ],
           "sequential": [
            [
             0,
             "#0d0887"
            ],
            [
             0.1111111111111111,
             "#46039f"
            ],
            [
             0.2222222222222222,
             "#7201a8"
            ],
            [
             0.3333333333333333,
             "#9c179e"
            ],
            [
             0.4444444444444444,
             "#bd3786"
            ],
            [
             0.5555555555555556,
             "#d8576b"
            ],
            [
             0.6666666666666666,
             "#ed7953"
            ],
            [
             0.7777777777777778,
             "#fb9f3a"
            ],
            [
             0.8888888888888888,
             "#fdca26"
            ],
            [
             1,
             "#f0f921"
            ]
           ],
           "sequentialminus": [
            [
             0,
             "#0d0887"
            ],
            [
             0.1111111111111111,
             "#46039f"
            ],
            [
             0.2222222222222222,
             "#7201a8"
            ],
            [
             0.3333333333333333,
             "#9c179e"
            ],
            [
             0.4444444444444444,
             "#bd3786"
            ],
            [
             0.5555555555555556,
             "#d8576b"
            ],
            [
             0.6666666666666666,
             "#ed7953"
            ],
            [
             0.7777777777777778,
             "#fb9f3a"
            ],
            [
             0.8888888888888888,
             "#fdca26"
            ],
            [
             1,
             "#f0f921"
            ]
           ]
          },
          "colorway": [
           "#636efa",
           "#EF553B",
           "#00cc96",
           "#ab63fa",
           "#FFA15A",
           "#19d3f3",
           "#FF6692",
           "#B6E880",
           "#FF97FF",
           "#FECB52"
          ],
          "font": {
           "color": "#2a3f5f"
          },
          "geo": {
           "bgcolor": "white",
           "lakecolor": "white",
           "landcolor": "#E5ECF6",
           "showlakes": true,
           "showland": true,
           "subunitcolor": "white"
          },
          "hoverlabel": {
           "align": "left"
          },
          "hovermode": "closest",
          "mapbox": {
           "style": "light"
          },
          "paper_bgcolor": "white",
          "plot_bgcolor": "#E5ECF6",
          "polar": {
           "angularaxis": {
            "gridcolor": "white",
            "linecolor": "white",
            "ticks": ""
           },
           "bgcolor": "#E5ECF6",
           "radialaxis": {
            "gridcolor": "white",
            "linecolor": "white",
            "ticks": ""
           }
          },
          "scene": {
           "xaxis": {
            "backgroundcolor": "#E5ECF6",
            "gridcolor": "white",
            "gridwidth": 2,
            "linecolor": "white",
            "showbackground": true,
            "ticks": "",
            "zerolinecolor": "white"
           },
           "yaxis": {
            "backgroundcolor": "#E5ECF6",
            "gridcolor": "white",
            "gridwidth": 2,
            "linecolor": "white",
            "showbackground": true,
            "ticks": "",
            "zerolinecolor": "white"
           },
           "zaxis": {
            "backgroundcolor": "#E5ECF6",
            "gridcolor": "white",
            "gridwidth": 2,
            "linecolor": "white",
            "showbackground": true,
            "ticks": "",
            "zerolinecolor": "white"
           }
          },
          "shapedefaults": {
           "line": {
            "color": "#2a3f5f"
           }
          },
          "ternary": {
           "aaxis": {
            "gridcolor": "white",
            "linecolor": "white",
            "ticks": ""
           },
           "baxis": {
            "gridcolor": "white",
            "linecolor": "white",
            "ticks": ""
           },
           "bgcolor": "#E5ECF6",
           "caxis": {
            "gridcolor": "white",
            "linecolor": "white",
            "ticks": ""
           }
          },
          "title": {
           "x": 0.05
          },
          "xaxis": {
           "automargin": true,
           "gridcolor": "white",
           "linecolor": "white",
           "ticks": "",
           "title": {
            "standoff": 15
           },
           "zerolinecolor": "white",
           "zerolinewidth": 2
          },
          "yaxis": {
           "automargin": true,
           "gridcolor": "white",
           "linecolor": "white",
           "ticks": "",
           "title": {
            "standoff": 15
           },
           "zerolinecolor": "white",
           "zerolinewidth": 2
          }
         }
        },
        "title": {
         "text": "Confusion Matrix"
        },
        "width": 500,
        "xaxis": {
         "anchor": "y",
         "constrain": "domain",
         "domain": [
          0,
          1
         ],
         "scaleanchor": "y",
         "title": {
          "text": "Predicted"
         }
        },
        "yaxis": {
         "anchor": "x",
         "autorange": "reversed",
         "constrain": "domain",
         "domain": [
          0,
          1
         ],
         "title": {
          "text": "True"
         }
        }
       }
      }
     },
     "metadata": {},
     "output_type": "display_data"
    },
    {
     "name": "stdout",
     "output_type": "stream",
     "text": [
      "Fold 3 metrics: Precision=0.975, Recall=0.9285714285714286, F1=0.9512195121951219, PR AUC=0.9873228492060029, ROC AUC = 0.9871031746031746  Accuracy=0.9649122807017544, Log Loss=0.10124771367856876\n",
      "Fold 4\n",
      "              precision    recall  f1-score   support\n",
      "\n",
      "           0       1.00      0.94      0.97        72\n",
      "           1       0.91      1.00      0.95        42\n",
      "\n",
      "    accuracy                           0.96       114\n",
      "   macro avg       0.96      0.97      0.96       114\n",
      "weighted avg       0.97      0.96      0.97       114\n",
      "\n",
      "\n",
      "Confusion Matrix:\n",
      "[[68  4]\n",
      " [ 0 42]]\n"
     ]
    },
    {
     "data": {
      "application/vnd.plotly.v1+json": {
       "config": {
        "plotlyServerURL": "https://plot.ly"
       },
       "data": [
        {
         "coloraxis": "coloraxis",
         "hovertemplate": "Predicted: %{x}<br>True: %{y}<br>color: %{z}<extra></extra>",
         "name": "0",
         "texttemplate": "%{z}",
         "type": "heatmap",
         "x": [
          "Benign",
          "Malignant"
         ],
         "xaxis": "x",
         "y": [
          "Benign",
          "Malignant"
         ],
         "yaxis": "y",
         "z": {
          "bdata": "juM4juM47j8cx3Ecx3GsPwAAAAAAAAAAAAAAAAAA8D8=",
          "dtype": "f8",
          "shape": "2, 2"
         }
        }
       ],
       "layout": {
        "coloraxis": {
         "colorscale": [
          [
           0,
           "#ee8ef5"
          ],
          [
           1,
           "rgb(50, 80, 168)"
          ]
         ]
        },
        "font": {
         "color": "darkblue",
         "family": "Arial, Courier New, monospace",
         "size": 12
        },
        "height": 500,
        "margin": {
         "t": 60
        },
        "template": {
         "data": {
          "bar": [
           {
            "error_x": {
             "color": "#2a3f5f"
            },
            "error_y": {
             "color": "#2a3f5f"
            },
            "marker": {
             "line": {
              "color": "#E5ECF6",
              "width": 0.5
             },
             "pattern": {
              "fillmode": "overlay",
              "size": 10,
              "solidity": 0.2
             }
            },
            "type": "bar"
           }
          ],
          "barpolar": [
           {
            "marker": {
             "line": {
              "color": "#E5ECF6",
              "width": 0.5
             },
             "pattern": {
              "fillmode": "overlay",
              "size": 10,
              "solidity": 0.2
             }
            },
            "type": "barpolar"
           }
          ],
          "carpet": [
           {
            "aaxis": {
             "endlinecolor": "#2a3f5f",
             "gridcolor": "white",
             "linecolor": "white",
             "minorgridcolor": "white",
             "startlinecolor": "#2a3f5f"
            },
            "baxis": {
             "endlinecolor": "#2a3f5f",
             "gridcolor": "white",
             "linecolor": "white",
             "minorgridcolor": "white",
             "startlinecolor": "#2a3f5f"
            },
            "type": "carpet"
           }
          ],
          "choropleth": [
           {
            "colorbar": {
             "outlinewidth": 0,
             "ticks": ""
            },
            "type": "choropleth"
           }
          ],
          "contour": [
           {
            "colorbar": {
             "outlinewidth": 0,
             "ticks": ""
            },
            "colorscale": [
             [
              0,
              "#0d0887"
             ],
             [
              0.1111111111111111,
              "#46039f"
             ],
             [
              0.2222222222222222,
              "#7201a8"
             ],
             [
              0.3333333333333333,
              "#9c179e"
             ],
             [
              0.4444444444444444,
              "#bd3786"
             ],
             [
              0.5555555555555556,
              "#d8576b"
             ],
             [
              0.6666666666666666,
              "#ed7953"
             ],
             [
              0.7777777777777778,
              "#fb9f3a"
             ],
             [
              0.8888888888888888,
              "#fdca26"
             ],
             [
              1,
              "#f0f921"
             ]
            ],
            "type": "contour"
           }
          ],
          "contourcarpet": [
           {
            "colorbar": {
             "outlinewidth": 0,
             "ticks": ""
            },
            "type": "contourcarpet"
           }
          ],
          "heatmap": [
           {
            "colorbar": {
             "outlinewidth": 0,
             "ticks": ""
            },
            "colorscale": [
             [
              0,
              "#0d0887"
             ],
             [
              0.1111111111111111,
              "#46039f"
             ],
             [
              0.2222222222222222,
              "#7201a8"
             ],
             [
              0.3333333333333333,
              "#9c179e"
             ],
             [
              0.4444444444444444,
              "#bd3786"
             ],
             [
              0.5555555555555556,
              "#d8576b"
             ],
             [
              0.6666666666666666,
              "#ed7953"
             ],
             [
              0.7777777777777778,
              "#fb9f3a"
             ],
             [
              0.8888888888888888,
              "#fdca26"
             ],
             [
              1,
              "#f0f921"
             ]
            ],
            "type": "heatmap"
           }
          ],
          "histogram": [
           {
            "marker": {
             "pattern": {
              "fillmode": "overlay",
              "size": 10,
              "solidity": 0.2
             }
            },
            "type": "histogram"
           }
          ],
          "histogram2d": [
           {
            "colorbar": {
             "outlinewidth": 0,
             "ticks": ""
            },
            "colorscale": [
             [
              0,
              "#0d0887"
             ],
             [
              0.1111111111111111,
              "#46039f"
             ],
             [
              0.2222222222222222,
              "#7201a8"
             ],
             [
              0.3333333333333333,
              "#9c179e"
             ],
             [
              0.4444444444444444,
              "#bd3786"
             ],
             [
              0.5555555555555556,
              "#d8576b"
             ],
             [
              0.6666666666666666,
              "#ed7953"
             ],
             [
              0.7777777777777778,
              "#fb9f3a"
             ],
             [
              0.8888888888888888,
              "#fdca26"
             ],
             [
              1,
              "#f0f921"
             ]
            ],
            "type": "histogram2d"
           }
          ],
          "histogram2dcontour": [
           {
            "colorbar": {
             "outlinewidth": 0,
             "ticks": ""
            },
            "colorscale": [
             [
              0,
              "#0d0887"
             ],
             [
              0.1111111111111111,
              "#46039f"
             ],
             [
              0.2222222222222222,
              "#7201a8"
             ],
             [
              0.3333333333333333,
              "#9c179e"
             ],
             [
              0.4444444444444444,
              "#bd3786"
             ],
             [
              0.5555555555555556,
              "#d8576b"
             ],
             [
              0.6666666666666666,
              "#ed7953"
             ],
             [
              0.7777777777777778,
              "#fb9f3a"
             ],
             [
              0.8888888888888888,
              "#fdca26"
             ],
             [
              1,
              "#f0f921"
             ]
            ],
            "type": "histogram2dcontour"
           }
          ],
          "mesh3d": [
           {
            "colorbar": {
             "outlinewidth": 0,
             "ticks": ""
            },
            "type": "mesh3d"
           }
          ],
          "parcoords": [
           {
            "line": {
             "colorbar": {
              "outlinewidth": 0,
              "ticks": ""
             }
            },
            "type": "parcoords"
           }
          ],
          "pie": [
           {
            "automargin": true,
            "type": "pie"
           }
          ],
          "scatter": [
           {
            "fillpattern": {
             "fillmode": "overlay",
             "size": 10,
             "solidity": 0.2
            },
            "type": "scatter"
           }
          ],
          "scatter3d": [
           {
            "line": {
             "colorbar": {
              "outlinewidth": 0,
              "ticks": ""
             }
            },
            "marker": {
             "colorbar": {
              "outlinewidth": 0,
              "ticks": ""
             }
            },
            "type": "scatter3d"
           }
          ],
          "scattercarpet": [
           {
            "marker": {
             "colorbar": {
              "outlinewidth": 0,
              "ticks": ""
             }
            },
            "type": "scattercarpet"
           }
          ],
          "scattergeo": [
           {
            "marker": {
             "colorbar": {
              "outlinewidth": 0,
              "ticks": ""
             }
            },
            "type": "scattergeo"
           }
          ],
          "scattergl": [
           {
            "marker": {
             "colorbar": {
              "outlinewidth": 0,
              "ticks": ""
             }
            },
            "type": "scattergl"
           }
          ],
          "scattermap": [
           {
            "marker": {
             "colorbar": {
              "outlinewidth": 0,
              "ticks": ""
             }
            },
            "type": "scattermap"
           }
          ],
          "scattermapbox": [
           {
            "marker": {
             "colorbar": {
              "outlinewidth": 0,
              "ticks": ""
             }
            },
            "type": "scattermapbox"
           }
          ],
          "scatterpolar": [
           {
            "marker": {
             "colorbar": {
              "outlinewidth": 0,
              "ticks": ""
             }
            },
            "type": "scatterpolar"
           }
          ],
          "scatterpolargl": [
           {
            "marker": {
             "colorbar": {
              "outlinewidth": 0,
              "ticks": ""
             }
            },
            "type": "scatterpolargl"
           }
          ],
          "scatterternary": [
           {
            "marker": {
             "colorbar": {
              "outlinewidth": 0,
              "ticks": ""
             }
            },
            "type": "scatterternary"
           }
          ],
          "surface": [
           {
            "colorbar": {
             "outlinewidth": 0,
             "ticks": ""
            },
            "colorscale": [
             [
              0,
              "#0d0887"
             ],
             [
              0.1111111111111111,
              "#46039f"
             ],
             [
              0.2222222222222222,
              "#7201a8"
             ],
             [
              0.3333333333333333,
              "#9c179e"
             ],
             [
              0.4444444444444444,
              "#bd3786"
             ],
             [
              0.5555555555555556,
              "#d8576b"
             ],
             [
              0.6666666666666666,
              "#ed7953"
             ],
             [
              0.7777777777777778,
              "#fb9f3a"
             ],
             [
              0.8888888888888888,
              "#fdca26"
             ],
             [
              1,
              "#f0f921"
             ]
            ],
            "type": "surface"
           }
          ],
          "table": [
           {
            "cells": {
             "fill": {
              "color": "#EBF0F8"
             },
             "line": {
              "color": "white"
             }
            },
            "header": {
             "fill": {
              "color": "#C8D4E3"
             },
             "line": {
              "color": "white"
             }
            },
            "type": "table"
           }
          ]
         },
         "layout": {
          "annotationdefaults": {
           "arrowcolor": "#2a3f5f",
           "arrowhead": 0,
           "arrowwidth": 1
          },
          "autotypenumbers": "strict",
          "coloraxis": {
           "colorbar": {
            "outlinewidth": 0,
            "ticks": ""
           }
          },
          "colorscale": {
           "diverging": [
            [
             0,
             "#8e0152"
            ],
            [
             0.1,
             "#c51b7d"
            ],
            [
             0.2,
             "#de77ae"
            ],
            [
             0.3,
             "#f1b6da"
            ],
            [
             0.4,
             "#fde0ef"
            ],
            [
             0.5,
             "#f7f7f7"
            ],
            [
             0.6,
             "#e6f5d0"
            ],
            [
             0.7,
             "#b8e186"
            ],
            [
             0.8,
             "#7fbc41"
            ],
            [
             0.9,
             "#4d9221"
            ],
            [
             1,
             "#276419"
            ]
           ],
           "sequential": [
            [
             0,
             "#0d0887"
            ],
            [
             0.1111111111111111,
             "#46039f"
            ],
            [
             0.2222222222222222,
             "#7201a8"
            ],
            [
             0.3333333333333333,
             "#9c179e"
            ],
            [
             0.4444444444444444,
             "#bd3786"
            ],
            [
             0.5555555555555556,
             "#d8576b"
            ],
            [
             0.6666666666666666,
             "#ed7953"
            ],
            [
             0.7777777777777778,
             "#fb9f3a"
            ],
            [
             0.8888888888888888,
             "#fdca26"
            ],
            [
             1,
             "#f0f921"
            ]
           ],
           "sequentialminus": [
            [
             0,
             "#0d0887"
            ],
            [
             0.1111111111111111,
             "#46039f"
            ],
            [
             0.2222222222222222,
             "#7201a8"
            ],
            [
             0.3333333333333333,
             "#9c179e"
            ],
            [
             0.4444444444444444,
             "#bd3786"
            ],
            [
             0.5555555555555556,
             "#d8576b"
            ],
            [
             0.6666666666666666,
             "#ed7953"
            ],
            [
             0.7777777777777778,
             "#fb9f3a"
            ],
            [
             0.8888888888888888,
             "#fdca26"
            ],
            [
             1,
             "#f0f921"
            ]
           ]
          },
          "colorway": [
           "#636efa",
           "#EF553B",
           "#00cc96",
           "#ab63fa",
           "#FFA15A",
           "#19d3f3",
           "#FF6692",
           "#B6E880",
           "#FF97FF",
           "#FECB52"
          ],
          "font": {
           "color": "#2a3f5f"
          },
          "geo": {
           "bgcolor": "white",
           "lakecolor": "white",
           "landcolor": "#E5ECF6",
           "showlakes": true,
           "showland": true,
           "subunitcolor": "white"
          },
          "hoverlabel": {
           "align": "left"
          },
          "hovermode": "closest",
          "mapbox": {
           "style": "light"
          },
          "paper_bgcolor": "white",
          "plot_bgcolor": "#E5ECF6",
          "polar": {
           "angularaxis": {
            "gridcolor": "white",
            "linecolor": "white",
            "ticks": ""
           },
           "bgcolor": "#E5ECF6",
           "radialaxis": {
            "gridcolor": "white",
            "linecolor": "white",
            "ticks": ""
           }
          },
          "scene": {
           "xaxis": {
            "backgroundcolor": "#E5ECF6",
            "gridcolor": "white",
            "gridwidth": 2,
            "linecolor": "white",
            "showbackground": true,
            "ticks": "",
            "zerolinecolor": "white"
           },
           "yaxis": {
            "backgroundcolor": "#E5ECF6",
            "gridcolor": "white",
            "gridwidth": 2,
            "linecolor": "white",
            "showbackground": true,
            "ticks": "",
            "zerolinecolor": "white"
           },
           "zaxis": {
            "backgroundcolor": "#E5ECF6",
            "gridcolor": "white",
            "gridwidth": 2,
            "linecolor": "white",
            "showbackground": true,
            "ticks": "",
            "zerolinecolor": "white"
           }
          },
          "shapedefaults": {
           "line": {
            "color": "#2a3f5f"
           }
          },
          "ternary": {
           "aaxis": {
            "gridcolor": "white",
            "linecolor": "white",
            "ticks": ""
           },
           "baxis": {
            "gridcolor": "white",
            "linecolor": "white",
            "ticks": ""
           },
           "bgcolor": "#E5ECF6",
           "caxis": {
            "gridcolor": "white",
            "linecolor": "white",
            "ticks": ""
           }
          },
          "title": {
           "x": 0.05
          },
          "xaxis": {
           "automargin": true,
           "gridcolor": "white",
           "linecolor": "white",
           "ticks": "",
           "title": {
            "standoff": 15
           },
           "zerolinecolor": "white",
           "zerolinewidth": 2
          },
          "yaxis": {
           "automargin": true,
           "gridcolor": "white",
           "linecolor": "white",
           "ticks": "",
           "title": {
            "standoff": 15
           },
           "zerolinecolor": "white",
           "zerolinewidth": 2
          }
         }
        },
        "title": {
         "text": "Confusion Matrix"
        },
        "width": 500,
        "xaxis": {
         "anchor": "y",
         "constrain": "domain",
         "domain": [
          0,
          1
         ],
         "scaleanchor": "y",
         "title": {
          "text": "Predicted"
         }
        },
        "yaxis": {
         "anchor": "x",
         "autorange": "reversed",
         "constrain": "domain",
         "domain": [
          0,
          1
         ],
         "title": {
          "text": "True"
         }
        }
       }
      }
     },
     "metadata": {},
     "output_type": "display_data"
    },
    {
     "name": "stdout",
     "output_type": "stream",
     "text": [
      "Fold 4 metrics: Precision=0.9130434782608695, Recall=1.0, F1=0.9545454545454546, PR AUC=0.9978103292056781, ROC AUC = 0.9986772486772486  Accuracy=0.9649122807017544, Log Loss=0.07543131687550968\n",
      "Fold 5\n",
      "              precision    recall  f1-score   support\n",
      "\n",
      "           0       0.97      0.99      0.98        71\n",
      "           1       0.98      0.95      0.96        42\n",
      "\n",
      "    accuracy                           0.97       113\n",
      "   macro avg       0.97      0.97      0.97       113\n",
      "weighted avg       0.97      0.97      0.97       113\n",
      "\n",
      "\n",
      "Confusion Matrix:\n",
      "[[70  1]\n",
      " [ 2 40]]\n"
     ]
    },
    {
     "data": {
      "application/vnd.plotly.v1+json": {
       "config": {
        "plotlyServerURL": "https://plot.ly"
       },
       "data": [
        {
         "coloraxis": "coloraxis",
         "hovertemplate": "Predicted: %{x}<br>True: %{y}<br>color: %{z}<extra></extra>",
         "name": "0",
         "texttemplate": "%{z}",
         "type": "heatmap",
         "x": [
          "Benign",
          "Malignant"
         ],
         "xaxis": "x",
         "y": [
          "Benign",
          "Malignant"
         ],
         "yaxis": "y",
         "z": {
          "bdata": "lPHbpZ6M7z8LmwOJVtiMPxiGYRiGYag/nud5nud57j8=",
          "dtype": "f8",
          "shape": "2, 2"
         }
        }
       ],
       "layout": {
        "coloraxis": {
         "colorscale": [
          [
           0,
           "#ee8ef5"
          ],
          [
           1,
           "rgb(50, 80, 168)"
          ]
         ]
        },
        "font": {
         "color": "darkblue",
         "family": "Arial, Courier New, monospace",
         "size": 12
        },
        "height": 500,
        "margin": {
         "t": 60
        },
        "template": {
         "data": {
          "bar": [
           {
            "error_x": {
             "color": "#2a3f5f"
            },
            "error_y": {
             "color": "#2a3f5f"
            },
            "marker": {
             "line": {
              "color": "#E5ECF6",
              "width": 0.5
             },
             "pattern": {
              "fillmode": "overlay",
              "size": 10,
              "solidity": 0.2
             }
            },
            "type": "bar"
           }
          ],
          "barpolar": [
           {
            "marker": {
             "line": {
              "color": "#E5ECF6",
              "width": 0.5
             },
             "pattern": {
              "fillmode": "overlay",
              "size": 10,
              "solidity": 0.2
             }
            },
            "type": "barpolar"
           }
          ],
          "carpet": [
           {
            "aaxis": {
             "endlinecolor": "#2a3f5f",
             "gridcolor": "white",
             "linecolor": "white",
             "minorgridcolor": "white",
             "startlinecolor": "#2a3f5f"
            },
            "baxis": {
             "endlinecolor": "#2a3f5f",
             "gridcolor": "white",
             "linecolor": "white",
             "minorgridcolor": "white",
             "startlinecolor": "#2a3f5f"
            },
            "type": "carpet"
           }
          ],
          "choropleth": [
           {
            "colorbar": {
             "outlinewidth": 0,
             "ticks": ""
            },
            "type": "choropleth"
           }
          ],
          "contour": [
           {
            "colorbar": {
             "outlinewidth": 0,
             "ticks": ""
            },
            "colorscale": [
             [
              0,
              "#0d0887"
             ],
             [
              0.1111111111111111,
              "#46039f"
             ],
             [
              0.2222222222222222,
              "#7201a8"
             ],
             [
              0.3333333333333333,
              "#9c179e"
             ],
             [
              0.4444444444444444,
              "#bd3786"
             ],
             [
              0.5555555555555556,
              "#d8576b"
             ],
             [
              0.6666666666666666,
              "#ed7953"
             ],
             [
              0.7777777777777778,
              "#fb9f3a"
             ],
             [
              0.8888888888888888,
              "#fdca26"
             ],
             [
              1,
              "#f0f921"
             ]
            ],
            "type": "contour"
           }
          ],
          "contourcarpet": [
           {
            "colorbar": {
             "outlinewidth": 0,
             "ticks": ""
            },
            "type": "contourcarpet"
           }
          ],
          "heatmap": [
           {
            "colorbar": {
             "outlinewidth": 0,
             "ticks": ""
            },
            "colorscale": [
             [
              0,
              "#0d0887"
             ],
             [
              0.1111111111111111,
              "#46039f"
             ],
             [
              0.2222222222222222,
              "#7201a8"
             ],
             [
              0.3333333333333333,
              "#9c179e"
             ],
             [
              0.4444444444444444,
              "#bd3786"
             ],
             [
              0.5555555555555556,
              "#d8576b"
             ],
             [
              0.6666666666666666,
              "#ed7953"
             ],
             [
              0.7777777777777778,
              "#fb9f3a"
             ],
             [
              0.8888888888888888,
              "#fdca26"
             ],
             [
              1,
              "#f0f921"
             ]
            ],
            "type": "heatmap"
           }
          ],
          "histogram": [
           {
            "marker": {
             "pattern": {
              "fillmode": "overlay",
              "size": 10,
              "solidity": 0.2
             }
            },
            "type": "histogram"
           }
          ],
          "histogram2d": [
           {
            "colorbar": {
             "outlinewidth": 0,
             "ticks": ""
            },
            "colorscale": [
             [
              0,
              "#0d0887"
             ],
             [
              0.1111111111111111,
              "#46039f"
             ],
             [
              0.2222222222222222,
              "#7201a8"
             ],
             [
              0.3333333333333333,
              "#9c179e"
             ],
             [
              0.4444444444444444,
              "#bd3786"
             ],
             [
              0.5555555555555556,
              "#d8576b"
             ],
             [
              0.6666666666666666,
              "#ed7953"
             ],
             [
              0.7777777777777778,
              "#fb9f3a"
             ],
             [
              0.8888888888888888,
              "#fdca26"
             ],
             [
              1,
              "#f0f921"
             ]
            ],
            "type": "histogram2d"
           }
          ],
          "histogram2dcontour": [
           {
            "colorbar": {
             "outlinewidth": 0,
             "ticks": ""
            },
            "colorscale": [
             [
              0,
              "#0d0887"
             ],
             [
              0.1111111111111111,
              "#46039f"
             ],
             [
              0.2222222222222222,
              "#7201a8"
             ],
             [
              0.3333333333333333,
              "#9c179e"
             ],
             [
              0.4444444444444444,
              "#bd3786"
             ],
             [
              0.5555555555555556,
              "#d8576b"
             ],
             [
              0.6666666666666666,
              "#ed7953"
             ],
             [
              0.7777777777777778,
              "#fb9f3a"
             ],
             [
              0.8888888888888888,
              "#fdca26"
             ],
             [
              1,
              "#f0f921"
             ]
            ],
            "type": "histogram2dcontour"
           }
          ],
          "mesh3d": [
           {
            "colorbar": {
             "outlinewidth": 0,
             "ticks": ""
            },
            "type": "mesh3d"
           }
          ],
          "parcoords": [
           {
            "line": {
             "colorbar": {
              "outlinewidth": 0,
              "ticks": ""
             }
            },
            "type": "parcoords"
           }
          ],
          "pie": [
           {
            "automargin": true,
            "type": "pie"
           }
          ],
          "scatter": [
           {
            "fillpattern": {
             "fillmode": "overlay",
             "size": 10,
             "solidity": 0.2
            },
            "type": "scatter"
           }
          ],
          "scatter3d": [
           {
            "line": {
             "colorbar": {
              "outlinewidth": 0,
              "ticks": ""
             }
            },
            "marker": {
             "colorbar": {
              "outlinewidth": 0,
              "ticks": ""
             }
            },
            "type": "scatter3d"
           }
          ],
          "scattercarpet": [
           {
            "marker": {
             "colorbar": {
              "outlinewidth": 0,
              "ticks": ""
             }
            },
            "type": "scattercarpet"
           }
          ],
          "scattergeo": [
           {
            "marker": {
             "colorbar": {
              "outlinewidth": 0,
              "ticks": ""
             }
            },
            "type": "scattergeo"
           }
          ],
          "scattergl": [
           {
            "marker": {
             "colorbar": {
              "outlinewidth": 0,
              "ticks": ""
             }
            },
            "type": "scattergl"
           }
          ],
          "scattermap": [
           {
            "marker": {
             "colorbar": {
              "outlinewidth": 0,
              "ticks": ""
             }
            },
            "type": "scattermap"
           }
          ],
          "scattermapbox": [
           {
            "marker": {
             "colorbar": {
              "outlinewidth": 0,
              "ticks": ""
             }
            },
            "type": "scattermapbox"
           }
          ],
          "scatterpolar": [
           {
            "marker": {
             "colorbar": {
              "outlinewidth": 0,
              "ticks": ""
             }
            },
            "type": "scatterpolar"
           }
          ],
          "scatterpolargl": [
           {
            "marker": {
             "colorbar": {
              "outlinewidth": 0,
              "ticks": ""
             }
            },
            "type": "scatterpolargl"
           }
          ],
          "scatterternary": [
           {
            "marker": {
             "colorbar": {
              "outlinewidth": 0,
              "ticks": ""
             }
            },
            "type": "scatterternary"
           }
          ],
          "surface": [
           {
            "colorbar": {
             "outlinewidth": 0,
             "ticks": ""
            },
            "colorscale": [
             [
              0,
              "#0d0887"
             ],
             [
              0.1111111111111111,
              "#46039f"
             ],
             [
              0.2222222222222222,
              "#7201a8"
             ],
             [
              0.3333333333333333,
              "#9c179e"
             ],
             [
              0.4444444444444444,
              "#bd3786"
             ],
             [
              0.5555555555555556,
              "#d8576b"
             ],
             [
              0.6666666666666666,
              "#ed7953"
             ],
             [
              0.7777777777777778,
              "#fb9f3a"
             ],
             [
              0.8888888888888888,
              "#fdca26"
             ],
             [
              1,
              "#f0f921"
             ]
            ],
            "type": "surface"
           }
          ],
          "table": [
           {
            "cells": {
             "fill": {
              "color": "#EBF0F8"
             },
             "line": {
              "color": "white"
             }
            },
            "header": {
             "fill": {
              "color": "#C8D4E3"
             },
             "line": {
              "color": "white"
             }
            },
            "type": "table"
           }
          ]
         },
         "layout": {
          "annotationdefaults": {
           "arrowcolor": "#2a3f5f",
           "arrowhead": 0,
           "arrowwidth": 1
          },
          "autotypenumbers": "strict",
          "coloraxis": {
           "colorbar": {
            "outlinewidth": 0,
            "ticks": ""
           }
          },
          "colorscale": {
           "diverging": [
            [
             0,
             "#8e0152"
            ],
            [
             0.1,
             "#c51b7d"
            ],
            [
             0.2,
             "#de77ae"
            ],
            [
             0.3,
             "#f1b6da"
            ],
            [
             0.4,
             "#fde0ef"
            ],
            [
             0.5,
             "#f7f7f7"
            ],
            [
             0.6,
             "#e6f5d0"
            ],
            [
             0.7,
             "#b8e186"
            ],
            [
             0.8,
             "#7fbc41"
            ],
            [
             0.9,
             "#4d9221"
            ],
            [
             1,
             "#276419"
            ]
           ],
           "sequential": [
            [
             0,
             "#0d0887"
            ],
            [
             0.1111111111111111,
             "#46039f"
            ],
            [
             0.2222222222222222,
             "#7201a8"
            ],
            [
             0.3333333333333333,
             "#9c179e"
            ],
            [
             0.4444444444444444,
             "#bd3786"
            ],
            [
             0.5555555555555556,
             "#d8576b"
            ],
            [
             0.6666666666666666,
             "#ed7953"
            ],
            [
             0.7777777777777778,
             "#fb9f3a"
            ],
            [
             0.8888888888888888,
             "#fdca26"
            ],
            [
             1,
             "#f0f921"
            ]
           ],
           "sequentialminus": [
            [
             0,
             "#0d0887"
            ],
            [
             0.1111111111111111,
             "#46039f"
            ],
            [
             0.2222222222222222,
             "#7201a8"
            ],
            [
             0.3333333333333333,
             "#9c179e"
            ],
            [
             0.4444444444444444,
             "#bd3786"
            ],
            [
             0.5555555555555556,
             "#d8576b"
            ],
            [
             0.6666666666666666,
             "#ed7953"
            ],
            [
             0.7777777777777778,
             "#fb9f3a"
            ],
            [
             0.8888888888888888,
             "#fdca26"
            ],
            [
             1,
             "#f0f921"
            ]
           ]
          },
          "colorway": [
           "#636efa",
           "#EF553B",
           "#00cc96",
           "#ab63fa",
           "#FFA15A",
           "#19d3f3",
           "#FF6692",
           "#B6E880",
           "#FF97FF",
           "#FECB52"
          ],
          "font": {
           "color": "#2a3f5f"
          },
          "geo": {
           "bgcolor": "white",
           "lakecolor": "white",
           "landcolor": "#E5ECF6",
           "showlakes": true,
           "showland": true,
           "subunitcolor": "white"
          },
          "hoverlabel": {
           "align": "left"
          },
          "hovermode": "closest",
          "mapbox": {
           "style": "light"
          },
          "paper_bgcolor": "white",
          "plot_bgcolor": "#E5ECF6",
          "polar": {
           "angularaxis": {
            "gridcolor": "white",
            "linecolor": "white",
            "ticks": ""
           },
           "bgcolor": "#E5ECF6",
           "radialaxis": {
            "gridcolor": "white",
            "linecolor": "white",
            "ticks": ""
           }
          },
          "scene": {
           "xaxis": {
            "backgroundcolor": "#E5ECF6",
            "gridcolor": "white",
            "gridwidth": 2,
            "linecolor": "white",
            "showbackground": true,
            "ticks": "",
            "zerolinecolor": "white"
           },
           "yaxis": {
            "backgroundcolor": "#E5ECF6",
            "gridcolor": "white",
            "gridwidth": 2,
            "linecolor": "white",
            "showbackground": true,
            "ticks": "",
            "zerolinecolor": "white"
           },
           "zaxis": {
            "backgroundcolor": "#E5ECF6",
            "gridcolor": "white",
            "gridwidth": 2,
            "linecolor": "white",
            "showbackground": true,
            "ticks": "",
            "zerolinecolor": "white"
           }
          },
          "shapedefaults": {
           "line": {
            "color": "#2a3f5f"
           }
          },
          "ternary": {
           "aaxis": {
            "gridcolor": "white",
            "linecolor": "white",
            "ticks": ""
           },
           "baxis": {
            "gridcolor": "white",
            "linecolor": "white",
            "ticks": ""
           },
           "bgcolor": "#E5ECF6",
           "caxis": {
            "gridcolor": "white",
            "linecolor": "white",
            "ticks": ""
           }
          },
          "title": {
           "x": 0.05
          },
          "xaxis": {
           "automargin": true,
           "gridcolor": "white",
           "linecolor": "white",
           "ticks": "",
           "title": {
            "standoff": 15
           },
           "zerolinecolor": "white",
           "zerolinewidth": 2
          },
          "yaxis": {
           "automargin": true,
           "gridcolor": "white",
           "linecolor": "white",
           "ticks": "",
           "title": {
            "standoff": 15
           },
           "zerolinecolor": "white",
           "zerolinewidth": 2
          }
         }
        },
        "title": {
         "text": "Confusion Matrix"
        },
        "width": 500,
        "xaxis": {
         "anchor": "y",
         "constrain": "domain",
         "domain": [
          0,
          1
         ],
         "scaleanchor": "y",
         "title": {
          "text": "Predicted"
         }
        },
        "yaxis": {
         "anchor": "x",
         "autorange": "reversed",
         "constrain": "domain",
         "domain": [
          0,
          1
         ],
         "title": {
          "text": "True"
         }
        }
       }
      }
     },
     "metadata": {},
     "output_type": "display_data"
    },
    {
     "name": "stdout",
     "output_type": "stream",
     "text": [
      "Fold 5 metrics: Precision=0.975609756097561, Recall=0.9523809523809523, F1=0.963855421686747, PR AUC=0.9869718954202267, ROC AUC = 0.9902749832327298  Accuracy=0.9734513274336283, Log Loss=0.1347677106523067\n"
     ]
    }
   ],
   "source": [
    "for fold, (train_idx, test_idx) in enumerate(cv.split(X, y)):\n",
    "    print(f\"Fold {fold + 1}\")\n",
    "    \n",
    "    X_train, X_test = X.iloc[train_idx], X.iloc[test_idx]\n",
    "    y_train, y_test = y.iloc[train_idx], y.iloc[test_idx]\n",
    "    \n",
    "    scaler = MinMaxScaler()\n",
    "    X_train_scaled = scaler.fit_transform(X_train)\n",
    "    X_test_scaled = scaler.transform(X_test)\n",
    "    \n",
    "    model = xgb.XGBClassifier(\n",
    "        objective = 'binary:logistic',\n",
    "        eval_metric = 'logloss',\n",
    "        random_state = 42,\n",
    "        scale_pos_weight= 2\n",
    "    )\n",
    "    \n",
    "    model.fit(X_train_scaled, y_train)\n",
    "    \n",
    "    # # Create a CalibratedClassifierCV\n",
    "    # calibrated_model = CalibratedClassifierCV(model, method='sigmoid')\n",
    "    # calibrated_model.fit(X_train_scaled, y_train, eval_set=[(X_test_scaled, y_test)], verbose=False)  # Fit the calibration\n",
    "\n",
    "    y_pred = model.predict(X_test_scaled)\n",
    "    y_proba = model.predict_proba(X_test_scaled)[:, 1]\n",
    "    \n",
    "    # Print the classification report and confusion matrix\n",
    "    print(classification_report(y_test, y_pred))\n",
    "    print(\"\\nConfusion Matrix:\")\n",
    "    print(confusion_matrix(y_test, y_pred))\n",
    "    \n",
    "    cm = confusion_matrix(y_test, y_pred)\n",
    "    cm_norm = cm / cm.sum(axis=1)[:, np.newaxis]\n",
    "    \n",
    "    fig_confusion_matrix = px.imshow(cm_norm, labels=dict(x=\"Predicted\", y=\"True\"), \n",
    "                                     x=['Benign', 'Malignant'], y=['Benign', 'Malignant'], text_auto=True, color_continuous_scale=[[0.0, '#ee8ef5'], [1.0, 'rgb(50, 80, 168)']])\n",
    "    fig_confusion_matrix.update_layout(title=\"Confusion Matrix\", width=500, height=500, font=dict(\n",
    "        family=\"Arial, Courier New, monospace\",  # font family\n",
    "        size=12,                                 # font size (pixels)\n",
    "        color=\"darkblue\"                         # font color\n",
    "    ))\n",
    "    fig_confusion_matrix.show()\n",
    "    \n",
    "    # Compute fold metrics\n",
    "    fold_accuracy = accuracy_score(y_test, y_pred)\n",
    "    fold_precision = precision_score(y_test, y_pred)\n",
    "    fold_recall = recall_score(y_test, y_pred)\n",
    "    fold_f1 = f1_score(y_test, y_pred)\n",
    "    fold_roc_auc = roc_auc_score(y_test, y_proba)\n",
    "    fold_log_loss = log_loss(y_test, y_proba)\n",
    "    fold_pr_auc = average_precision_score(y_test, y_proba)\n",
    "\n",
    "\n",
    "    fold_metrics.append({'precision': fold_precision, 'recall': fold_recall, 'f1': fold_f1, 'pr_auc': fold_pr_auc, 'roc_auc': fold_roc_auc, 'accuracy': fold_accuracy, 'log_loss': fold_log_loss})\n",
    "\n",
    "    print(f\"Fold {fold + 1} metrics: Precision={fold_precision}, Recall={fold_recall}, F1={fold_f1}, PR AUC={fold_pr_auc}, ROC AUC = {fold_roc_auc}  Accuracy={fold_accuracy}, Log Loss={fold_log_loss}\")"
   ]
  },
  {
   "cell_type": "code",
   "execution_count": 131,
   "metadata": {},
   "outputs": [
    {
     "name": "stdout",
     "output_type": "stream",
     "text": [
      "\n",
      "Cross-Validation Results:\n",
      "Precision: 0.9536, Recall: 0.9483,  F1 Score: 0.9502, PR AUC: 0.9907, Accuracy: 0.9631, Log Loss: 0.1049\n"
     ]
    },
    {
     "data": {
      "application/vnd.plotly.v1+json": {
       "config": {
        "plotlyServerURL": "https://plot.ly"
       },
       "data": [
        {
         "hovertemplate": "color=Accuracy<br>Metric=%{x}<br>Value=%{y}<extra></extra>",
         "legendgroup": "Accuracy",
         "marker": {
          "color": "#ee8ef5",
          "pattern": {
           "shape": ""
          }
         },
         "name": "Accuracy",
         "orientation": "v",
         "showlegend": true,
         "textposition": "auto",
         "type": "bar",
         "x": [
          "Accuracy"
         ],
         "xaxis": "x",
         "y": {
          "bdata": "4De3087R7j8=",
          "dtype": "f8"
         },
         "yaxis": "y"
        },
        {
         "hovertemplate": "color=Precision<br>Metric=%{x}<br>Value=%{y}<extra></extra>",
         "legendgroup": "Precision",
         "marker": {
          "color": "rgb(176, 255, 221)",
          "pattern": {
           "shape": ""
          }
         },
         "name": "Precision",
         "orientation": "v",
         "showlegend": true,
         "textposition": "auto",
         "type": "bar",
         "x": [
          "Precision"
         ],
         "xaxis": "x",
         "y": {
          "bdata": "Cue9ezeE7j8=",
          "dtype": "f8"
         },
         "yaxis": "y"
        },
        {
         "hovertemplate": "color=Recall<br>Metric=%{x}<br>Value=%{y}<extra></extra>",
         "legendgroup": "Recall",
         "marker": {
          "color": "rgb(50, 80, 168)",
          "pattern": {
           "shape": ""
          }
         },
         "name": "Recall",
         "orientation": "v",
         "showlegend": true,
         "textposition": "auto",
         "type": "bar",
         "x": [
          "Recall"
         ],
         "xaxis": "x",
         "y": {
          "bdata": "/akuo1ZY7j8=",
          "dtype": "f8"
         },
         "yaxis": "y"
        },
        {
         "hovertemplate": "color=F1<br>Metric=%{x}<br>Value=%{y}<extra></extra>",
         "legendgroup": "F1",
         "marker": {
          "color": "rgb(254, 255, 186)",
          "pattern": {
           "shape": ""
          }
         },
         "name": "F1",
         "orientation": "v",
         "showlegend": true,
         "textposition": "auto",
         "type": "bar",
         "x": [
          "F1"
         ],
         "xaxis": "x",
         "y": {
          "bdata": "1sfaD7Zn7j8=",
          "dtype": "f8"
         },
         "yaxis": "y"
        },
        {
         "hovertemplate": "color=ROC-AUC<br>Metric=%{x}<br>Value=%{y}<extra></extra>",
         "legendgroup": "ROC-AUC",
         "marker": {
          "color": "#19d3f3",
          "pattern": {
           "shape": ""
          }
         },
         "name": "ROC-AUC",
         "orientation": "v",
         "showlegend": true,
         "textposition": "auto",
         "type": "bar",
         "x": [
          "PR-AUC"
         ],
         "xaxis": "x",
         "y": {
          "bdata": "ou7RuLOz7z8=",
          "dtype": "f8"
         },
         "yaxis": "y"
        }
       ],
       "layout": {
        "barmode": "relative",
        "font": {
         "color": "darkblue",
         "family": "Arial, Courier New, monospace",
         "size": 15
        },
        "height": 500,
        "legend": {
         "title": {
          "text": "color"
         },
         "tracegroupgap": 0
        },
        "margin": {
         "t": 60
        },
        "plot_bgcolor": "white",
        "template": {
         "data": {
          "bar": [
           {
            "error_x": {
             "color": "#2a3f5f"
            },
            "error_y": {
             "color": "#2a3f5f"
            },
            "marker": {
             "line": {
              "color": "#E5ECF6",
              "width": 0.5
             },
             "pattern": {
              "fillmode": "overlay",
              "size": 10,
              "solidity": 0.2
             }
            },
            "type": "bar"
           }
          ],
          "barpolar": [
           {
            "marker": {
             "line": {
              "color": "#E5ECF6",
              "width": 0.5
             },
             "pattern": {
              "fillmode": "overlay",
              "size": 10,
              "solidity": 0.2
             }
            },
            "type": "barpolar"
           }
          ],
          "carpet": [
           {
            "aaxis": {
             "endlinecolor": "#2a3f5f",
             "gridcolor": "white",
             "linecolor": "white",
             "minorgridcolor": "white",
             "startlinecolor": "#2a3f5f"
            },
            "baxis": {
             "endlinecolor": "#2a3f5f",
             "gridcolor": "white",
             "linecolor": "white",
             "minorgridcolor": "white",
             "startlinecolor": "#2a3f5f"
            },
            "type": "carpet"
           }
          ],
          "choropleth": [
           {
            "colorbar": {
             "outlinewidth": 0,
             "ticks": ""
            },
            "type": "choropleth"
           }
          ],
          "contour": [
           {
            "colorbar": {
             "outlinewidth": 0,
             "ticks": ""
            },
            "colorscale": [
             [
              0,
              "#0d0887"
             ],
             [
              0.1111111111111111,
              "#46039f"
             ],
             [
              0.2222222222222222,
              "#7201a8"
             ],
             [
              0.3333333333333333,
              "#9c179e"
             ],
             [
              0.4444444444444444,
              "#bd3786"
             ],
             [
              0.5555555555555556,
              "#d8576b"
             ],
             [
              0.6666666666666666,
              "#ed7953"
             ],
             [
              0.7777777777777778,
              "#fb9f3a"
             ],
             [
              0.8888888888888888,
              "#fdca26"
             ],
             [
              1,
              "#f0f921"
             ]
            ],
            "type": "contour"
           }
          ],
          "contourcarpet": [
           {
            "colorbar": {
             "outlinewidth": 0,
             "ticks": ""
            },
            "type": "contourcarpet"
           }
          ],
          "heatmap": [
           {
            "colorbar": {
             "outlinewidth": 0,
             "ticks": ""
            },
            "colorscale": [
             [
              0,
              "#0d0887"
             ],
             [
              0.1111111111111111,
              "#46039f"
             ],
             [
              0.2222222222222222,
              "#7201a8"
             ],
             [
              0.3333333333333333,
              "#9c179e"
             ],
             [
              0.4444444444444444,
              "#bd3786"
             ],
             [
              0.5555555555555556,
              "#d8576b"
             ],
             [
              0.6666666666666666,
              "#ed7953"
             ],
             [
              0.7777777777777778,
              "#fb9f3a"
             ],
             [
              0.8888888888888888,
              "#fdca26"
             ],
             [
              1,
              "#f0f921"
             ]
            ],
            "type": "heatmap"
           }
          ],
          "histogram": [
           {
            "marker": {
             "pattern": {
              "fillmode": "overlay",
              "size": 10,
              "solidity": 0.2
             }
            },
            "type": "histogram"
           }
          ],
          "histogram2d": [
           {
            "colorbar": {
             "outlinewidth": 0,
             "ticks": ""
            },
            "colorscale": [
             [
              0,
              "#0d0887"
             ],
             [
              0.1111111111111111,
              "#46039f"
             ],
             [
              0.2222222222222222,
              "#7201a8"
             ],
             [
              0.3333333333333333,
              "#9c179e"
             ],
             [
              0.4444444444444444,
              "#bd3786"
             ],
             [
              0.5555555555555556,
              "#d8576b"
             ],
             [
              0.6666666666666666,
              "#ed7953"
             ],
             [
              0.7777777777777778,
              "#fb9f3a"
             ],
             [
              0.8888888888888888,
              "#fdca26"
             ],
             [
              1,
              "#f0f921"
             ]
            ],
            "type": "histogram2d"
           }
          ],
          "histogram2dcontour": [
           {
            "colorbar": {
             "outlinewidth": 0,
             "ticks": ""
            },
            "colorscale": [
             [
              0,
              "#0d0887"
             ],
             [
              0.1111111111111111,
              "#46039f"
             ],
             [
              0.2222222222222222,
              "#7201a8"
             ],
             [
              0.3333333333333333,
              "#9c179e"
             ],
             [
              0.4444444444444444,
              "#bd3786"
             ],
             [
              0.5555555555555556,
              "#d8576b"
             ],
             [
              0.6666666666666666,
              "#ed7953"
             ],
             [
              0.7777777777777778,
              "#fb9f3a"
             ],
             [
              0.8888888888888888,
              "#fdca26"
             ],
             [
              1,
              "#f0f921"
             ]
            ],
            "type": "histogram2dcontour"
           }
          ],
          "mesh3d": [
           {
            "colorbar": {
             "outlinewidth": 0,
             "ticks": ""
            },
            "type": "mesh3d"
           }
          ],
          "parcoords": [
           {
            "line": {
             "colorbar": {
              "outlinewidth": 0,
              "ticks": ""
             }
            },
            "type": "parcoords"
           }
          ],
          "pie": [
           {
            "automargin": true,
            "type": "pie"
           }
          ],
          "scatter": [
           {
            "fillpattern": {
             "fillmode": "overlay",
             "size": 10,
             "solidity": 0.2
            },
            "type": "scatter"
           }
          ],
          "scatter3d": [
           {
            "line": {
             "colorbar": {
              "outlinewidth": 0,
              "ticks": ""
             }
            },
            "marker": {
             "colorbar": {
              "outlinewidth": 0,
              "ticks": ""
             }
            },
            "type": "scatter3d"
           }
          ],
          "scattercarpet": [
           {
            "marker": {
             "colorbar": {
              "outlinewidth": 0,
              "ticks": ""
             }
            },
            "type": "scattercarpet"
           }
          ],
          "scattergeo": [
           {
            "marker": {
             "colorbar": {
              "outlinewidth": 0,
              "ticks": ""
             }
            },
            "type": "scattergeo"
           }
          ],
          "scattergl": [
           {
            "marker": {
             "colorbar": {
              "outlinewidth": 0,
              "ticks": ""
             }
            },
            "type": "scattergl"
           }
          ],
          "scattermap": [
           {
            "marker": {
             "colorbar": {
              "outlinewidth": 0,
              "ticks": ""
             }
            },
            "type": "scattermap"
           }
          ],
          "scattermapbox": [
           {
            "marker": {
             "colorbar": {
              "outlinewidth": 0,
              "ticks": ""
             }
            },
            "type": "scattermapbox"
           }
          ],
          "scatterpolar": [
           {
            "marker": {
             "colorbar": {
              "outlinewidth": 0,
              "ticks": ""
             }
            },
            "type": "scatterpolar"
           }
          ],
          "scatterpolargl": [
           {
            "marker": {
             "colorbar": {
              "outlinewidth": 0,
              "ticks": ""
             }
            },
            "type": "scatterpolargl"
           }
          ],
          "scatterternary": [
           {
            "marker": {
             "colorbar": {
              "outlinewidth": 0,
              "ticks": ""
             }
            },
            "type": "scatterternary"
           }
          ],
          "surface": [
           {
            "colorbar": {
             "outlinewidth": 0,
             "ticks": ""
            },
            "colorscale": [
             [
              0,
              "#0d0887"
             ],
             [
              0.1111111111111111,
              "#46039f"
             ],
             [
              0.2222222222222222,
              "#7201a8"
             ],
             [
              0.3333333333333333,
              "#9c179e"
             ],
             [
              0.4444444444444444,
              "#bd3786"
             ],
             [
              0.5555555555555556,
              "#d8576b"
             ],
             [
              0.6666666666666666,
              "#ed7953"
             ],
             [
              0.7777777777777778,
              "#fb9f3a"
             ],
             [
              0.8888888888888888,
              "#fdca26"
             ],
             [
              1,
              "#f0f921"
             ]
            ],
            "type": "surface"
           }
          ],
          "table": [
           {
            "cells": {
             "fill": {
              "color": "#EBF0F8"
             },
             "line": {
              "color": "white"
             }
            },
            "header": {
             "fill": {
              "color": "#C8D4E3"
             },
             "line": {
              "color": "white"
             }
            },
            "type": "table"
           }
          ]
         },
         "layout": {
          "annotationdefaults": {
           "arrowcolor": "#2a3f5f",
           "arrowhead": 0,
           "arrowwidth": 1
          },
          "autotypenumbers": "strict",
          "coloraxis": {
           "colorbar": {
            "outlinewidth": 0,
            "ticks": ""
           }
          },
          "colorscale": {
           "diverging": [
            [
             0,
             "#8e0152"
            ],
            [
             0.1,
             "#c51b7d"
            ],
            [
             0.2,
             "#de77ae"
            ],
            [
             0.3,
             "#f1b6da"
            ],
            [
             0.4,
             "#fde0ef"
            ],
            [
             0.5,
             "#f7f7f7"
            ],
            [
             0.6,
             "#e6f5d0"
            ],
            [
             0.7,
             "#b8e186"
            ],
            [
             0.8,
             "#7fbc41"
            ],
            [
             0.9,
             "#4d9221"
            ],
            [
             1,
             "#276419"
            ]
           ],
           "sequential": [
            [
             0,
             "#0d0887"
            ],
            [
             0.1111111111111111,
             "#46039f"
            ],
            [
             0.2222222222222222,
             "#7201a8"
            ],
            [
             0.3333333333333333,
             "#9c179e"
            ],
            [
             0.4444444444444444,
             "#bd3786"
            ],
            [
             0.5555555555555556,
             "#d8576b"
            ],
            [
             0.6666666666666666,
             "#ed7953"
            ],
            [
             0.7777777777777778,
             "#fb9f3a"
            ],
            [
             0.8888888888888888,
             "#fdca26"
            ],
            [
             1,
             "#f0f921"
            ]
           ],
           "sequentialminus": [
            [
             0,
             "#0d0887"
            ],
            [
             0.1111111111111111,
             "#46039f"
            ],
            [
             0.2222222222222222,
             "#7201a8"
            ],
            [
             0.3333333333333333,
             "#9c179e"
            ],
            [
             0.4444444444444444,
             "#bd3786"
            ],
            [
             0.5555555555555556,
             "#d8576b"
            ],
            [
             0.6666666666666666,
             "#ed7953"
            ],
            [
             0.7777777777777778,
             "#fb9f3a"
            ],
            [
             0.8888888888888888,
             "#fdca26"
            ],
            [
             1,
             "#f0f921"
            ]
           ]
          },
          "colorway": [
           "#636efa",
           "#EF553B",
           "#00cc96",
           "#ab63fa",
           "#FFA15A",
           "#19d3f3",
           "#FF6692",
           "#B6E880",
           "#FF97FF",
           "#FECB52"
          ],
          "font": {
           "color": "#2a3f5f"
          },
          "geo": {
           "bgcolor": "white",
           "lakecolor": "white",
           "landcolor": "#E5ECF6",
           "showlakes": true,
           "showland": true,
           "subunitcolor": "white"
          },
          "hoverlabel": {
           "align": "left"
          },
          "hovermode": "closest",
          "mapbox": {
           "style": "light"
          },
          "paper_bgcolor": "white",
          "plot_bgcolor": "#E5ECF6",
          "polar": {
           "angularaxis": {
            "gridcolor": "white",
            "linecolor": "white",
            "ticks": ""
           },
           "bgcolor": "#E5ECF6",
           "radialaxis": {
            "gridcolor": "white",
            "linecolor": "white",
            "ticks": ""
           }
          },
          "scene": {
           "xaxis": {
            "backgroundcolor": "#E5ECF6",
            "gridcolor": "white",
            "gridwidth": 2,
            "linecolor": "white",
            "showbackground": true,
            "ticks": "",
            "zerolinecolor": "white"
           },
           "yaxis": {
            "backgroundcolor": "#E5ECF6",
            "gridcolor": "white",
            "gridwidth": 2,
            "linecolor": "white",
            "showbackground": true,
            "ticks": "",
            "zerolinecolor": "white"
           },
           "zaxis": {
            "backgroundcolor": "#E5ECF6",
            "gridcolor": "white",
            "gridwidth": 2,
            "linecolor": "white",
            "showbackground": true,
            "ticks": "",
            "zerolinecolor": "white"
           }
          },
          "shapedefaults": {
           "line": {
            "color": "#2a3f5f"
           }
          },
          "ternary": {
           "aaxis": {
            "gridcolor": "white",
            "linecolor": "white",
            "ticks": ""
           },
           "baxis": {
            "gridcolor": "white",
            "linecolor": "white",
            "ticks": ""
           },
           "bgcolor": "#E5ECF6",
           "caxis": {
            "gridcolor": "white",
            "linecolor": "white",
            "ticks": ""
           }
          },
          "title": {
           "x": 0.05
          },
          "xaxis": {
           "automargin": true,
           "gridcolor": "white",
           "linecolor": "white",
           "ticks": "",
           "title": {
            "standoff": 15
           },
           "zerolinecolor": "white",
           "zerolinewidth": 2
          },
          "yaxis": {
           "automargin": true,
           "gridcolor": "white",
           "linecolor": "white",
           "ticks": "",
           "title": {
            "standoff": 15
           },
           "zerolinecolor": "white",
           "zerolinewidth": 2
          }
         }
        },
        "title": {
         "text": "Model Metrics"
        },
        "width": 1000,
        "xaxis": {
         "anchor": "y",
         "domain": [
          0,
          1
         ],
         "gridcolor": "rgb(242,242,242)",
         "linecolor": "rgb(242,242,242)",
         "mirror": true,
         "showline": true,
         "ticks": "outside",
         "title": {
          "text": "Metric"
         }
        },
        "yaxis": {
         "anchor": "x",
         "domain": [
          0,
          1
         ],
         "gridcolor": "rgb(242,242,242)",
         "linecolor": "rgb(242,242,242)",
         "mirror": true,
         "showline": true,
         "ticks": "outside",
         "title": {
          "text": "Value"
         }
        }
       }
      }
     },
     "metadata": {},
     "output_type": "display_data"
    }
   ],
   "source": [
    "# Aggregate metrics\n",
    "mean_precision = np.mean([m['precision'] for m in fold_metrics])\n",
    "mean_recall = np.mean([m['recall'] for m in fold_metrics])\n",
    "mean_f1 = np.mean([m['f1'] for m in fold_metrics])\n",
    "mean_pr_auc = np.mean([m['pr_auc'] for m in fold_metrics])\n",
    "mean_accuracy = np.mean([m['accuracy'] for m in fold_metrics])\n",
    "mean_log_loss = np.mean([m['log_loss'] for m in fold_metrics])\n",
    "\n",
    "\n",
    "print(f\"\\nCross-Validation Results:\\nPrecision: {mean_precision:.4f}, Recall: {mean_recall:.4f},  F1 Score: {mean_f1:.4f}, PR AUC: {mean_pr_auc:.4f}, Accuracy: {mean_accuracy:.4f}, Log Loss: {mean_log_loss:.4f}\")\n",
    "\n",
    "# Create bar chart for accuracy, precision, recall, f1, and roc_auc\n",
    "fig_metrics = px.bar(x=['Accuracy', 'Precision', 'Recall', 'F1', 'PR-AUC'], y=[mean_accuracy, mean_precision, mean_recall,mean_f1, mean_pr_auc], \n",
    "                labels={'x': 'Metric', 'y': 'Value'}, color=['Accuracy', 'Precision', 'Recall', 'F1', 'ROC-AUC'], \n",
    "                color_discrete_map={'Accuracy': '#ee8ef5', 'Precision': 'rgb(176, 255, 221)', 'Recall': 'rgb(50, 80, 168)', 'F1': 'rgb(254, 255, 186)', 'PR-AUC': 'rgb(163, 231, 240)'})\n",
    "\n",
    "fig_metrics.update_layout(title=\"Model Metrics\", width=1000, height=500)\n",
    "fig_metrics.update_layout(font=dict(\n",
    "        family=\"Arial, Courier New, monospace\",  # font family\n",
    "        size=15,                                 # font size (pixels)\n",
    "        color=\"darkblue\"                         # font color\n",
    "    ))\n",
    "fig_metrics.update_layout(plot_bgcolor='white')\n",
    "fig_metrics.update_xaxes(\n",
    "                mirror=True,\n",
    "                ticks='outside',\n",
    "                showline=True,\n",
    "                linecolor='rgb(242,242,242)',\n",
    "                gridcolor='rgb(242,242,242)'\n",
    "            )\n",
    "fig_metrics.update_yaxes(\n",
    "                mirror=True,\n",
    "                ticks='outside',\n",
    "                showline=True,\n",
    "                linecolor='rgb(242,242,242)',\n",
    "                gridcolor='rgb(242,242,242)'\n",
    "            )\n",
    "fig_metrics.show()\n",
    "\n",
    "# filename = f\"fig_metrics.pdf\"\n",
    "# fig_metrics.write_image(filename)"
   ]
  },
  {
   "cell_type": "code",
   "execution_count": 132,
   "metadata": {},
   "outputs": [
    {
     "name": "stdout",
     "output_type": "stream",
     "text": [
      "Number of features: 30\n",
      "Number of feature importances: 30\n"
     ]
    },
    {
     "data": {
      "application/vnd.plotly.v1+json": {
       "config": {
        "plotlyServerURL": "https://plot.ly"
       },
       "data": [
        {
         "hovertemplate": "Feature=%{x}<br>Feature importance=%{marker.color}<extra></extra>",
         "legendgroup": "",
         "marker": {
          "color": {
           "bdata": "h4EhPz4bgT1dEHE9pfIGPXHL5DwHB7s8bpWJPPubYzxTlVo8crhTPC5dUzy6rjM8kzwlPOCqGDzLh/w7XmH1O+D87zvZ1Og7RW7QO5yawzuhT787Mdd7Ox5QSjshJRE7yI/zOjfRqDpppqU6yKaaOnqJSToAAAAA",
           "dtype": "f4"
          },
          "coloraxis": "coloraxis",
          "pattern": {
           "shape": ""
          }
         },
         "name": "",
         "orientation": "v",
         "showlegend": false,
         "textposition": "auto",
         "texttemplate": "%{y}",
         "type": "bar",
         "x": [
          "perimeter_worst",
          "concave_points_worst",
          "radius_worst",
          "compactness_worst",
          "concave_points_mean",
          "radius_se",
          "perimeter_se",
          "smoothness_worst",
          "concavity_se",
          "radius_mean",
          "texture_mean",
          "concavity_worst",
          "concave_points_se",
          "texture_worst",
          "perimeter_mean",
          "concavity_mean",
          "area_se",
          "texture_se",
          "area_worst",
          "smoothness_mean",
          "compactness_mean",
          "fractal_dimension_se",
          "fractal_dimension_worst",
          "symmetry_worst",
          "area_mean",
          "symmetry_mean",
          "compactness_se",
          "smoothness_se",
          "symmetry_se",
          "fractal_dimension_mean"
         ],
         "xaxis": "x",
         "y": {
          "bdata": "h4EhPz4bgT1dEHE9pfIGPXHL5DwHB7s8bpWJPPubYzxTlVo8crhTPC5dUzy6rjM8kzwlPOCqGDzLh/w7XmH1O+D87zvZ1Og7RW7QO5yawzuhT787Mdd7Ox5QSjshJRE7yI/zOjfRqDpppqU6yKaaOnqJSToAAAAA",
          "dtype": "f4"
         },
         "yaxis": "y"
        }
       ],
       "layout": {
        "barmode": "relative",
        "coloraxis": {
         "colorbar": {
          "title": {
           "text": "Feature importance"
          }
         },
         "colorscale": [
          [
           0,
           "#0d0887"
          ],
          [
           0.1111111111111111,
           "#46039f"
          ],
          [
           0.2222222222222222,
           "#7201a8"
          ],
          [
           0.3333333333333333,
           "#9c179e"
          ],
          [
           0.4444444444444444,
           "#bd3786"
          ],
          [
           0.5555555555555556,
           "#d8576b"
          ],
          [
           0.6666666666666666,
           "#ed7953"
          ],
          [
           0.7777777777777778,
           "#fb9f3a"
          ],
          [
           0.8888888888888888,
           "#fdca26"
          ],
          [
           1,
           "#f0f921"
          ]
         ]
        },
        "font": {
         "color": "darkblue",
         "family": "Arial, Courier New, monospace",
         "size": 15
        },
        "height": 700,
        "legend": {
         "tracegroupgap": 0
        },
        "plot_bgcolor": "white",
        "template": {
         "data": {
          "bar": [
           {
            "error_x": {
             "color": "#2a3f5f"
            },
            "error_y": {
             "color": "#2a3f5f"
            },
            "marker": {
             "line": {
              "color": "#E5ECF6",
              "width": 0.5
             },
             "pattern": {
              "fillmode": "overlay",
              "size": 10,
              "solidity": 0.2
             }
            },
            "type": "bar"
           }
          ],
          "barpolar": [
           {
            "marker": {
             "line": {
              "color": "#E5ECF6",
              "width": 0.5
             },
             "pattern": {
              "fillmode": "overlay",
              "size": 10,
              "solidity": 0.2
             }
            },
            "type": "barpolar"
           }
          ],
          "carpet": [
           {
            "aaxis": {
             "endlinecolor": "#2a3f5f",
             "gridcolor": "white",
             "linecolor": "white",
             "minorgridcolor": "white",
             "startlinecolor": "#2a3f5f"
            },
            "baxis": {
             "endlinecolor": "#2a3f5f",
             "gridcolor": "white",
             "linecolor": "white",
             "minorgridcolor": "white",
             "startlinecolor": "#2a3f5f"
            },
            "type": "carpet"
           }
          ],
          "choropleth": [
           {
            "colorbar": {
             "outlinewidth": 0,
             "ticks": ""
            },
            "type": "choropleth"
           }
          ],
          "contour": [
           {
            "colorbar": {
             "outlinewidth": 0,
             "ticks": ""
            },
            "colorscale": [
             [
              0,
              "#0d0887"
             ],
             [
              0.1111111111111111,
              "#46039f"
             ],
             [
              0.2222222222222222,
              "#7201a8"
             ],
             [
              0.3333333333333333,
              "#9c179e"
             ],
             [
              0.4444444444444444,
              "#bd3786"
             ],
             [
              0.5555555555555556,
              "#d8576b"
             ],
             [
              0.6666666666666666,
              "#ed7953"
             ],
             [
              0.7777777777777778,
              "#fb9f3a"
             ],
             [
              0.8888888888888888,
              "#fdca26"
             ],
             [
              1,
              "#f0f921"
             ]
            ],
            "type": "contour"
           }
          ],
          "contourcarpet": [
           {
            "colorbar": {
             "outlinewidth": 0,
             "ticks": ""
            },
            "type": "contourcarpet"
           }
          ],
          "heatmap": [
           {
            "colorbar": {
             "outlinewidth": 0,
             "ticks": ""
            },
            "colorscale": [
             [
              0,
              "#0d0887"
             ],
             [
              0.1111111111111111,
              "#46039f"
             ],
             [
              0.2222222222222222,
              "#7201a8"
             ],
             [
              0.3333333333333333,
              "#9c179e"
             ],
             [
              0.4444444444444444,
              "#bd3786"
             ],
             [
              0.5555555555555556,
              "#d8576b"
             ],
             [
              0.6666666666666666,
              "#ed7953"
             ],
             [
              0.7777777777777778,
              "#fb9f3a"
             ],
             [
              0.8888888888888888,
              "#fdca26"
             ],
             [
              1,
              "#f0f921"
             ]
            ],
            "type": "heatmap"
           }
          ],
          "histogram": [
           {
            "marker": {
             "pattern": {
              "fillmode": "overlay",
              "size": 10,
              "solidity": 0.2
             }
            },
            "type": "histogram"
           }
          ],
          "histogram2d": [
           {
            "colorbar": {
             "outlinewidth": 0,
             "ticks": ""
            },
            "colorscale": [
             [
              0,
              "#0d0887"
             ],
             [
              0.1111111111111111,
              "#46039f"
             ],
             [
              0.2222222222222222,
              "#7201a8"
             ],
             [
              0.3333333333333333,
              "#9c179e"
             ],
             [
              0.4444444444444444,
              "#bd3786"
             ],
             [
              0.5555555555555556,
              "#d8576b"
             ],
             [
              0.6666666666666666,
              "#ed7953"
             ],
             [
              0.7777777777777778,
              "#fb9f3a"
             ],
             [
              0.8888888888888888,
              "#fdca26"
             ],
             [
              1,
              "#f0f921"
             ]
            ],
            "type": "histogram2d"
           }
          ],
          "histogram2dcontour": [
           {
            "colorbar": {
             "outlinewidth": 0,
             "ticks": ""
            },
            "colorscale": [
             [
              0,
              "#0d0887"
             ],
             [
              0.1111111111111111,
              "#46039f"
             ],
             [
              0.2222222222222222,
              "#7201a8"
             ],
             [
              0.3333333333333333,
              "#9c179e"
             ],
             [
              0.4444444444444444,
              "#bd3786"
             ],
             [
              0.5555555555555556,
              "#d8576b"
             ],
             [
              0.6666666666666666,
              "#ed7953"
             ],
             [
              0.7777777777777778,
              "#fb9f3a"
             ],
             [
              0.8888888888888888,
              "#fdca26"
             ],
             [
              1,
              "#f0f921"
             ]
            ],
            "type": "histogram2dcontour"
           }
          ],
          "mesh3d": [
           {
            "colorbar": {
             "outlinewidth": 0,
             "ticks": ""
            },
            "type": "mesh3d"
           }
          ],
          "parcoords": [
           {
            "line": {
             "colorbar": {
              "outlinewidth": 0,
              "ticks": ""
             }
            },
            "type": "parcoords"
           }
          ],
          "pie": [
           {
            "automargin": true,
            "type": "pie"
           }
          ],
          "scatter": [
           {
            "fillpattern": {
             "fillmode": "overlay",
             "size": 10,
             "solidity": 0.2
            },
            "type": "scatter"
           }
          ],
          "scatter3d": [
           {
            "line": {
             "colorbar": {
              "outlinewidth": 0,
              "ticks": ""
             }
            },
            "marker": {
             "colorbar": {
              "outlinewidth": 0,
              "ticks": ""
             }
            },
            "type": "scatter3d"
           }
          ],
          "scattercarpet": [
           {
            "marker": {
             "colorbar": {
              "outlinewidth": 0,
              "ticks": ""
             }
            },
            "type": "scattercarpet"
           }
          ],
          "scattergeo": [
           {
            "marker": {
             "colorbar": {
              "outlinewidth": 0,
              "ticks": ""
             }
            },
            "type": "scattergeo"
           }
          ],
          "scattergl": [
           {
            "marker": {
             "colorbar": {
              "outlinewidth": 0,
              "ticks": ""
             }
            },
            "type": "scattergl"
           }
          ],
          "scattermap": [
           {
            "marker": {
             "colorbar": {
              "outlinewidth": 0,
              "ticks": ""
             }
            },
            "type": "scattermap"
           }
          ],
          "scattermapbox": [
           {
            "marker": {
             "colorbar": {
              "outlinewidth": 0,
              "ticks": ""
             }
            },
            "type": "scattermapbox"
           }
          ],
          "scatterpolar": [
           {
            "marker": {
             "colorbar": {
              "outlinewidth": 0,
              "ticks": ""
             }
            },
            "type": "scatterpolar"
           }
          ],
          "scatterpolargl": [
           {
            "marker": {
             "colorbar": {
              "outlinewidth": 0,
              "ticks": ""
             }
            },
            "type": "scatterpolargl"
           }
          ],
          "scatterternary": [
           {
            "marker": {
             "colorbar": {
              "outlinewidth": 0,
              "ticks": ""
             }
            },
            "type": "scatterternary"
           }
          ],
          "surface": [
           {
            "colorbar": {
             "outlinewidth": 0,
             "ticks": ""
            },
            "colorscale": [
             [
              0,
              "#0d0887"
             ],
             [
              0.1111111111111111,
              "#46039f"
             ],
             [
              0.2222222222222222,
              "#7201a8"
             ],
             [
              0.3333333333333333,
              "#9c179e"
             ],
             [
              0.4444444444444444,
              "#bd3786"
             ],
             [
              0.5555555555555556,
              "#d8576b"
             ],
             [
              0.6666666666666666,
              "#ed7953"
             ],
             [
              0.7777777777777778,
              "#fb9f3a"
             ],
             [
              0.8888888888888888,
              "#fdca26"
             ],
             [
              1,
              "#f0f921"
             ]
            ],
            "type": "surface"
           }
          ],
          "table": [
           {
            "cells": {
             "fill": {
              "color": "#EBF0F8"
             },
             "line": {
              "color": "white"
             }
            },
            "header": {
             "fill": {
              "color": "#C8D4E3"
             },
             "line": {
              "color": "white"
             }
            },
            "type": "table"
           }
          ]
         },
         "layout": {
          "annotationdefaults": {
           "arrowcolor": "#2a3f5f",
           "arrowhead": 0,
           "arrowwidth": 1
          },
          "autotypenumbers": "strict",
          "coloraxis": {
           "colorbar": {
            "outlinewidth": 0,
            "ticks": ""
           }
          },
          "colorscale": {
           "diverging": [
            [
             0,
             "#8e0152"
            ],
            [
             0.1,
             "#c51b7d"
            ],
            [
             0.2,
             "#de77ae"
            ],
            [
             0.3,
             "#f1b6da"
            ],
            [
             0.4,
             "#fde0ef"
            ],
            [
             0.5,
             "#f7f7f7"
            ],
            [
             0.6,
             "#e6f5d0"
            ],
            [
             0.7,
             "#b8e186"
            ],
            [
             0.8,
             "#7fbc41"
            ],
            [
             0.9,
             "#4d9221"
            ],
            [
             1,
             "#276419"
            ]
           ],
           "sequential": [
            [
             0,
             "#0d0887"
            ],
            [
             0.1111111111111111,
             "#46039f"
            ],
            [
             0.2222222222222222,
             "#7201a8"
            ],
            [
             0.3333333333333333,
             "#9c179e"
            ],
            [
             0.4444444444444444,
             "#bd3786"
            ],
            [
             0.5555555555555556,
             "#d8576b"
            ],
            [
             0.6666666666666666,
             "#ed7953"
            ],
            [
             0.7777777777777778,
             "#fb9f3a"
            ],
            [
             0.8888888888888888,
             "#fdca26"
            ],
            [
             1,
             "#f0f921"
            ]
           ],
           "sequentialminus": [
            [
             0,
             "#0d0887"
            ],
            [
             0.1111111111111111,
             "#46039f"
            ],
            [
             0.2222222222222222,
             "#7201a8"
            ],
            [
             0.3333333333333333,
             "#9c179e"
            ],
            [
             0.4444444444444444,
             "#bd3786"
            ],
            [
             0.5555555555555556,
             "#d8576b"
            ],
            [
             0.6666666666666666,
             "#ed7953"
            ],
            [
             0.7777777777777778,
             "#fb9f3a"
            ],
            [
             0.8888888888888888,
             "#fdca26"
            ],
            [
             1,
             "#f0f921"
            ]
           ]
          },
          "colorway": [
           "#636efa",
           "#EF553B",
           "#00cc96",
           "#ab63fa",
           "#FFA15A",
           "#19d3f3",
           "#FF6692",
           "#B6E880",
           "#FF97FF",
           "#FECB52"
          ],
          "font": {
           "color": "#2a3f5f"
          },
          "geo": {
           "bgcolor": "white",
           "lakecolor": "white",
           "landcolor": "#E5ECF6",
           "showlakes": true,
           "showland": true,
           "subunitcolor": "white"
          },
          "hoverlabel": {
           "align": "left"
          },
          "hovermode": "closest",
          "mapbox": {
           "style": "light"
          },
          "paper_bgcolor": "white",
          "plot_bgcolor": "#E5ECF6",
          "polar": {
           "angularaxis": {
            "gridcolor": "white",
            "linecolor": "white",
            "ticks": ""
           },
           "bgcolor": "#E5ECF6",
           "radialaxis": {
            "gridcolor": "white",
            "linecolor": "white",
            "ticks": ""
           }
          },
          "scene": {
           "xaxis": {
            "backgroundcolor": "#E5ECF6",
            "gridcolor": "white",
            "gridwidth": 2,
            "linecolor": "white",
            "showbackground": true,
            "ticks": "",
            "zerolinecolor": "white"
           },
           "yaxis": {
            "backgroundcolor": "#E5ECF6",
            "gridcolor": "white",
            "gridwidth": 2,
            "linecolor": "white",
            "showbackground": true,
            "ticks": "",
            "zerolinecolor": "white"
           },
           "zaxis": {
            "backgroundcolor": "#E5ECF6",
            "gridcolor": "white",
            "gridwidth": 2,
            "linecolor": "white",
            "showbackground": true,
            "ticks": "",
            "zerolinecolor": "white"
           }
          },
          "shapedefaults": {
           "line": {
            "color": "#2a3f5f"
           }
          },
          "ternary": {
           "aaxis": {
            "gridcolor": "white",
            "linecolor": "white",
            "ticks": ""
           },
           "baxis": {
            "gridcolor": "white",
            "linecolor": "white",
            "ticks": ""
           },
           "bgcolor": "#E5ECF6",
           "caxis": {
            "gridcolor": "white",
            "linecolor": "white",
            "ticks": ""
           }
          },
          "title": {
           "x": 0.05
          },
          "xaxis": {
           "automargin": true,
           "gridcolor": "white",
           "linecolor": "white",
           "ticks": "",
           "title": {
            "standoff": 15
           },
           "zerolinecolor": "white",
           "zerolinewidth": 2
          },
          "yaxis": {
           "automargin": true,
           "gridcolor": "white",
           "linecolor": "white",
           "ticks": "",
           "title": {
            "standoff": 15
           },
           "zerolinecolor": "white",
           "zerolinewidth": 2
          }
         }
        },
        "title": {
         "text": "Feature Importance XGBoost"
        },
        "width": 1000,
        "xaxis": {
         "anchor": "y",
         "domain": [
          0,
          1
         ],
         "gridcolor": "rgb(242,242,242)",
         "linecolor": "rgb(242,242,242)",
         "mirror": true,
         "showline": true,
         "ticks": "outside",
         "title": {
          "text": "Feature"
         }
        },
        "yaxis": {
         "anchor": "x",
         "domain": [
          0,
          1
         ],
         "gridcolor": "rgb(242,242,242)",
         "linecolor": "rgb(242,242,242)",
         "mirror": true,
         "showline": true,
         "ticks": "outside",
         "title": {
          "text": "Feature importance"
         }
        }
       }
      }
     },
     "metadata": {},
     "output_type": "display_data"
    }
   ],
   "source": [
    "features = X_train.columns.to_list()\n",
    "print(f\"Number of features: {len(features)}\")\n",
    "print(f\"Number of feature importances: {len(model.feature_importances_)}\")\n",
    "\n",
    "# Ensure the lengths match\n",
    "if len(features) == len(model.feature_importances_):\n",
    "    feat_import = pd.DataFrame({'Feature': features, 'Feature importance': model.feature_importances_})\n",
    "    feat_import = feat_import.sort_values(by='Feature importance', ascending=False)\n",
    "\n",
    "    # Show with plotly\n",
    "\n",
    "    fig4 = px.bar(feat_import, x='Feature', y='Feature importance', orientation='v', title='Feature Importance XGBoost', text_auto=True, color='Feature importance')\n",
    "    fig4.update_layout(font=dict(\n",
    "        family=\"Arial, Courier New, monospace\",  # font family\n",
    "        size=15,                                 # font size (pixels)\n",
    "        color=\"darkblue\"   ))\n",
    "    fig4.update_layout(width=1000, height=700)\n",
    "    fig4.update_layout(plot_bgcolor='white')\n",
    "    fig4.update_xaxes(\n",
    "                    mirror=True,\n",
    "                    ticks='outside',\n",
    "                    showline=True,\n",
    "                    linecolor='rgb(242,242,242)',\n",
    "                    gridcolor='rgb(242,242,242)'\n",
    "                )\n",
    "    fig4.update_yaxes(\n",
    "                    mirror=True,\n",
    "                    ticks='outside',\n",
    "                    showline=True,\n",
    "                    linecolor='rgb(242,242,242)',\n",
    "                    gridcolor='rgb(242,242,242)')\n",
    "    fig4.show()\n",
    "\n",
    "else:\n",
    "    print(\"The number of features and feature importances do not match.\")"
   ]
  },
  {
   "cell_type": "code",
   "execution_count": 133,
   "metadata": {},
   "outputs": [
    {
     "name": "stdout",
     "output_type": "stream",
     "text": [
      "Threshold: 0.2 --- Recall Score: 0.9523809523809523\n",
      "Threshold: 0.25 --- Recall Score: 0.9523809523809523\n",
      "Threshold: 0.3 --- Recall Score: 0.9523809523809523\n",
      "Threshold: 0.35 --- Recall Score: 0.9523809523809523\n",
      "Threshold: 0.39999999999999997 --- Recall Score: 0.9523809523809523\n",
      "Threshold: 0.44999999999999996 --- Recall Score: 0.9523809523809523\n",
      "Threshold: 0.49999999999999994 --- Recall Score: 0.9523809523809523\n",
      "Threshold: 0.5499999999999999 --- Recall Score: 0.9285714285714286\n",
      "Threshold: 0.6 --- Recall Score: 0.9285714285714286\n",
      "Threshold: 0.65 --- Recall Score: 0.9047619047619048\n",
      "Threshold: 0.7000000000000001 --- Recall Score: 0.9047619047619048\n",
      "Threshold: 0.7500000000000001 --- Recall Score: 0.8809523809523809\n",
      "Threshold: 0.8000000000000002 --- Recall Score: 0.8809523809523809\n",
      "Threshold: 0.8500000000000002 --- Recall Score: 0.8809523809523809\n",
      "Threshold: 0.9000000000000002 --- Recall Score: 0.8571428571428571\n",
      "Threshold: 0.9500000000000003 --- Recall Score: 0.8571428571428571\n",
      "Best Threshold: 0.2 --- Recall Score: 0.9523809523809523\n"
     ]
    }
   ],
   "source": [
    "step_factor = 0.05\n",
    "threshold_value = 0.2\n",
    "recall = 0\n",
    "\n",
    "pred_proba = model.predict_proba(X_test_scaled)\n",
    "while threshold_value <= 1.0:\n",
    "    temp_threshold = threshold_value\n",
    "    predicted = (pred_proba[:,1] >= threshold_value).astype('int')\n",
    "    print('Threshold:', temp_threshold, '--- Recall Score:', recall_score(y_test, predicted))\n",
    "    if recall<recall_score(y_test, predicted):\n",
    "        recall = recall_score(y_test, predicted)\n",
    "        threshold_score = threshold_value\n",
    "    threshold_value += step_factor\n",
    "print('Best Threshold:', threshold_score, '--- Recall Score:', recall)"
   ]
  },
  {
   "cell_type": "markdown",
   "metadata": {},
   "source": [
    "Train with the full dataset without test split"
   ]
  },
  {
   "cell_type": "code",
   "execution_count": 134,
   "metadata": {},
   "outputs": [
    {
     "data": {
      "text/html": [
       "<div>\n",
       "<style scoped>\n",
       "    .dataframe tbody tr th:only-of-type {\n",
       "        vertical-align: middle;\n",
       "    }\n",
       "\n",
       "    .dataframe tbody tr th {\n",
       "        vertical-align: top;\n",
       "    }\n",
       "\n",
       "    .dataframe thead th {\n",
       "        text-align: right;\n",
       "    }\n",
       "</style>\n",
       "<table border=\"1\" class=\"dataframe\">\n",
       "  <thead>\n",
       "    <tr style=\"text-align: right;\">\n",
       "      <th></th>\n",
       "      <th>diagnosis</th>\n",
       "      <th>radius_mean</th>\n",
       "      <th>texture_mean</th>\n",
       "      <th>perimeter_mean</th>\n",
       "      <th>area_mean</th>\n",
       "      <th>smoothness_mean</th>\n",
       "      <th>compactness_mean</th>\n",
       "      <th>concavity_mean</th>\n",
       "      <th>concave_points_mean</th>\n",
       "      <th>symmetry_mean</th>\n",
       "      <th>...</th>\n",
       "      <th>radius_worst</th>\n",
       "      <th>texture_worst</th>\n",
       "      <th>perimeter_worst</th>\n",
       "      <th>area_worst</th>\n",
       "      <th>smoothness_worst</th>\n",
       "      <th>compactness_worst</th>\n",
       "      <th>concavity_worst</th>\n",
       "      <th>concave_points_worst</th>\n",
       "      <th>symmetry_worst</th>\n",
       "      <th>fractal_dimension_worst</th>\n",
       "    </tr>\n",
       "  </thead>\n",
       "  <tbody>\n",
       "    <tr>\n",
       "      <th>0</th>\n",
       "      <td>1</td>\n",
       "      <td>17.99</td>\n",
       "      <td>10.38</td>\n",
       "      <td>122.80</td>\n",
       "      <td>1001.0</td>\n",
       "      <td>0.11840</td>\n",
       "      <td>0.27760</td>\n",
       "      <td>0.3001</td>\n",
       "      <td>0.14710</td>\n",
       "      <td>0.2419</td>\n",
       "      <td>...</td>\n",
       "      <td>25.38</td>\n",
       "      <td>17.33</td>\n",
       "      <td>184.60</td>\n",
       "      <td>2019.0</td>\n",
       "      <td>0.1622</td>\n",
       "      <td>0.6656</td>\n",
       "      <td>0.7119</td>\n",
       "      <td>0.2654</td>\n",
       "      <td>0.4601</td>\n",
       "      <td>0.11890</td>\n",
       "    </tr>\n",
       "    <tr>\n",
       "      <th>1</th>\n",
       "      <td>1</td>\n",
       "      <td>20.57</td>\n",
       "      <td>17.77</td>\n",
       "      <td>132.90</td>\n",
       "      <td>1326.0</td>\n",
       "      <td>0.08474</td>\n",
       "      <td>0.07864</td>\n",
       "      <td>0.0869</td>\n",
       "      <td>0.07017</td>\n",
       "      <td>0.1812</td>\n",
       "      <td>...</td>\n",
       "      <td>24.99</td>\n",
       "      <td>23.41</td>\n",
       "      <td>158.80</td>\n",
       "      <td>1956.0</td>\n",
       "      <td>0.1238</td>\n",
       "      <td>0.1866</td>\n",
       "      <td>0.2416</td>\n",
       "      <td>0.1860</td>\n",
       "      <td>0.2750</td>\n",
       "      <td>0.08902</td>\n",
       "    </tr>\n",
       "    <tr>\n",
       "      <th>2</th>\n",
       "      <td>1</td>\n",
       "      <td>19.69</td>\n",
       "      <td>21.25</td>\n",
       "      <td>130.00</td>\n",
       "      <td>1203.0</td>\n",
       "      <td>0.10960</td>\n",
       "      <td>0.15990</td>\n",
       "      <td>0.1974</td>\n",
       "      <td>0.12790</td>\n",
       "      <td>0.2069</td>\n",
       "      <td>...</td>\n",
       "      <td>23.57</td>\n",
       "      <td>25.53</td>\n",
       "      <td>152.50</td>\n",
       "      <td>1709.0</td>\n",
       "      <td>0.1444</td>\n",
       "      <td>0.4245</td>\n",
       "      <td>0.4504</td>\n",
       "      <td>0.2430</td>\n",
       "      <td>0.3613</td>\n",
       "      <td>0.08758</td>\n",
       "    </tr>\n",
       "    <tr>\n",
       "      <th>3</th>\n",
       "      <td>1</td>\n",
       "      <td>11.42</td>\n",
       "      <td>20.38</td>\n",
       "      <td>77.58</td>\n",
       "      <td>386.1</td>\n",
       "      <td>0.14250</td>\n",
       "      <td>0.28390</td>\n",
       "      <td>0.2414</td>\n",
       "      <td>0.10520</td>\n",
       "      <td>0.2597</td>\n",
       "      <td>...</td>\n",
       "      <td>14.91</td>\n",
       "      <td>26.50</td>\n",
       "      <td>98.87</td>\n",
       "      <td>567.7</td>\n",
       "      <td>0.2098</td>\n",
       "      <td>0.8663</td>\n",
       "      <td>0.6869</td>\n",
       "      <td>0.2575</td>\n",
       "      <td>0.6638</td>\n",
       "      <td>0.17300</td>\n",
       "    </tr>\n",
       "    <tr>\n",
       "      <th>4</th>\n",
       "      <td>1</td>\n",
       "      <td>20.29</td>\n",
       "      <td>14.34</td>\n",
       "      <td>135.10</td>\n",
       "      <td>1297.0</td>\n",
       "      <td>0.10030</td>\n",
       "      <td>0.13280</td>\n",
       "      <td>0.1980</td>\n",
       "      <td>0.10430</td>\n",
       "      <td>0.1809</td>\n",
       "      <td>...</td>\n",
       "      <td>22.54</td>\n",
       "      <td>16.67</td>\n",
       "      <td>152.20</td>\n",
       "      <td>1575.0</td>\n",
       "      <td>0.1374</td>\n",
       "      <td>0.2050</td>\n",
       "      <td>0.4000</td>\n",
       "      <td>0.1625</td>\n",
       "      <td>0.2364</td>\n",
       "      <td>0.07678</td>\n",
       "    </tr>\n",
       "  </tbody>\n",
       "</table>\n",
       "<p>5 rows × 31 columns</p>\n",
       "</div>"
      ],
      "text/plain": [
       "   diagnosis  radius_mean  texture_mean  perimeter_mean  area_mean  \\\n",
       "0          1        17.99         10.38          122.80     1001.0   \n",
       "1          1        20.57         17.77          132.90     1326.0   \n",
       "2          1        19.69         21.25          130.00     1203.0   \n",
       "3          1        11.42         20.38           77.58      386.1   \n",
       "4          1        20.29         14.34          135.10     1297.0   \n",
       "\n",
       "   smoothness_mean  compactness_mean  concavity_mean  concave_points_mean  \\\n",
       "0          0.11840           0.27760          0.3001              0.14710   \n",
       "1          0.08474           0.07864          0.0869              0.07017   \n",
       "2          0.10960           0.15990          0.1974              0.12790   \n",
       "3          0.14250           0.28390          0.2414              0.10520   \n",
       "4          0.10030           0.13280          0.1980              0.10430   \n",
       "\n",
       "   symmetry_mean  ...  radius_worst  texture_worst  perimeter_worst  \\\n",
       "0         0.2419  ...         25.38          17.33           184.60   \n",
       "1         0.1812  ...         24.99          23.41           158.80   \n",
       "2         0.2069  ...         23.57          25.53           152.50   \n",
       "3         0.2597  ...         14.91          26.50            98.87   \n",
       "4         0.1809  ...         22.54          16.67           152.20   \n",
       "\n",
       "   area_worst  smoothness_worst  compactness_worst  concavity_worst  \\\n",
       "0      2019.0            0.1622             0.6656           0.7119   \n",
       "1      1956.0            0.1238             0.1866           0.2416   \n",
       "2      1709.0            0.1444             0.4245           0.4504   \n",
       "3       567.7            0.2098             0.8663           0.6869   \n",
       "4      1575.0            0.1374             0.2050           0.4000   \n",
       "\n",
       "   concave_points_worst  symmetry_worst  fractal_dimension_worst  \n",
       "0                0.2654          0.4601                  0.11890  \n",
       "1                0.1860          0.2750                  0.08902  \n",
       "2                0.2430          0.3613                  0.08758  \n",
       "3                0.2575          0.6638                  0.17300  \n",
       "4                0.1625          0.2364                  0.07678  \n",
       "\n",
       "[5 rows x 31 columns]"
      ]
     },
     "execution_count": 134,
     "metadata": {},
     "output_type": "execute_result"
    }
   ],
   "source": [
    "df.head()"
   ]
  },
  {
   "cell_type": "code",
   "execution_count": 135,
   "metadata": {},
   "outputs": [
    {
     "data": {
      "text/html": [
       "<style>#sk-container-id-1 {\n",
       "  /* Definition of color scheme common for light and dark mode */\n",
       "  --sklearn-color-text: #000;\n",
       "  --sklearn-color-text-muted: #666;\n",
       "  --sklearn-color-line: gray;\n",
       "  /* Definition of color scheme for unfitted estimators */\n",
       "  --sklearn-color-unfitted-level-0: #fff5e6;\n",
       "  --sklearn-color-unfitted-level-1: #f6e4d2;\n",
       "  --sklearn-color-unfitted-level-2: #ffe0b3;\n",
       "  --sklearn-color-unfitted-level-3: chocolate;\n",
       "  /* Definition of color scheme for fitted estimators */\n",
       "  --sklearn-color-fitted-level-0: #f0f8ff;\n",
       "  --sklearn-color-fitted-level-1: #d4ebff;\n",
       "  --sklearn-color-fitted-level-2: #b3dbfd;\n",
       "  --sklearn-color-fitted-level-3: cornflowerblue;\n",
       "\n",
       "  /* Specific color for light theme */\n",
       "  --sklearn-color-text-on-default-background: var(--sg-text-color, var(--theme-code-foreground, var(--jp-content-font-color1, black)));\n",
       "  --sklearn-color-background: var(--sg-background-color, var(--theme-background, var(--jp-layout-color0, white)));\n",
       "  --sklearn-color-border-box: var(--sg-text-color, var(--theme-code-foreground, var(--jp-content-font-color1, black)));\n",
       "  --sklearn-color-icon: #696969;\n",
       "\n",
       "  @media (prefers-color-scheme: dark) {\n",
       "    /* Redefinition of color scheme for dark theme */\n",
       "    --sklearn-color-text-on-default-background: var(--sg-text-color, var(--theme-code-foreground, var(--jp-content-font-color1, white)));\n",
       "    --sklearn-color-background: var(--sg-background-color, var(--theme-background, var(--jp-layout-color0, #111)));\n",
       "    --sklearn-color-border-box: var(--sg-text-color, var(--theme-code-foreground, var(--jp-content-font-color1, white)));\n",
       "    --sklearn-color-icon: #878787;\n",
       "  }\n",
       "}\n",
       "\n",
       "#sk-container-id-1 {\n",
       "  color: var(--sklearn-color-text);\n",
       "}\n",
       "\n",
       "#sk-container-id-1 pre {\n",
       "  padding: 0;\n",
       "}\n",
       "\n",
       "#sk-container-id-1 input.sk-hidden--visually {\n",
       "  border: 0;\n",
       "  clip: rect(1px 1px 1px 1px);\n",
       "  clip: rect(1px, 1px, 1px, 1px);\n",
       "  height: 1px;\n",
       "  margin: -1px;\n",
       "  overflow: hidden;\n",
       "  padding: 0;\n",
       "  position: absolute;\n",
       "  width: 1px;\n",
       "}\n",
       "\n",
       "#sk-container-id-1 div.sk-dashed-wrapped {\n",
       "  border: 1px dashed var(--sklearn-color-line);\n",
       "  margin: 0 0.4em 0.5em 0.4em;\n",
       "  box-sizing: border-box;\n",
       "  padding-bottom: 0.4em;\n",
       "  background-color: var(--sklearn-color-background);\n",
       "}\n",
       "\n",
       "#sk-container-id-1 div.sk-container {\n",
       "  /* jupyter's `normalize.less` sets `[hidden] { display: none; }`\n",
       "     but bootstrap.min.css set `[hidden] { display: none !important; }`\n",
       "     so we also need the `!important` here to be able to override the\n",
       "     default hidden behavior on the sphinx rendered scikit-learn.org.\n",
       "     See: https://github.com/scikit-learn/scikit-learn/issues/21755 */\n",
       "  display: inline-block !important;\n",
       "  position: relative;\n",
       "}\n",
       "\n",
       "#sk-container-id-1 div.sk-text-repr-fallback {\n",
       "  display: none;\n",
       "}\n",
       "\n",
       "div.sk-parallel-item,\n",
       "div.sk-serial,\n",
       "div.sk-item {\n",
       "  /* draw centered vertical line to link estimators */\n",
       "  background-image: linear-gradient(var(--sklearn-color-text-on-default-background), var(--sklearn-color-text-on-default-background));\n",
       "  background-size: 2px 100%;\n",
       "  background-repeat: no-repeat;\n",
       "  background-position: center center;\n",
       "}\n",
       "\n",
       "/* Parallel-specific style estimator block */\n",
       "\n",
       "#sk-container-id-1 div.sk-parallel-item::after {\n",
       "  content: \"\";\n",
       "  width: 100%;\n",
       "  border-bottom: 2px solid var(--sklearn-color-text-on-default-background);\n",
       "  flex-grow: 1;\n",
       "}\n",
       "\n",
       "#sk-container-id-1 div.sk-parallel {\n",
       "  display: flex;\n",
       "  align-items: stretch;\n",
       "  justify-content: center;\n",
       "  background-color: var(--sklearn-color-background);\n",
       "  position: relative;\n",
       "}\n",
       "\n",
       "#sk-container-id-1 div.sk-parallel-item {\n",
       "  display: flex;\n",
       "  flex-direction: column;\n",
       "}\n",
       "\n",
       "#sk-container-id-1 div.sk-parallel-item:first-child::after {\n",
       "  align-self: flex-end;\n",
       "  width: 50%;\n",
       "}\n",
       "\n",
       "#sk-container-id-1 div.sk-parallel-item:last-child::after {\n",
       "  align-self: flex-start;\n",
       "  width: 50%;\n",
       "}\n",
       "\n",
       "#sk-container-id-1 div.sk-parallel-item:only-child::after {\n",
       "  width: 0;\n",
       "}\n",
       "\n",
       "/* Serial-specific style estimator block */\n",
       "\n",
       "#sk-container-id-1 div.sk-serial {\n",
       "  display: flex;\n",
       "  flex-direction: column;\n",
       "  align-items: center;\n",
       "  background-color: var(--sklearn-color-background);\n",
       "  padding-right: 1em;\n",
       "  padding-left: 1em;\n",
       "}\n",
       "\n",
       "\n",
       "/* Toggleable style: style used for estimator/Pipeline/ColumnTransformer box that is\n",
       "clickable and can be expanded/collapsed.\n",
       "- Pipeline and ColumnTransformer use this feature and define the default style\n",
       "- Estimators will overwrite some part of the style using the `sk-estimator` class\n",
       "*/\n",
       "\n",
       "/* Pipeline and ColumnTransformer style (default) */\n",
       "\n",
       "#sk-container-id-1 div.sk-toggleable {\n",
       "  /* Default theme specific background. It is overwritten whether we have a\n",
       "  specific estimator or a Pipeline/ColumnTransformer */\n",
       "  background-color: var(--sklearn-color-background);\n",
       "}\n",
       "\n",
       "/* Toggleable label */\n",
       "#sk-container-id-1 label.sk-toggleable__label {\n",
       "  cursor: pointer;\n",
       "  display: flex;\n",
       "  width: 100%;\n",
       "  margin-bottom: 0;\n",
       "  padding: 0.5em;\n",
       "  box-sizing: border-box;\n",
       "  text-align: center;\n",
       "  align-items: start;\n",
       "  justify-content: space-between;\n",
       "  gap: 0.5em;\n",
       "}\n",
       "\n",
       "#sk-container-id-1 label.sk-toggleable__label .caption {\n",
       "  font-size: 0.6rem;\n",
       "  font-weight: lighter;\n",
       "  color: var(--sklearn-color-text-muted);\n",
       "}\n",
       "\n",
       "#sk-container-id-1 label.sk-toggleable__label-arrow:before {\n",
       "  /* Arrow on the left of the label */\n",
       "  content: \"▸\";\n",
       "  float: left;\n",
       "  margin-right: 0.25em;\n",
       "  color: var(--sklearn-color-icon);\n",
       "}\n",
       "\n",
       "#sk-container-id-1 label.sk-toggleable__label-arrow:hover:before {\n",
       "  color: var(--sklearn-color-text);\n",
       "}\n",
       "\n",
       "/* Toggleable content - dropdown */\n",
       "\n",
       "#sk-container-id-1 div.sk-toggleable__content {\n",
       "  display: none;\n",
       "  text-align: left;\n",
       "  /* unfitted */\n",
       "  background-color: var(--sklearn-color-unfitted-level-0);\n",
       "}\n",
       "\n",
       "#sk-container-id-1 div.sk-toggleable__content.fitted {\n",
       "  /* fitted */\n",
       "  background-color: var(--sklearn-color-fitted-level-0);\n",
       "}\n",
       "\n",
       "#sk-container-id-1 div.sk-toggleable__content pre {\n",
       "  margin: 0.2em;\n",
       "  border-radius: 0.25em;\n",
       "  color: var(--sklearn-color-text);\n",
       "  /* unfitted */\n",
       "  background-color: var(--sklearn-color-unfitted-level-0);\n",
       "}\n",
       "\n",
       "#sk-container-id-1 div.sk-toggleable__content.fitted pre {\n",
       "  /* unfitted */\n",
       "  background-color: var(--sklearn-color-fitted-level-0);\n",
       "}\n",
       "\n",
       "#sk-container-id-1 input.sk-toggleable__control:checked~div.sk-toggleable__content {\n",
       "  /* Expand drop-down */\n",
       "  display: block;\n",
       "  width: 100%;\n",
       "  overflow: visible;\n",
       "}\n",
       "\n",
       "#sk-container-id-1 input.sk-toggleable__control:checked~label.sk-toggleable__label-arrow:before {\n",
       "  content: \"▾\";\n",
       "}\n",
       "\n",
       "/* Pipeline/ColumnTransformer-specific style */\n",
       "\n",
       "#sk-container-id-1 div.sk-label input.sk-toggleable__control:checked~label.sk-toggleable__label {\n",
       "  color: var(--sklearn-color-text);\n",
       "  background-color: var(--sklearn-color-unfitted-level-2);\n",
       "}\n",
       "\n",
       "#sk-container-id-1 div.sk-label.fitted input.sk-toggleable__control:checked~label.sk-toggleable__label {\n",
       "  background-color: var(--sklearn-color-fitted-level-2);\n",
       "}\n",
       "\n",
       "/* Estimator-specific style */\n",
       "\n",
       "/* Colorize estimator box */\n",
       "#sk-container-id-1 div.sk-estimator input.sk-toggleable__control:checked~label.sk-toggleable__label {\n",
       "  /* unfitted */\n",
       "  background-color: var(--sklearn-color-unfitted-level-2);\n",
       "}\n",
       "\n",
       "#sk-container-id-1 div.sk-estimator.fitted input.sk-toggleable__control:checked~label.sk-toggleable__label {\n",
       "  /* fitted */\n",
       "  background-color: var(--sklearn-color-fitted-level-2);\n",
       "}\n",
       "\n",
       "#sk-container-id-1 div.sk-label label.sk-toggleable__label,\n",
       "#sk-container-id-1 div.sk-label label {\n",
       "  /* The background is the default theme color */\n",
       "  color: var(--sklearn-color-text-on-default-background);\n",
       "}\n",
       "\n",
       "/* On hover, darken the color of the background */\n",
       "#sk-container-id-1 div.sk-label:hover label.sk-toggleable__label {\n",
       "  color: var(--sklearn-color-text);\n",
       "  background-color: var(--sklearn-color-unfitted-level-2);\n",
       "}\n",
       "\n",
       "/* Label box, darken color on hover, fitted */\n",
       "#sk-container-id-1 div.sk-label.fitted:hover label.sk-toggleable__label.fitted {\n",
       "  color: var(--sklearn-color-text);\n",
       "  background-color: var(--sklearn-color-fitted-level-2);\n",
       "}\n",
       "\n",
       "/* Estimator label */\n",
       "\n",
       "#sk-container-id-1 div.sk-label label {\n",
       "  font-family: monospace;\n",
       "  font-weight: bold;\n",
       "  display: inline-block;\n",
       "  line-height: 1.2em;\n",
       "}\n",
       "\n",
       "#sk-container-id-1 div.sk-label-container {\n",
       "  text-align: center;\n",
       "}\n",
       "\n",
       "/* Estimator-specific */\n",
       "#sk-container-id-1 div.sk-estimator {\n",
       "  font-family: monospace;\n",
       "  border: 1px dotted var(--sklearn-color-border-box);\n",
       "  border-radius: 0.25em;\n",
       "  box-sizing: border-box;\n",
       "  margin-bottom: 0.5em;\n",
       "  /* unfitted */\n",
       "  background-color: var(--sklearn-color-unfitted-level-0);\n",
       "}\n",
       "\n",
       "#sk-container-id-1 div.sk-estimator.fitted {\n",
       "  /* fitted */\n",
       "  background-color: var(--sklearn-color-fitted-level-0);\n",
       "}\n",
       "\n",
       "/* on hover */\n",
       "#sk-container-id-1 div.sk-estimator:hover {\n",
       "  /* unfitted */\n",
       "  background-color: var(--sklearn-color-unfitted-level-2);\n",
       "}\n",
       "\n",
       "#sk-container-id-1 div.sk-estimator.fitted:hover {\n",
       "  /* fitted */\n",
       "  background-color: var(--sklearn-color-fitted-level-2);\n",
       "}\n",
       "\n",
       "/* Specification for estimator info (e.g. \"i\" and \"?\") */\n",
       "\n",
       "/* Common style for \"i\" and \"?\" */\n",
       "\n",
       ".sk-estimator-doc-link,\n",
       "a:link.sk-estimator-doc-link,\n",
       "a:visited.sk-estimator-doc-link {\n",
       "  float: right;\n",
       "  font-size: smaller;\n",
       "  line-height: 1em;\n",
       "  font-family: monospace;\n",
       "  background-color: var(--sklearn-color-background);\n",
       "  border-radius: 1em;\n",
       "  height: 1em;\n",
       "  width: 1em;\n",
       "  text-decoration: none !important;\n",
       "  margin-left: 0.5em;\n",
       "  text-align: center;\n",
       "  /* unfitted */\n",
       "  border: var(--sklearn-color-unfitted-level-1) 1pt solid;\n",
       "  color: var(--sklearn-color-unfitted-level-1);\n",
       "}\n",
       "\n",
       ".sk-estimator-doc-link.fitted,\n",
       "a:link.sk-estimator-doc-link.fitted,\n",
       "a:visited.sk-estimator-doc-link.fitted {\n",
       "  /* fitted */\n",
       "  border: var(--sklearn-color-fitted-level-1) 1pt solid;\n",
       "  color: var(--sklearn-color-fitted-level-1);\n",
       "}\n",
       "\n",
       "/* On hover */\n",
       "div.sk-estimator:hover .sk-estimator-doc-link:hover,\n",
       ".sk-estimator-doc-link:hover,\n",
       "div.sk-label-container:hover .sk-estimator-doc-link:hover,\n",
       ".sk-estimator-doc-link:hover {\n",
       "  /* unfitted */\n",
       "  background-color: var(--sklearn-color-unfitted-level-3);\n",
       "  color: var(--sklearn-color-background);\n",
       "  text-decoration: none;\n",
       "}\n",
       "\n",
       "div.sk-estimator.fitted:hover .sk-estimator-doc-link.fitted:hover,\n",
       ".sk-estimator-doc-link.fitted:hover,\n",
       "div.sk-label-container:hover .sk-estimator-doc-link.fitted:hover,\n",
       ".sk-estimator-doc-link.fitted:hover {\n",
       "  /* fitted */\n",
       "  background-color: var(--sklearn-color-fitted-level-3);\n",
       "  color: var(--sklearn-color-background);\n",
       "  text-decoration: none;\n",
       "}\n",
       "\n",
       "/* Span, style for the box shown on hovering the info icon */\n",
       ".sk-estimator-doc-link span {\n",
       "  display: none;\n",
       "  z-index: 9999;\n",
       "  position: relative;\n",
       "  font-weight: normal;\n",
       "  right: .2ex;\n",
       "  padding: .5ex;\n",
       "  margin: .5ex;\n",
       "  width: min-content;\n",
       "  min-width: 20ex;\n",
       "  max-width: 50ex;\n",
       "  color: var(--sklearn-color-text);\n",
       "  box-shadow: 2pt 2pt 4pt #999;\n",
       "  /* unfitted */\n",
       "  background: var(--sklearn-color-unfitted-level-0);\n",
       "  border: .5pt solid var(--sklearn-color-unfitted-level-3);\n",
       "}\n",
       "\n",
       ".sk-estimator-doc-link.fitted span {\n",
       "  /* fitted */\n",
       "  background: var(--sklearn-color-fitted-level-0);\n",
       "  border: var(--sklearn-color-fitted-level-3);\n",
       "}\n",
       "\n",
       ".sk-estimator-doc-link:hover span {\n",
       "  display: block;\n",
       "}\n",
       "\n",
       "/* \"?\"-specific style due to the `<a>` HTML tag */\n",
       "\n",
       "#sk-container-id-1 a.estimator_doc_link {\n",
       "  float: right;\n",
       "  font-size: 1rem;\n",
       "  line-height: 1em;\n",
       "  font-family: monospace;\n",
       "  background-color: var(--sklearn-color-background);\n",
       "  border-radius: 1rem;\n",
       "  height: 1rem;\n",
       "  width: 1rem;\n",
       "  text-decoration: none;\n",
       "  /* unfitted */\n",
       "  color: var(--sklearn-color-unfitted-level-1);\n",
       "  border: var(--sklearn-color-unfitted-level-1) 1pt solid;\n",
       "}\n",
       "\n",
       "#sk-container-id-1 a.estimator_doc_link.fitted {\n",
       "  /* fitted */\n",
       "  border: var(--sklearn-color-fitted-level-1) 1pt solid;\n",
       "  color: var(--sklearn-color-fitted-level-1);\n",
       "}\n",
       "\n",
       "/* On hover */\n",
       "#sk-container-id-1 a.estimator_doc_link:hover {\n",
       "  /* unfitted */\n",
       "  background-color: var(--sklearn-color-unfitted-level-3);\n",
       "  color: var(--sklearn-color-background);\n",
       "  text-decoration: none;\n",
       "}\n",
       "\n",
       "#sk-container-id-1 a.estimator_doc_link.fitted:hover {\n",
       "  /* fitted */\n",
       "  background-color: var(--sklearn-color-fitted-level-3);\n",
       "}\n",
       "\n",
       ".estimator-table summary {\n",
       "    padding: .5rem;\n",
       "    font-family: monospace;\n",
       "    cursor: pointer;\n",
       "}\n",
       "\n",
       ".estimator-table details[open] {\n",
       "    padding-left: 0.1rem;\n",
       "    padding-right: 0.1rem;\n",
       "    padding-bottom: 0.3rem;\n",
       "}\n",
       "\n",
       ".estimator-table .parameters-table {\n",
       "    margin-left: auto !important;\n",
       "    margin-right: auto !important;\n",
       "}\n",
       "\n",
       ".estimator-table .parameters-table tr:nth-child(odd) {\n",
       "    background-color: #fff;\n",
       "}\n",
       "\n",
       ".estimator-table .parameters-table tr:nth-child(even) {\n",
       "    background-color: #f6f6f6;\n",
       "}\n",
       "\n",
       ".estimator-table .parameters-table tr:hover {\n",
       "    background-color: #e0e0e0;\n",
       "}\n",
       "\n",
       ".estimator-table table td {\n",
       "    border: 1px solid rgba(106, 105, 104, 0.232);\n",
       "}\n",
       "\n",
       ".user-set td {\n",
       "    color:rgb(255, 94, 0);\n",
       "    text-align: left;\n",
       "}\n",
       "\n",
       ".user-set td.value pre {\n",
       "    color:rgb(255, 94, 0) !important;\n",
       "    background-color: transparent !important;\n",
       "}\n",
       "\n",
       ".default td {\n",
       "    color: black;\n",
       "    text-align: left;\n",
       "}\n",
       "\n",
       ".user-set td i,\n",
       ".default td i {\n",
       "    color: black;\n",
       "}\n",
       "\n",
       ".copy-paste-icon {\n",
       "    background-image: url(data:image/svg+xml;base64,PHN2ZyB4bWxucz0iaHR0cDovL3d3dy53My5vcmcvMjAwMC9zdmciIHZpZXdCb3g9IjAgMCA0NDggNTEyIj48IS0tIUZvbnQgQXdlc29tZSBGcmVlIDYuNy4yIGJ5IEBmb250YXdlc29tZSAtIGh0dHBzOi8vZm9udGF3ZXNvbWUuY29tIExpY2Vuc2UgLSBodHRwczovL2ZvbnRhd2Vzb21lLmNvbS9saWNlbnNlL2ZyZWUgQ29weXJpZ2h0IDIwMjUgRm9udGljb25zLCBJbmMuLS0+PHBhdGggZD0iTTIwOCAwTDMzMi4xIDBjMTIuNyAwIDI0LjkgNS4xIDMzLjkgMTQuMWw2Ny45IDY3LjljOSA5IDE0LjEgMjEuMiAxNC4xIDMzLjlMNDQ4IDMzNmMwIDI2LjUtMjEuNSA0OC00OCA0OGwtMTkyIDBjLTI2LjUgMC00OC0yMS41LTQ4LTQ4bDAtMjg4YzAtMjYuNSAyMS41LTQ4IDQ4LTQ4ek00OCAxMjhsODAgMCAwIDY0LTY0IDAgMCAyNTYgMTkyIDAgMC0zMiA2NCAwIDAgNDhjMCAyNi41LTIxLjUgNDgtNDggNDhMNDggNTEyYy0yNi41IDAtNDgtMjEuNS00OC00OEwwIDE3NmMwLTI2LjUgMjEuNS00OCA0OC00OHoiLz48L3N2Zz4=);\n",
       "    background-repeat: no-repeat;\n",
       "    background-size: 14px 14px;\n",
       "    background-position: 0;\n",
       "    display: inline-block;\n",
       "    width: 14px;\n",
       "    height: 14px;\n",
       "    cursor: pointer;\n",
       "}\n",
       "</style><body><div id=\"sk-container-id-1\" class=\"sk-top-container\"><div class=\"sk-text-repr-fallback\"><pre>CalibratedClassifierCV(estimator=XGBClassifier(base_score=None, booster=None,\n",
       "                                               callbacks=None,\n",
       "                                               colsample_bylevel=None,\n",
       "                                               colsample_bynode=None,\n",
       "                                               colsample_bytree=None,\n",
       "                                               device=None,\n",
       "                                               early_stopping_rounds=None,\n",
       "                                               enable_categorical=False,\n",
       "                                               eval_metric=&#x27;logloss&#x27;,\n",
       "                                               feature_types=None,\n",
       "                                               feature_weights=None, gamma=None,\n",
       "                                               grow_policy=None,\n",
       "                                               importance_type=None,\n",
       "                                               interaction_constraints=None,\n",
       "                                               learning_rate=None, max_bin=None,\n",
       "                                               max_cat_threshold=None,\n",
       "                                               max_cat_to_onehot=None,\n",
       "                                               max_delta_step=None,\n",
       "                                               max_depth=None, max_leaves=None,\n",
       "                                               min_child_weight=None,\n",
       "                                               missing=nan,\n",
       "                                               monotone_constraints=None,\n",
       "                                               multi_strategy=None,\n",
       "                                               n_estimators=None, n_jobs=None,\n",
       "                                               num_parallel_tree=None, ...))</pre><b>In a Jupyter environment, please rerun this cell to show the HTML representation or trust the notebook. <br />On GitHub, the HTML representation is unable to render, please try loading this page with nbviewer.org.</b></div><div class=\"sk-container\" hidden><div class=\"sk-item sk-dashed-wrapped\"><div class=\"sk-label-container\"><div class=\"sk-label fitted sk-toggleable\"><input class=\"sk-toggleable__control sk-hidden--visually\" id=\"sk-estimator-id-1\" type=\"checkbox\" ><label for=\"sk-estimator-id-1\" class=\"sk-toggleable__label fitted sk-toggleable__label-arrow\"><div><div>CalibratedClassifierCV</div></div><div><a class=\"sk-estimator-doc-link fitted\" rel=\"noreferrer\" target=\"_blank\" href=\"https://scikit-learn.org/1.7/modules/generated/sklearn.calibration.CalibratedClassifierCV.html\">?<span>Documentation for CalibratedClassifierCV</span></a><span class=\"sk-estimator-doc-link fitted\">i<span>Fitted</span></span></div></label><div class=\"sk-toggleable__content fitted\" data-param-prefix=\"\">\n",
       "        <div class=\"estimator-table\">\n",
       "            <details>\n",
       "                <summary>Parameters</summary>\n",
       "                <table class=\"parameters-table\">\n",
       "                  <tbody>\n",
       "                    \n",
       "        <tr class=\"user-set\">\n",
       "            <td><i class=\"copy-paste-icon\"\n",
       "                 onclick=\"copyToClipboard('estimator',\n",
       "                          this.parentElement.nextElementSibling)\"\n",
       "            ></i></td>\n",
       "            <td class=\"param\">estimator&nbsp;</td>\n",
       "            <td class=\"value\">XGBClassifier...ree=None, ...)</td>\n",
       "        </tr>\n",
       "    \n",
       "\n",
       "        <tr class=\"default\">\n",
       "            <td><i class=\"copy-paste-icon\"\n",
       "                 onclick=\"copyToClipboard('method',\n",
       "                          this.parentElement.nextElementSibling)\"\n",
       "            ></i></td>\n",
       "            <td class=\"param\">method&nbsp;</td>\n",
       "            <td class=\"value\">&#x27;sigmoid&#x27;</td>\n",
       "        </tr>\n",
       "    \n",
       "\n",
       "        <tr class=\"default\">\n",
       "            <td><i class=\"copy-paste-icon\"\n",
       "                 onclick=\"copyToClipboard('cv',\n",
       "                          this.parentElement.nextElementSibling)\"\n",
       "            ></i></td>\n",
       "            <td class=\"param\">cv&nbsp;</td>\n",
       "            <td class=\"value\">None</td>\n",
       "        </tr>\n",
       "    \n",
       "\n",
       "        <tr class=\"default\">\n",
       "            <td><i class=\"copy-paste-icon\"\n",
       "                 onclick=\"copyToClipboard('n_jobs',\n",
       "                          this.parentElement.nextElementSibling)\"\n",
       "            ></i></td>\n",
       "            <td class=\"param\">n_jobs&nbsp;</td>\n",
       "            <td class=\"value\">None</td>\n",
       "        </tr>\n",
       "    \n",
       "\n",
       "        <tr class=\"default\">\n",
       "            <td><i class=\"copy-paste-icon\"\n",
       "                 onclick=\"copyToClipboard('ensemble',\n",
       "                          this.parentElement.nextElementSibling)\"\n",
       "            ></i></td>\n",
       "            <td class=\"param\">ensemble&nbsp;</td>\n",
       "            <td class=\"value\">&#x27;auto&#x27;</td>\n",
       "        </tr>\n",
       "    \n",
       "                  </tbody>\n",
       "                </table>\n",
       "            </details>\n",
       "        </div>\n",
       "    </div></div></div><div class=\"sk-parallel\"><div class=\"sk-parallel-item\"><div class=\"sk-item\"><div class=\"sk-label-container\"><div class=\"sk-label fitted sk-toggleable\"><input class=\"sk-toggleable__control sk-hidden--visually\" id=\"sk-estimator-id-2\" type=\"checkbox\" ><label for=\"sk-estimator-id-2\" class=\"sk-toggleable__label fitted sk-toggleable__label-arrow\"><div><div>estimator: XGBClassifier</div></div></label><div class=\"sk-toggleable__content fitted\" data-param-prefix=\"estimator__\"><pre>XGBClassifier(base_score=None, booster=None, callbacks=None,\n",
       "              colsample_bylevel=None, colsample_bynode=None,\n",
       "              colsample_bytree=None, device=None, early_stopping_rounds=None,\n",
       "              enable_categorical=False, eval_metric=&#x27;logloss&#x27;,\n",
       "              feature_types=None, feature_weights=None, gamma=None,\n",
       "              grow_policy=None, importance_type=None,\n",
       "              interaction_constraints=None, learning_rate=None, max_bin=None,\n",
       "              max_cat_threshold=None, max_cat_to_onehot=None,\n",
       "              max_delta_step=None, max_depth=None, max_leaves=None,\n",
       "              min_child_weight=None, missing=nan, monotone_constraints=None,\n",
       "              multi_strategy=None, n_estimators=None, n_jobs=None,\n",
       "              num_parallel_tree=None, ...)</pre></div></div></div><div class=\"sk-serial\"><div class=\"sk-item\"><div class=\"sk-estimator fitted sk-toggleable\"><input class=\"sk-toggleable__control sk-hidden--visually\" id=\"sk-estimator-id-3\" type=\"checkbox\" ><label for=\"sk-estimator-id-3\" class=\"sk-toggleable__label fitted sk-toggleable__label-arrow\"><div><div>XGBClassifier</div></div><div><a class=\"sk-estimator-doc-link fitted\" rel=\"noreferrer\" target=\"_blank\" href=\"https://xgboost.readthedocs.io/en/release_3.0.0/python/python_api.html#xgboost.XGBClassifier\">?<span>Documentation for XGBClassifier</span></a></div></label><div class=\"sk-toggleable__content fitted\" data-param-prefix=\"estimator__\">\n",
       "        <div class=\"estimator-table\">\n",
       "            <details>\n",
       "                <summary>Parameters</summary>\n",
       "                <table class=\"parameters-table\">\n",
       "                  <tbody>\n",
       "                    \n",
       "        <tr class=\"default\">\n",
       "            <td><i class=\"copy-paste-icon\"\n",
       "                 onclick=\"copyToClipboard('objective',\n",
       "                          this.parentElement.nextElementSibling)\"\n",
       "            ></i></td>\n",
       "            <td class=\"param\">objective&nbsp;</td>\n",
       "            <td class=\"value\">&#x27;binary:logistic&#x27;</td>\n",
       "        </tr>\n",
       "    \n",
       "\n",
       "        <tr class=\"user-set\">\n",
       "            <td><i class=\"copy-paste-icon\"\n",
       "                 onclick=\"copyToClipboard('base_score',\n",
       "                          this.parentElement.nextElementSibling)\"\n",
       "            ></i></td>\n",
       "            <td class=\"param\">base_score&nbsp;</td>\n",
       "            <td class=\"value\">None</td>\n",
       "        </tr>\n",
       "    \n",
       "\n",
       "        <tr class=\"user-set\">\n",
       "            <td><i class=\"copy-paste-icon\"\n",
       "                 onclick=\"copyToClipboard('booster',\n",
       "                          this.parentElement.nextElementSibling)\"\n",
       "            ></i></td>\n",
       "            <td class=\"param\">booster&nbsp;</td>\n",
       "            <td class=\"value\">None</td>\n",
       "        </tr>\n",
       "    \n",
       "\n",
       "        <tr class=\"user-set\">\n",
       "            <td><i class=\"copy-paste-icon\"\n",
       "                 onclick=\"copyToClipboard('callbacks',\n",
       "                          this.parentElement.nextElementSibling)\"\n",
       "            ></i></td>\n",
       "            <td class=\"param\">callbacks&nbsp;</td>\n",
       "            <td class=\"value\">None</td>\n",
       "        </tr>\n",
       "    \n",
       "\n",
       "        <tr class=\"user-set\">\n",
       "            <td><i class=\"copy-paste-icon\"\n",
       "                 onclick=\"copyToClipboard('colsample_bylevel',\n",
       "                          this.parentElement.nextElementSibling)\"\n",
       "            ></i></td>\n",
       "            <td class=\"param\">colsample_bylevel&nbsp;</td>\n",
       "            <td class=\"value\">None</td>\n",
       "        </tr>\n",
       "    \n",
       "\n",
       "        <tr class=\"user-set\">\n",
       "            <td><i class=\"copy-paste-icon\"\n",
       "                 onclick=\"copyToClipboard('colsample_bynode',\n",
       "                          this.parentElement.nextElementSibling)\"\n",
       "            ></i></td>\n",
       "            <td class=\"param\">colsample_bynode&nbsp;</td>\n",
       "            <td class=\"value\">None</td>\n",
       "        </tr>\n",
       "    \n",
       "\n",
       "        <tr class=\"user-set\">\n",
       "            <td><i class=\"copy-paste-icon\"\n",
       "                 onclick=\"copyToClipboard('colsample_bytree',\n",
       "                          this.parentElement.nextElementSibling)\"\n",
       "            ></i></td>\n",
       "            <td class=\"param\">colsample_bytree&nbsp;</td>\n",
       "            <td class=\"value\">None</td>\n",
       "        </tr>\n",
       "    \n",
       "\n",
       "        <tr class=\"user-set\">\n",
       "            <td><i class=\"copy-paste-icon\"\n",
       "                 onclick=\"copyToClipboard('device',\n",
       "                          this.parentElement.nextElementSibling)\"\n",
       "            ></i></td>\n",
       "            <td class=\"param\">device&nbsp;</td>\n",
       "            <td class=\"value\">None</td>\n",
       "        </tr>\n",
       "    \n",
       "\n",
       "        <tr class=\"user-set\">\n",
       "            <td><i class=\"copy-paste-icon\"\n",
       "                 onclick=\"copyToClipboard('early_stopping_rounds',\n",
       "                          this.parentElement.nextElementSibling)\"\n",
       "            ></i></td>\n",
       "            <td class=\"param\">early_stopping_rounds&nbsp;</td>\n",
       "            <td class=\"value\">None</td>\n",
       "        </tr>\n",
       "    \n",
       "\n",
       "        <tr class=\"user-set\">\n",
       "            <td><i class=\"copy-paste-icon\"\n",
       "                 onclick=\"copyToClipboard('enable_categorical',\n",
       "                          this.parentElement.nextElementSibling)\"\n",
       "            ></i></td>\n",
       "            <td class=\"param\">enable_categorical&nbsp;</td>\n",
       "            <td class=\"value\">False</td>\n",
       "        </tr>\n",
       "    \n",
       "\n",
       "        <tr class=\"user-set\">\n",
       "            <td><i class=\"copy-paste-icon\"\n",
       "                 onclick=\"copyToClipboard('eval_metric',\n",
       "                          this.parentElement.nextElementSibling)\"\n",
       "            ></i></td>\n",
       "            <td class=\"param\">eval_metric&nbsp;</td>\n",
       "            <td class=\"value\">&#x27;logloss&#x27;</td>\n",
       "        </tr>\n",
       "    \n",
       "\n",
       "        <tr class=\"user-set\">\n",
       "            <td><i class=\"copy-paste-icon\"\n",
       "                 onclick=\"copyToClipboard('feature_types',\n",
       "                          this.parentElement.nextElementSibling)\"\n",
       "            ></i></td>\n",
       "            <td class=\"param\">feature_types&nbsp;</td>\n",
       "            <td class=\"value\">None</td>\n",
       "        </tr>\n",
       "    \n",
       "\n",
       "        <tr class=\"user-set\">\n",
       "            <td><i class=\"copy-paste-icon\"\n",
       "                 onclick=\"copyToClipboard('feature_weights',\n",
       "                          this.parentElement.nextElementSibling)\"\n",
       "            ></i></td>\n",
       "            <td class=\"param\">feature_weights&nbsp;</td>\n",
       "            <td class=\"value\">None</td>\n",
       "        </tr>\n",
       "    \n",
       "\n",
       "        <tr class=\"user-set\">\n",
       "            <td><i class=\"copy-paste-icon\"\n",
       "                 onclick=\"copyToClipboard('gamma',\n",
       "                          this.parentElement.nextElementSibling)\"\n",
       "            ></i></td>\n",
       "            <td class=\"param\">gamma&nbsp;</td>\n",
       "            <td class=\"value\">None</td>\n",
       "        </tr>\n",
       "    \n",
       "\n",
       "        <tr class=\"user-set\">\n",
       "            <td><i class=\"copy-paste-icon\"\n",
       "                 onclick=\"copyToClipboard('grow_policy',\n",
       "                          this.parentElement.nextElementSibling)\"\n",
       "            ></i></td>\n",
       "            <td class=\"param\">grow_policy&nbsp;</td>\n",
       "            <td class=\"value\">None</td>\n",
       "        </tr>\n",
       "    \n",
       "\n",
       "        <tr class=\"user-set\">\n",
       "            <td><i class=\"copy-paste-icon\"\n",
       "                 onclick=\"copyToClipboard('importance_type',\n",
       "                          this.parentElement.nextElementSibling)\"\n",
       "            ></i></td>\n",
       "            <td class=\"param\">importance_type&nbsp;</td>\n",
       "            <td class=\"value\">None</td>\n",
       "        </tr>\n",
       "    \n",
       "\n",
       "        <tr class=\"user-set\">\n",
       "            <td><i class=\"copy-paste-icon\"\n",
       "                 onclick=\"copyToClipboard('interaction_constraints',\n",
       "                          this.parentElement.nextElementSibling)\"\n",
       "            ></i></td>\n",
       "            <td class=\"param\">interaction_constraints&nbsp;</td>\n",
       "            <td class=\"value\">None</td>\n",
       "        </tr>\n",
       "    \n",
       "\n",
       "        <tr class=\"user-set\">\n",
       "            <td><i class=\"copy-paste-icon\"\n",
       "                 onclick=\"copyToClipboard('learning_rate',\n",
       "                          this.parentElement.nextElementSibling)\"\n",
       "            ></i></td>\n",
       "            <td class=\"param\">learning_rate&nbsp;</td>\n",
       "            <td class=\"value\">None</td>\n",
       "        </tr>\n",
       "    \n",
       "\n",
       "        <tr class=\"user-set\">\n",
       "            <td><i class=\"copy-paste-icon\"\n",
       "                 onclick=\"copyToClipboard('max_bin',\n",
       "                          this.parentElement.nextElementSibling)\"\n",
       "            ></i></td>\n",
       "            <td class=\"param\">max_bin&nbsp;</td>\n",
       "            <td class=\"value\">None</td>\n",
       "        </tr>\n",
       "    \n",
       "\n",
       "        <tr class=\"user-set\">\n",
       "            <td><i class=\"copy-paste-icon\"\n",
       "                 onclick=\"copyToClipboard('max_cat_threshold',\n",
       "                          this.parentElement.nextElementSibling)\"\n",
       "            ></i></td>\n",
       "            <td class=\"param\">max_cat_threshold&nbsp;</td>\n",
       "            <td class=\"value\">None</td>\n",
       "        </tr>\n",
       "    \n",
       "\n",
       "        <tr class=\"user-set\">\n",
       "            <td><i class=\"copy-paste-icon\"\n",
       "                 onclick=\"copyToClipboard('max_cat_to_onehot',\n",
       "                          this.parentElement.nextElementSibling)\"\n",
       "            ></i></td>\n",
       "            <td class=\"param\">max_cat_to_onehot&nbsp;</td>\n",
       "            <td class=\"value\">None</td>\n",
       "        </tr>\n",
       "    \n",
       "\n",
       "        <tr class=\"user-set\">\n",
       "            <td><i class=\"copy-paste-icon\"\n",
       "                 onclick=\"copyToClipboard('max_delta_step',\n",
       "                          this.parentElement.nextElementSibling)\"\n",
       "            ></i></td>\n",
       "            <td class=\"param\">max_delta_step&nbsp;</td>\n",
       "            <td class=\"value\">None</td>\n",
       "        </tr>\n",
       "    \n",
       "\n",
       "        <tr class=\"user-set\">\n",
       "            <td><i class=\"copy-paste-icon\"\n",
       "                 onclick=\"copyToClipboard('max_depth',\n",
       "                          this.parentElement.nextElementSibling)\"\n",
       "            ></i></td>\n",
       "            <td class=\"param\">max_depth&nbsp;</td>\n",
       "            <td class=\"value\">None</td>\n",
       "        </tr>\n",
       "    \n",
       "\n",
       "        <tr class=\"user-set\">\n",
       "            <td><i class=\"copy-paste-icon\"\n",
       "                 onclick=\"copyToClipboard('max_leaves',\n",
       "                          this.parentElement.nextElementSibling)\"\n",
       "            ></i></td>\n",
       "            <td class=\"param\">max_leaves&nbsp;</td>\n",
       "            <td class=\"value\">None</td>\n",
       "        </tr>\n",
       "    \n",
       "\n",
       "        <tr class=\"user-set\">\n",
       "            <td><i class=\"copy-paste-icon\"\n",
       "                 onclick=\"copyToClipboard('min_child_weight',\n",
       "                          this.parentElement.nextElementSibling)\"\n",
       "            ></i></td>\n",
       "            <td class=\"param\">min_child_weight&nbsp;</td>\n",
       "            <td class=\"value\">None</td>\n",
       "        </tr>\n",
       "    \n",
       "\n",
       "        <tr class=\"user-set\">\n",
       "            <td><i class=\"copy-paste-icon\"\n",
       "                 onclick=\"copyToClipboard('missing',\n",
       "                          this.parentElement.nextElementSibling)\"\n",
       "            ></i></td>\n",
       "            <td class=\"param\">missing&nbsp;</td>\n",
       "            <td class=\"value\">nan</td>\n",
       "        </tr>\n",
       "    \n",
       "\n",
       "        <tr class=\"user-set\">\n",
       "            <td><i class=\"copy-paste-icon\"\n",
       "                 onclick=\"copyToClipboard('monotone_constraints',\n",
       "                          this.parentElement.nextElementSibling)\"\n",
       "            ></i></td>\n",
       "            <td class=\"param\">monotone_constraints&nbsp;</td>\n",
       "            <td class=\"value\">None</td>\n",
       "        </tr>\n",
       "    \n",
       "\n",
       "        <tr class=\"user-set\">\n",
       "            <td><i class=\"copy-paste-icon\"\n",
       "                 onclick=\"copyToClipboard('multi_strategy',\n",
       "                          this.parentElement.nextElementSibling)\"\n",
       "            ></i></td>\n",
       "            <td class=\"param\">multi_strategy&nbsp;</td>\n",
       "            <td class=\"value\">None</td>\n",
       "        </tr>\n",
       "    \n",
       "\n",
       "        <tr class=\"user-set\">\n",
       "            <td><i class=\"copy-paste-icon\"\n",
       "                 onclick=\"copyToClipboard('n_estimators',\n",
       "                          this.parentElement.nextElementSibling)\"\n",
       "            ></i></td>\n",
       "            <td class=\"param\">n_estimators&nbsp;</td>\n",
       "            <td class=\"value\">None</td>\n",
       "        </tr>\n",
       "    \n",
       "\n",
       "        <tr class=\"user-set\">\n",
       "            <td><i class=\"copy-paste-icon\"\n",
       "                 onclick=\"copyToClipboard('n_jobs',\n",
       "                          this.parentElement.nextElementSibling)\"\n",
       "            ></i></td>\n",
       "            <td class=\"param\">n_jobs&nbsp;</td>\n",
       "            <td class=\"value\">None</td>\n",
       "        </tr>\n",
       "    \n",
       "\n",
       "        <tr class=\"user-set\">\n",
       "            <td><i class=\"copy-paste-icon\"\n",
       "                 onclick=\"copyToClipboard('num_parallel_tree',\n",
       "                          this.parentElement.nextElementSibling)\"\n",
       "            ></i></td>\n",
       "            <td class=\"param\">num_parallel_tree&nbsp;</td>\n",
       "            <td class=\"value\">None</td>\n",
       "        </tr>\n",
       "    \n",
       "\n",
       "        <tr class=\"user-set\">\n",
       "            <td><i class=\"copy-paste-icon\"\n",
       "                 onclick=\"copyToClipboard('random_state',\n",
       "                          this.parentElement.nextElementSibling)\"\n",
       "            ></i></td>\n",
       "            <td class=\"param\">random_state&nbsp;</td>\n",
       "            <td class=\"value\">42</td>\n",
       "        </tr>\n",
       "    \n",
       "\n",
       "        <tr class=\"user-set\">\n",
       "            <td><i class=\"copy-paste-icon\"\n",
       "                 onclick=\"copyToClipboard('reg_alpha',\n",
       "                          this.parentElement.nextElementSibling)\"\n",
       "            ></i></td>\n",
       "            <td class=\"param\">reg_alpha&nbsp;</td>\n",
       "            <td class=\"value\">None</td>\n",
       "        </tr>\n",
       "    \n",
       "\n",
       "        <tr class=\"user-set\">\n",
       "            <td><i class=\"copy-paste-icon\"\n",
       "                 onclick=\"copyToClipboard('reg_lambda',\n",
       "                          this.parentElement.nextElementSibling)\"\n",
       "            ></i></td>\n",
       "            <td class=\"param\">reg_lambda&nbsp;</td>\n",
       "            <td class=\"value\">None</td>\n",
       "        </tr>\n",
       "    \n",
       "\n",
       "        <tr class=\"user-set\">\n",
       "            <td><i class=\"copy-paste-icon\"\n",
       "                 onclick=\"copyToClipboard('sampling_method',\n",
       "                          this.parentElement.nextElementSibling)\"\n",
       "            ></i></td>\n",
       "            <td class=\"param\">sampling_method&nbsp;</td>\n",
       "            <td class=\"value\">None</td>\n",
       "        </tr>\n",
       "    \n",
       "\n",
       "        <tr class=\"user-set\">\n",
       "            <td><i class=\"copy-paste-icon\"\n",
       "                 onclick=\"copyToClipboard('scale_pos_weight',\n",
       "                          this.parentElement.nextElementSibling)\"\n",
       "            ></i></td>\n",
       "            <td class=\"param\">scale_pos_weight&nbsp;</td>\n",
       "            <td class=\"value\">2</td>\n",
       "        </tr>\n",
       "    \n",
       "\n",
       "        <tr class=\"user-set\">\n",
       "            <td><i class=\"copy-paste-icon\"\n",
       "                 onclick=\"copyToClipboard('subsample',\n",
       "                          this.parentElement.nextElementSibling)\"\n",
       "            ></i></td>\n",
       "            <td class=\"param\">subsample&nbsp;</td>\n",
       "            <td class=\"value\">None</td>\n",
       "        </tr>\n",
       "    \n",
       "\n",
       "        <tr class=\"user-set\">\n",
       "            <td><i class=\"copy-paste-icon\"\n",
       "                 onclick=\"copyToClipboard('tree_method',\n",
       "                          this.parentElement.nextElementSibling)\"\n",
       "            ></i></td>\n",
       "            <td class=\"param\">tree_method&nbsp;</td>\n",
       "            <td class=\"value\">None</td>\n",
       "        </tr>\n",
       "    \n",
       "\n",
       "        <tr class=\"user-set\">\n",
       "            <td><i class=\"copy-paste-icon\"\n",
       "                 onclick=\"copyToClipboard('validate_parameters',\n",
       "                          this.parentElement.nextElementSibling)\"\n",
       "            ></i></td>\n",
       "            <td class=\"param\">validate_parameters&nbsp;</td>\n",
       "            <td class=\"value\">None</td>\n",
       "        </tr>\n",
       "    \n",
       "\n",
       "        <tr class=\"user-set\">\n",
       "            <td><i class=\"copy-paste-icon\"\n",
       "                 onclick=\"copyToClipboard('verbosity',\n",
       "                          this.parentElement.nextElementSibling)\"\n",
       "            ></i></td>\n",
       "            <td class=\"param\">verbosity&nbsp;</td>\n",
       "            <td class=\"value\">None</td>\n",
       "        </tr>\n",
       "    \n",
       "                  </tbody>\n",
       "                </table>\n",
       "            </details>\n",
       "        </div>\n",
       "    </div></div></div></div></div></div></div></div></div></div><script>function copyToClipboard(text, element) {\n",
       "    // Get the parameter prefix from the closest toggleable content\n",
       "    const toggleableContent = element.closest('.sk-toggleable__content');\n",
       "    const paramPrefix = toggleableContent ? toggleableContent.dataset.paramPrefix : '';\n",
       "    const fullParamName = paramPrefix ? `${paramPrefix}${text}` : text;\n",
       "\n",
       "    const originalStyle = element.style;\n",
       "    const computedStyle = window.getComputedStyle(element);\n",
       "    const originalWidth = computedStyle.width;\n",
       "    const originalHTML = element.innerHTML.replace('Copied!', '');\n",
       "\n",
       "    navigator.clipboard.writeText(fullParamName)\n",
       "        .then(() => {\n",
       "            element.style.width = originalWidth;\n",
       "            element.style.color = 'green';\n",
       "            element.innerHTML = \"Copied!\";\n",
       "\n",
       "            setTimeout(() => {\n",
       "                element.innerHTML = originalHTML;\n",
       "                element.style = originalStyle;\n",
       "            }, 2000);\n",
       "        })\n",
       "        .catch(err => {\n",
       "            console.error('Failed to copy:', err);\n",
       "            element.style.color = 'red';\n",
       "            element.innerHTML = \"Failed!\";\n",
       "            setTimeout(() => {\n",
       "                element.innerHTML = originalHTML;\n",
       "                element.style = originalStyle;\n",
       "            }, 2000);\n",
       "        });\n",
       "    return false;\n",
       "}\n",
       "\n",
       "document.querySelectorAll('.fa-regular.fa-copy').forEach(function(element) {\n",
       "    const toggleableContent = element.closest('.sk-toggleable__content');\n",
       "    const paramPrefix = toggleableContent ? toggleableContent.dataset.paramPrefix : '';\n",
       "    const paramName = element.parentElement.nextElementSibling.textContent.trim();\n",
       "    const fullParamName = paramPrefix ? `${paramPrefix}${paramName}` : paramName;\n",
       "\n",
       "    element.setAttribute('title', fullParamName);\n",
       "});\n",
       "</script></body>"
      ],
      "text/plain": [
       "CalibratedClassifierCV(estimator=XGBClassifier(base_score=None, booster=None,\n",
       "                                               callbacks=None,\n",
       "                                               colsample_bylevel=None,\n",
       "                                               colsample_bynode=None,\n",
       "                                               colsample_bytree=None,\n",
       "                                               device=None,\n",
       "                                               early_stopping_rounds=None,\n",
       "                                               enable_categorical=False,\n",
       "                                               eval_metric='logloss',\n",
       "                                               feature_types=None,\n",
       "                                               feature_weights=None, gamma=None,\n",
       "                                               grow_policy=None,\n",
       "                                               importance_type=None,\n",
       "                                               interaction_constraints=None,\n",
       "                                               learning_rate=None, max_bin=None,\n",
       "                                               max_cat_threshold=None,\n",
       "                                               max_cat_to_onehot=None,\n",
       "                                               max_delta_step=None,\n",
       "                                               max_depth=None, max_leaves=None,\n",
       "                                               min_child_weight=None,\n",
       "                                               missing=nan,\n",
       "                                               monotone_constraints=None,\n",
       "                                               multi_strategy=None,\n",
       "                                               n_estimators=None, n_jobs=None,\n",
       "                                               num_parallel_tree=None, ...))"
      ]
     },
     "execution_count": 135,
     "metadata": {},
     "output_type": "execute_result"
    }
   ],
   "source": [
    "# Scale the data\n",
    "X_train = df.drop(columns='diagnosis')\n",
    "\n",
    "scaler = MinMaxScaler()\n",
    "X_train_scaled = scaler.fit_transform(X_train)\n",
    "\n",
    "y_train = df['diagnosis'] \n",
    "\n",
    "model = xgb.XGBClassifier(\n",
    "        objective = 'binary:logistic',\n",
    "        eval_metric = 'logloss',\n",
    "        random_state = 42,\n",
    "        scale_pos_weight= 2\n",
    "    )\n",
    "model.fit(X_train_scaled, y_train)\n",
    "\n",
    "# Create a CalibratedClassifierCV\n",
    "calibrated_model = CalibratedClassifierCV(model, method='sigmoid')\n",
    "calibrated_model.fit(X_train_scaled, y_train, verbose=False)  # Fit the calibration"
   ]
  },
  {
   "cell_type": "code",
   "execution_count": 136,
   "metadata": {},
   "outputs": [
    {
     "data": {
      "text/plain": [
       "['model.joblib']"
      ]
     },
     "execution_count": 136,
     "metadata": {},
     "output_type": "execute_result"
    }
   ],
   "source": [
    "# Save as a tuple\n",
    "joblib.dump((scaler, model), \"model.joblib\")"
   ]
  },
  {
   "cell_type": "code",
   "execution_count": 137,
   "metadata": {},
   "outputs": [
    {
     "data": {
      "text/plain": [
       "['calibrated_xgb_model.pkl']"
      ]
     },
     "execution_count": 137,
     "metadata": {},
     "output_type": "execute_result"
    }
   ],
   "source": [
    "# Save the calibrated model\n",
    "joblib.dump(calibrated_model, 'calibrated_xgb_model.pkl')"
   ]
  },
  {
   "cell_type": "code",
   "execution_count": 138,
   "metadata": {},
   "outputs": [
    {
     "data": {
      "text/plain": [
       "['scaler.pkl']"
      ]
     },
     "execution_count": 138,
     "metadata": {},
     "output_type": "execute_result"
    }
   ],
   "source": [
    "# Save the scaler\n",
    "joblib.dump(scaler, 'scaler.pkl')"
   ]
  },
  {
   "cell_type": "code",
   "execution_count": 139,
   "metadata": {},
   "outputs": [],
   "source": [
    "# Load the calibrated model using joblib\n",
    "loaded_calibrated_model = joblib.load('calibrated_xgb_model.pkl')"
   ]
  },
  {
   "cell_type": "code",
   "execution_count": 140,
   "metadata": {},
   "outputs": [],
   "source": [
    "# pdf_files = [\"fig_1.pdf\", \"fig_3.pdf\", \"fig_2.pdf\", \"fig_metrics.pdf\", \"temp_fig_perimeter_mean.pdf\",\n",
    "#              \"temp_fig_radius_mean.pdf\", \"temp_fig_texture_mean.pdf\", \"fig_perimeter_mean.pdf\", \"fig_radius_mean.pdf\", \"fig_texture_mean.pdf\"]\n",
    "\n",
    "# pdf_files.append(filename)\n",
    "\n",
    "# # Merge all PDFs into one\n",
    "# merger = PdfMerger()\n",
    "# for pdf in pdf_files:\n",
    "#     merger.append(pdf)\n",
    "\n",
    "# output_file = \"combined_figures.pdf\"\n",
    "# merger.write(output_file)\n",
    "# merger.close()\n",
    "\n",
    "# # Optional cleanup\n",
    "# # for pdf in pdf_files:\n",
    "# #     os.remove(pdf)\n",
    "\n",
    "# print(f\"Saved to {output_file}\")"
   ]
  },
  {
   "cell_type": "code",
   "execution_count": 141,
   "metadata": {},
   "outputs": [
    {
     "data": {
      "text/plain": [
       "True"
      ]
     },
     "execution_count": 141,
     "metadata": {},
     "output_type": "execute_result"
    }
   ],
   "source": [
    "import webbrowser\n",
    "webbrowser.open(\"combined_figures.pdf\") "
   ]
  },
  {
   "cell_type": "code",
   "execution_count": 142,
   "metadata": {},
   "outputs": [
    {
     "data": {
      "text/plain": [
       "Index(['radius_mean', 'texture_mean', 'perimeter_mean', 'area_mean',\n",
       "       'smoothness_mean', 'compactness_mean', 'concavity_mean',\n",
       "       'concave_points_mean', 'symmetry_mean', 'fractal_dimension_mean',\n",
       "       'radius_se', 'texture_se', 'perimeter_se', 'area_se', 'smoothness_se',\n",
       "       'compactness_se', 'concavity_se', 'concave_points_se', 'symmetry_se',\n",
       "       'fractal_dimension_se', 'radius_worst', 'texture_worst',\n",
       "       'perimeter_worst', 'area_worst', 'smoothness_worst',\n",
       "       'compactness_worst', 'concavity_worst', 'concave_points_worst',\n",
       "       'symmetry_worst', 'fractal_dimension_worst'],\n",
       "      dtype='object')"
      ]
     },
     "execution_count": 142,
     "metadata": {},
     "output_type": "execute_result"
    }
   ],
   "source": [
    "X_train.columns"
   ]
  }
 ],
 "metadata": {
  "kernelspec": {
   "display_name": "venv",
   "language": "python",
   "name": "python3"
  },
  "language_info": {
   "codemirror_mode": {
    "name": "ipython",
    "version": 3
   },
   "file_extension": ".py",
   "mimetype": "text/x-python",
   "name": "python",
   "nbconvert_exporter": "python",
   "pygments_lexer": "ipython3",
   "version": "3.10.9"
  }
 },
 "nbformat": 4,
 "nbformat_minor": 2
}
