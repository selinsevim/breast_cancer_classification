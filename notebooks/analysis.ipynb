{
 "cells": [
  {
   "cell_type": "code",
   "execution_count": 1,
   "metadata": {},
   "outputs": [
    {
     "data": {
      "text/html": [
       "\n",
       "            <div>\n",
       "                <ins><a href=\"https://ydata.ai/register\">Upgrade to ydata-sdk</a></ins>\n",
       "                <p>\n",
       "                    Improve your data and profiling with ydata-sdk, featuring data quality scoring, redundancy detection, outlier identification, text validation, and synthetic data generation.\n",
       "                </p>\n",
       "            </div>\n",
       "            "
      ],
      "text/plain": [
       "<IPython.core.display.HTML object>"
      ]
     },
     "metadata": {},
     "output_type": "display_data"
    }
   ],
   "source": [
    "import pandas as pd\n",
    "import numpy as np\n",
    "\n",
    "import plotly.express as px\n",
    "import plotly.graph_objects as go\n",
    "import plotly.figure_factory as ff\n",
    "from plotly.subplots import make_subplots\n",
    "\n",
    "import seaborn as sns\n",
    "from ydata_profiling import ProfileReport\n",
    "import matplotlib.pyplot as plt"
   ]
  },
  {
   "cell_type": "code",
   "execution_count": 2,
   "metadata": {},
   "outputs": [],
   "source": [
    "df = pd.read_csv(r'/Users/selinsevim/Desktop/breast_cancer_prediction_ai_model/data/raw/data.csv')"
   ]
  },
  {
   "cell_type": "code",
   "execution_count": 3,
   "metadata": {},
   "outputs": [
    {
     "data": {
      "text/html": [
       "<div>\n",
       "<style scoped>\n",
       "    .dataframe tbody tr th:only-of-type {\n",
       "        vertical-align: middle;\n",
       "    }\n",
       "\n",
       "    .dataframe tbody tr th {\n",
       "        vertical-align: top;\n",
       "    }\n",
       "\n",
       "    .dataframe thead th {\n",
       "        text-align: right;\n",
       "    }\n",
       "</style>\n",
       "<table border=\"1\" class=\"dataframe\">\n",
       "  <thead>\n",
       "    <tr style=\"text-align: right;\">\n",
       "      <th></th>\n",
       "      <th>id</th>\n",
       "      <th>diagnosis</th>\n",
       "      <th>radius_mean</th>\n",
       "      <th>texture_mean</th>\n",
       "      <th>perimeter_mean</th>\n",
       "      <th>area_mean</th>\n",
       "      <th>smoothness_mean</th>\n",
       "      <th>compactness_mean</th>\n",
       "      <th>concavity_mean</th>\n",
       "      <th>concave points_mean</th>\n",
       "      <th>...</th>\n",
       "      <th>texture_worst</th>\n",
       "      <th>perimeter_worst</th>\n",
       "      <th>area_worst</th>\n",
       "      <th>smoothness_worst</th>\n",
       "      <th>compactness_worst</th>\n",
       "      <th>concavity_worst</th>\n",
       "      <th>concave points_worst</th>\n",
       "      <th>symmetry_worst</th>\n",
       "      <th>fractal_dimension_worst</th>\n",
       "      <th>Unnamed: 32</th>\n",
       "    </tr>\n",
       "  </thead>\n",
       "  <tbody>\n",
       "    <tr>\n",
       "      <th>0</th>\n",
       "      <td>842302</td>\n",
       "      <td>M</td>\n",
       "      <td>17.99</td>\n",
       "      <td>10.38</td>\n",
       "      <td>122.80</td>\n",
       "      <td>1001.0</td>\n",
       "      <td>0.11840</td>\n",
       "      <td>0.27760</td>\n",
       "      <td>0.3001</td>\n",
       "      <td>0.14710</td>\n",
       "      <td>...</td>\n",
       "      <td>17.33</td>\n",
       "      <td>184.60</td>\n",
       "      <td>2019.0</td>\n",
       "      <td>0.1622</td>\n",
       "      <td>0.6656</td>\n",
       "      <td>0.7119</td>\n",
       "      <td>0.2654</td>\n",
       "      <td>0.4601</td>\n",
       "      <td>0.11890</td>\n",
       "      <td>NaN</td>\n",
       "    </tr>\n",
       "    <tr>\n",
       "      <th>1</th>\n",
       "      <td>842517</td>\n",
       "      <td>M</td>\n",
       "      <td>20.57</td>\n",
       "      <td>17.77</td>\n",
       "      <td>132.90</td>\n",
       "      <td>1326.0</td>\n",
       "      <td>0.08474</td>\n",
       "      <td>0.07864</td>\n",
       "      <td>0.0869</td>\n",
       "      <td>0.07017</td>\n",
       "      <td>...</td>\n",
       "      <td>23.41</td>\n",
       "      <td>158.80</td>\n",
       "      <td>1956.0</td>\n",
       "      <td>0.1238</td>\n",
       "      <td>0.1866</td>\n",
       "      <td>0.2416</td>\n",
       "      <td>0.1860</td>\n",
       "      <td>0.2750</td>\n",
       "      <td>0.08902</td>\n",
       "      <td>NaN</td>\n",
       "    </tr>\n",
       "    <tr>\n",
       "      <th>2</th>\n",
       "      <td>84300903</td>\n",
       "      <td>M</td>\n",
       "      <td>19.69</td>\n",
       "      <td>21.25</td>\n",
       "      <td>130.00</td>\n",
       "      <td>1203.0</td>\n",
       "      <td>0.10960</td>\n",
       "      <td>0.15990</td>\n",
       "      <td>0.1974</td>\n",
       "      <td>0.12790</td>\n",
       "      <td>...</td>\n",
       "      <td>25.53</td>\n",
       "      <td>152.50</td>\n",
       "      <td>1709.0</td>\n",
       "      <td>0.1444</td>\n",
       "      <td>0.4245</td>\n",
       "      <td>0.4504</td>\n",
       "      <td>0.2430</td>\n",
       "      <td>0.3613</td>\n",
       "      <td>0.08758</td>\n",
       "      <td>NaN</td>\n",
       "    </tr>\n",
       "    <tr>\n",
       "      <th>3</th>\n",
       "      <td>84348301</td>\n",
       "      <td>M</td>\n",
       "      <td>11.42</td>\n",
       "      <td>20.38</td>\n",
       "      <td>77.58</td>\n",
       "      <td>386.1</td>\n",
       "      <td>0.14250</td>\n",
       "      <td>0.28390</td>\n",
       "      <td>0.2414</td>\n",
       "      <td>0.10520</td>\n",
       "      <td>...</td>\n",
       "      <td>26.50</td>\n",
       "      <td>98.87</td>\n",
       "      <td>567.7</td>\n",
       "      <td>0.2098</td>\n",
       "      <td>0.8663</td>\n",
       "      <td>0.6869</td>\n",
       "      <td>0.2575</td>\n",
       "      <td>0.6638</td>\n",
       "      <td>0.17300</td>\n",
       "      <td>NaN</td>\n",
       "    </tr>\n",
       "    <tr>\n",
       "      <th>4</th>\n",
       "      <td>84358402</td>\n",
       "      <td>M</td>\n",
       "      <td>20.29</td>\n",
       "      <td>14.34</td>\n",
       "      <td>135.10</td>\n",
       "      <td>1297.0</td>\n",
       "      <td>0.10030</td>\n",
       "      <td>0.13280</td>\n",
       "      <td>0.1980</td>\n",
       "      <td>0.10430</td>\n",
       "      <td>...</td>\n",
       "      <td>16.67</td>\n",
       "      <td>152.20</td>\n",
       "      <td>1575.0</td>\n",
       "      <td>0.1374</td>\n",
       "      <td>0.2050</td>\n",
       "      <td>0.4000</td>\n",
       "      <td>0.1625</td>\n",
       "      <td>0.2364</td>\n",
       "      <td>0.07678</td>\n",
       "      <td>NaN</td>\n",
       "    </tr>\n",
       "  </tbody>\n",
       "</table>\n",
       "<p>5 rows × 33 columns</p>\n",
       "</div>"
      ],
      "text/plain": [
       "         id diagnosis  radius_mean  texture_mean  perimeter_mean  area_mean  \\\n",
       "0    842302         M        17.99         10.38          122.80     1001.0   \n",
       "1    842517         M        20.57         17.77          132.90     1326.0   \n",
       "2  84300903         M        19.69         21.25          130.00     1203.0   \n",
       "3  84348301         M        11.42         20.38           77.58      386.1   \n",
       "4  84358402         M        20.29         14.34          135.10     1297.0   \n",
       "\n",
       "   smoothness_mean  compactness_mean  concavity_mean  concave points_mean  \\\n",
       "0          0.11840           0.27760          0.3001              0.14710   \n",
       "1          0.08474           0.07864          0.0869              0.07017   \n",
       "2          0.10960           0.15990          0.1974              0.12790   \n",
       "3          0.14250           0.28390          0.2414              0.10520   \n",
       "4          0.10030           0.13280          0.1980              0.10430   \n",
       "\n",
       "   ...  texture_worst  perimeter_worst  area_worst  smoothness_worst  \\\n",
       "0  ...          17.33           184.60      2019.0            0.1622   \n",
       "1  ...          23.41           158.80      1956.0            0.1238   \n",
       "2  ...          25.53           152.50      1709.0            0.1444   \n",
       "3  ...          26.50            98.87       567.7            0.2098   \n",
       "4  ...          16.67           152.20      1575.0            0.1374   \n",
       "\n",
       "   compactness_worst  concavity_worst  concave points_worst  symmetry_worst  \\\n",
       "0             0.6656           0.7119                0.2654          0.4601   \n",
       "1             0.1866           0.2416                0.1860          0.2750   \n",
       "2             0.4245           0.4504                0.2430          0.3613   \n",
       "3             0.8663           0.6869                0.2575          0.6638   \n",
       "4             0.2050           0.4000                0.1625          0.2364   \n",
       "\n",
       "   fractal_dimension_worst  Unnamed: 32  \n",
       "0                  0.11890          NaN  \n",
       "1                  0.08902          NaN  \n",
       "2                  0.08758          NaN  \n",
       "3                  0.17300          NaN  \n",
       "4                  0.07678          NaN  \n",
       "\n",
       "[5 rows x 33 columns]"
      ]
     },
     "execution_count": 3,
     "metadata": {},
     "output_type": "execute_result"
    }
   ],
   "source": [
    "df.head()"
   ]
  },
  {
   "cell_type": "code",
   "execution_count": 4,
   "metadata": {},
   "outputs": [
    {
     "data": {
      "text/plain": [
       "Index(['id', 'diagnosis', 'radius_mean', 'texture_mean', 'perimeter_mean',\n",
       "       'area_mean', 'smoothness_mean', 'compactness_mean', 'concavity_mean',\n",
       "       'concave points_mean', 'symmetry_mean', 'fractal_dimension_mean',\n",
       "       'radius_se', 'texture_se', 'perimeter_se', 'area_se', 'smoothness_se',\n",
       "       'compactness_se', 'concavity_se', 'concave points_se', 'symmetry_se',\n",
       "       'fractal_dimension_se', 'radius_worst', 'texture_worst',\n",
       "       'perimeter_worst', 'area_worst', 'smoothness_worst',\n",
       "       'compactness_worst', 'concavity_worst', 'concave points_worst',\n",
       "       'symmetry_worst', 'fractal_dimension_worst', 'Unnamed: 32'],\n",
       "      dtype='object')"
      ]
     },
     "execution_count": 4,
     "metadata": {},
     "output_type": "execute_result"
    }
   ],
   "source": [
    "df.columns"
   ]
  },
  {
   "cell_type": "code",
   "execution_count": 5,
   "metadata": {},
   "outputs": [
    {
     "data": {
      "text/html": [
       "<div>\n",
       "<style scoped>\n",
       "    .dataframe tbody tr th:only-of-type {\n",
       "        vertical-align: middle;\n",
       "    }\n",
       "\n",
       "    .dataframe tbody tr th {\n",
       "        vertical-align: top;\n",
       "    }\n",
       "\n",
       "    .dataframe thead th {\n",
       "        text-align: right;\n",
       "    }\n",
       "</style>\n",
       "<table border=\"1\" class=\"dataframe\">\n",
       "  <thead>\n",
       "    <tr style=\"text-align: right;\">\n",
       "      <th></th>\n",
       "      <th>id</th>\n",
       "      <th>radius_mean</th>\n",
       "      <th>texture_mean</th>\n",
       "      <th>perimeter_mean</th>\n",
       "      <th>area_mean</th>\n",
       "      <th>smoothness_mean</th>\n",
       "      <th>compactness_mean</th>\n",
       "      <th>concavity_mean</th>\n",
       "      <th>concave points_mean</th>\n",
       "      <th>symmetry_mean</th>\n",
       "      <th>...</th>\n",
       "      <th>texture_worst</th>\n",
       "      <th>perimeter_worst</th>\n",
       "      <th>area_worst</th>\n",
       "      <th>smoothness_worst</th>\n",
       "      <th>compactness_worst</th>\n",
       "      <th>concavity_worst</th>\n",
       "      <th>concave points_worst</th>\n",
       "      <th>symmetry_worst</th>\n",
       "      <th>fractal_dimension_worst</th>\n",
       "      <th>Unnamed: 32</th>\n",
       "    </tr>\n",
       "  </thead>\n",
       "  <tbody>\n",
       "    <tr>\n",
       "      <th>count</th>\n",
       "      <td>5.690000e+02</td>\n",
       "      <td>569.000000</td>\n",
       "      <td>569.000000</td>\n",
       "      <td>569.000000</td>\n",
       "      <td>569.000000</td>\n",
       "      <td>569.000000</td>\n",
       "      <td>569.000000</td>\n",
       "      <td>569.000000</td>\n",
       "      <td>569.000000</td>\n",
       "      <td>569.000000</td>\n",
       "      <td>...</td>\n",
       "      <td>569.000000</td>\n",
       "      <td>569.000000</td>\n",
       "      <td>569.000000</td>\n",
       "      <td>569.000000</td>\n",
       "      <td>569.000000</td>\n",
       "      <td>569.000000</td>\n",
       "      <td>569.000000</td>\n",
       "      <td>569.000000</td>\n",
       "      <td>569.000000</td>\n",
       "      <td>0.0</td>\n",
       "    </tr>\n",
       "    <tr>\n",
       "      <th>mean</th>\n",
       "      <td>3.037183e+07</td>\n",
       "      <td>14.127292</td>\n",
       "      <td>19.289649</td>\n",
       "      <td>91.969033</td>\n",
       "      <td>654.889104</td>\n",
       "      <td>0.096360</td>\n",
       "      <td>0.104341</td>\n",
       "      <td>0.088799</td>\n",
       "      <td>0.048919</td>\n",
       "      <td>0.181162</td>\n",
       "      <td>...</td>\n",
       "      <td>25.677223</td>\n",
       "      <td>107.261213</td>\n",
       "      <td>880.583128</td>\n",
       "      <td>0.132369</td>\n",
       "      <td>0.254265</td>\n",
       "      <td>0.272188</td>\n",
       "      <td>0.114606</td>\n",
       "      <td>0.290076</td>\n",
       "      <td>0.083946</td>\n",
       "      <td>NaN</td>\n",
       "    </tr>\n",
       "    <tr>\n",
       "      <th>std</th>\n",
       "      <td>1.250206e+08</td>\n",
       "      <td>3.524049</td>\n",
       "      <td>4.301036</td>\n",
       "      <td>24.298981</td>\n",
       "      <td>351.914129</td>\n",
       "      <td>0.014064</td>\n",
       "      <td>0.052813</td>\n",
       "      <td>0.079720</td>\n",
       "      <td>0.038803</td>\n",
       "      <td>0.027414</td>\n",
       "      <td>...</td>\n",
       "      <td>6.146258</td>\n",
       "      <td>33.602542</td>\n",
       "      <td>569.356993</td>\n",
       "      <td>0.022832</td>\n",
       "      <td>0.157336</td>\n",
       "      <td>0.208624</td>\n",
       "      <td>0.065732</td>\n",
       "      <td>0.061867</td>\n",
       "      <td>0.018061</td>\n",
       "      <td>NaN</td>\n",
       "    </tr>\n",
       "    <tr>\n",
       "      <th>min</th>\n",
       "      <td>8.670000e+03</td>\n",
       "      <td>6.981000</td>\n",
       "      <td>9.710000</td>\n",
       "      <td>43.790000</td>\n",
       "      <td>143.500000</td>\n",
       "      <td>0.052630</td>\n",
       "      <td>0.019380</td>\n",
       "      <td>0.000000</td>\n",
       "      <td>0.000000</td>\n",
       "      <td>0.106000</td>\n",
       "      <td>...</td>\n",
       "      <td>12.020000</td>\n",
       "      <td>50.410000</td>\n",
       "      <td>185.200000</td>\n",
       "      <td>0.071170</td>\n",
       "      <td>0.027290</td>\n",
       "      <td>0.000000</td>\n",
       "      <td>0.000000</td>\n",
       "      <td>0.156500</td>\n",
       "      <td>0.055040</td>\n",
       "      <td>NaN</td>\n",
       "    </tr>\n",
       "    <tr>\n",
       "      <th>25%</th>\n",
       "      <td>8.692180e+05</td>\n",
       "      <td>11.700000</td>\n",
       "      <td>16.170000</td>\n",
       "      <td>75.170000</td>\n",
       "      <td>420.300000</td>\n",
       "      <td>0.086370</td>\n",
       "      <td>0.064920</td>\n",
       "      <td>0.029560</td>\n",
       "      <td>0.020310</td>\n",
       "      <td>0.161900</td>\n",
       "      <td>...</td>\n",
       "      <td>21.080000</td>\n",
       "      <td>84.110000</td>\n",
       "      <td>515.300000</td>\n",
       "      <td>0.116600</td>\n",
       "      <td>0.147200</td>\n",
       "      <td>0.114500</td>\n",
       "      <td>0.064930</td>\n",
       "      <td>0.250400</td>\n",
       "      <td>0.071460</td>\n",
       "      <td>NaN</td>\n",
       "    </tr>\n",
       "    <tr>\n",
       "      <th>50%</th>\n",
       "      <td>9.060240e+05</td>\n",
       "      <td>13.370000</td>\n",
       "      <td>18.840000</td>\n",
       "      <td>86.240000</td>\n",
       "      <td>551.100000</td>\n",
       "      <td>0.095870</td>\n",
       "      <td>0.092630</td>\n",
       "      <td>0.061540</td>\n",
       "      <td>0.033500</td>\n",
       "      <td>0.179200</td>\n",
       "      <td>...</td>\n",
       "      <td>25.410000</td>\n",
       "      <td>97.660000</td>\n",
       "      <td>686.500000</td>\n",
       "      <td>0.131300</td>\n",
       "      <td>0.211900</td>\n",
       "      <td>0.226700</td>\n",
       "      <td>0.099930</td>\n",
       "      <td>0.282200</td>\n",
       "      <td>0.080040</td>\n",
       "      <td>NaN</td>\n",
       "    </tr>\n",
       "    <tr>\n",
       "      <th>75%</th>\n",
       "      <td>8.813129e+06</td>\n",
       "      <td>15.780000</td>\n",
       "      <td>21.800000</td>\n",
       "      <td>104.100000</td>\n",
       "      <td>782.700000</td>\n",
       "      <td>0.105300</td>\n",
       "      <td>0.130400</td>\n",
       "      <td>0.130700</td>\n",
       "      <td>0.074000</td>\n",
       "      <td>0.195700</td>\n",
       "      <td>...</td>\n",
       "      <td>29.720000</td>\n",
       "      <td>125.400000</td>\n",
       "      <td>1084.000000</td>\n",
       "      <td>0.146000</td>\n",
       "      <td>0.339100</td>\n",
       "      <td>0.382900</td>\n",
       "      <td>0.161400</td>\n",
       "      <td>0.317900</td>\n",
       "      <td>0.092080</td>\n",
       "      <td>NaN</td>\n",
       "    </tr>\n",
       "    <tr>\n",
       "      <th>max</th>\n",
       "      <td>9.113205e+08</td>\n",
       "      <td>28.110000</td>\n",
       "      <td>39.280000</td>\n",
       "      <td>188.500000</td>\n",
       "      <td>2501.000000</td>\n",
       "      <td>0.163400</td>\n",
       "      <td>0.345400</td>\n",
       "      <td>0.426800</td>\n",
       "      <td>0.201200</td>\n",
       "      <td>0.304000</td>\n",
       "      <td>...</td>\n",
       "      <td>49.540000</td>\n",
       "      <td>251.200000</td>\n",
       "      <td>4254.000000</td>\n",
       "      <td>0.222600</td>\n",
       "      <td>1.058000</td>\n",
       "      <td>1.252000</td>\n",
       "      <td>0.291000</td>\n",
       "      <td>0.663800</td>\n",
       "      <td>0.207500</td>\n",
       "      <td>NaN</td>\n",
       "    </tr>\n",
       "  </tbody>\n",
       "</table>\n",
       "<p>8 rows × 32 columns</p>\n",
       "</div>"
      ],
      "text/plain": [
       "                 id  radius_mean  texture_mean  perimeter_mean    area_mean  \\\n",
       "count  5.690000e+02   569.000000    569.000000      569.000000   569.000000   \n",
       "mean   3.037183e+07    14.127292     19.289649       91.969033   654.889104   \n",
       "std    1.250206e+08     3.524049      4.301036       24.298981   351.914129   \n",
       "min    8.670000e+03     6.981000      9.710000       43.790000   143.500000   \n",
       "25%    8.692180e+05    11.700000     16.170000       75.170000   420.300000   \n",
       "50%    9.060240e+05    13.370000     18.840000       86.240000   551.100000   \n",
       "75%    8.813129e+06    15.780000     21.800000      104.100000   782.700000   \n",
       "max    9.113205e+08    28.110000     39.280000      188.500000  2501.000000   \n",
       "\n",
       "       smoothness_mean  compactness_mean  concavity_mean  concave points_mean  \\\n",
       "count       569.000000        569.000000      569.000000           569.000000   \n",
       "mean          0.096360          0.104341        0.088799             0.048919   \n",
       "std           0.014064          0.052813        0.079720             0.038803   \n",
       "min           0.052630          0.019380        0.000000             0.000000   \n",
       "25%           0.086370          0.064920        0.029560             0.020310   \n",
       "50%           0.095870          0.092630        0.061540             0.033500   \n",
       "75%           0.105300          0.130400        0.130700             0.074000   \n",
       "max           0.163400          0.345400        0.426800             0.201200   \n",
       "\n",
       "       symmetry_mean  ...  texture_worst  perimeter_worst   area_worst  \\\n",
       "count     569.000000  ...     569.000000       569.000000   569.000000   \n",
       "mean        0.181162  ...      25.677223       107.261213   880.583128   \n",
       "std         0.027414  ...       6.146258        33.602542   569.356993   \n",
       "min         0.106000  ...      12.020000        50.410000   185.200000   \n",
       "25%         0.161900  ...      21.080000        84.110000   515.300000   \n",
       "50%         0.179200  ...      25.410000        97.660000   686.500000   \n",
       "75%         0.195700  ...      29.720000       125.400000  1084.000000   \n",
       "max         0.304000  ...      49.540000       251.200000  4254.000000   \n",
       "\n",
       "       smoothness_worst  compactness_worst  concavity_worst  \\\n",
       "count        569.000000         569.000000       569.000000   \n",
       "mean           0.132369           0.254265         0.272188   \n",
       "std            0.022832           0.157336         0.208624   \n",
       "min            0.071170           0.027290         0.000000   \n",
       "25%            0.116600           0.147200         0.114500   \n",
       "50%            0.131300           0.211900         0.226700   \n",
       "75%            0.146000           0.339100         0.382900   \n",
       "max            0.222600           1.058000         1.252000   \n",
       "\n",
       "       concave points_worst  symmetry_worst  fractal_dimension_worst  \\\n",
       "count            569.000000      569.000000               569.000000   \n",
       "mean               0.114606        0.290076                 0.083946   \n",
       "std                0.065732        0.061867                 0.018061   \n",
       "min                0.000000        0.156500                 0.055040   \n",
       "25%                0.064930        0.250400                 0.071460   \n",
       "50%                0.099930        0.282200                 0.080040   \n",
       "75%                0.161400        0.317900                 0.092080   \n",
       "max                0.291000        0.663800                 0.207500   \n",
       "\n",
       "       Unnamed: 32  \n",
       "count          0.0  \n",
       "mean           NaN  \n",
       "std            NaN  \n",
       "min            NaN  \n",
       "25%            NaN  \n",
       "50%            NaN  \n",
       "75%            NaN  \n",
       "max            NaN  \n",
       "\n",
       "[8 rows x 32 columns]"
      ]
     },
     "execution_count": 5,
     "metadata": {},
     "output_type": "execute_result"
    }
   ],
   "source": [
    "df.describe()"
   ]
  },
  {
   "cell_type": "code",
   "execution_count": 6,
   "metadata": {},
   "outputs": [
    {
     "name": "stdout",
     "output_type": "stream",
     "text": [
      "<class 'pandas.core.frame.DataFrame'>\n",
      "RangeIndex: 569 entries, 0 to 568\n",
      "Data columns (total 33 columns):\n",
      " #   Column                   Non-Null Count  Dtype  \n",
      "---  ------                   --------------  -----  \n",
      " 0   id                       569 non-null    int64  \n",
      " 1   diagnosis                569 non-null    object \n",
      " 2   radius_mean              569 non-null    float64\n",
      " 3   texture_mean             569 non-null    float64\n",
      " 4   perimeter_mean           569 non-null    float64\n",
      " 5   area_mean                569 non-null    float64\n",
      " 6   smoothness_mean          569 non-null    float64\n",
      " 7   compactness_mean         569 non-null    float64\n",
      " 8   concavity_mean           569 non-null    float64\n",
      " 9   concave points_mean      569 non-null    float64\n",
      " 10  symmetry_mean            569 non-null    float64\n",
      " 11  fractal_dimension_mean   569 non-null    float64\n",
      " 12  radius_se                569 non-null    float64\n",
      " 13  texture_se               569 non-null    float64\n",
      " 14  perimeter_se             569 non-null    float64\n",
      " 15  area_se                  569 non-null    float64\n",
      " 16  smoothness_se            569 non-null    float64\n",
      " 17  compactness_se           569 non-null    float64\n",
      " 18  concavity_se             569 non-null    float64\n",
      " 19  concave points_se        569 non-null    float64\n",
      " 20  symmetry_se              569 non-null    float64\n",
      " 21  fractal_dimension_se     569 non-null    float64\n",
      " 22  radius_worst             569 non-null    float64\n",
      " 23  texture_worst            569 non-null    float64\n",
      " 24  perimeter_worst          569 non-null    float64\n",
      " 25  area_worst               569 non-null    float64\n",
      " 26  smoothness_worst         569 non-null    float64\n",
      " 27  compactness_worst        569 non-null    float64\n",
      " 28  concavity_worst          569 non-null    float64\n",
      " 29  concave points_worst     569 non-null    float64\n",
      " 30  symmetry_worst           569 non-null    float64\n",
      " 31  fractal_dimension_worst  569 non-null    float64\n",
      " 32  Unnamed: 32              0 non-null      float64\n",
      "dtypes: float64(31), int64(1), object(1)\n",
      "memory usage: 146.8+ KB\n"
     ]
    }
   ],
   "source": [
    "df.info()"
   ]
  },
  {
   "cell_type": "code",
   "execution_count": 7,
   "metadata": {},
   "outputs": [],
   "source": [
    "#report = ProfileReport(df)"
   ]
  },
  {
   "cell_type": "code",
   "execution_count": 8,
   "metadata": {},
   "outputs": [],
   "source": [
    "#report"
   ]
  },
  {
   "cell_type": "code",
   "execution_count": 9,
   "metadata": {},
   "outputs": [
    {
     "data": {
      "text/plain": [
       "id                           0\n",
       "diagnosis                    0\n",
       "radius_mean                  0\n",
       "texture_mean                 0\n",
       "perimeter_mean               0\n",
       "area_mean                    0\n",
       "smoothness_mean              0\n",
       "compactness_mean             0\n",
       "concavity_mean               0\n",
       "concave points_mean          0\n",
       "symmetry_mean                0\n",
       "fractal_dimension_mean       0\n",
       "radius_se                    0\n",
       "texture_se                   0\n",
       "perimeter_se                 0\n",
       "area_se                      0\n",
       "smoothness_se                0\n",
       "compactness_se               0\n",
       "concavity_se                 0\n",
       "concave points_se            0\n",
       "symmetry_se                  0\n",
       "fractal_dimension_se         0\n",
       "radius_worst                 0\n",
       "texture_worst                0\n",
       "perimeter_worst              0\n",
       "area_worst                   0\n",
       "smoothness_worst             0\n",
       "compactness_worst            0\n",
       "concavity_worst              0\n",
       "concave points_worst         0\n",
       "symmetry_worst               0\n",
       "fractal_dimension_worst      0\n",
       "Unnamed: 32                569\n",
       "dtype: int64"
      ]
     },
     "execution_count": 9,
     "metadata": {},
     "output_type": "execute_result"
    }
   ],
   "source": [
    "# Check if there are Null values in the dataframe\n",
    "df.isna().sum()"
   ]
  },
  {
   "cell_type": "code",
   "execution_count": 10,
   "metadata": {},
   "outputs": [],
   "source": [
    "df = df.drop(columns = \"Unnamed: 32\", axis = 1) "
   ]
  },
  {
   "cell_type": "code",
   "execution_count": 11,
   "metadata": {},
   "outputs": [
    {
     "data": {
      "text/plain": [
       "Index(['id', 'diagnosis', 'radius_mean', 'texture_mean', 'perimeter_mean',\n",
       "       'area_mean', 'smoothness_mean', 'compactness_mean', 'concavity_mean',\n",
       "       'concave points_mean', 'symmetry_mean', 'fractal_dimension_mean',\n",
       "       'radius_se', 'texture_se', 'perimeter_se', 'area_se', 'smoothness_se',\n",
       "       'compactness_se', 'concavity_se', 'concave points_se', 'symmetry_se',\n",
       "       'fractal_dimension_se', 'radius_worst', 'texture_worst',\n",
       "       'perimeter_worst', 'area_worst', 'smoothness_worst',\n",
       "       'compactness_worst', 'concavity_worst', 'concave points_worst',\n",
       "       'symmetry_worst', 'fractal_dimension_worst'],\n",
       "      dtype='object')"
      ]
     },
     "execution_count": 11,
     "metadata": {},
     "output_type": "execute_result"
    }
   ],
   "source": [
    "df.columns"
   ]
  },
  {
   "cell_type": "code",
   "execution_count": 12,
   "metadata": {},
   "outputs": [
    {
     "data": {
      "text/plain": [
       "id                         False\n",
       "diagnosis                  False\n",
       "radius_mean                False\n",
       "texture_mean               False\n",
       "perimeter_mean             False\n",
       "area_mean                  False\n",
       "smoothness_mean            False\n",
       "compactness_mean           False\n",
       "concavity_mean             False\n",
       "concave points_mean        False\n",
       "symmetry_mean              False\n",
       "fractal_dimension_mean     False\n",
       "radius_se                  False\n",
       "texture_se                 False\n",
       "perimeter_se               False\n",
       "area_se                    False\n",
       "smoothness_se              False\n",
       "compactness_se             False\n",
       "concavity_se               False\n",
       "concave points_se          False\n",
       "symmetry_se                False\n",
       "fractal_dimension_se       False\n",
       "radius_worst               False\n",
       "texture_worst              False\n",
       "perimeter_worst            False\n",
       "area_worst                 False\n",
       "smoothness_worst           False\n",
       "compactness_worst          False\n",
       "concavity_worst            False\n",
       "concave points_worst       False\n",
       "symmetry_worst             False\n",
       "fractal_dimension_worst    False\n",
       "dtype: bool"
      ]
     },
     "execution_count": 12,
     "metadata": {},
     "output_type": "execute_result"
    }
   ],
   "source": [
    "df.isnull().any()"
   ]
  },
  {
   "cell_type": "code",
   "execution_count": 13,
   "metadata": {},
   "outputs": [],
   "source": [
    "df[\"diagnosis\"] = df[\"diagnosis\"].map({'M':1, 'B':0})"
   ]
  },
  {
   "cell_type": "code",
   "execution_count": 14,
   "metadata": {},
   "outputs": [
    {
     "data": {
      "text/html": [
       "<div>\n",
       "<style scoped>\n",
       "    .dataframe tbody tr th:only-of-type {\n",
       "        vertical-align: middle;\n",
       "    }\n",
       "\n",
       "    .dataframe tbody tr th {\n",
       "        vertical-align: top;\n",
       "    }\n",
       "\n",
       "    .dataframe thead th {\n",
       "        text-align: right;\n",
       "    }\n",
       "</style>\n",
       "<table border=\"1\" class=\"dataframe\">\n",
       "  <thead>\n",
       "    <tr style=\"text-align: right;\">\n",
       "      <th></th>\n",
       "      <th>id</th>\n",
       "      <th>diagnosis</th>\n",
       "      <th>radius_mean</th>\n",
       "      <th>texture_mean</th>\n",
       "      <th>perimeter_mean</th>\n",
       "      <th>area_mean</th>\n",
       "      <th>smoothness_mean</th>\n",
       "      <th>compactness_mean</th>\n",
       "      <th>concavity_mean</th>\n",
       "      <th>concave points_mean</th>\n",
       "      <th>...</th>\n",
       "      <th>radius_worst</th>\n",
       "      <th>texture_worst</th>\n",
       "      <th>perimeter_worst</th>\n",
       "      <th>area_worst</th>\n",
       "      <th>smoothness_worst</th>\n",
       "      <th>compactness_worst</th>\n",
       "      <th>concavity_worst</th>\n",
       "      <th>concave points_worst</th>\n",
       "      <th>symmetry_worst</th>\n",
       "      <th>fractal_dimension_worst</th>\n",
       "    </tr>\n",
       "  </thead>\n",
       "  <tbody>\n",
       "    <tr>\n",
       "      <th>0</th>\n",
       "      <td>842302</td>\n",
       "      <td>1</td>\n",
       "      <td>17.99</td>\n",
       "      <td>10.38</td>\n",
       "      <td>122.80</td>\n",
       "      <td>1001.0</td>\n",
       "      <td>0.11840</td>\n",
       "      <td>0.27760</td>\n",
       "      <td>0.3001</td>\n",
       "      <td>0.14710</td>\n",
       "      <td>...</td>\n",
       "      <td>25.38</td>\n",
       "      <td>17.33</td>\n",
       "      <td>184.60</td>\n",
       "      <td>2019.0</td>\n",
       "      <td>0.1622</td>\n",
       "      <td>0.6656</td>\n",
       "      <td>0.7119</td>\n",
       "      <td>0.2654</td>\n",
       "      <td>0.4601</td>\n",
       "      <td>0.11890</td>\n",
       "    </tr>\n",
       "    <tr>\n",
       "      <th>1</th>\n",
       "      <td>842517</td>\n",
       "      <td>1</td>\n",
       "      <td>20.57</td>\n",
       "      <td>17.77</td>\n",
       "      <td>132.90</td>\n",
       "      <td>1326.0</td>\n",
       "      <td>0.08474</td>\n",
       "      <td>0.07864</td>\n",
       "      <td>0.0869</td>\n",
       "      <td>0.07017</td>\n",
       "      <td>...</td>\n",
       "      <td>24.99</td>\n",
       "      <td>23.41</td>\n",
       "      <td>158.80</td>\n",
       "      <td>1956.0</td>\n",
       "      <td>0.1238</td>\n",
       "      <td>0.1866</td>\n",
       "      <td>0.2416</td>\n",
       "      <td>0.1860</td>\n",
       "      <td>0.2750</td>\n",
       "      <td>0.08902</td>\n",
       "    </tr>\n",
       "    <tr>\n",
       "      <th>2</th>\n",
       "      <td>84300903</td>\n",
       "      <td>1</td>\n",
       "      <td>19.69</td>\n",
       "      <td>21.25</td>\n",
       "      <td>130.00</td>\n",
       "      <td>1203.0</td>\n",
       "      <td>0.10960</td>\n",
       "      <td>0.15990</td>\n",
       "      <td>0.1974</td>\n",
       "      <td>0.12790</td>\n",
       "      <td>...</td>\n",
       "      <td>23.57</td>\n",
       "      <td>25.53</td>\n",
       "      <td>152.50</td>\n",
       "      <td>1709.0</td>\n",
       "      <td>0.1444</td>\n",
       "      <td>0.4245</td>\n",
       "      <td>0.4504</td>\n",
       "      <td>0.2430</td>\n",
       "      <td>0.3613</td>\n",
       "      <td>0.08758</td>\n",
       "    </tr>\n",
       "    <tr>\n",
       "      <th>3</th>\n",
       "      <td>84348301</td>\n",
       "      <td>1</td>\n",
       "      <td>11.42</td>\n",
       "      <td>20.38</td>\n",
       "      <td>77.58</td>\n",
       "      <td>386.1</td>\n",
       "      <td>0.14250</td>\n",
       "      <td>0.28390</td>\n",
       "      <td>0.2414</td>\n",
       "      <td>0.10520</td>\n",
       "      <td>...</td>\n",
       "      <td>14.91</td>\n",
       "      <td>26.50</td>\n",
       "      <td>98.87</td>\n",
       "      <td>567.7</td>\n",
       "      <td>0.2098</td>\n",
       "      <td>0.8663</td>\n",
       "      <td>0.6869</td>\n",
       "      <td>0.2575</td>\n",
       "      <td>0.6638</td>\n",
       "      <td>0.17300</td>\n",
       "    </tr>\n",
       "    <tr>\n",
       "      <th>4</th>\n",
       "      <td>84358402</td>\n",
       "      <td>1</td>\n",
       "      <td>20.29</td>\n",
       "      <td>14.34</td>\n",
       "      <td>135.10</td>\n",
       "      <td>1297.0</td>\n",
       "      <td>0.10030</td>\n",
       "      <td>0.13280</td>\n",
       "      <td>0.1980</td>\n",
       "      <td>0.10430</td>\n",
       "      <td>...</td>\n",
       "      <td>22.54</td>\n",
       "      <td>16.67</td>\n",
       "      <td>152.20</td>\n",
       "      <td>1575.0</td>\n",
       "      <td>0.1374</td>\n",
       "      <td>0.2050</td>\n",
       "      <td>0.4000</td>\n",
       "      <td>0.1625</td>\n",
       "      <td>0.2364</td>\n",
       "      <td>0.07678</td>\n",
       "    </tr>\n",
       "  </tbody>\n",
       "</table>\n",
       "<p>5 rows × 32 columns</p>\n",
       "</div>"
      ],
      "text/plain": [
       "         id  diagnosis  radius_mean  texture_mean  perimeter_mean  area_mean  \\\n",
       "0    842302          1        17.99         10.38          122.80     1001.0   \n",
       "1    842517          1        20.57         17.77          132.90     1326.0   \n",
       "2  84300903          1        19.69         21.25          130.00     1203.0   \n",
       "3  84348301          1        11.42         20.38           77.58      386.1   \n",
       "4  84358402          1        20.29         14.34          135.10     1297.0   \n",
       "\n",
       "   smoothness_mean  compactness_mean  concavity_mean  concave points_mean  \\\n",
       "0          0.11840           0.27760          0.3001              0.14710   \n",
       "1          0.08474           0.07864          0.0869              0.07017   \n",
       "2          0.10960           0.15990          0.1974              0.12790   \n",
       "3          0.14250           0.28390          0.2414              0.10520   \n",
       "4          0.10030           0.13280          0.1980              0.10430   \n",
       "\n",
       "   ...  radius_worst  texture_worst  perimeter_worst  area_worst  \\\n",
       "0  ...         25.38          17.33           184.60      2019.0   \n",
       "1  ...         24.99          23.41           158.80      1956.0   \n",
       "2  ...         23.57          25.53           152.50      1709.0   \n",
       "3  ...         14.91          26.50            98.87       567.7   \n",
       "4  ...         22.54          16.67           152.20      1575.0   \n",
       "\n",
       "   smoothness_worst  compactness_worst  concavity_worst  concave points_worst  \\\n",
       "0            0.1622             0.6656           0.7119                0.2654   \n",
       "1            0.1238             0.1866           0.2416                0.1860   \n",
       "2            0.1444             0.4245           0.4504                0.2430   \n",
       "3            0.2098             0.8663           0.6869                0.2575   \n",
       "4            0.1374             0.2050           0.4000                0.1625   \n",
       "\n",
       "   symmetry_worst  fractal_dimension_worst  \n",
       "0          0.4601                  0.11890  \n",
       "1          0.2750                  0.08902  \n",
       "2          0.3613                  0.08758  \n",
       "3          0.6638                  0.17300  \n",
       "4          0.2364                  0.07678  \n",
       "\n",
       "[5 rows x 32 columns]"
      ]
     },
     "execution_count": 14,
     "metadata": {},
     "output_type": "execute_result"
    }
   ],
   "source": [
    "df.head()"
   ]
  },
  {
   "cell_type": "code",
   "execution_count": 63,
   "metadata": {},
   "outputs": [
    {
     "data": {
      "application/vnd.plotly.v1+json": {
       "config": {
        "plotlyServerURL": "https://plot.ly"
       },
       "data": [
        {
         "bingroup": "x",
         "hovertemplate": "color=Malignant<br>x=%{x}<br>count=%{y}<extra></extra>",
         "legendgroup": "Malignant",
         "marker": {
          "color": "#ee8ef5",
          "pattern": {
           "shape": ""
          }
         },
         "name": "Malignant",
         "orientation": "v",
         "showlegend": true,
         "type": "histogram",
         "x": [
          "Malignant",
          "Malignant",
          "Malignant",
          "Malignant",
          "Malignant",
          "Malignant",
          "Malignant",
          "Malignant",
          "Malignant",
          "Malignant",
          "Malignant",
          "Malignant",
          "Malignant",
          "Malignant",
          "Malignant",
          "Malignant",
          "Malignant",
          "Malignant",
          "Malignant",
          "Malignant",
          "Malignant",
          "Malignant",
          "Malignant",
          "Malignant",
          "Malignant",
          "Malignant",
          "Malignant",
          "Malignant",
          "Malignant",
          "Malignant",
          "Malignant",
          "Malignant",
          "Malignant",
          "Malignant",
          "Malignant",
          "Malignant",
          "Malignant",
          "Malignant",
          "Malignant",
          "Malignant",
          "Malignant",
          "Malignant",
          "Malignant",
          "Malignant",
          "Malignant",
          "Malignant",
          "Malignant",
          "Malignant",
          "Malignant",
          "Malignant",
          "Malignant",
          "Malignant",
          "Malignant",
          "Malignant",
          "Malignant",
          "Malignant",
          "Malignant",
          "Malignant",
          "Malignant",
          "Malignant",
          "Malignant",
          "Malignant",
          "Malignant",
          "Malignant",
          "Malignant",
          "Malignant",
          "Malignant",
          "Malignant",
          "Malignant",
          "Malignant",
          "Malignant",
          "Malignant",
          "Malignant",
          "Malignant",
          "Malignant",
          "Malignant",
          "Malignant",
          "Malignant",
          "Malignant",
          "Malignant",
          "Malignant",
          "Malignant",
          "Malignant",
          "Malignant",
          "Malignant",
          "Malignant",
          "Malignant",
          "Malignant",
          "Malignant",
          "Malignant",
          "Malignant",
          "Malignant",
          "Malignant",
          "Malignant",
          "Malignant",
          "Malignant",
          "Malignant",
          "Malignant",
          "Malignant",
          "Malignant",
          "Malignant",
          "Malignant",
          "Malignant",
          "Malignant",
          "Malignant",
          "Malignant",
          "Malignant",
          "Malignant",
          "Malignant",
          "Malignant",
          "Malignant",
          "Malignant",
          "Malignant",
          "Malignant",
          "Malignant",
          "Malignant",
          "Malignant",
          "Malignant",
          "Malignant",
          "Malignant",
          "Malignant",
          "Malignant",
          "Malignant",
          "Malignant",
          "Malignant",
          "Malignant",
          "Malignant",
          "Malignant",
          "Malignant",
          "Malignant",
          "Malignant",
          "Malignant",
          "Malignant",
          "Malignant",
          "Malignant",
          "Malignant",
          "Malignant",
          "Malignant",
          "Malignant",
          "Malignant",
          "Malignant",
          "Malignant",
          "Malignant",
          "Malignant",
          "Malignant",
          "Malignant",
          "Malignant",
          "Malignant",
          "Malignant",
          "Malignant",
          "Malignant",
          "Malignant",
          "Malignant",
          "Malignant",
          "Malignant",
          "Malignant",
          "Malignant",
          "Malignant",
          "Malignant",
          "Malignant",
          "Malignant",
          "Malignant",
          "Malignant",
          "Malignant",
          "Malignant",
          "Malignant",
          "Malignant",
          "Malignant",
          "Malignant",
          "Malignant",
          "Malignant",
          "Malignant",
          "Malignant",
          "Malignant",
          "Malignant",
          "Malignant",
          "Malignant",
          "Malignant",
          "Malignant",
          "Malignant",
          "Malignant",
          "Malignant",
          "Malignant",
          "Malignant",
          "Malignant",
          "Malignant",
          "Malignant",
          "Malignant",
          "Malignant",
          "Malignant",
          "Malignant",
          "Malignant",
          "Malignant",
          "Malignant",
          "Malignant",
          "Malignant",
          "Malignant",
          "Malignant",
          "Malignant",
          "Malignant",
          "Malignant",
          "Malignant",
          "Malignant",
          "Malignant",
          "Malignant",
          "Malignant",
          "Malignant",
          "Malignant",
          "Malignant",
          "Malignant",
          "Malignant",
          "Malignant"
         ],
         "xaxis": "x",
         "yaxis": "y"
        },
        {
         "bingroup": "x",
         "hovertemplate": "color=Benign<br>x=%{x}<br>count=%{y}<extra></extra>",
         "legendgroup": "Benign",
         "marker": {
          "color": "rgb(50, 80, 168)",
          "pattern": {
           "shape": ""
          }
         },
         "name": "Benign",
         "orientation": "v",
         "showlegend": true,
         "type": "histogram",
         "x": [
          "Benign",
          "Benign",
          "Benign",
          "Benign",
          "Benign",
          "Benign",
          "Benign",
          "Benign",
          "Benign",
          "Benign",
          "Benign",
          "Benign",
          "Benign",
          "Benign",
          "Benign",
          "Benign",
          "Benign",
          "Benign",
          "Benign",
          "Benign",
          "Benign",
          "Benign",
          "Benign",
          "Benign",
          "Benign",
          "Benign",
          "Benign",
          "Benign",
          "Benign",
          "Benign",
          "Benign",
          "Benign",
          "Benign",
          "Benign",
          "Benign",
          "Benign",
          "Benign",
          "Benign",
          "Benign",
          "Benign",
          "Benign",
          "Benign",
          "Benign",
          "Benign",
          "Benign",
          "Benign",
          "Benign",
          "Benign",
          "Benign",
          "Benign",
          "Benign",
          "Benign",
          "Benign",
          "Benign",
          "Benign",
          "Benign",
          "Benign",
          "Benign",
          "Benign",
          "Benign",
          "Benign",
          "Benign",
          "Benign",
          "Benign",
          "Benign",
          "Benign",
          "Benign",
          "Benign",
          "Benign",
          "Benign",
          "Benign",
          "Benign",
          "Benign",
          "Benign",
          "Benign",
          "Benign",
          "Benign",
          "Benign",
          "Benign",
          "Benign",
          "Benign",
          "Benign",
          "Benign",
          "Benign",
          "Benign",
          "Benign",
          "Benign",
          "Benign",
          "Benign",
          "Benign",
          "Benign",
          "Benign",
          "Benign",
          "Benign",
          "Benign",
          "Benign",
          "Benign",
          "Benign",
          "Benign",
          "Benign",
          "Benign",
          "Benign",
          "Benign",
          "Benign",
          "Benign",
          "Benign",
          "Benign",
          "Benign",
          "Benign",
          "Benign",
          "Benign",
          "Benign",
          "Benign",
          "Benign",
          "Benign",
          "Benign",
          "Benign",
          "Benign",
          "Benign",
          "Benign",
          "Benign",
          "Benign",
          "Benign",
          "Benign",
          "Benign",
          "Benign",
          "Benign",
          "Benign",
          "Benign",
          "Benign",
          "Benign",
          "Benign",
          "Benign",
          "Benign",
          "Benign",
          "Benign",
          "Benign",
          "Benign",
          "Benign",
          "Benign",
          "Benign",
          "Benign",
          "Benign",
          "Benign",
          "Benign",
          "Benign",
          "Benign",
          "Benign",
          "Benign",
          "Benign",
          "Benign",
          "Benign",
          "Benign",
          "Benign",
          "Benign",
          "Benign",
          "Benign",
          "Benign",
          "Benign",
          "Benign",
          "Benign",
          "Benign",
          "Benign",
          "Benign",
          "Benign",
          "Benign",
          "Benign",
          "Benign",
          "Benign",
          "Benign",
          "Benign",
          "Benign",
          "Benign",
          "Benign",
          "Benign",
          "Benign",
          "Benign",
          "Benign",
          "Benign",
          "Benign",
          "Benign",
          "Benign",
          "Benign",
          "Benign",
          "Benign",
          "Benign",
          "Benign",
          "Benign",
          "Benign",
          "Benign",
          "Benign",
          "Benign",
          "Benign",
          "Benign",
          "Benign",
          "Benign",
          "Benign",
          "Benign",
          "Benign",
          "Benign",
          "Benign",
          "Benign",
          "Benign",
          "Benign",
          "Benign",
          "Benign",
          "Benign",
          "Benign",
          "Benign",
          "Benign",
          "Benign",
          "Benign",
          "Benign",
          "Benign",
          "Benign",
          "Benign",
          "Benign",
          "Benign",
          "Benign",
          "Benign",
          "Benign",
          "Benign",
          "Benign",
          "Benign",
          "Benign",
          "Benign",
          "Benign",
          "Benign",
          "Benign",
          "Benign",
          "Benign",
          "Benign",
          "Benign",
          "Benign",
          "Benign",
          "Benign",
          "Benign",
          "Benign",
          "Benign",
          "Benign",
          "Benign",
          "Benign",
          "Benign",
          "Benign",
          "Benign",
          "Benign",
          "Benign",
          "Benign",
          "Benign",
          "Benign",
          "Benign",
          "Benign",
          "Benign",
          "Benign",
          "Benign",
          "Benign",
          "Benign",
          "Benign",
          "Benign",
          "Benign",
          "Benign",
          "Benign",
          "Benign",
          "Benign",
          "Benign",
          "Benign",
          "Benign",
          "Benign",
          "Benign",
          "Benign",
          "Benign",
          "Benign",
          "Benign",
          "Benign",
          "Benign",
          "Benign",
          "Benign",
          "Benign",
          "Benign",
          "Benign",
          "Benign",
          "Benign",
          "Benign",
          "Benign",
          "Benign",
          "Benign",
          "Benign",
          "Benign",
          "Benign",
          "Benign",
          "Benign",
          "Benign",
          "Benign",
          "Benign",
          "Benign",
          "Benign",
          "Benign",
          "Benign",
          "Benign",
          "Benign",
          "Benign",
          "Benign",
          "Benign",
          "Benign",
          "Benign",
          "Benign",
          "Benign",
          "Benign",
          "Benign",
          "Benign",
          "Benign",
          "Benign",
          "Benign",
          "Benign",
          "Benign",
          "Benign",
          "Benign",
          "Benign",
          "Benign",
          "Benign",
          "Benign",
          "Benign",
          "Benign",
          "Benign",
          "Benign",
          "Benign",
          "Benign",
          "Benign",
          "Benign",
          "Benign",
          "Benign",
          "Benign",
          "Benign",
          "Benign",
          "Benign",
          "Benign",
          "Benign",
          "Benign",
          "Benign",
          "Benign",
          "Benign",
          "Benign",
          "Benign",
          "Benign",
          "Benign",
          "Benign",
          "Benign",
          "Benign",
          "Benign",
          "Benign",
          "Benign",
          "Benign",
          "Benign",
          "Benign",
          "Benign",
          "Benign",
          "Benign"
         ],
         "xaxis": "x",
         "yaxis": "y"
        }
       ],
       "layout": {
        "barmode": "relative",
        "font": {
         "color": "darkblue",
         "family": "Arial, Courier New, monospace",
         "size": 12
        },
        "height": 400,
        "legend": {
         "title": {
          "text": "color"
         },
         "tracegroupgap": 0
        },
        "margin": {
         "t": 60
        },
        "plot_bgcolor": "white",
        "template": {
         "data": {
          "bar": [
           {
            "error_x": {
             "color": "#2a3f5f"
            },
            "error_y": {
             "color": "#2a3f5f"
            },
            "marker": {
             "line": {
              "color": "#E5ECF6",
              "width": 0.5
             },
             "pattern": {
              "fillmode": "overlay",
              "size": 10,
              "solidity": 0.2
             }
            },
            "type": "bar"
           }
          ],
          "barpolar": [
           {
            "marker": {
             "line": {
              "color": "#E5ECF6",
              "width": 0.5
             },
             "pattern": {
              "fillmode": "overlay",
              "size": 10,
              "solidity": 0.2
             }
            },
            "type": "barpolar"
           }
          ],
          "carpet": [
           {
            "aaxis": {
             "endlinecolor": "#2a3f5f",
             "gridcolor": "white",
             "linecolor": "white",
             "minorgridcolor": "white",
             "startlinecolor": "#2a3f5f"
            },
            "baxis": {
             "endlinecolor": "#2a3f5f",
             "gridcolor": "white",
             "linecolor": "white",
             "minorgridcolor": "white",
             "startlinecolor": "#2a3f5f"
            },
            "type": "carpet"
           }
          ],
          "choropleth": [
           {
            "colorbar": {
             "outlinewidth": 0,
             "ticks": ""
            },
            "type": "choropleth"
           }
          ],
          "contour": [
           {
            "colorbar": {
             "outlinewidth": 0,
             "ticks": ""
            },
            "colorscale": [
             [
              0,
              "#0d0887"
             ],
             [
              0.1111111111111111,
              "#46039f"
             ],
             [
              0.2222222222222222,
              "#7201a8"
             ],
             [
              0.3333333333333333,
              "#9c179e"
             ],
             [
              0.4444444444444444,
              "#bd3786"
             ],
             [
              0.5555555555555556,
              "#d8576b"
             ],
             [
              0.6666666666666666,
              "#ed7953"
             ],
             [
              0.7777777777777778,
              "#fb9f3a"
             ],
             [
              0.8888888888888888,
              "#fdca26"
             ],
             [
              1,
              "#f0f921"
             ]
            ],
            "type": "contour"
           }
          ],
          "contourcarpet": [
           {
            "colorbar": {
             "outlinewidth": 0,
             "ticks": ""
            },
            "type": "contourcarpet"
           }
          ],
          "heatmap": [
           {
            "colorbar": {
             "outlinewidth": 0,
             "ticks": ""
            },
            "colorscale": [
             [
              0,
              "#0d0887"
             ],
             [
              0.1111111111111111,
              "#46039f"
             ],
             [
              0.2222222222222222,
              "#7201a8"
             ],
             [
              0.3333333333333333,
              "#9c179e"
             ],
             [
              0.4444444444444444,
              "#bd3786"
             ],
             [
              0.5555555555555556,
              "#d8576b"
             ],
             [
              0.6666666666666666,
              "#ed7953"
             ],
             [
              0.7777777777777778,
              "#fb9f3a"
             ],
             [
              0.8888888888888888,
              "#fdca26"
             ],
             [
              1,
              "#f0f921"
             ]
            ],
            "type": "heatmap"
           }
          ],
          "histogram": [
           {
            "marker": {
             "pattern": {
              "fillmode": "overlay",
              "size": 10,
              "solidity": 0.2
             }
            },
            "type": "histogram"
           }
          ],
          "histogram2d": [
           {
            "colorbar": {
             "outlinewidth": 0,
             "ticks": ""
            },
            "colorscale": [
             [
              0,
              "#0d0887"
             ],
             [
              0.1111111111111111,
              "#46039f"
             ],
             [
              0.2222222222222222,
              "#7201a8"
             ],
             [
              0.3333333333333333,
              "#9c179e"
             ],
             [
              0.4444444444444444,
              "#bd3786"
             ],
             [
              0.5555555555555556,
              "#d8576b"
             ],
             [
              0.6666666666666666,
              "#ed7953"
             ],
             [
              0.7777777777777778,
              "#fb9f3a"
             ],
             [
              0.8888888888888888,
              "#fdca26"
             ],
             [
              1,
              "#f0f921"
             ]
            ],
            "type": "histogram2d"
           }
          ],
          "histogram2dcontour": [
           {
            "colorbar": {
             "outlinewidth": 0,
             "ticks": ""
            },
            "colorscale": [
             [
              0,
              "#0d0887"
             ],
             [
              0.1111111111111111,
              "#46039f"
             ],
             [
              0.2222222222222222,
              "#7201a8"
             ],
             [
              0.3333333333333333,
              "#9c179e"
             ],
             [
              0.4444444444444444,
              "#bd3786"
             ],
             [
              0.5555555555555556,
              "#d8576b"
             ],
             [
              0.6666666666666666,
              "#ed7953"
             ],
             [
              0.7777777777777778,
              "#fb9f3a"
             ],
             [
              0.8888888888888888,
              "#fdca26"
             ],
             [
              1,
              "#f0f921"
             ]
            ],
            "type": "histogram2dcontour"
           }
          ],
          "mesh3d": [
           {
            "colorbar": {
             "outlinewidth": 0,
             "ticks": ""
            },
            "type": "mesh3d"
           }
          ],
          "parcoords": [
           {
            "line": {
             "colorbar": {
              "outlinewidth": 0,
              "ticks": ""
             }
            },
            "type": "parcoords"
           }
          ],
          "pie": [
           {
            "automargin": true,
            "type": "pie"
           }
          ],
          "scatter": [
           {
            "fillpattern": {
             "fillmode": "overlay",
             "size": 10,
             "solidity": 0.2
            },
            "type": "scatter"
           }
          ],
          "scatter3d": [
           {
            "line": {
             "colorbar": {
              "outlinewidth": 0,
              "ticks": ""
             }
            },
            "marker": {
             "colorbar": {
              "outlinewidth": 0,
              "ticks": ""
             }
            },
            "type": "scatter3d"
           }
          ],
          "scattercarpet": [
           {
            "marker": {
             "colorbar": {
              "outlinewidth": 0,
              "ticks": ""
             }
            },
            "type": "scattercarpet"
           }
          ],
          "scattergeo": [
           {
            "marker": {
             "colorbar": {
              "outlinewidth": 0,
              "ticks": ""
             }
            },
            "type": "scattergeo"
           }
          ],
          "scattergl": [
           {
            "marker": {
             "colorbar": {
              "outlinewidth": 0,
              "ticks": ""
             }
            },
            "type": "scattergl"
           }
          ],
          "scattermap": [
           {
            "marker": {
             "colorbar": {
              "outlinewidth": 0,
              "ticks": ""
             }
            },
            "type": "scattermap"
           }
          ],
          "scattermapbox": [
           {
            "marker": {
             "colorbar": {
              "outlinewidth": 0,
              "ticks": ""
             }
            },
            "type": "scattermapbox"
           }
          ],
          "scatterpolar": [
           {
            "marker": {
             "colorbar": {
              "outlinewidth": 0,
              "ticks": ""
             }
            },
            "type": "scatterpolar"
           }
          ],
          "scatterpolargl": [
           {
            "marker": {
             "colorbar": {
              "outlinewidth": 0,
              "ticks": ""
             }
            },
            "type": "scatterpolargl"
           }
          ],
          "scatterternary": [
           {
            "marker": {
             "colorbar": {
              "outlinewidth": 0,
              "ticks": ""
             }
            },
            "type": "scatterternary"
           }
          ],
          "surface": [
           {
            "colorbar": {
             "outlinewidth": 0,
             "ticks": ""
            },
            "colorscale": [
             [
              0,
              "#0d0887"
             ],
             [
              0.1111111111111111,
              "#46039f"
             ],
             [
              0.2222222222222222,
              "#7201a8"
             ],
             [
              0.3333333333333333,
              "#9c179e"
             ],
             [
              0.4444444444444444,
              "#bd3786"
             ],
             [
              0.5555555555555556,
              "#d8576b"
             ],
             [
              0.6666666666666666,
              "#ed7953"
             ],
             [
              0.7777777777777778,
              "#fb9f3a"
             ],
             [
              0.8888888888888888,
              "#fdca26"
             ],
             [
              1,
              "#f0f921"
             ]
            ],
            "type": "surface"
           }
          ],
          "table": [
           {
            "cells": {
             "fill": {
              "color": "#EBF0F8"
             },
             "line": {
              "color": "white"
             }
            },
            "header": {
             "fill": {
              "color": "#C8D4E3"
             },
             "line": {
              "color": "white"
             }
            },
            "type": "table"
           }
          ]
         },
         "layout": {
          "annotationdefaults": {
           "arrowcolor": "#2a3f5f",
           "arrowhead": 0,
           "arrowwidth": 1
          },
          "autotypenumbers": "strict",
          "coloraxis": {
           "colorbar": {
            "outlinewidth": 0,
            "ticks": ""
           }
          },
          "colorscale": {
           "diverging": [
            [
             0,
             "#8e0152"
            ],
            [
             0.1,
             "#c51b7d"
            ],
            [
             0.2,
             "#de77ae"
            ],
            [
             0.3,
             "#f1b6da"
            ],
            [
             0.4,
             "#fde0ef"
            ],
            [
             0.5,
             "#f7f7f7"
            ],
            [
             0.6,
             "#e6f5d0"
            ],
            [
             0.7,
             "#b8e186"
            ],
            [
             0.8,
             "#7fbc41"
            ],
            [
             0.9,
             "#4d9221"
            ],
            [
             1,
             "#276419"
            ]
           ],
           "sequential": [
            [
             0,
             "#0d0887"
            ],
            [
             0.1111111111111111,
             "#46039f"
            ],
            [
             0.2222222222222222,
             "#7201a8"
            ],
            [
             0.3333333333333333,
             "#9c179e"
            ],
            [
             0.4444444444444444,
             "#bd3786"
            ],
            [
             0.5555555555555556,
             "#d8576b"
            ],
            [
             0.6666666666666666,
             "#ed7953"
            ],
            [
             0.7777777777777778,
             "#fb9f3a"
            ],
            [
             0.8888888888888888,
             "#fdca26"
            ],
            [
             1,
             "#f0f921"
            ]
           ],
           "sequentialminus": [
            [
             0,
             "#0d0887"
            ],
            [
             0.1111111111111111,
             "#46039f"
            ],
            [
             0.2222222222222222,
             "#7201a8"
            ],
            [
             0.3333333333333333,
             "#9c179e"
            ],
            [
             0.4444444444444444,
             "#bd3786"
            ],
            [
             0.5555555555555556,
             "#d8576b"
            ],
            [
             0.6666666666666666,
             "#ed7953"
            ],
            [
             0.7777777777777778,
             "#fb9f3a"
            ],
            [
             0.8888888888888888,
             "#fdca26"
            ],
            [
             1,
             "#f0f921"
            ]
           ]
          },
          "colorway": [
           "#636efa",
           "#EF553B",
           "#00cc96",
           "#ab63fa",
           "#FFA15A",
           "#19d3f3",
           "#FF6692",
           "#B6E880",
           "#FF97FF",
           "#FECB52"
          ],
          "font": {
           "color": "#2a3f5f"
          },
          "geo": {
           "bgcolor": "white",
           "lakecolor": "white",
           "landcolor": "#E5ECF6",
           "showlakes": true,
           "showland": true,
           "subunitcolor": "white"
          },
          "hoverlabel": {
           "align": "left"
          },
          "hovermode": "closest",
          "mapbox": {
           "style": "light"
          },
          "paper_bgcolor": "white",
          "plot_bgcolor": "#E5ECF6",
          "polar": {
           "angularaxis": {
            "gridcolor": "white",
            "linecolor": "white",
            "ticks": ""
           },
           "bgcolor": "#E5ECF6",
           "radialaxis": {
            "gridcolor": "white",
            "linecolor": "white",
            "ticks": ""
           }
          },
          "scene": {
           "xaxis": {
            "backgroundcolor": "#E5ECF6",
            "gridcolor": "white",
            "gridwidth": 2,
            "linecolor": "white",
            "showbackground": true,
            "ticks": "",
            "zerolinecolor": "white"
           },
           "yaxis": {
            "backgroundcolor": "#E5ECF6",
            "gridcolor": "white",
            "gridwidth": 2,
            "linecolor": "white",
            "showbackground": true,
            "ticks": "",
            "zerolinecolor": "white"
           },
           "zaxis": {
            "backgroundcolor": "#E5ECF6",
            "gridcolor": "white",
            "gridwidth": 2,
            "linecolor": "white",
            "showbackground": true,
            "ticks": "",
            "zerolinecolor": "white"
           }
          },
          "shapedefaults": {
           "line": {
            "color": "#2a3f5f"
           }
          },
          "ternary": {
           "aaxis": {
            "gridcolor": "white",
            "linecolor": "white",
            "ticks": ""
           },
           "baxis": {
            "gridcolor": "white",
            "linecolor": "white",
            "ticks": ""
           },
           "bgcolor": "#E5ECF6",
           "caxis": {
            "gridcolor": "white",
            "linecolor": "white",
            "ticks": ""
           }
          },
          "title": {
           "x": 0.05
          },
          "xaxis": {
           "automargin": true,
           "gridcolor": "white",
           "linecolor": "white",
           "ticks": "",
           "title": {
            "standoff": 15
           },
           "zerolinecolor": "white",
           "zerolinewidth": 2
          },
          "yaxis": {
           "automargin": true,
           "gridcolor": "white",
           "linecolor": "white",
           "ticks": "",
           "title": {
            "standoff": 15
           },
           "zerolinecolor": "white",
           "zerolinewidth": 2
          }
         }
        },
        "title": {
         "text": "Distribution of Diagnosis"
        },
        "width": 600,
        "xaxis": {
         "anchor": "y",
         "categoryarray": [
          "Benign",
          "Malignant"
         ],
         "categoryorder": "array",
         "domain": [
          0,
          1
         ],
         "gridcolor": "lightgray",
         "gridwidth": 1,
         "linecolor": "darkgray",
         "showgrid": true,
         "showline": true,
         "title": {
          "text": "Diagnosis"
         }
        },
        "yaxis": {
         "anchor": "x",
         "domain": [
          0,
          1
         ],
         "gridcolor": "lightgray",
         "gridwidth": 1,
         "linecolor": "darkgray",
         "showgrid": true,
         "showline": true,
         "title": {
          "text": "Count of Diagnosis Distribution"
         }
        }
       }
      }
     },
     "metadata": {},
     "output_type": "display_data"
    }
   ],
   "source": [
    "# Map numeric diagnosis back to string labels for plotting\n",
    "diagnosis_labels = df['diagnosis'].map({0: 'Benign', 1: 'Malignant'})\n",
    "\n",
    "fig = px.histogram(x=diagnosis_labels, \n",
    "                   color=diagnosis_labels,\n",
    "                   color_discrete_map={\n",
    "        'Benign': 'rgb(50, 80, 168)',     \n",
    "        'Malignant': '#ee8ef5'     \n",
    "    })\n",
    "fig.update_xaxes(categoryorder=\"array\", categoryarray=['Benign', 'Malignant'])\n",
    "fig.update_layout(\n",
    "    title=\"Distribution of Diagnosis\",\n",
    "    xaxis_title=\"Diagnosis\",\n",
    "    yaxis_title=\"Count of Diagnosis Distribution\"\n",
    ")\n",
    "fig.update_layout(\n",
    "    width=600,\n",
    "    height=400,\n",
    "    font=dict(\n",
    "        family=\"Arial, Courier New, monospace\",  # font family\n",
    "        size=12,                                 # font size (pixels)\n",
    "        color=\"darkblue\"                         # font color\n",
    "    )\n",
    ")\n",
    "\n",
    "fig.update_layout(\n",
    "    plot_bgcolor='white',\n",
    "    xaxis=dict(\n",
    "        showline=True,            # show axis line\n",
    "        linecolor='darkgray',        # axis line color\n",
    "        showgrid=True,            # show grid lines\n",
    "        gridcolor='lightgray',    # grid line color\n",
    "        gridwidth=1\n",
    "    ),\n",
    "    yaxis=dict(\n",
    "        showline=True,\n",
    "        linecolor='darkgray',\n",
    "        showgrid=True,\n",
    "        gridcolor='lightgray',\n",
    "        gridwidth=1\n",
    "    )\n",
    ")\n",
    "\n",
    "fig.show()"
   ]
  },
  {
   "cell_type": "code",
   "execution_count": 20,
   "metadata": {},
   "outputs": [
    {
     "data": {
      "text/plain": [
       "id                          True\n",
       "diagnosis                   True\n",
       "radius_mean                 True\n",
       "texture_mean                True\n",
       "perimeter_mean              True\n",
       "area_mean                   True\n",
       "smoothness_mean             True\n",
       "compactness_mean            True\n",
       "concavity_mean              True\n",
       "concave points_mean         True\n",
       "symmetry_mean               True\n",
       "fractal_dimension_mean     False\n",
       "radius_se                   True\n",
       "texture_se                 False\n",
       "perimeter_se                True\n",
       "area_se                     True\n",
       "smoothness_se              False\n",
       "compactness_se              True\n",
       "concavity_se                True\n",
       "concave points_se           True\n",
       "symmetry_se                False\n",
       "fractal_dimension_se        True\n",
       "radius_worst                True\n",
       "texture_worst               True\n",
       "perimeter_worst             True\n",
       "area_worst                  True\n",
       "smoothness_worst            True\n",
       "compactness_worst           True\n",
       "concavity_worst             True\n",
       "concave points_worst        True\n",
       "symmetry_worst              True\n",
       "fractal_dimension_worst     True\n",
       "Name: diagnosis, dtype: bool"
      ]
     },
     "execution_count": 20,
     "metadata": {},
     "output_type": "execute_result"
    }
   ],
   "source": [
    "df.corr()['diagnosis'] > 0"
   ]
  },
  {
   "cell_type": "code",
   "execution_count": 72,
   "metadata": {},
   "outputs": [
    {
     "data": {
      "application/vnd.plotly.v1+json": {
       "config": {
        "plotlyServerURL": "https://plot.ly"
       },
       "data": [
        {
         "dimensions": [
          {
           "axis": {
            "matches": true
           },
           "label": "radius_worst",
           "values": {
            "bdata": "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",
            "dtype": "f8"
           }
          },
          {
           "axis": {
            "matches": true
           },
           "label": "texture_worst",
           "values": {
            "bdata": "FK5H4XpUMUApXI/C9Wg3QEjhehSuhzlAAAAAAACAOkDsUbgehaswQAAAAAAAwDdAKVyPwvWoO0CkcD0K1yM8QHsUrkfhuj5A16NwPQpXREBxPQrXo/BAQEjhehSuRztAcT0K16PwPUApXI/C9ag7QOF6FK5HAUBAcT0K16OQQkDhehSuR+E+QHsUrkfhej9A4XoUrkfhPkDD9Shcj0IzQD0K16NwfTRAUrgehetRL0AUrkfhehQzQOxRuB6Fy0FAj8L1KFyPP0BmZmZmZmY1QHsUrkfhmkBAw/UoXI9CO0B7FK5H4VpCQIXrUbgehTNA4XoUrkcBQUAfhetRuB48QOxRuB6FC0BAZmZmZmbmPkDD9Shcj0I7QIXrUbgeBT1AXI/C9ShcPkCPwvUoXM82QDMzMzMzMzlAhetRuB4FOkAAAAAAAEA+QOxRuB6Fq0FA9ihcj8KVQEAAAAAAAAA8QKRwPQrX4z1AUrgehetRNUD2KFyPwvU1QDMzMzMz8ztAMzMzMzOzNEBSuB6F69E/QLgehetRuDlAcT0K16MwN0AUrkfhelQ1QOF6FK5HIThAcT0K16OwP0C4HoXrUXg2QKRwPQrXIzxAMzMzMzOzPkAAAAAAAEA2QM3MzMzMzC5AMzMzMzNzMUAK16NwPQo7QMP1KFyPgj1AexSuR+E6M0Bcj8L1KLxAQFK4HoXrsUBAj8L1KFyPP0DXo3A9Ctc3QGZmZmZmpjZAw/UoXI/CM0AUrkfhepQ6QNejcD0KVy9AKVyPwvXoQEBcj8L1KNw0QPYoXI/CNTdAj8L1KFyPOEB7FK5H4fooQClcj8L16DJAuB6F61G4P0BSuB6F69E4QBSuR+F6FEBAcT0K16MwN0CPwvUoXM9AQFyPwvUoXEBAZmZmZmbmOECuR+F6FK47QAAAAAAAQD1AKVyPwvVoPkAAAAAAAIA+QD0K16NwPTJAXI/C9SgcPUDXo3A9Ctc5QJqZmZmZWTZAcT0K16PwOUB7FK5H4To4QNejcD0Klz9A7FG4HoXrNEAK16NwPUo6QClcj8L1KDFAXI/C9SjcPkDD9Shcj6JBQArXo3A9ijNA7FG4HoVrQEAUrkfhetQ6QI/C9ShcTzdAZmZmZmZmNkDD9Shcj0I9QD0K16NwfTtAw/UoXI8CPEBmZmZmZiY9QLgehetReDVAuB6F61F4OUB7FK5H4bo3QAAAAAAAwDZAH4XrUbieM0BmZmZmZiY6QFK4HoXrETFAH4XrUbheO0AAAAAAAIA+QBSuR+F61DtAcT0K16PwL0BmZmZmZuY4QD0K16Nw/TdA9ihcj8L1L0AAAAAAAMA2QBSuR+F6lDdAUrgehevRQUB7FK5H4bo5QBSuR+F6VDJACtejcD3KQECPwvUoXM8xQAAAAAAAADpArkfhehSuP0AAAAAAAEAzQKRwPQrXYz9Aj8L1KFyvQEB7FK5H4Xo5QIXrUbgeBTZArkfhehRuNUAK16NwPYovQDMzMzMzMyxAhetRuB5FOUDD9Shcj8I6QFK4HoXr0TVAuB6F61G4NEDD9Shcj4IwQOF6FK5HYTpAuB6F61F4OUCamZmZmdkzQPYoXI/CdTZAXI/C9SgcOEC4HoXrUbg9QD0K16NwfTNAzczMzMxMMEAAAAAAAIA0QLgehetRODlAXI/C9SgcOUBSuB6F6xE8QClcj8L1aDJAMzMzMzMzMkD2KFyPwjU6QI/C9ShczzFApHA9CtdjOkCuR+F6FK48QLgehetRODxAUrgehevROUAK16NwPQooQM3MzMzMTDpACtejcD0qQEAAAAAAAAA3QEjhehSuRy9AH4XrUbjePUAK16NwPQoxQFK4HoXr0TBAMzMzMzMzM0AK16NwPQoxQKRwPQrXYzhAMzMzMzNzPECF61G4HgU9QGZmZmZmJjBAzczMzMxsQEA9CtejcL1AQClcj8L1aEBAMzMzMzOzMUBI4XoUrgc8QK5H4XoULjVAXI/C9ShcOkCkcD0K12M1QHsUrkfhejpA16NwPQqXM0DXo3A9CpdCQAAAAAAAgDdAFK5H4XrUNEDsUbgehatDQEjhehSuxztAAAAAAAAANkDhehSuRwFBQDMzMzMzszhASOF6FK4HQEAfhetRuB4+QFyPwvUoXDxA16NwPQrXOUDXo3A9CldAQM3MzMzM7ERApHA9CtejOEA9CtejcD00QLgehetRODdAzczMzMwMOUApXI/C9Sg9QNejcD0K1y9A16NwPQrXO0A9CtejcP04QLgehetReDJAUrgehesRPEDNzMzMzGxBQK5H4XoU7jpAmpmZmZkZO0C4HoXrUXg4QKRwPQrXozxAFK5H4Xq0RkCamZmZmVkwQOF6FK5HITFA16NwPQrXNkAK16NwPUo+QJqZmZmZmTdAZmZmZmbmMEDNzMzMzMwzQI/C9ShcTzNAj8L1KFxPP0BmZmZmZiY+QKRwPQrX4zhAAAAAAADgQECkcD0K1+NEQHE9CtejsEJAKVyPwvUoM0BI4XoUrkc+QOF6FK5HQUFA7FG4HoUrOkCF61G4HkVEQI/C9Shcb0ZAzczMzMwMM0AfhetRuF40QPYoXI/C9TtA16NwPQpXOkBI4XoUroc+QPYoXI/CdT1AUrgehevRO0AzMzMzM7MxQLgehetRmEFAcT0K16MwNUAAAAAAAAA7QPYoXI/CdTZA16NwPQqXOUDXo3A9Chc5QFK4HoXrkThAUrgehesRNkDD9ShcjyJCQClcj8L1qDZApHA9CtejP0CF61G4HsVIQBSuR+F6lENAuB6F61F4P0A9CtejcD07QOxRuB6Fqz9AFK5H4XpUPUAUrkfhepRHQHE9Ctej8DZACtejcD0KPkCkcD0K16M3QPYoXI/CNTlAZmZmZmamNECuR+F6FC4wQK5H4XoULjxA4XoUrkfhNEC4HoXrUVhBQD0K16Nw/TJAPQrXo3D9MkDNzMzMzEw4QJqZmZmZGTpAPQrXo3C9NUAzMzMzM/NBQMP1KFyPQjJAZmZmZmamPEDXo3A9Chc5QHE9CtejsDNAFK5H4XoUN0AK16NwPUo7QBSuR+F6FC9AFK5H4XpUNkCkcD0K1yM6QOF6FK5HITZAcT0K16MwOkCuR+F6FO4zQAAAAAAAwDlAexSuR+F6MUCuR+F6FO4wQKRwPQrXoy1ApHA9CtdjN0DD9Shcj0I5QLgehetRODhAPQrXo3A9OkBSuB6F6xE3QK5H4XoUbj1ACtejcD2KOEBcj8L1KJw1QB+F61G4nj9AMzMzMzNzNEBSuB6F6xE0QHE9Ctej8DBAZmZmZmZmMUDNzMzMzIw6QAAAAAAAwDVAZmZmZmZmMEA9CtejcL0pQHE9CtejcDZA9ihcj8K1M0C4HoXrUXgwQAAAAAAAADlAZmZmZmZmN0D2KFyPwjU0QFyPwvUonDRASOF6FK4HN0AUrkfhehQ1QFyPwvUo3D9A4XoUrkdhNUCamZmZmRk1QAAAAAAAADJAAAAAAABANkDhehSuR2E+QPYoXI/CNTlAexSuR+H6NUAzMzMzM/M1QEjhehSuxzlAj8L1KFwPNkD2KFyPwnU8QDMzMzMzk0BAKVyPwvXoMECPwvUoXC9BQNejcD0K1zpAexSuR+G6PkDD9Shcj4I1QFK4HoXrETdAZmZmZmbmM0AUrkfhelRBQClcj8L1KDJAexSuR+F6M0CPwvUoXA87QK5H4XoU7jFACtejcD3KNEC4HoXrUbgxQD0K16NwvTNA7FG4HoUrOEAUrkfhepQ3QFyPwvUonEBApHA9CtejL0CuR+F6FG42QJqZmZmZ2ThAFK5H4XqUOUAzMzMzM7MxQIXrUbgeBTlAexSuR+H6NEAzMzMzMzM9QD0K16Nw/TlAMzMzMzNzOUAzMzMzM7M1QB+F61G4XjpASOF6FK7nQEAK16NwPQo4QHE9CtejcDpAzczMzMzMOUBI4XoUrgc/QPYoXI/CdS9A16NwPQrXNUDsUbgehSs3QPYoXI/CNTRApHA9CtcjM0BSuB6F69E2QHE9Ctej0EFApHA9CtejM0ApXI/C9WhAQEjhehSuhzRAFK5H4XrUNED2KFyPwrU8QOF6FK5HITdAH4XrUbheMUD2KFyPwrU/QArXo3A9SjNAuB6F61H4M0CuR+F6FO4yQHE9CtejcD5AzczMzMxML0DNzMzMzMw2QClcj8L1aD1APQrXo3C9PEDNzMzMzMw5QNejcD0KVzlAMzMzMzMzO0CPwvUoXA81QJqZmZmZWTRAPQrXo3B9OEBI4XoUrsc7QKRwPQrXIzRAXI/C9SicOECF61G4HgU3QJqZmZmZ2TBAFK5H4XqUOUAUrkfhepQzQMP1KFyPAjtAKVyPwvVoOUDhehSuR+E8QClcj8L1KEJAcT0K16NwOkA9CtejcP07QM3MzMzMjD9AFK5H4Xp0QkD2KFyPwjU7QD0K16NwPT9AZmZmZmamO0DsUbgeheswQOxRuB6F6zxAexSuR+H6OkDXo3A9ClcyQOxRuB6FqzNAAAAAAACAOUDsUbgehSs3QHE9Ctej8DxAUrgeheuRNUCF61G4HgVAQArXo3A9SjRA9ihcj8L1NEBSuB6F65E7QClcj8L16DZAUrgehesROUCuR+F6FO4+QArXo3A9ijRAzczMzMzMPkDhehSuR2E4QBSuR+F6lDVAw/UoXI8CPECPwvUoXE8zQB+F61G43jpAexSuR+G6QUAAAAAAAIAxQI/C9ShcTzdAhetRuB4FNkBcj8L1KFw+QIXrUbgeRUNAPQrXo3C9NkCkcD0K12M8QClcj8L1CEBArkfhehQuPED2KFyPwvU+QHE9Ctej8EJArkfhehTuMEBmZmZmZiY2QK5H4XoUzkRASOF6FK5nQ0A9CtejcB1BQOF6FK5H4T9A9ihcj8J1QkAfhetRuD5BQB+F61G4Xj9AexSuR+H6P0CF61G4HgU4QKRwPQrX4zdAAAAAAACAOUD2KFyPwnU5QB+F61G4njhAH4XrUbjePEBmZmZmZmY5QB+F61G4njlACtejcD2qQEC4HoXrUTgyQGZmZmZmBkNAmpmZmZlZM0CamZmZmVkzQMP1KFyPQjtAzczMzMzMNUBmZmZmZuY1QM3MzMzMDDdAH4XrUbjeO0DsUbgehWs6QFK4HoXrUTJASOF6FK6HN0BmZmZmZmYsQEjhehSuBzVAcT0K16NwOUCkcD0K12M+QNejcD0KlzVAj8L1KFyPOkA9CtejcP0/QOxRuB6FazJAj8L1KFwPOkBcj8L1KFwwQPYoXI/CdTxAexSuR+F6PEBmZmZmZiY2QNejcD0KVzhA4XoUrkfhNkDD9Shcj8I+QK5H4XoUbjRAuB6F61F4QEBmZmZmZmY1QB+F61G43jdA4XoUrkdhMEAK16NwPQoyQOxRuB6FKzhAPQrXo3C9NEDD9Shcj8IxQArXo3A9KkJAmpmZmZmZMUAUrkfhepQxQClcj8L1qD1APQrXo3A9MUCPwvUoXA88QEjhehSuBzdAMzMzMzMzOkB7FK5H4To5QB+F61G4XjhAPQrXo3C9NUDXo3A9CtcxQK5H4XoU7jpArkfhehRuOkDhehSuR6E5QD0K16Nw/TZAMzMzMzNzMkApXI/C9Sg5QIXrUbgeRTNAw/UoXI/CLkAK16NwPYovQHsUrkfh+jtAj8L1KFzPPEAzMzMzMzM0QGZmZmZmJjtAw/UoXI+COkB7FK5H4Xo5QMP1KFyPIkFAuB6F61EYQEDsUbgehes+QKRwPQrX4z9ArkfhehSuM0B7FK5H4bo/QIXrUbgeJUBA9ihcj8KVQkAAAAAAAMA4QNejcD0KFz1AhetRuB7FNUAK16NwPQo2QNejcD0KlzlAMzMzMzNzP0CF61G4HsU4QMP1KFyPQjxAAAAAAAAAQkDNzMzMzAw5QB+F61G43kFAFK5H4Xp0QUDhehSuR+E2QB+F61G4HkFAhetRuB5FO0AUrkfhepRCQPYoXI/ClUBAZmZmZmYmQ0CF61G4HmVFQClcj8L1aD1AZmZmZmZmOkAAAAAAACBDQI/C9ShcD0FA9ihcj8K1Q0AfhetRuF4+QA==",
            "dtype": "f8"
           }
          },
          {
           "axis": {
            "matches": true
           },
           "label": "perimeter_worst",
           "values": {
            "bdata": "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",
            "dtype": "f8"
           }
          },
          {
           "axis": {
            "matches": true
           },
           "label": "area_worst",
           "values": {
            "bdata": "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",
            "dtype": "f8"
           }
          },
          {
           "axis": {
            "matches": true
           },
           "label": "smoothness_worst",
           "values": {
            "bdata": "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",
            "dtype": "f8"
           }
          },
          {
           "axis": {
            "matches": true
           },
           "label": "compactness_worst",
           "values": {
            "bdata": "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",
            "dtype": "f8"
           }
          },
          {
           "axis": {
            "matches": true
           },
           "label": "concavity_worst",
           "values": {
            "bdata": "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",
            "dtype": "f8"
           }
          },
          {
           "axis": {
            "matches": true
           },
           "label": "concave points_worst",
           "values": {
            "bdata": "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",
            "dtype": "f8"
           }
          },
          {
           "axis": {
            "matches": true
           },
           "label": "symmetry_worst",
           "values": {
            "bdata": "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",
            "dtype": "f8"
           }
          },
          {
           "axis": {
            "matches": true
           },
           "label": "fractal_dimension_worst",
           "values": {
            "bdata": "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",
            "dtype": "f8"
           }
          }
         ],
         "hovertemplate": "%{xaxis.title.text}=%{x}<br>%{yaxis.title.text}=%{y}<br>diagnosis=%{marker.color}<extra></extra>",
         "legendgroup": "",
         "marker": {
          "color": {
           "bdata": "AQEBAQEBAQEBAQEBAQEBAQEBAQAAAAEBAQEBAQEBAQEBAQEBAQABAQEBAQEBAQABAAAAAAABAQABAQAAAAABAAEBAAAAAAEAAQEAAQABAQAAAAEBAAEBAQAAAAEAAAEBAAAAAQEAAAAAAQAAAQAAAAAAAAAAAQEBAAEBAAAAAQEAAQABAQABAQAAAQAAAQAAAAABAAAAAAAAAAAAAQAAAAABAQABAAABAQAAAQEAAAAAAQAAAQEBAAEAAQAAAAEAAAEBAAEBAQEAAQEBAAEAAQAAAQABAQEBAAABAQAAAAEAAAAAAAEBAAABAAABAQABAAAAAAEAAAAAAAEAAQEBAQEBAQEBAQEBAQEAAAAAAAABAAEAAAEAAAEAAQEAAAAAAAAAAAAAAAAAAQAAAQABAAAAAAAAAAAAAAAAAAABAAAAAQABAAAAAAEBAQAAAAABAAEAAQAAAAEAAAAAAAAAAQEBAAAAAAAAAAAAAAABAQABAQEAAQEAAAAAAAEAAAAAAAEAAAABAAABAQAAAAAAAAEAAAAAAAAAAQAAAAAAAQAAAQAAAAAAAAAAAAAAAAEAAQEAAQAAAAAAAQAAAQABAAABAAEAAAAAAAAAAAEBAAAAAAAAAQAAAAAAAAAAAAABAAAAAAAAAAEAAQAAAQAAAAAAAQEAAQABAAAAAAABAAABAAEAAQEAAAABAAAAAAAAAAAAAAABAAEBAAAAAAAAAAAAAAAAAAAAAAAAAAAAAAAAAAEBAQEBAQA=",
           "dtype": "i1"
          },
          "coloraxis": "coloraxis",
          "symbol": "circle"
         },
         "name": "",
         "showlegend": false,
         "type": "splom"
        }
       ],
       "layout": {
        "coloraxis": {
         "colorbar": {
          "title": {
           "text": "diagnosis"
          }
         },
         "colorscale": [
          [
           0,
           "rgb(243, 224, 247)"
          ],
          [
           0.16666666666666666,
           "rgb(228, 199, 241)"
          ],
          [
           0.3333333333333333,
           "rgb(209, 175, 232)"
          ],
          [
           0.5,
           "rgb(185, 152, 221)"
          ],
          [
           0.6666666666666666,
           "rgb(159, 130, 206)"
          ],
          [
           0.8333333333333334,
           "rgb(130, 109, 186)"
          ],
          [
           1,
           "rgb(99, 88, 159)"
          ]
         ]
        },
        "dragmode": "select",
        "font": {
         "color": "darkblue",
         "family": "Arial, Courier New, monospace",
         "size": 12
        },
        "height": 2000,
        "legend": {
         "tracegroupgap": 0
        },
        "margin": {
         "t": 60
        },
        "plot_bgcolor": "white",
        "template": {
         "data": {
          "bar": [
           {
            "error_x": {
             "color": "#2a3f5f"
            },
            "error_y": {
             "color": "#2a3f5f"
            },
            "marker": {
             "line": {
              "color": "#E5ECF6",
              "width": 0.5
             },
             "pattern": {
              "fillmode": "overlay",
              "size": 10,
              "solidity": 0.2
             }
            },
            "type": "bar"
           }
          ],
          "barpolar": [
           {
            "marker": {
             "line": {
              "color": "#E5ECF6",
              "width": 0.5
             },
             "pattern": {
              "fillmode": "overlay",
              "size": 10,
              "solidity": 0.2
             }
            },
            "type": "barpolar"
           }
          ],
          "carpet": [
           {
            "aaxis": {
             "endlinecolor": "#2a3f5f",
             "gridcolor": "white",
             "linecolor": "white",
             "minorgridcolor": "white",
             "startlinecolor": "#2a3f5f"
            },
            "baxis": {
             "endlinecolor": "#2a3f5f",
             "gridcolor": "white",
             "linecolor": "white",
             "minorgridcolor": "white",
             "startlinecolor": "#2a3f5f"
            },
            "type": "carpet"
           }
          ],
          "choropleth": [
           {
            "colorbar": {
             "outlinewidth": 0,
             "ticks": ""
            },
            "type": "choropleth"
           }
          ],
          "contour": [
           {
            "colorbar": {
             "outlinewidth": 0,
             "ticks": ""
            },
            "colorscale": [
             [
              0,
              "#0d0887"
             ],
             [
              0.1111111111111111,
              "#46039f"
             ],
             [
              0.2222222222222222,
              "#7201a8"
             ],
             [
              0.3333333333333333,
              "#9c179e"
             ],
             [
              0.4444444444444444,
              "#bd3786"
             ],
             [
              0.5555555555555556,
              "#d8576b"
             ],
             [
              0.6666666666666666,
              "#ed7953"
             ],
             [
              0.7777777777777778,
              "#fb9f3a"
             ],
             [
              0.8888888888888888,
              "#fdca26"
             ],
             [
              1,
              "#f0f921"
             ]
            ],
            "type": "contour"
           }
          ],
          "contourcarpet": [
           {
            "colorbar": {
             "outlinewidth": 0,
             "ticks": ""
            },
            "type": "contourcarpet"
           }
          ],
          "heatmap": [
           {
            "colorbar": {
             "outlinewidth": 0,
             "ticks": ""
            },
            "colorscale": [
             [
              0,
              "#0d0887"
             ],
             [
              0.1111111111111111,
              "#46039f"
             ],
             [
              0.2222222222222222,
              "#7201a8"
             ],
             [
              0.3333333333333333,
              "#9c179e"
             ],
             [
              0.4444444444444444,
              "#bd3786"
             ],
             [
              0.5555555555555556,
              "#d8576b"
             ],
             [
              0.6666666666666666,
              "#ed7953"
             ],
             [
              0.7777777777777778,
              "#fb9f3a"
             ],
             [
              0.8888888888888888,
              "#fdca26"
             ],
             [
              1,
              "#f0f921"
             ]
            ],
            "type": "heatmap"
           }
          ],
          "histogram": [
           {
            "marker": {
             "pattern": {
              "fillmode": "overlay",
              "size": 10,
              "solidity": 0.2
             }
            },
            "type": "histogram"
           }
          ],
          "histogram2d": [
           {
            "colorbar": {
             "outlinewidth": 0,
             "ticks": ""
            },
            "colorscale": [
             [
              0,
              "#0d0887"
             ],
             [
              0.1111111111111111,
              "#46039f"
             ],
             [
              0.2222222222222222,
              "#7201a8"
             ],
             [
              0.3333333333333333,
              "#9c179e"
             ],
             [
              0.4444444444444444,
              "#bd3786"
             ],
             [
              0.5555555555555556,
              "#d8576b"
             ],
             [
              0.6666666666666666,
              "#ed7953"
             ],
             [
              0.7777777777777778,
              "#fb9f3a"
             ],
             [
              0.8888888888888888,
              "#fdca26"
             ],
             [
              1,
              "#f0f921"
             ]
            ],
            "type": "histogram2d"
           }
          ],
          "histogram2dcontour": [
           {
            "colorbar": {
             "outlinewidth": 0,
             "ticks": ""
            },
            "colorscale": [
             [
              0,
              "#0d0887"
             ],
             [
              0.1111111111111111,
              "#46039f"
             ],
             [
              0.2222222222222222,
              "#7201a8"
             ],
             [
              0.3333333333333333,
              "#9c179e"
             ],
             [
              0.4444444444444444,
              "#bd3786"
             ],
             [
              0.5555555555555556,
              "#d8576b"
             ],
             [
              0.6666666666666666,
              "#ed7953"
             ],
             [
              0.7777777777777778,
              "#fb9f3a"
             ],
             [
              0.8888888888888888,
              "#fdca26"
             ],
             [
              1,
              "#f0f921"
             ]
            ],
            "type": "histogram2dcontour"
           }
          ],
          "mesh3d": [
           {
            "colorbar": {
             "outlinewidth": 0,
             "ticks": ""
            },
            "type": "mesh3d"
           }
          ],
          "parcoords": [
           {
            "line": {
             "colorbar": {
              "outlinewidth": 0,
              "ticks": ""
             }
            },
            "type": "parcoords"
           }
          ],
          "pie": [
           {
            "automargin": true,
            "type": "pie"
           }
          ],
          "scatter": [
           {
            "fillpattern": {
             "fillmode": "overlay",
             "size": 10,
             "solidity": 0.2
            },
            "type": "scatter"
           }
          ],
          "scatter3d": [
           {
            "line": {
             "colorbar": {
              "outlinewidth": 0,
              "ticks": ""
             }
            },
            "marker": {
             "colorbar": {
              "outlinewidth": 0,
              "ticks": ""
             }
            },
            "type": "scatter3d"
           }
          ],
          "scattercarpet": [
           {
            "marker": {
             "colorbar": {
              "outlinewidth": 0,
              "ticks": ""
             }
            },
            "type": "scattercarpet"
           }
          ],
          "scattergeo": [
           {
            "marker": {
             "colorbar": {
              "outlinewidth": 0,
              "ticks": ""
             }
            },
            "type": "scattergeo"
           }
          ],
          "scattergl": [
           {
            "marker": {
             "colorbar": {
              "outlinewidth": 0,
              "ticks": ""
             }
            },
            "type": "scattergl"
           }
          ],
          "scattermap": [
           {
            "marker": {
             "colorbar": {
              "outlinewidth": 0,
              "ticks": ""
             }
            },
            "type": "scattermap"
           }
          ],
          "scattermapbox": [
           {
            "marker": {
             "colorbar": {
              "outlinewidth": 0,
              "ticks": ""
             }
            },
            "type": "scattermapbox"
           }
          ],
          "scatterpolar": [
           {
            "marker": {
             "colorbar": {
              "outlinewidth": 0,
              "ticks": ""
             }
            },
            "type": "scatterpolar"
           }
          ],
          "scatterpolargl": [
           {
            "marker": {
             "colorbar": {
              "outlinewidth": 0,
              "ticks": ""
             }
            },
            "type": "scatterpolargl"
           }
          ],
          "scatterternary": [
           {
            "marker": {
             "colorbar": {
              "outlinewidth": 0,
              "ticks": ""
             }
            },
            "type": "scatterternary"
           }
          ],
          "surface": [
           {
            "colorbar": {
             "outlinewidth": 0,
             "ticks": ""
            },
            "colorscale": [
             [
              0,
              "#0d0887"
             ],
             [
              0.1111111111111111,
              "#46039f"
             ],
             [
              0.2222222222222222,
              "#7201a8"
             ],
             [
              0.3333333333333333,
              "#9c179e"
             ],
             [
              0.4444444444444444,
              "#bd3786"
             ],
             [
              0.5555555555555556,
              "#d8576b"
             ],
             [
              0.6666666666666666,
              "#ed7953"
             ],
             [
              0.7777777777777778,
              "#fb9f3a"
             ],
             [
              0.8888888888888888,
              "#fdca26"
             ],
             [
              1,
              "#f0f921"
             ]
            ],
            "type": "surface"
           }
          ],
          "table": [
           {
            "cells": {
             "fill": {
              "color": "#EBF0F8"
             },
             "line": {
              "color": "white"
             }
            },
            "header": {
             "fill": {
              "color": "#C8D4E3"
             },
             "line": {
              "color": "white"
             }
            },
            "type": "table"
           }
          ]
         },
         "layout": {
          "annotationdefaults": {
           "arrowcolor": "#2a3f5f",
           "arrowhead": 0,
           "arrowwidth": 1
          },
          "autotypenumbers": "strict",
          "coloraxis": {
           "colorbar": {
            "outlinewidth": 0,
            "ticks": ""
           }
          },
          "colorscale": {
           "diverging": [
            [
             0,
             "#8e0152"
            ],
            [
             0.1,
             "#c51b7d"
            ],
            [
             0.2,
             "#de77ae"
            ],
            [
             0.3,
             "#f1b6da"
            ],
            [
             0.4,
             "#fde0ef"
            ],
            [
             0.5,
             "#f7f7f7"
            ],
            [
             0.6,
             "#e6f5d0"
            ],
            [
             0.7,
             "#b8e186"
            ],
            [
             0.8,
             "#7fbc41"
            ],
            [
             0.9,
             "#4d9221"
            ],
            [
             1,
             "#276419"
            ]
           ],
           "sequential": [
            [
             0,
             "#0d0887"
            ],
            [
             0.1111111111111111,
             "#46039f"
            ],
            [
             0.2222222222222222,
             "#7201a8"
            ],
            [
             0.3333333333333333,
             "#9c179e"
            ],
            [
             0.4444444444444444,
             "#bd3786"
            ],
            [
             0.5555555555555556,
             "#d8576b"
            ],
            [
             0.6666666666666666,
             "#ed7953"
            ],
            [
             0.7777777777777778,
             "#fb9f3a"
            ],
            [
             0.8888888888888888,
             "#fdca26"
            ],
            [
             1,
             "#f0f921"
            ]
           ],
           "sequentialminus": [
            [
             0,
             "#0d0887"
            ],
            [
             0.1111111111111111,
             "#46039f"
            ],
            [
             0.2222222222222222,
             "#7201a8"
            ],
            [
             0.3333333333333333,
             "#9c179e"
            ],
            [
             0.4444444444444444,
             "#bd3786"
            ],
            [
             0.5555555555555556,
             "#d8576b"
            ],
            [
             0.6666666666666666,
             "#ed7953"
            ],
            [
             0.7777777777777778,
             "#fb9f3a"
            ],
            [
             0.8888888888888888,
             "#fdca26"
            ],
            [
             1,
             "#f0f921"
            ]
           ]
          },
          "colorway": [
           "#636efa",
           "#EF553B",
           "#00cc96",
           "#ab63fa",
           "#FFA15A",
           "#19d3f3",
           "#FF6692",
           "#B6E880",
           "#FF97FF",
           "#FECB52"
          ],
          "font": {
           "color": "#2a3f5f"
          },
          "geo": {
           "bgcolor": "white",
           "lakecolor": "white",
           "landcolor": "#E5ECF6",
           "showlakes": true,
           "showland": true,
           "subunitcolor": "white"
          },
          "hoverlabel": {
           "align": "left"
          },
          "hovermode": "closest",
          "mapbox": {
           "style": "light"
          },
          "paper_bgcolor": "white",
          "plot_bgcolor": "#E5ECF6",
          "polar": {
           "angularaxis": {
            "gridcolor": "white",
            "linecolor": "white",
            "ticks": ""
           },
           "bgcolor": "#E5ECF6",
           "radialaxis": {
            "gridcolor": "white",
            "linecolor": "white",
            "ticks": ""
           }
          },
          "scene": {
           "xaxis": {
            "backgroundcolor": "#E5ECF6",
            "gridcolor": "white",
            "gridwidth": 2,
            "linecolor": "white",
            "showbackground": true,
            "ticks": "",
            "zerolinecolor": "white"
           },
           "yaxis": {
            "backgroundcolor": "#E5ECF6",
            "gridcolor": "white",
            "gridwidth": 2,
            "linecolor": "white",
            "showbackground": true,
            "ticks": "",
            "zerolinecolor": "white"
           },
           "zaxis": {
            "backgroundcolor": "#E5ECF6",
            "gridcolor": "white",
            "gridwidth": 2,
            "linecolor": "white",
            "showbackground": true,
            "ticks": "",
            "zerolinecolor": "white"
           }
          },
          "shapedefaults": {
           "line": {
            "color": "#2a3f5f"
           }
          },
          "ternary": {
           "aaxis": {
            "gridcolor": "white",
            "linecolor": "white",
            "ticks": ""
           },
           "baxis": {
            "gridcolor": "white",
            "linecolor": "white",
            "ticks": ""
           },
           "bgcolor": "#E5ECF6",
           "caxis": {
            "gridcolor": "white",
            "linecolor": "white",
            "ticks": ""
           }
          },
          "title": {
           "x": 0.05
          },
          "xaxis": {
           "automargin": true,
           "gridcolor": "white",
           "linecolor": "white",
           "ticks": "",
           "title": {
            "standoff": 15
           },
           "zerolinecolor": "white",
           "zerolinewidth": 2
          },
          "yaxis": {
           "automargin": true,
           "gridcolor": "white",
           "linecolor": "white",
           "ticks": "",
           "title": {
            "standoff": 15
           },
           "zerolinecolor": "white",
           "zerolinewidth": 2
          }
         }
        },
        "title": {
         "text": "Breast Cancer Diagnosis"
        },
        "width": 2000
       }
      }
     },
     "metadata": {},
     "output_type": "display_data"
    }
   ],
   "source": [
    "fig = px.scatter_matrix(df,\n",
    "    dimensions=['radius_worst', 'texture_worst',\n",
    "       'perimeter_worst', 'area_worst', 'smoothness_worst',\n",
    "       'compactness_worst', 'concavity_worst', 'concave points_worst',\n",
    "       'symmetry_worst', 'fractal_dimension_worst'],\n",
    "    color=\"diagnosis\", \n",
    "    color_continuous_scale=\"Purp\")\n",
    "\n",
    "fig.update_layout(\n",
    "    title=dict(text='Breast Cancer Diagnosis'),\n",
    "    width=2000,\n",
    "    height=2000,\n",
    "    font=dict(\n",
    "        family=\"Arial, Courier New, monospace\",  # font family\n",
    "        size=12,                                 # font size (pixels)\n",
    "        color=\"darkblue\"                         # font color\n",
    "    ),\n",
    "    plot_bgcolor='white'\n",
    ")\n",
    "\n",
    "fig.show()"
   ]
  },
  {
   "cell_type": "code",
   "execution_count": 69,
   "metadata": {},
   "outputs": [
    {
     "data": {
      "application/vnd.plotly.v1+json": {
       "config": {
        "plotlyServerURL": "https://plot.ly"
       },
       "data": [
        {
         "dimensions": [
          {
           "axis": {
            "matches": true
           },
           "label": "radius_mean",
           "values": {
            "bdata": "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",
            "dtype": "f8"
           }
          },
          {
           "axis": {
            "matches": true
           },
           "label": "texture_mean",
           "values": {
            "bdata": "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",
            "dtype": "f8"
           }
          },
          {
           "axis": {
            "matches": true
           },
           "label": "perimeter_mean",
           "values": {
            "bdata": "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",
            "dtype": "f8"
           }
          },
          {
           "axis": {
            "matches": true
           },
           "label": "area_mean",
           "values": {
            "bdata": "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",
            "dtype": "f8"
           }
          },
          {
           "axis": {
            "matches": true
           },
           "label": "smoothness_mean",
           "values": {
            "bdata": "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",
            "dtype": "f8"
           }
          },
          {
           "axis": {
            "matches": true
           },
           "label": "compactness_mean",
           "values": {
            "bdata": "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",
            "dtype": "f8"
           }
          }
         ],
         "hovertemplate": "%{xaxis.title.text}=%{x}<br>%{yaxis.title.text}=%{y}<br>diagnosis=%{marker.color}<extra></extra>",
         "legendgroup": "",
         "marker": {
          "color": {
           "bdata": "AQEBAQEBAQEBAQEBAQEBAQEBAQAAAAEBAQEBAQEBAQEBAQEBAQABAQEBAQEBAQABAAAAAAABAQABAQAAAAABAAEBAAAAAAEAAQEAAQABAQAAAAEBAAEBAQAAAAEAAAEBAAAAAQEAAAAAAQAAAQAAAAAAAAAAAQEBAAEBAAAAAQEAAQABAQABAQAAAQAAAQAAAAABAAAAAAAAAAAAAQAAAAABAQABAAABAQAAAQEAAAAAAQAAAQEBAAEAAQAAAAEAAAEBAAEBAQEAAQEBAAEAAQAAAQABAQEBAAABAQAAAAEAAAAAAAEBAAABAAABAQABAAAAAAEAAAAAAAEAAQEBAQEBAQEBAQEBAQEAAAAAAAABAAEAAAEAAAEAAQEAAAAAAAAAAAAAAAAAAQAAAQABAAAAAAAAAAAAAAAAAAABAAAAAQABAAAAAAEBAQAAAAABAAEAAQAAAAEAAAAAAAAAAQEBAAAAAAAAAAAAAAABAQABAQEAAQEAAAAAAAEAAAAAAAEAAAABAAABAQAAAAAAAAEAAAAAAAAAAQAAAAAAAQAAAQAAAAAAAAAAAAAAAAEAAQEAAQAAAAAAAQAAAQABAAABAAEAAAAAAAAAAAEBAAAAAAAAAQAAAAAAAAAAAAABAAAAAAAAAAEAAQAAAQAAAAAAAQEAAQABAAAAAAABAAABAAEAAQEAAAABAAAAAAAAAAAAAAABAAEBAAAAAAAAAAAAAAAAAAAAAAAAAAAAAAAAAAEBAQEBAQA=",
           "dtype": "i1"
          },
          "coloraxis": "coloraxis",
          "symbol": "circle"
         },
         "name": "",
         "showlegend": false,
         "type": "splom"
        }
       ],
       "layout": {
        "coloraxis": {
         "colorbar": {
          "title": {
           "text": "diagnosis"
          }
         },
         "colorscale": [
          [
           0,
           "rgb(243, 224, 247)"
          ],
          [
           0.16666666666666666,
           "rgb(228, 199, 241)"
          ],
          [
           0.3333333333333333,
           "rgb(209, 175, 232)"
          ],
          [
           0.5,
           "rgb(185, 152, 221)"
          ],
          [
           0.6666666666666666,
           "rgb(159, 130, 206)"
          ],
          [
           0.8333333333333334,
           "rgb(130, 109, 186)"
          ],
          [
           1,
           "rgb(99, 88, 159)"
          ]
         ]
        },
        "dragmode": "select",
        "font": {
         "color": "darkblue",
         "family": "Arial, Courier New, monospace",
         "size": 12
        },
        "height": 1000,
        "legend": {
         "tracegroupgap": 0
        },
        "margin": {
         "t": 60
        },
        "plot_bgcolor": "white",
        "template": {
         "data": {
          "bar": [
           {
            "error_x": {
             "color": "#2a3f5f"
            },
            "error_y": {
             "color": "#2a3f5f"
            },
            "marker": {
             "line": {
              "color": "#E5ECF6",
              "width": 0.5
             },
             "pattern": {
              "fillmode": "overlay",
              "size": 10,
              "solidity": 0.2
             }
            },
            "type": "bar"
           }
          ],
          "barpolar": [
           {
            "marker": {
             "line": {
              "color": "#E5ECF6",
              "width": 0.5
             },
             "pattern": {
              "fillmode": "overlay",
              "size": 10,
              "solidity": 0.2
             }
            },
            "type": "barpolar"
           }
          ],
          "carpet": [
           {
            "aaxis": {
             "endlinecolor": "#2a3f5f",
             "gridcolor": "white",
             "linecolor": "white",
             "minorgridcolor": "white",
             "startlinecolor": "#2a3f5f"
            },
            "baxis": {
             "endlinecolor": "#2a3f5f",
             "gridcolor": "white",
             "linecolor": "white",
             "minorgridcolor": "white",
             "startlinecolor": "#2a3f5f"
            },
            "type": "carpet"
           }
          ],
          "choropleth": [
           {
            "colorbar": {
             "outlinewidth": 0,
             "ticks": ""
            },
            "type": "choropleth"
           }
          ],
          "contour": [
           {
            "colorbar": {
             "outlinewidth": 0,
             "ticks": ""
            },
            "colorscale": [
             [
              0,
              "#0d0887"
             ],
             [
              0.1111111111111111,
              "#46039f"
             ],
             [
              0.2222222222222222,
              "#7201a8"
             ],
             [
              0.3333333333333333,
              "#9c179e"
             ],
             [
              0.4444444444444444,
              "#bd3786"
             ],
             [
              0.5555555555555556,
              "#d8576b"
             ],
             [
              0.6666666666666666,
              "#ed7953"
             ],
             [
              0.7777777777777778,
              "#fb9f3a"
             ],
             [
              0.8888888888888888,
              "#fdca26"
             ],
             [
              1,
              "#f0f921"
             ]
            ],
            "type": "contour"
           }
          ],
          "contourcarpet": [
           {
            "colorbar": {
             "outlinewidth": 0,
             "ticks": ""
            },
            "type": "contourcarpet"
           }
          ],
          "heatmap": [
           {
            "colorbar": {
             "outlinewidth": 0,
             "ticks": ""
            },
            "colorscale": [
             [
              0,
              "#0d0887"
             ],
             [
              0.1111111111111111,
              "#46039f"
             ],
             [
              0.2222222222222222,
              "#7201a8"
             ],
             [
              0.3333333333333333,
              "#9c179e"
             ],
             [
              0.4444444444444444,
              "#bd3786"
             ],
             [
              0.5555555555555556,
              "#d8576b"
             ],
             [
              0.6666666666666666,
              "#ed7953"
             ],
             [
              0.7777777777777778,
              "#fb9f3a"
             ],
             [
              0.8888888888888888,
              "#fdca26"
             ],
             [
              1,
              "#f0f921"
             ]
            ],
            "type": "heatmap"
           }
          ],
          "histogram": [
           {
            "marker": {
             "pattern": {
              "fillmode": "overlay",
              "size": 10,
              "solidity": 0.2
             }
            },
            "type": "histogram"
           }
          ],
          "histogram2d": [
           {
            "colorbar": {
             "outlinewidth": 0,
             "ticks": ""
            },
            "colorscale": [
             [
              0,
              "#0d0887"
             ],
             [
              0.1111111111111111,
              "#46039f"
             ],
             [
              0.2222222222222222,
              "#7201a8"
             ],
             [
              0.3333333333333333,
              "#9c179e"
             ],
             [
              0.4444444444444444,
              "#bd3786"
             ],
             [
              0.5555555555555556,
              "#d8576b"
             ],
             [
              0.6666666666666666,
              "#ed7953"
             ],
             [
              0.7777777777777778,
              "#fb9f3a"
             ],
             [
              0.8888888888888888,
              "#fdca26"
             ],
             [
              1,
              "#f0f921"
             ]
            ],
            "type": "histogram2d"
           }
          ],
          "histogram2dcontour": [
           {
            "colorbar": {
             "outlinewidth": 0,
             "ticks": ""
            },
            "colorscale": [
             [
              0,
              "#0d0887"
             ],
             [
              0.1111111111111111,
              "#46039f"
             ],
             [
              0.2222222222222222,
              "#7201a8"
             ],
             [
              0.3333333333333333,
              "#9c179e"
             ],
             [
              0.4444444444444444,
              "#bd3786"
             ],
             [
              0.5555555555555556,
              "#d8576b"
             ],
             [
              0.6666666666666666,
              "#ed7953"
             ],
             [
              0.7777777777777778,
              "#fb9f3a"
             ],
             [
              0.8888888888888888,
              "#fdca26"
             ],
             [
              1,
              "#f0f921"
             ]
            ],
            "type": "histogram2dcontour"
           }
          ],
          "mesh3d": [
           {
            "colorbar": {
             "outlinewidth": 0,
             "ticks": ""
            },
            "type": "mesh3d"
           }
          ],
          "parcoords": [
           {
            "line": {
             "colorbar": {
              "outlinewidth": 0,
              "ticks": ""
             }
            },
            "type": "parcoords"
           }
          ],
          "pie": [
           {
            "automargin": true,
            "type": "pie"
           }
          ],
          "scatter": [
           {
            "fillpattern": {
             "fillmode": "overlay",
             "size": 10,
             "solidity": 0.2
            },
            "type": "scatter"
           }
          ],
          "scatter3d": [
           {
            "line": {
             "colorbar": {
              "outlinewidth": 0,
              "ticks": ""
             }
            },
            "marker": {
             "colorbar": {
              "outlinewidth": 0,
              "ticks": ""
             }
            },
            "type": "scatter3d"
           }
          ],
          "scattercarpet": [
           {
            "marker": {
             "colorbar": {
              "outlinewidth": 0,
              "ticks": ""
             }
            },
            "type": "scattercarpet"
           }
          ],
          "scattergeo": [
           {
            "marker": {
             "colorbar": {
              "outlinewidth": 0,
              "ticks": ""
             }
            },
            "type": "scattergeo"
           }
          ],
          "scattergl": [
           {
            "marker": {
             "colorbar": {
              "outlinewidth": 0,
              "ticks": ""
             }
            },
            "type": "scattergl"
           }
          ],
          "scattermap": [
           {
            "marker": {
             "colorbar": {
              "outlinewidth": 0,
              "ticks": ""
             }
            },
            "type": "scattermap"
           }
          ],
          "scattermapbox": [
           {
            "marker": {
             "colorbar": {
              "outlinewidth": 0,
              "ticks": ""
             }
            },
            "type": "scattermapbox"
           }
          ],
          "scatterpolar": [
           {
            "marker": {
             "colorbar": {
              "outlinewidth": 0,
              "ticks": ""
             }
            },
            "type": "scatterpolar"
           }
          ],
          "scatterpolargl": [
           {
            "marker": {
             "colorbar": {
              "outlinewidth": 0,
              "ticks": ""
             }
            },
            "type": "scatterpolargl"
           }
          ],
          "scatterternary": [
           {
            "marker": {
             "colorbar": {
              "outlinewidth": 0,
              "ticks": ""
             }
            },
            "type": "scatterternary"
           }
          ],
          "surface": [
           {
            "colorbar": {
             "outlinewidth": 0,
             "ticks": ""
            },
            "colorscale": [
             [
              0,
              "#0d0887"
             ],
             [
              0.1111111111111111,
              "#46039f"
             ],
             [
              0.2222222222222222,
              "#7201a8"
             ],
             [
              0.3333333333333333,
              "#9c179e"
             ],
             [
              0.4444444444444444,
              "#bd3786"
             ],
             [
              0.5555555555555556,
              "#d8576b"
             ],
             [
              0.6666666666666666,
              "#ed7953"
             ],
             [
              0.7777777777777778,
              "#fb9f3a"
             ],
             [
              0.8888888888888888,
              "#fdca26"
             ],
             [
              1,
              "#f0f921"
             ]
            ],
            "type": "surface"
           }
          ],
          "table": [
           {
            "cells": {
             "fill": {
              "color": "#EBF0F8"
             },
             "line": {
              "color": "white"
             }
            },
            "header": {
             "fill": {
              "color": "#C8D4E3"
             },
             "line": {
              "color": "white"
             }
            },
            "type": "table"
           }
          ]
         },
         "layout": {
          "annotationdefaults": {
           "arrowcolor": "#2a3f5f",
           "arrowhead": 0,
           "arrowwidth": 1
          },
          "autotypenumbers": "strict",
          "coloraxis": {
           "colorbar": {
            "outlinewidth": 0,
            "ticks": ""
           }
          },
          "colorscale": {
           "diverging": [
            [
             0,
             "#8e0152"
            ],
            [
             0.1,
             "#c51b7d"
            ],
            [
             0.2,
             "#de77ae"
            ],
            [
             0.3,
             "#f1b6da"
            ],
            [
             0.4,
             "#fde0ef"
            ],
            [
             0.5,
             "#f7f7f7"
            ],
            [
             0.6,
             "#e6f5d0"
            ],
            [
             0.7,
             "#b8e186"
            ],
            [
             0.8,
             "#7fbc41"
            ],
            [
             0.9,
             "#4d9221"
            ],
            [
             1,
             "#276419"
            ]
           ],
           "sequential": [
            [
             0,
             "#0d0887"
            ],
            [
             0.1111111111111111,
             "#46039f"
            ],
            [
             0.2222222222222222,
             "#7201a8"
            ],
            [
             0.3333333333333333,
             "#9c179e"
            ],
            [
             0.4444444444444444,
             "#bd3786"
            ],
            [
             0.5555555555555556,
             "#d8576b"
            ],
            [
             0.6666666666666666,
             "#ed7953"
            ],
            [
             0.7777777777777778,
             "#fb9f3a"
            ],
            [
             0.8888888888888888,
             "#fdca26"
            ],
            [
             1,
             "#f0f921"
            ]
           ],
           "sequentialminus": [
            [
             0,
             "#0d0887"
            ],
            [
             0.1111111111111111,
             "#46039f"
            ],
            [
             0.2222222222222222,
             "#7201a8"
            ],
            [
             0.3333333333333333,
             "#9c179e"
            ],
            [
             0.4444444444444444,
             "#bd3786"
            ],
            [
             0.5555555555555556,
             "#d8576b"
            ],
            [
             0.6666666666666666,
             "#ed7953"
            ],
            [
             0.7777777777777778,
             "#fb9f3a"
            ],
            [
             0.8888888888888888,
             "#fdca26"
            ],
            [
             1,
             "#f0f921"
            ]
           ]
          },
          "colorway": [
           "#636efa",
           "#EF553B",
           "#00cc96",
           "#ab63fa",
           "#FFA15A",
           "#19d3f3",
           "#FF6692",
           "#B6E880",
           "#FF97FF",
           "#FECB52"
          ],
          "font": {
           "color": "#2a3f5f"
          },
          "geo": {
           "bgcolor": "white",
           "lakecolor": "white",
           "landcolor": "#E5ECF6",
           "showlakes": true,
           "showland": true,
           "subunitcolor": "white"
          },
          "hoverlabel": {
           "align": "left"
          },
          "hovermode": "closest",
          "mapbox": {
           "style": "light"
          },
          "paper_bgcolor": "white",
          "plot_bgcolor": "#E5ECF6",
          "polar": {
           "angularaxis": {
            "gridcolor": "white",
            "linecolor": "white",
            "ticks": ""
           },
           "bgcolor": "#E5ECF6",
           "radialaxis": {
            "gridcolor": "white",
            "linecolor": "white",
            "ticks": ""
           }
          },
          "scene": {
           "xaxis": {
            "backgroundcolor": "#E5ECF6",
            "gridcolor": "white",
            "gridwidth": 2,
            "linecolor": "white",
            "showbackground": true,
            "ticks": "",
            "zerolinecolor": "white"
           },
           "yaxis": {
            "backgroundcolor": "#E5ECF6",
            "gridcolor": "white",
            "gridwidth": 2,
            "linecolor": "white",
            "showbackground": true,
            "ticks": "",
            "zerolinecolor": "white"
           },
           "zaxis": {
            "backgroundcolor": "#E5ECF6",
            "gridcolor": "white",
            "gridwidth": 2,
            "linecolor": "white",
            "showbackground": true,
            "ticks": "",
            "zerolinecolor": "white"
           }
          },
          "shapedefaults": {
           "line": {
            "color": "#2a3f5f"
           }
          },
          "ternary": {
           "aaxis": {
            "gridcolor": "white",
            "linecolor": "white",
            "ticks": ""
           },
           "baxis": {
            "gridcolor": "white",
            "linecolor": "white",
            "ticks": ""
           },
           "bgcolor": "#E5ECF6",
           "caxis": {
            "gridcolor": "white",
            "linecolor": "white",
            "ticks": ""
           }
          },
          "title": {
           "x": 0.05
          },
          "xaxis": {
           "automargin": true,
           "gridcolor": "white",
           "linecolor": "white",
           "ticks": "",
           "title": {
            "standoff": 15
           },
           "zerolinecolor": "white",
           "zerolinewidth": 2
          },
          "yaxis": {
           "automargin": true,
           "gridcolor": "white",
           "linecolor": "white",
           "ticks": "",
           "title": {
            "standoff": 15
           },
           "zerolinecolor": "white",
           "zerolinewidth": 2
          }
         }
        },
        "title": {
         "text": "Breast Cancer Diagnosis"
        },
        "width": 1000
       }
      }
     },
     "metadata": {},
     "output_type": "display_data"
    }
   ],
   "source": [
    "fig = px.scatter_matrix(df,\n",
    "    dimensions=[\"radius_mean\", \"texture_mean\", \"perimeter_mean\", \"area_mean\",\"smoothness_mean\", \"compactness_mean\"],\n",
    "    color=\"diagnosis\", \n",
    "    color_continuous_scale=\"Purp\")\n",
    "\n",
    "fig.update_layout(\n",
    "    title=dict(text='Breast Cancer Diagnosis'),\n",
    "    width=1000,\n",
    "    height=1000,\n",
    "    font=dict(\n",
    "        family=\"Arial, Courier New, monospace\",  # font family\n",
    "        size=12,                                 # font size (pixels)\n",
    "        color=\"darkblue\"                         # font color\n",
    "    ),\n",
    "    plot_bgcolor='white'\n",
    ")\n",
    "\n",
    "fig.show()"
   ]
  },
  {
   "cell_type": "code",
   "execution_count": 77,
   "metadata": {},
   "outputs": [
    {
     "data": {
      "application/vnd.plotly.v1+json": {
       "config": {
        "plotlyServerURL": "https://plot.ly"
       },
       "data": [
        {
         "bingroup": "x",
         "hovertemplate": "diagnosis=1<br>radius_worst=%{x}<br>count=%{y}<extra></extra>",
         "legendgroup": "1",
         "marker": {
          "color": "#636efa",
          "opacity": 0.6,
          "pattern": {
           "shape": ""
          }
         },
         "name": "1",
         "nbinsx": 30,
         "orientation": "v",
         "showlegend": true,
         "type": "histogram",
         "x": {
          "bdata": "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",
          "dtype": "f8"
         },
         "xaxis": "x",
         "yaxis": "y"
        },
        {
         "bingroup": "x",
         "hovertemplate": "diagnosis=0<br>radius_worst=%{x}<br>count=%{y}<extra></extra>",
         "legendgroup": "0",
         "marker": {
          "color": "#EF553B",
          "opacity": 0.6,
          "pattern": {
           "shape": ""
          }
         },
         "name": "0",
         "nbinsx": 30,
         "orientation": "v",
         "showlegend": true,
         "type": "histogram",
         "x": {
          "bdata": "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",
          "dtype": "f8"
         },
         "xaxis": "x",
         "yaxis": "y"
        }
       ],
       "layout": {
        "barmode": "relative",
        "legend": {
         "title": {
          "text": "diagnosis"
         },
         "tracegroupgap": 0
        },
        "margin": {
         "t": 60
        },
        "template": {
         "data": {
          "bar": [
           {
            "error_x": {
             "color": "#2a3f5f"
            },
            "error_y": {
             "color": "#2a3f5f"
            },
            "marker": {
             "line": {
              "color": "#E5ECF6",
              "width": 0.5
             },
             "pattern": {
              "fillmode": "overlay",
              "size": 10,
              "solidity": 0.2
             }
            },
            "type": "bar"
           }
          ],
          "barpolar": [
           {
            "marker": {
             "line": {
              "color": "#E5ECF6",
              "width": 0.5
             },
             "pattern": {
              "fillmode": "overlay",
              "size": 10,
              "solidity": 0.2
             }
            },
            "type": "barpolar"
           }
          ],
          "carpet": [
           {
            "aaxis": {
             "endlinecolor": "#2a3f5f",
             "gridcolor": "white",
             "linecolor": "white",
             "minorgridcolor": "white",
             "startlinecolor": "#2a3f5f"
            },
            "baxis": {
             "endlinecolor": "#2a3f5f",
             "gridcolor": "white",
             "linecolor": "white",
             "minorgridcolor": "white",
             "startlinecolor": "#2a3f5f"
            },
            "type": "carpet"
           }
          ],
          "choropleth": [
           {
            "colorbar": {
             "outlinewidth": 0,
             "ticks": ""
            },
            "type": "choropleth"
           }
          ],
          "contour": [
           {
            "colorbar": {
             "outlinewidth": 0,
             "ticks": ""
            },
            "colorscale": [
             [
              0,
              "#0d0887"
             ],
             [
              0.1111111111111111,
              "#46039f"
             ],
             [
              0.2222222222222222,
              "#7201a8"
             ],
             [
              0.3333333333333333,
              "#9c179e"
             ],
             [
              0.4444444444444444,
              "#bd3786"
             ],
             [
              0.5555555555555556,
              "#d8576b"
             ],
             [
              0.6666666666666666,
              "#ed7953"
             ],
             [
              0.7777777777777778,
              "#fb9f3a"
             ],
             [
              0.8888888888888888,
              "#fdca26"
             ],
             [
              1,
              "#f0f921"
             ]
            ],
            "type": "contour"
           }
          ],
          "contourcarpet": [
           {
            "colorbar": {
             "outlinewidth": 0,
             "ticks": ""
            },
            "type": "contourcarpet"
           }
          ],
          "heatmap": [
           {
            "colorbar": {
             "outlinewidth": 0,
             "ticks": ""
            },
            "colorscale": [
             [
              0,
              "#0d0887"
             ],
             [
              0.1111111111111111,
              "#46039f"
             ],
             [
              0.2222222222222222,
              "#7201a8"
             ],
             [
              0.3333333333333333,
              "#9c179e"
             ],
             [
              0.4444444444444444,
              "#bd3786"
             ],
             [
              0.5555555555555556,
              "#d8576b"
             ],
             [
              0.6666666666666666,
              "#ed7953"
             ],
             [
              0.7777777777777778,
              "#fb9f3a"
             ],
             [
              0.8888888888888888,
              "#fdca26"
             ],
             [
              1,
              "#f0f921"
             ]
            ],
            "type": "heatmap"
           }
          ],
          "histogram": [
           {
            "marker": {
             "pattern": {
              "fillmode": "overlay",
              "size": 10,
              "solidity": 0.2
             }
            },
            "type": "histogram"
           }
          ],
          "histogram2d": [
           {
            "colorbar": {
             "outlinewidth": 0,
             "ticks": ""
            },
            "colorscale": [
             [
              0,
              "#0d0887"
             ],
             [
              0.1111111111111111,
              "#46039f"
             ],
             [
              0.2222222222222222,
              "#7201a8"
             ],
             [
              0.3333333333333333,
              "#9c179e"
             ],
             [
              0.4444444444444444,
              "#bd3786"
             ],
             [
              0.5555555555555556,
              "#d8576b"
             ],
             [
              0.6666666666666666,
              "#ed7953"
             ],
             [
              0.7777777777777778,
              "#fb9f3a"
             ],
             [
              0.8888888888888888,
              "#fdca26"
             ],
             [
              1,
              "#f0f921"
             ]
            ],
            "type": "histogram2d"
           }
          ],
          "histogram2dcontour": [
           {
            "colorbar": {
             "outlinewidth": 0,
             "ticks": ""
            },
            "colorscale": [
             [
              0,
              "#0d0887"
             ],
             [
              0.1111111111111111,
              "#46039f"
             ],
             [
              0.2222222222222222,
              "#7201a8"
             ],
             [
              0.3333333333333333,
              "#9c179e"
             ],
             [
              0.4444444444444444,
              "#bd3786"
             ],
             [
              0.5555555555555556,
              "#d8576b"
             ],
             [
              0.6666666666666666,
              "#ed7953"
             ],
             [
              0.7777777777777778,
              "#fb9f3a"
             ],
             [
              0.8888888888888888,
              "#fdca26"
             ],
             [
              1,
              "#f0f921"
             ]
            ],
            "type": "histogram2dcontour"
           }
          ],
          "mesh3d": [
           {
            "colorbar": {
             "outlinewidth": 0,
             "ticks": ""
            },
            "type": "mesh3d"
           }
          ],
          "parcoords": [
           {
            "line": {
             "colorbar": {
              "outlinewidth": 0,
              "ticks": ""
             }
            },
            "type": "parcoords"
           }
          ],
          "pie": [
           {
            "automargin": true,
            "type": "pie"
           }
          ],
          "scatter": [
           {
            "fillpattern": {
             "fillmode": "overlay",
             "size": 10,
             "solidity": 0.2
            },
            "type": "scatter"
           }
          ],
          "scatter3d": [
           {
            "line": {
             "colorbar": {
              "outlinewidth": 0,
              "ticks": ""
             }
            },
            "marker": {
             "colorbar": {
              "outlinewidth": 0,
              "ticks": ""
             }
            },
            "type": "scatter3d"
           }
          ],
          "scattercarpet": [
           {
            "marker": {
             "colorbar": {
              "outlinewidth": 0,
              "ticks": ""
             }
            },
            "type": "scattercarpet"
           }
          ],
          "scattergeo": [
           {
            "marker": {
             "colorbar": {
              "outlinewidth": 0,
              "ticks": ""
             }
            },
            "type": "scattergeo"
           }
          ],
          "scattergl": [
           {
            "marker": {
             "colorbar": {
              "outlinewidth": 0,
              "ticks": ""
             }
            },
            "type": "scattergl"
           }
          ],
          "scattermap": [
           {
            "marker": {
             "colorbar": {
              "outlinewidth": 0,
              "ticks": ""
             }
            },
            "type": "scattermap"
           }
          ],
          "scattermapbox": [
           {
            "marker": {
             "colorbar": {
              "outlinewidth": 0,
              "ticks": ""
             }
            },
            "type": "scattermapbox"
           }
          ],
          "scatterpolar": [
           {
            "marker": {
             "colorbar": {
              "outlinewidth": 0,
              "ticks": ""
             }
            },
            "type": "scatterpolar"
           }
          ],
          "scatterpolargl": [
           {
            "marker": {
             "colorbar": {
              "outlinewidth": 0,
              "ticks": ""
             }
            },
            "type": "scatterpolargl"
           }
          ],
          "scatterternary": [
           {
            "marker": {
             "colorbar": {
              "outlinewidth": 0,
              "ticks": ""
             }
            },
            "type": "scatterternary"
           }
          ],
          "surface": [
           {
            "colorbar": {
             "outlinewidth": 0,
             "ticks": ""
            },
            "colorscale": [
             [
              0,
              "#0d0887"
             ],
             [
              0.1111111111111111,
              "#46039f"
             ],
             [
              0.2222222222222222,
              "#7201a8"
             ],
             [
              0.3333333333333333,
              "#9c179e"
             ],
             [
              0.4444444444444444,
              "#bd3786"
             ],
             [
              0.5555555555555556,
              "#d8576b"
             ],
             [
              0.6666666666666666,
              "#ed7953"
             ],
             [
              0.7777777777777778,
              "#fb9f3a"
             ],
             [
              0.8888888888888888,
              "#fdca26"
             ],
             [
              1,
              "#f0f921"
             ]
            ],
            "type": "surface"
           }
          ],
          "table": [
           {
            "cells": {
             "fill": {
              "color": "#EBF0F8"
             },
             "line": {
              "color": "white"
             }
            },
            "header": {
             "fill": {
              "color": "#C8D4E3"
             },
             "line": {
              "color": "white"
             }
            },
            "type": "table"
           }
          ]
         },
         "layout": {
          "annotationdefaults": {
           "arrowcolor": "#2a3f5f",
           "arrowhead": 0,
           "arrowwidth": 1
          },
          "autotypenumbers": "strict",
          "coloraxis": {
           "colorbar": {
            "outlinewidth": 0,
            "ticks": ""
           }
          },
          "colorscale": {
           "diverging": [
            [
             0,
             "#8e0152"
            ],
            [
             0.1,
             "#c51b7d"
            ],
            [
             0.2,
             "#de77ae"
            ],
            [
             0.3,
             "#f1b6da"
            ],
            [
             0.4,
             "#fde0ef"
            ],
            [
             0.5,
             "#f7f7f7"
            ],
            [
             0.6,
             "#e6f5d0"
            ],
            [
             0.7,
             "#b8e186"
            ],
            [
             0.8,
             "#7fbc41"
            ],
            [
             0.9,
             "#4d9221"
            ],
            [
             1,
             "#276419"
            ]
           ],
           "sequential": [
            [
             0,
             "#0d0887"
            ],
            [
             0.1111111111111111,
             "#46039f"
            ],
            [
             0.2222222222222222,
             "#7201a8"
            ],
            [
             0.3333333333333333,
             "#9c179e"
            ],
            [
             0.4444444444444444,
             "#bd3786"
            ],
            [
             0.5555555555555556,
             "#d8576b"
            ],
            [
             0.6666666666666666,
             "#ed7953"
            ],
            [
             0.7777777777777778,
             "#fb9f3a"
            ],
            [
             0.8888888888888888,
             "#fdca26"
            ],
            [
             1,
             "#f0f921"
            ]
           ],
           "sequentialminus": [
            [
             0,
             "#0d0887"
            ],
            [
             0.1111111111111111,
             "#46039f"
            ],
            [
             0.2222222222222222,
             "#7201a8"
            ],
            [
             0.3333333333333333,
             "#9c179e"
            ],
            [
             0.4444444444444444,
             "#bd3786"
            ],
            [
             0.5555555555555556,
             "#d8576b"
            ],
            [
             0.6666666666666666,
             "#ed7953"
            ],
            [
             0.7777777777777778,
             "#fb9f3a"
            ],
            [
             0.8888888888888888,
             "#fdca26"
            ],
            [
             1,
             "#f0f921"
            ]
           ]
          },
          "colorway": [
           "#636efa",
           "#EF553B",
           "#00cc96",
           "#ab63fa",
           "#FFA15A",
           "#19d3f3",
           "#FF6692",
           "#B6E880",
           "#FF97FF",
           "#FECB52"
          ],
          "font": {
           "color": "#2a3f5f"
          },
          "geo": {
           "bgcolor": "white",
           "lakecolor": "white",
           "landcolor": "#E5ECF6",
           "showlakes": true,
           "showland": true,
           "subunitcolor": "white"
          },
          "hoverlabel": {
           "align": "left"
          },
          "hovermode": "closest",
          "mapbox": {
           "style": "light"
          },
          "paper_bgcolor": "white",
          "plot_bgcolor": "#E5ECF6",
          "polar": {
           "angularaxis": {
            "gridcolor": "white",
            "linecolor": "white",
            "ticks": ""
           },
           "bgcolor": "#E5ECF6",
           "radialaxis": {
            "gridcolor": "white",
            "linecolor": "white",
            "ticks": ""
           }
          },
          "scene": {
           "xaxis": {
            "backgroundcolor": "#E5ECF6",
            "gridcolor": "white",
            "gridwidth": 2,
            "linecolor": "white",
            "showbackground": true,
            "ticks": "",
            "zerolinecolor": "white"
           },
           "yaxis": {
            "backgroundcolor": "#E5ECF6",
            "gridcolor": "white",
            "gridwidth": 2,
            "linecolor": "white",
            "showbackground": true,
            "ticks": "",
            "zerolinecolor": "white"
           },
           "zaxis": {
            "backgroundcolor": "#E5ECF6",
            "gridcolor": "white",
            "gridwidth": 2,
            "linecolor": "white",
            "showbackground": true,
            "ticks": "",
            "zerolinecolor": "white"
           }
          },
          "shapedefaults": {
           "line": {
            "color": "#2a3f5f"
           }
          },
          "ternary": {
           "aaxis": {
            "gridcolor": "white",
            "linecolor": "white",
            "ticks": ""
           },
           "baxis": {
            "gridcolor": "white",
            "linecolor": "white",
            "ticks": ""
           },
           "bgcolor": "#E5ECF6",
           "caxis": {
            "gridcolor": "white",
            "linecolor": "white",
            "ticks": ""
           }
          },
          "title": {
           "x": 0.05
          },
          "xaxis": {
           "automargin": true,
           "gridcolor": "white",
           "linecolor": "white",
           "ticks": "",
           "title": {
            "standoff": 15
           },
           "zerolinecolor": "white",
           "zerolinewidth": 2
          },
          "yaxis": {
           "automargin": true,
           "gridcolor": "white",
           "linecolor": "white",
           "ticks": "",
           "title": {
            "standoff": 15
           },
           "zerolinecolor": "white",
           "zerolinewidth": 2
          }
         }
        },
        "xaxis": {
         "anchor": "y",
         "domain": [
          0,
          1
         ],
         "title": {
          "text": "radius_worst"
         }
        },
        "yaxis": {
         "anchor": "x",
         "domain": [
          0,
          1
         ],
         "title": {
          "text": "count"
         }
        }
       }
      }
     },
     "metadata": {},
     "output_type": "display_data"
    }
   ],
   "source": [
    "px.histogram(df, x=\"radius_worst\", color=\"diagnosis\", opacity=0.6, nbins=30)"
   ]
  },
  {
   "cell_type": "code",
   "execution_count": 79,
   "metadata": {},
   "outputs": [
    {
     "data": {
      "application/vnd.plotly.v1+json": {
       "config": {
        "plotlyServerURL": "https://plot.ly"
       },
       "data": [
        {
         "bingroup": "x",
         "hovertemplate": "diagnosis=1<br>area_worst=%{x}<br>count=%{y}<extra></extra>",
         "legendgroup": "1",
         "marker": {
          "color": "#636efa",
          "opacity": 0.6,
          "pattern": {
           "shape": ""
          }
         },
         "name": "1",
         "nbinsx": 30,
         "orientation": "v",
         "showlegend": true,
         "type": "histogram",
         "x": {
          "bdata": "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",
          "dtype": "f8"
         },
         "xaxis": "x",
         "yaxis": "y"
        },
        {
         "bingroup": "x",
         "hovertemplate": "diagnosis=0<br>area_worst=%{x}<br>count=%{y}<extra></extra>",
         "legendgroup": "0",
         "marker": {
          "color": "#EF553B",
          "opacity": 0.6,
          "pattern": {
           "shape": ""
          }
         },
         "name": "0",
         "nbinsx": 30,
         "orientation": "v",
         "showlegend": true,
         "type": "histogram",
         "x": {
          "bdata": "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",
          "dtype": "f8"
         },
         "xaxis": "x",
         "yaxis": "y"
        }
       ],
       "layout": {
        "barmode": "relative",
        "legend": {
         "title": {
          "text": "diagnosis"
         },
         "tracegroupgap": 0
        },
        "margin": {
         "t": 60
        },
        "template": {
         "data": {
          "bar": [
           {
            "error_x": {
             "color": "#2a3f5f"
            },
            "error_y": {
             "color": "#2a3f5f"
            },
            "marker": {
             "line": {
              "color": "#E5ECF6",
              "width": 0.5
             },
             "pattern": {
              "fillmode": "overlay",
              "size": 10,
              "solidity": 0.2
             }
            },
            "type": "bar"
           }
          ],
          "barpolar": [
           {
            "marker": {
             "line": {
              "color": "#E5ECF6",
              "width": 0.5
             },
             "pattern": {
              "fillmode": "overlay",
              "size": 10,
              "solidity": 0.2
             }
            },
            "type": "barpolar"
           }
          ],
          "carpet": [
           {
            "aaxis": {
             "endlinecolor": "#2a3f5f",
             "gridcolor": "white",
             "linecolor": "white",
             "minorgridcolor": "white",
             "startlinecolor": "#2a3f5f"
            },
            "baxis": {
             "endlinecolor": "#2a3f5f",
             "gridcolor": "white",
             "linecolor": "white",
             "minorgridcolor": "white",
             "startlinecolor": "#2a3f5f"
            },
            "type": "carpet"
           }
          ],
          "choropleth": [
           {
            "colorbar": {
             "outlinewidth": 0,
             "ticks": ""
            },
            "type": "choropleth"
           }
          ],
          "contour": [
           {
            "colorbar": {
             "outlinewidth": 0,
             "ticks": ""
            },
            "colorscale": [
             [
              0,
              "#0d0887"
             ],
             [
              0.1111111111111111,
              "#46039f"
             ],
             [
              0.2222222222222222,
              "#7201a8"
             ],
             [
              0.3333333333333333,
              "#9c179e"
             ],
             [
              0.4444444444444444,
              "#bd3786"
             ],
             [
              0.5555555555555556,
              "#d8576b"
             ],
             [
              0.6666666666666666,
              "#ed7953"
             ],
             [
              0.7777777777777778,
              "#fb9f3a"
             ],
             [
              0.8888888888888888,
              "#fdca26"
             ],
             [
              1,
              "#f0f921"
             ]
            ],
            "type": "contour"
           }
          ],
          "contourcarpet": [
           {
            "colorbar": {
             "outlinewidth": 0,
             "ticks": ""
            },
            "type": "contourcarpet"
           }
          ],
          "heatmap": [
           {
            "colorbar": {
             "outlinewidth": 0,
             "ticks": ""
            },
            "colorscale": [
             [
              0,
              "#0d0887"
             ],
             [
              0.1111111111111111,
              "#46039f"
             ],
             [
              0.2222222222222222,
              "#7201a8"
             ],
             [
              0.3333333333333333,
              "#9c179e"
             ],
             [
              0.4444444444444444,
              "#bd3786"
             ],
             [
              0.5555555555555556,
              "#d8576b"
             ],
             [
              0.6666666666666666,
              "#ed7953"
             ],
             [
              0.7777777777777778,
              "#fb9f3a"
             ],
             [
              0.8888888888888888,
              "#fdca26"
             ],
             [
              1,
              "#f0f921"
             ]
            ],
            "type": "heatmap"
           }
          ],
          "histogram": [
           {
            "marker": {
             "pattern": {
              "fillmode": "overlay",
              "size": 10,
              "solidity": 0.2
             }
            },
            "type": "histogram"
           }
          ],
          "histogram2d": [
           {
            "colorbar": {
             "outlinewidth": 0,
             "ticks": ""
            },
            "colorscale": [
             [
              0,
              "#0d0887"
             ],
             [
              0.1111111111111111,
              "#46039f"
             ],
             [
              0.2222222222222222,
              "#7201a8"
             ],
             [
              0.3333333333333333,
              "#9c179e"
             ],
             [
              0.4444444444444444,
              "#bd3786"
             ],
             [
              0.5555555555555556,
              "#d8576b"
             ],
             [
              0.6666666666666666,
              "#ed7953"
             ],
             [
              0.7777777777777778,
              "#fb9f3a"
             ],
             [
              0.8888888888888888,
              "#fdca26"
             ],
             [
              1,
              "#f0f921"
             ]
            ],
            "type": "histogram2d"
           }
          ],
          "histogram2dcontour": [
           {
            "colorbar": {
             "outlinewidth": 0,
             "ticks": ""
            },
            "colorscale": [
             [
              0,
              "#0d0887"
             ],
             [
              0.1111111111111111,
              "#46039f"
             ],
             [
              0.2222222222222222,
              "#7201a8"
             ],
             [
              0.3333333333333333,
              "#9c179e"
             ],
             [
              0.4444444444444444,
              "#bd3786"
             ],
             [
              0.5555555555555556,
              "#d8576b"
             ],
             [
              0.6666666666666666,
              "#ed7953"
             ],
             [
              0.7777777777777778,
              "#fb9f3a"
             ],
             [
              0.8888888888888888,
              "#fdca26"
             ],
             [
              1,
              "#f0f921"
             ]
            ],
            "type": "histogram2dcontour"
           }
          ],
          "mesh3d": [
           {
            "colorbar": {
             "outlinewidth": 0,
             "ticks": ""
            },
            "type": "mesh3d"
           }
          ],
          "parcoords": [
           {
            "line": {
             "colorbar": {
              "outlinewidth": 0,
              "ticks": ""
             }
            },
            "type": "parcoords"
           }
          ],
          "pie": [
           {
            "automargin": true,
            "type": "pie"
           }
          ],
          "scatter": [
           {
            "fillpattern": {
             "fillmode": "overlay",
             "size": 10,
             "solidity": 0.2
            },
            "type": "scatter"
           }
          ],
          "scatter3d": [
           {
            "line": {
             "colorbar": {
              "outlinewidth": 0,
              "ticks": ""
             }
            },
            "marker": {
             "colorbar": {
              "outlinewidth": 0,
              "ticks": ""
             }
            },
            "type": "scatter3d"
           }
          ],
          "scattercarpet": [
           {
            "marker": {
             "colorbar": {
              "outlinewidth": 0,
              "ticks": ""
             }
            },
            "type": "scattercarpet"
           }
          ],
          "scattergeo": [
           {
            "marker": {
             "colorbar": {
              "outlinewidth": 0,
              "ticks": ""
             }
            },
            "type": "scattergeo"
           }
          ],
          "scattergl": [
           {
            "marker": {
             "colorbar": {
              "outlinewidth": 0,
              "ticks": ""
             }
            },
            "type": "scattergl"
           }
          ],
          "scattermap": [
           {
            "marker": {
             "colorbar": {
              "outlinewidth": 0,
              "ticks": ""
             }
            },
            "type": "scattermap"
           }
          ],
          "scattermapbox": [
           {
            "marker": {
             "colorbar": {
              "outlinewidth": 0,
              "ticks": ""
             }
            },
            "type": "scattermapbox"
           }
          ],
          "scatterpolar": [
           {
            "marker": {
             "colorbar": {
              "outlinewidth": 0,
              "ticks": ""
             }
            },
            "type": "scatterpolar"
           }
          ],
          "scatterpolargl": [
           {
            "marker": {
             "colorbar": {
              "outlinewidth": 0,
              "ticks": ""
             }
            },
            "type": "scatterpolargl"
           }
          ],
          "scatterternary": [
           {
            "marker": {
             "colorbar": {
              "outlinewidth": 0,
              "ticks": ""
             }
            },
            "type": "scatterternary"
           }
          ],
          "surface": [
           {
            "colorbar": {
             "outlinewidth": 0,
             "ticks": ""
            },
            "colorscale": [
             [
              0,
              "#0d0887"
             ],
             [
              0.1111111111111111,
              "#46039f"
             ],
             [
              0.2222222222222222,
              "#7201a8"
             ],
             [
              0.3333333333333333,
              "#9c179e"
             ],
             [
              0.4444444444444444,
              "#bd3786"
             ],
             [
              0.5555555555555556,
              "#d8576b"
             ],
             [
              0.6666666666666666,
              "#ed7953"
             ],
             [
              0.7777777777777778,
              "#fb9f3a"
             ],
             [
              0.8888888888888888,
              "#fdca26"
             ],
             [
              1,
              "#f0f921"
             ]
            ],
            "type": "surface"
           }
          ],
          "table": [
           {
            "cells": {
             "fill": {
              "color": "#EBF0F8"
             },
             "line": {
              "color": "white"
             }
            },
            "header": {
             "fill": {
              "color": "#C8D4E3"
             },
             "line": {
              "color": "white"
             }
            },
            "type": "table"
           }
          ]
         },
         "layout": {
          "annotationdefaults": {
           "arrowcolor": "#2a3f5f",
           "arrowhead": 0,
           "arrowwidth": 1
          },
          "autotypenumbers": "strict",
          "coloraxis": {
           "colorbar": {
            "outlinewidth": 0,
            "ticks": ""
           }
          },
          "colorscale": {
           "diverging": [
            [
             0,
             "#8e0152"
            ],
            [
             0.1,
             "#c51b7d"
            ],
            [
             0.2,
             "#de77ae"
            ],
            [
             0.3,
             "#f1b6da"
            ],
            [
             0.4,
             "#fde0ef"
            ],
            [
             0.5,
             "#f7f7f7"
            ],
            [
             0.6,
             "#e6f5d0"
            ],
            [
             0.7,
             "#b8e186"
            ],
            [
             0.8,
             "#7fbc41"
            ],
            [
             0.9,
             "#4d9221"
            ],
            [
             1,
             "#276419"
            ]
           ],
           "sequential": [
            [
             0,
             "#0d0887"
            ],
            [
             0.1111111111111111,
             "#46039f"
            ],
            [
             0.2222222222222222,
             "#7201a8"
            ],
            [
             0.3333333333333333,
             "#9c179e"
            ],
            [
             0.4444444444444444,
             "#bd3786"
            ],
            [
             0.5555555555555556,
             "#d8576b"
            ],
            [
             0.6666666666666666,
             "#ed7953"
            ],
            [
             0.7777777777777778,
             "#fb9f3a"
            ],
            [
             0.8888888888888888,
             "#fdca26"
            ],
            [
             1,
             "#f0f921"
            ]
           ],
           "sequentialminus": [
            [
             0,
             "#0d0887"
            ],
            [
             0.1111111111111111,
             "#46039f"
            ],
            [
             0.2222222222222222,
             "#7201a8"
            ],
            [
             0.3333333333333333,
             "#9c179e"
            ],
            [
             0.4444444444444444,
             "#bd3786"
            ],
            [
             0.5555555555555556,
             "#d8576b"
            ],
            [
             0.6666666666666666,
             "#ed7953"
            ],
            [
             0.7777777777777778,
             "#fb9f3a"
            ],
            [
             0.8888888888888888,
             "#fdca26"
            ],
            [
             1,
             "#f0f921"
            ]
           ]
          },
          "colorway": [
           "#636efa",
           "#EF553B",
           "#00cc96",
           "#ab63fa",
           "#FFA15A",
           "#19d3f3",
           "#FF6692",
           "#B6E880",
           "#FF97FF",
           "#FECB52"
          ],
          "font": {
           "color": "#2a3f5f"
          },
          "geo": {
           "bgcolor": "white",
           "lakecolor": "white",
           "landcolor": "#E5ECF6",
           "showlakes": true,
           "showland": true,
           "subunitcolor": "white"
          },
          "hoverlabel": {
           "align": "left"
          },
          "hovermode": "closest",
          "mapbox": {
           "style": "light"
          },
          "paper_bgcolor": "white",
          "plot_bgcolor": "#E5ECF6",
          "polar": {
           "angularaxis": {
            "gridcolor": "white",
            "linecolor": "white",
            "ticks": ""
           },
           "bgcolor": "#E5ECF6",
           "radialaxis": {
            "gridcolor": "white",
            "linecolor": "white",
            "ticks": ""
           }
          },
          "scene": {
           "xaxis": {
            "backgroundcolor": "#E5ECF6",
            "gridcolor": "white",
            "gridwidth": 2,
            "linecolor": "white",
            "showbackground": true,
            "ticks": "",
            "zerolinecolor": "white"
           },
           "yaxis": {
            "backgroundcolor": "#E5ECF6",
            "gridcolor": "white",
            "gridwidth": 2,
            "linecolor": "white",
            "showbackground": true,
            "ticks": "",
            "zerolinecolor": "white"
           },
           "zaxis": {
            "backgroundcolor": "#E5ECF6",
            "gridcolor": "white",
            "gridwidth": 2,
            "linecolor": "white",
            "showbackground": true,
            "ticks": "",
            "zerolinecolor": "white"
           }
          },
          "shapedefaults": {
           "line": {
            "color": "#2a3f5f"
           }
          },
          "ternary": {
           "aaxis": {
            "gridcolor": "white",
            "linecolor": "white",
            "ticks": ""
           },
           "baxis": {
            "gridcolor": "white",
            "linecolor": "white",
            "ticks": ""
           },
           "bgcolor": "#E5ECF6",
           "caxis": {
            "gridcolor": "white",
            "linecolor": "white",
            "ticks": ""
           }
          },
          "title": {
           "x": 0.05
          },
          "xaxis": {
           "automargin": true,
           "gridcolor": "white",
           "linecolor": "white",
           "ticks": "",
           "title": {
            "standoff": 15
           },
           "zerolinecolor": "white",
           "zerolinewidth": 2
          },
          "yaxis": {
           "automargin": true,
           "gridcolor": "white",
           "linecolor": "white",
           "ticks": "",
           "title": {
            "standoff": 15
           },
           "zerolinecolor": "white",
           "zerolinewidth": 2
          }
         }
        },
        "xaxis": {
         "anchor": "y",
         "domain": [
          0,
          1
         ],
         "title": {
          "text": "area_worst"
         }
        },
        "yaxis": {
         "anchor": "x",
         "domain": [
          0,
          1
         ],
         "title": {
          "text": "count"
         }
        }
       }
      }
     },
     "metadata": {},
     "output_type": "display_data"
    }
   ],
   "source": [
    "px.histogram(df, x=\"area_worst\", color=\"diagnosis\", opacity=0.6, nbins=30)"
   ]
  },
  {
   "cell_type": "code",
   "execution_count": null,
   "metadata": {},
   "outputs": [],
   "source": [
    "# Benign cases: Peak at lower values (left side)\n",
    "# Malignant cases: Peak at higher values (right side)\n",
    "# Minimal overlap in the middle"
   ]
  },
  {
   "cell_type": "code",
   "execution_count": 78,
   "metadata": {},
   "outputs": [
    {
     "data": {
      "application/vnd.plotly.v1+json": {
       "config": {
        "plotlyServerURL": "https://plot.ly"
       },
       "data": [
        {
         "bingroup": "x",
         "hovertemplate": "diagnosis=1<br>symmetry_mean=%{x}<br>count=%{y}<extra></extra>",
         "legendgroup": "1",
         "marker": {
          "color": "#636efa",
          "opacity": 0.6,
          "pattern": {
           "shape": ""
          }
         },
         "name": "1",
         "nbinsx": 30,
         "orientation": "v",
         "showlegend": true,
         "type": "histogram",
         "x": {
          "bdata": "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",
          "dtype": "f8"
         },
         "xaxis": "x",
         "yaxis": "y"
        },
        {
         "bingroup": "x",
         "hovertemplate": "diagnosis=0<br>symmetry_mean=%{x}<br>count=%{y}<extra></extra>",
         "legendgroup": "0",
         "marker": {
          "color": "#EF553B",
          "opacity": 0.6,
          "pattern": {
           "shape": ""
          }
         },
         "name": "0",
         "nbinsx": 30,
         "orientation": "v",
         "showlegend": true,
         "type": "histogram",
         "x": {
          "bdata": "VOOlm8QgyD8FxY8xdy3JPwisHFpkO8c/nl4pyxDHwj+GyVTBqKTGP3E9CtejcMU/1lbsL7snxz+JQWDl0CLDP+ELk6mCUcE/RUdy+Q/pxz/6fmq8dJPIPyo6kst/SMc/tFn1udqKxT88vVKWIY7RP/W52or9Zcc/SS7/If32zT/RkVz+Q/rFP7prCfmgZ8M/vsEXJlMFyz8nMQisHFrEP2N/2T15WMg/arx0kxgExj9SSZ2AJsLOP1r1udqK/cU/ayv2l92Txz+zDHGsi9vIP7FQa5p3nMo/TmIQWDm0yD9os+pztRXLP8UgsHJokcU/duCcEaW9wT+62or9ZffEP1K4HoXrUcg/SOF6FK5HwT8j2/l+arzEP05iEFg5tMg/ih9j7lpCxj9MN4lBYOXIPzj4wmSqYMw/kzoBTYQNxz+M22gAb4HEP0YldQKaCMM/9dvXgXNGxD9oke18PzXGP+SDns2qz8U/C0YldQKayD+WIY51cRvFP15LyAc9m8U/TmIQWDm0wD8tIR/0bFbFP+CcEaW9wcc/pN++Dpwzwj/whclUwajEPyL99nXgnMk/qvHSTWIQyD+RD3o2qz7HP2uad5yiI8E/4C2QoPgxxj+XkA96NqvGP+viNhrAW8g/dZMYBFYOxT9SSZ2AJsLGP2PuWkI+6ME/8KfGSzeJyT80ETY8vVLGP4xK6gQ0EcY/0LNZ9bnawj+oxks3iUHQP+LplbIMccw/ylTBqKRO0D8GgZVDi2zHP8NkqmBUUsc/nu+nxks3yT988rBQa5rHPycxCKwcWsQ/TKYKRiV1wj/f4AuTqYLJP18HzhlR2sM/MQisHFpkwz/M7snDQq3BP2IQWDm0yMY/waikTkATyT9d3EYDeAvEPz2bVZ+rrcg/e4MvTKYKxj8+6Nms+lzFP0Jg5dAi28E/FvvL7snDwj+OdXEbDeC9P1wgQfFjzMU/umsJ+aBnwz9a9bnaiv3FPy0hH/RsVsU/kKD4MeauxT+4rwPnjCjFP34dOGdEacc/aW/whclUyT+kcD0K16PIP2/whclUwcg/rkfhehSuxz8TYcPTK2XBP8gHPZtVn8M/BcWPMXctyT9rmnecoiPJP5zEILByaME/W9O84xQdyT+mm8QgsHLIPxKlvcEXJsM/j8L1KFyPyj+lLEMc6+LGPzJVMCqpE8g/qaROQBNhwz/Oqs/VVuzHPwRWDi2yncc/XwfOGVHawz9Cz2bV52rDPwXFjzF3LcE/0ZFc/kP6xT+1FfvL7snDP1+YTBWMSso/qFfKMsSxxj95WKg1zTvGP0YldQKaCMM/WYY41sVtxD+5jQbwFkjIP0Mc6+I2Gsg/KA8LtaZ5xz8LRiV1AprIPyGwcmiR7cQ/7nw/NV66yT+2hHzQs1nFP3ZPHhZqTcM/hslUwaikxj/CFyZTBaPKP5huEoPAysk/F7fRAN4CyT8YldQJaCLEPzVeukkMAss/at5xio7kyj/4wmSqYFTCPynLEMe6uMU/FmpN845TxD9b07zjFB3BP8/3U+Olm9A/h6dXyjLEyT84Z0Rpb/DFPyKOdXEbDcg/vp8aL90kxj8AAAAAAADIP7raiv1l98Q/OPjCZKpgxD8HX5hMFYzCPyGwcmiR7cQ/GQRWDi2yxT/rc7UV+8vGP5wzorQ3+MI/yJi7lpAPwj/4U+Olm8TIP4iFWtO848Q/pSxDHOvixj9GtvP91HjBPyntDb4wmcI/gLdAguLHyD+IhVrTvOPEPwN4CyQofsQ/n6ut2F92xz9y+Q/pt6/LP7TIdr6fGr8/YHZPHhZqxT9t5/up8dLNP0hQ/Bhz18I/rK3YX3ZPxj8c6+I2GsDDP7raiv1l98Q/fa62Yn/ZxT+J0t7gC5PBP1RSJ6CJsME/Q61p3nGKxj+iRbbz/dTIP6hXyjLEscY/+1xtxf6ywz8wTKYKRiXFP/7UeOkmMcg/t2J/2T15yD/ImLuWkA/KP0GC4seYu8Y/ZRniWBe3yT8Q6bevA+fEP4GVQ4ts58M/ZF3cRgN4wz+YTBWMSurEPygPC7Wmec8/T6+UZYhjxT9vEoPAyqHFP8gHPZtVn8M/PzVeukkMyj+1pnnHKTrCP05iEFg5tMg/ZohjXdxGwz8eFmpN847DPwisHFpkO8c/MuauJeSDxj+JQWDl0CLDPx+F61G4HsU/GQRWDi2yxT/zH9JvXwfGP2fV52or9sc/Rrbz/dR4yT/EsS5uowHMPxx8YTJVMMI/x7q4jQbwxj8xmSoYldTJPzPEsS5uo8k/63O1FfvLvj/arPpcbcXGP4qw4emVssQ//fZ14JwRxT82zTtO0ZHEP166SQwCK8c/CtejcD0Kxz+cxCCwcmjJPwkbnl4py8g/UwWjkjoBxT89LNSa5h3HP6H4MeauJcQ/2c73U+Olwz8VHcnlP6THPwN4CyQofsQ/eJyiI7n8xz9oke18PzXGPwfOGVHaG8Q/vsEXJlMFwz9oke18PzXGP9NNYhBYOcQ/fGEyVTAqyT8DeAskKH7EPzhnRGlv8MU/ylTBqKROwD/D0ytlGeLIP7n8h/Tb18k/7FG4HoXryT9seHqlLEPEP3npJjEIrMQ/HqfoSC7/yT9sCfmgZ7PKP9xGA3gLJMg/nYAmwoanxz8gY+5aQj7QP3e+nxov3cQ/pHA9CtejyD8g0m9fB87JPxB6Nqs+V8M/W0I+6Nmswj/nHafoSC7HPxiV1AloIsQ/io7k8h/Sxz84Z0Rpb/DFP4GVQ4ts58M/n82qz9VWxD9X7C+7Jw/DP5ZDi2zn+8E/zTtO0ZFczj+yne+nxkvHP5f/kH77Osg/0LNZ9bnawj+/fR04Z0TBP3npJjEIrMQ/H4XrUbgexT+Cc0aU9gbHP5qZmZmZmcE/gnNGlPYGxz+ad5yiI7nEPy0hH/RsVsU/qz5XW7G/xD99rrZif9nFP7prCfmgZ8M/sVBrmnecwj8DeAskKH7EPzxO0ZFc/sM/Gy/dJAaBxT+x4emVsgzJP2gibHh6pcw/0NVW7C+7xz/V52or9pfFP0tZhjjWxcU/io7k8h/Sxz9t5/up8dLFP2aIY13cRsM/9+RhodY0xz/arPpcbcXGPwU0ETY8vcI/S+oENBE2xD/arPpcbcXGP89m1edqK8Y/hJ7Nqs/Vxj9Ke4MvTKbKP7fRAN4CCcI/R3L5D+m3xz+lTkATYcPDPwisHFpkO78/aCJseHqlxD+wA+eMKO3FP0YldQKaCMM/UwWjkjoBxT8OT6+UZYjDP7aEfNCzWcU/O3DOiNLeyD8AkX77OnDOP/jCZKpgVMo/q8/VVuwvyz8Xt9EA3gLJP588LNSa5sU/q8/VVuwvwz/qBDQRNjzFP4ofY+5aQsY/tTf4wmSqyD+OdXEbDeDFP4lBYOXQIss/kDF3LSEfzD8ydy0hH/TEPzhnRGlv8MU//kP67evAwT8KaCJseHrFPwTnjCjtDcY/5q4l5IOexT/QRNjw9ErJP9k9eVioNcU/ak3zjlN0xD96xyk6ksvHP/8h/fZ14MQ/mnecoiO5xD9miGNd3EbLP1YOLbKd78c/UPwYc9cSyj+h1jTvOEXHP2fV52or9sc/WmQ730+Nxz9m9+RhodbEPyPb+X5qvMQ/lPYGX5hMxT9U46WbxCDIPz7o2az6XMU/001iEFg5xD/QRNjw9ErJP/vL7snDQsU/lkOLbOf7yT/7XG3F/rLDP3/ZPXlYqMU/XdxGA3gLxD/AWyBB8WPEPz9XW7G/7MY/I0p7gy9Mxj+xUGuad5zCP4enV8oyxME/6pWyDHGswz+JQWDl0CK7P44G8BZIUMQ/",
          "dtype": "f8"
         },
         "xaxis": "x",
         "yaxis": "y"
        }
       ],
       "layout": {
        "barmode": "relative",
        "legend": {
         "title": {
          "text": "diagnosis"
         },
         "tracegroupgap": 0
        },
        "margin": {
         "t": 60
        },
        "template": {
         "data": {
          "bar": [
           {
            "error_x": {
             "color": "#2a3f5f"
            },
            "error_y": {
             "color": "#2a3f5f"
            },
            "marker": {
             "line": {
              "color": "#E5ECF6",
              "width": 0.5
             },
             "pattern": {
              "fillmode": "overlay",
              "size": 10,
              "solidity": 0.2
             }
            },
            "type": "bar"
           }
          ],
          "barpolar": [
           {
            "marker": {
             "line": {
              "color": "#E5ECF6",
              "width": 0.5
             },
             "pattern": {
              "fillmode": "overlay",
              "size": 10,
              "solidity": 0.2
             }
            },
            "type": "barpolar"
           }
          ],
          "carpet": [
           {
            "aaxis": {
             "endlinecolor": "#2a3f5f",
             "gridcolor": "white",
             "linecolor": "white",
             "minorgridcolor": "white",
             "startlinecolor": "#2a3f5f"
            },
            "baxis": {
             "endlinecolor": "#2a3f5f",
             "gridcolor": "white",
             "linecolor": "white",
             "minorgridcolor": "white",
             "startlinecolor": "#2a3f5f"
            },
            "type": "carpet"
           }
          ],
          "choropleth": [
           {
            "colorbar": {
             "outlinewidth": 0,
             "ticks": ""
            },
            "type": "choropleth"
           }
          ],
          "contour": [
           {
            "colorbar": {
             "outlinewidth": 0,
             "ticks": ""
            },
            "colorscale": [
             [
              0,
              "#0d0887"
             ],
             [
              0.1111111111111111,
              "#46039f"
             ],
             [
              0.2222222222222222,
              "#7201a8"
             ],
             [
              0.3333333333333333,
              "#9c179e"
             ],
             [
              0.4444444444444444,
              "#bd3786"
             ],
             [
              0.5555555555555556,
              "#d8576b"
             ],
             [
              0.6666666666666666,
              "#ed7953"
             ],
             [
              0.7777777777777778,
              "#fb9f3a"
             ],
             [
              0.8888888888888888,
              "#fdca26"
             ],
             [
              1,
              "#f0f921"
             ]
            ],
            "type": "contour"
           }
          ],
          "contourcarpet": [
           {
            "colorbar": {
             "outlinewidth": 0,
             "ticks": ""
            },
            "type": "contourcarpet"
           }
          ],
          "heatmap": [
           {
            "colorbar": {
             "outlinewidth": 0,
             "ticks": ""
            },
            "colorscale": [
             [
              0,
              "#0d0887"
             ],
             [
              0.1111111111111111,
              "#46039f"
             ],
             [
              0.2222222222222222,
              "#7201a8"
             ],
             [
              0.3333333333333333,
              "#9c179e"
             ],
             [
              0.4444444444444444,
              "#bd3786"
             ],
             [
              0.5555555555555556,
              "#d8576b"
             ],
             [
              0.6666666666666666,
              "#ed7953"
             ],
             [
              0.7777777777777778,
              "#fb9f3a"
             ],
             [
              0.8888888888888888,
              "#fdca26"
             ],
             [
              1,
              "#f0f921"
             ]
            ],
            "type": "heatmap"
           }
          ],
          "histogram": [
           {
            "marker": {
             "pattern": {
              "fillmode": "overlay",
              "size": 10,
              "solidity": 0.2
             }
            },
            "type": "histogram"
           }
          ],
          "histogram2d": [
           {
            "colorbar": {
             "outlinewidth": 0,
             "ticks": ""
            },
            "colorscale": [
             [
              0,
              "#0d0887"
             ],
             [
              0.1111111111111111,
              "#46039f"
             ],
             [
              0.2222222222222222,
              "#7201a8"
             ],
             [
              0.3333333333333333,
              "#9c179e"
             ],
             [
              0.4444444444444444,
              "#bd3786"
             ],
             [
              0.5555555555555556,
              "#d8576b"
             ],
             [
              0.6666666666666666,
              "#ed7953"
             ],
             [
              0.7777777777777778,
              "#fb9f3a"
             ],
             [
              0.8888888888888888,
              "#fdca26"
             ],
             [
              1,
              "#f0f921"
             ]
            ],
            "type": "histogram2d"
           }
          ],
          "histogram2dcontour": [
           {
            "colorbar": {
             "outlinewidth": 0,
             "ticks": ""
            },
            "colorscale": [
             [
              0,
              "#0d0887"
             ],
             [
              0.1111111111111111,
              "#46039f"
             ],
             [
              0.2222222222222222,
              "#7201a8"
             ],
             [
              0.3333333333333333,
              "#9c179e"
             ],
             [
              0.4444444444444444,
              "#bd3786"
             ],
             [
              0.5555555555555556,
              "#d8576b"
             ],
             [
              0.6666666666666666,
              "#ed7953"
             ],
             [
              0.7777777777777778,
              "#fb9f3a"
             ],
             [
              0.8888888888888888,
              "#fdca26"
             ],
             [
              1,
              "#f0f921"
             ]
            ],
            "type": "histogram2dcontour"
           }
          ],
          "mesh3d": [
           {
            "colorbar": {
             "outlinewidth": 0,
             "ticks": ""
            },
            "type": "mesh3d"
           }
          ],
          "parcoords": [
           {
            "line": {
             "colorbar": {
              "outlinewidth": 0,
              "ticks": ""
             }
            },
            "type": "parcoords"
           }
          ],
          "pie": [
           {
            "automargin": true,
            "type": "pie"
           }
          ],
          "scatter": [
           {
            "fillpattern": {
             "fillmode": "overlay",
             "size": 10,
             "solidity": 0.2
            },
            "type": "scatter"
           }
          ],
          "scatter3d": [
           {
            "line": {
             "colorbar": {
              "outlinewidth": 0,
              "ticks": ""
             }
            },
            "marker": {
             "colorbar": {
              "outlinewidth": 0,
              "ticks": ""
             }
            },
            "type": "scatter3d"
           }
          ],
          "scattercarpet": [
           {
            "marker": {
             "colorbar": {
              "outlinewidth": 0,
              "ticks": ""
             }
            },
            "type": "scattercarpet"
           }
          ],
          "scattergeo": [
           {
            "marker": {
             "colorbar": {
              "outlinewidth": 0,
              "ticks": ""
             }
            },
            "type": "scattergeo"
           }
          ],
          "scattergl": [
           {
            "marker": {
             "colorbar": {
              "outlinewidth": 0,
              "ticks": ""
             }
            },
            "type": "scattergl"
           }
          ],
          "scattermap": [
           {
            "marker": {
             "colorbar": {
              "outlinewidth": 0,
              "ticks": ""
             }
            },
            "type": "scattermap"
           }
          ],
          "scattermapbox": [
           {
            "marker": {
             "colorbar": {
              "outlinewidth": 0,
              "ticks": ""
             }
            },
            "type": "scattermapbox"
           }
          ],
          "scatterpolar": [
           {
            "marker": {
             "colorbar": {
              "outlinewidth": 0,
              "ticks": ""
             }
            },
            "type": "scatterpolar"
           }
          ],
          "scatterpolargl": [
           {
            "marker": {
             "colorbar": {
              "outlinewidth": 0,
              "ticks": ""
             }
            },
            "type": "scatterpolargl"
           }
          ],
          "scatterternary": [
           {
            "marker": {
             "colorbar": {
              "outlinewidth": 0,
              "ticks": ""
             }
            },
            "type": "scatterternary"
           }
          ],
          "surface": [
           {
            "colorbar": {
             "outlinewidth": 0,
             "ticks": ""
            },
            "colorscale": [
             [
              0,
              "#0d0887"
             ],
             [
              0.1111111111111111,
              "#46039f"
             ],
             [
              0.2222222222222222,
              "#7201a8"
             ],
             [
              0.3333333333333333,
              "#9c179e"
             ],
             [
              0.4444444444444444,
              "#bd3786"
             ],
             [
              0.5555555555555556,
              "#d8576b"
             ],
             [
              0.6666666666666666,
              "#ed7953"
             ],
             [
              0.7777777777777778,
              "#fb9f3a"
             ],
             [
              0.8888888888888888,
              "#fdca26"
             ],
             [
              1,
              "#f0f921"
             ]
            ],
            "type": "surface"
           }
          ],
          "table": [
           {
            "cells": {
             "fill": {
              "color": "#EBF0F8"
             },
             "line": {
              "color": "white"
             }
            },
            "header": {
             "fill": {
              "color": "#C8D4E3"
             },
             "line": {
              "color": "white"
             }
            },
            "type": "table"
           }
          ]
         },
         "layout": {
          "annotationdefaults": {
           "arrowcolor": "#2a3f5f",
           "arrowhead": 0,
           "arrowwidth": 1
          },
          "autotypenumbers": "strict",
          "coloraxis": {
           "colorbar": {
            "outlinewidth": 0,
            "ticks": ""
           }
          },
          "colorscale": {
           "diverging": [
            [
             0,
             "#8e0152"
            ],
            [
             0.1,
             "#c51b7d"
            ],
            [
             0.2,
             "#de77ae"
            ],
            [
             0.3,
             "#f1b6da"
            ],
            [
             0.4,
             "#fde0ef"
            ],
            [
             0.5,
             "#f7f7f7"
            ],
            [
             0.6,
             "#e6f5d0"
            ],
            [
             0.7,
             "#b8e186"
            ],
            [
             0.8,
             "#7fbc41"
            ],
            [
             0.9,
             "#4d9221"
            ],
            [
             1,
             "#276419"
            ]
           ],
           "sequential": [
            [
             0,
             "#0d0887"
            ],
            [
             0.1111111111111111,
             "#46039f"
            ],
            [
             0.2222222222222222,
             "#7201a8"
            ],
            [
             0.3333333333333333,
             "#9c179e"
            ],
            [
             0.4444444444444444,
             "#bd3786"
            ],
            [
             0.5555555555555556,
             "#d8576b"
            ],
            [
             0.6666666666666666,
             "#ed7953"
            ],
            [
             0.7777777777777778,
             "#fb9f3a"
            ],
            [
             0.8888888888888888,
             "#fdca26"
            ],
            [
             1,
             "#f0f921"
            ]
           ],
           "sequentialminus": [
            [
             0,
             "#0d0887"
            ],
            [
             0.1111111111111111,
             "#46039f"
            ],
            [
             0.2222222222222222,
             "#7201a8"
            ],
            [
             0.3333333333333333,
             "#9c179e"
            ],
            [
             0.4444444444444444,
             "#bd3786"
            ],
            [
             0.5555555555555556,
             "#d8576b"
            ],
            [
             0.6666666666666666,
             "#ed7953"
            ],
            [
             0.7777777777777778,
             "#fb9f3a"
            ],
            [
             0.8888888888888888,
             "#fdca26"
            ],
            [
             1,
             "#f0f921"
            ]
           ]
          },
          "colorway": [
           "#636efa",
           "#EF553B",
           "#00cc96",
           "#ab63fa",
           "#FFA15A",
           "#19d3f3",
           "#FF6692",
           "#B6E880",
           "#FF97FF",
           "#FECB52"
          ],
          "font": {
           "color": "#2a3f5f"
          },
          "geo": {
           "bgcolor": "white",
           "lakecolor": "white",
           "landcolor": "#E5ECF6",
           "showlakes": true,
           "showland": true,
           "subunitcolor": "white"
          },
          "hoverlabel": {
           "align": "left"
          },
          "hovermode": "closest",
          "mapbox": {
           "style": "light"
          },
          "paper_bgcolor": "white",
          "plot_bgcolor": "#E5ECF6",
          "polar": {
           "angularaxis": {
            "gridcolor": "white",
            "linecolor": "white",
            "ticks": ""
           },
           "bgcolor": "#E5ECF6",
           "radialaxis": {
            "gridcolor": "white",
            "linecolor": "white",
            "ticks": ""
           }
          },
          "scene": {
           "xaxis": {
            "backgroundcolor": "#E5ECF6",
            "gridcolor": "white",
            "gridwidth": 2,
            "linecolor": "white",
            "showbackground": true,
            "ticks": "",
            "zerolinecolor": "white"
           },
           "yaxis": {
            "backgroundcolor": "#E5ECF6",
            "gridcolor": "white",
            "gridwidth": 2,
            "linecolor": "white",
            "showbackground": true,
            "ticks": "",
            "zerolinecolor": "white"
           },
           "zaxis": {
            "backgroundcolor": "#E5ECF6",
            "gridcolor": "white",
            "gridwidth": 2,
            "linecolor": "white",
            "showbackground": true,
            "ticks": "",
            "zerolinecolor": "white"
           }
          },
          "shapedefaults": {
           "line": {
            "color": "#2a3f5f"
           }
          },
          "ternary": {
           "aaxis": {
            "gridcolor": "white",
            "linecolor": "white",
            "ticks": ""
           },
           "baxis": {
            "gridcolor": "white",
            "linecolor": "white",
            "ticks": ""
           },
           "bgcolor": "#E5ECF6",
           "caxis": {
            "gridcolor": "white",
            "linecolor": "white",
            "ticks": ""
           }
          },
          "title": {
           "x": 0.05
          },
          "xaxis": {
           "automargin": true,
           "gridcolor": "white",
           "linecolor": "white",
           "ticks": "",
           "title": {
            "standoff": 15
           },
           "zerolinecolor": "white",
           "zerolinewidth": 2
          },
          "yaxis": {
           "automargin": true,
           "gridcolor": "white",
           "linecolor": "white",
           "ticks": "",
           "title": {
            "standoff": 15
           },
           "zerolinecolor": "white",
           "zerolinewidth": 2
          }
         }
        },
        "xaxis": {
         "anchor": "y",
         "domain": [
          0,
          1
         ],
         "title": {
          "text": "symmetry_mean"
         }
        },
        "yaxis": {
         "anchor": "x",
         "domain": [
          0,
          1
         ],
         "title": {
          "text": "count"
         }
        }
       }
      }
     },
     "metadata": {},
     "output_type": "display_data"
    }
   ],
   "source": [
    "px.histogram(df, x=\"symmetry_mean\", color=\"diagnosis\", opacity=0.6, nbins=30)"
   ]
  },
  {
   "cell_type": "code",
   "execution_count": null,
   "metadata": {},
   "outputs": [],
   "source": [
    "# Both groups: Similar peaks at similar locations\n",
    "# Heavy overlap throughout the range\n",
    "# Hard to distinguish the two colors"
   ]
  },
  {
   "cell_type": "markdown",
   "metadata": {},
   "source": [
    "Clear Separation = Easy Classification:\n",
    "\n",
    "When histograms show distinct peaks with minimal overlap\n",
    "A simple threshold could classify most cases correctly\n",
    "High accuracy expected from machine learning models\n",
    "\n",
    "Heavy Overlap = Difficult Classification:\n",
    "\n",
    "When both diagnosis groups have similar distributions\n",
    "High error rates expected\n",
    "Models will struggle to distinguish between classes\n",
    "\n",
    "Threshold-Based Classification:\n",
    "If you see clear separation (like area_worst), you could literally draw a vertical line:\n",
    "If area_worst > 800: Predict Malignant\n",
    "If area_worst ≤ 800: Predict Benign\n",
    "This simple rule might achieve 85-90% accuracy!\n",
    "\n",
    "Features with good separation → Keep these\n",
    "good_features = [\"area_worst\", \"radius_worst\", \"concavity_worst\"]\n",
    "\n",
    "Features with poor separation → Consider removing\n",
    "weak_features = [\"symmetry_mean\", \"fractal_dimension_mean\"]"
   ]
  },
  {
   "cell_type": "code",
   "execution_count": 67,
   "metadata": {},
   "outputs": [
    {
     "data": {
      "application/vnd.plotly.v1+json": {
       "config": {
        "plotlyServerURL": "https://plot.ly"
       },
       "data": [
        {
         "bingroup": "x",
         "hovertemplate": "diagnosis=1<br>radius_mean=%{x}<br>count=%{y}<extra></extra>",
         "legendgroup": "1",
         "marker": {
          "color": "#ee8ef5",
          "pattern": {
           "shape": ""
          }
         },
         "name": "1",
         "orientation": "v",
         "showlegend": true,
         "type": "histogram",
         "x": {
          "bdata": "PQrXo3D9MUBSuB6F65E0QHE9CtejsDNA16NwPQrXJkAK16NwPUo0QGZmZmZm5ihAAAAAAABAMkDsUbgehWsrQAAAAAAAACpA7FG4HoXrKECF61G4HgUwQI/C9Shcjy9A7FG4HoUrM0AzMzMzM7MvQPYoXI/CdStAFK5H4XoULUBcj8L1KFwtQOF6FK5HITBAj8L1KFzPM0CuR+F6FK4uQClcj8L1KDVAZmZmZmamMECkcD0K1yMxQClcj8L1KC1AXI/C9SicMkCamZmZmZkuQFK4HoXrkTFA4XoUrkehMkCuR+F6FK4nQIXrUbgeBTFAhetRuB5FM0DhehSuRyEwQD0K16NwvTBAAAAAAACALEB7FK5H4fotQPYoXI/C9SpA4XoUrkfhKkBmZmZmZuYlQFK4HoXrETNAj8L1KFyPKkDXo3A9ClcqQGZmZmZmpjJA16NwPQpXKkC4HoXrUTgyQDMzMzMzMy5A9ihcj8I1M0DsUbgehWstQAAAAAAAgCxAXI/C9ShcKUCPwvUoXI8tQHE9Ctej8DJAMzMzMzMzMUCamZmZmZkrQFK4HoXrETBAzczMzMwMMkCuR+F6FC40QLgehetRODlAmpmZmZkZM0D2KFyPwnUyQPYoXI/C9SxAhetRuB4FM0A9CtejcL0uQB+F61G4Hi5Aw/UoXI9CNEDXo3A9CtcsQLgehetROCtAuB6F61E4KkCF61G4HkU2QD0K16NwvS1Aj8L1KFyPL0AzMzMzM/MxQClcj8L1qDJAAAAAAABAOEC4HoXrUTgrQAAAAAAAADNACtejcD3KM0DsUbgehesuQClcj8L1KDBAMzMzMzNzMkAK16NwPYopQGZmZmZm5i1AXI/C9SgcMECamZmZmZknQK5H4XoUrjFAcT0K16MwM0DXo3A9CpczQIXrUbgeRTdASOF6FK7HMEC4HoXrUXgxQFyPwvUo3CpA7FG4HoXrLkD2KFyPwnUwQLgehetRODtA16NwPQoXNUBmZmZmZmYvQI/C9Shcjy5Aj8L1KFxPMkBxPQrXo3AsQK5H4XoUrihAuB6F61G4LUAK16NwPYorQBSuR+F6FDJArkfhehQuM0BmZmZmZuYsQArXo3A9ijFACtejcD1KN0AfhetRuJ4rQD0K16NwPS5Aw/UoXI8CMUAUrkfhepQ0QFyPwvUoHDxA7FG4HoVrMUDhehSuR2EsQLgehetRuCtAzczMzMzMM0BI4XoUroczQAAAAAAAgC9AKVyPwvWoKUDNzMzMzAwxQMP1KFyPgjRA9ihcj8I1N0B7FK5H4Xo0QPYoXI/CdTFAZmZmZmZmM0BxPQrXo/A0QHsUrkfhujNAzczMzMxMMUAzMzMzM3MzQOxRuB6F6ytAzczMzMyMM0CkcD0K16MuQFK4HoXrUS9Aj8L1KFwPL0CPwvUoXE80QJqZmZmZWTFACtejcD1KMUC4HoXrUTgvQHE9CtejMDFAexSuR+G6NEAAAAAAAMA1QK5H4XoU7jFAj8L1KFzPMkApXI/C9SgzQGZmZmZmZjNAPQrXo3A9MECF61G4HoUnQEjhehSuhzNA16NwPQoXNEC4HoXrUTgyQClcj8L1KDRA16NwPQpXNECF61G4HkUwQMP1KFyPQjBASOF6FK4HMECPwvUoXA8xQIXrUbgexTJAw/UoXI+CN0CuR+F6FK4zQAAAAAAAgC9AexSuR+G6OUApXI/C9SguQHE9CtejcDRAMzMzMzMzNED2KFyPwrU1QMP1KFyPAjZAmpmZmZlZMEAfhetRuF41QKRwPQrXozRAKVyPwvUoJkAzMzMzMzMtQM3MzMzMjDNAexSuR+H6LkBcj8L1KJw1QClcj8L16DFAPQrXo3D9MUDD9Shcj0IuQAAAAAAAAC9AzczMzMzMLUCuR+F6FC40QFK4HoXr0TJA9ihcj8L1K0CF61G4HkUxQEjhehSuBzJAAAAAAADAMUCamZmZmRk1QNejcD0KlzNAFK5H4XoUMUDsUbgehWs7QJqZmZmZmTFAAAAAAABAMEBxPQrXo3AzQHE9CtejsDBAw/UoXI8CMkA9CtejcH0yQNejcD0KlzRApHA9CtejK0DXo3A9Chc3QOxRuB6F6y5AzczMzMzMKkCamZmZmRkuQI/C9ShcTzJApHA9CtfjM0DhehSuR6E4QLgehetReDRAzczMzMyMNEAK16NwPYosQHE9CtejcC5A7FG4HoXrNECPwvUoXI81QOF6FK5HITRAmpmZmZmZMECamZmZmZk0QA==",
          "dtype": "f8"
         },
         "xaxis": "x",
         "yaxis": "y"
        },
        {
         "hovertemplate": "diagnosis=1<br>radius_mean=%{x}<extra></extra>",
         "legendgroup": "1",
         "marker": {
          "color": "#ee8ef5"
         },
         "name": "1",
         "notched": true,
         "showlegend": false,
         "type": "box",
         "x": {
          "bdata": "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",
          "dtype": "f8"
         },
         "xaxis": "x2",
         "yaxis": "y2"
        },
        {
         "bingroup": "x",
         "hovertemplate": "diagnosis=0<br>radius_mean=%{x}<br>count=%{y}<extra></extra>",
         "legendgroup": "0",
         "marker": {
          "color": "rgb(50, 80, 168)",
          "pattern": {
           "shape": ""
          }
         },
         "name": "0",
         "orientation": "v",
         "showlegend": true,
         "type": "histogram",
         "x": {
          "bdata": "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",
          "dtype": "f8"
         },
         "xaxis": "x",
         "yaxis": "y"
        },
        {
         "hovertemplate": "diagnosis=0<br>radius_mean=%{x}<extra></extra>",
         "legendgroup": "0",
         "marker": {
          "color": "rgb(50, 80, 168)"
         },
         "name": "0",
         "notched": true,
         "showlegend": false,
         "type": "box",
         "x": {
          "bdata": "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",
          "dtype": "f8"
         },
         "xaxis": "x2",
         "yaxis": "y2"
        }
       ],
       "layout": {
        "barmode": "relative",
        "font": {
         "color": "darkblue",
         "family": "Arial, Courier New, monospace",
         "size": 12
        },
        "height": 400,
        "legend": {
         "title": {
          "text": "diagnosis"
         },
         "tracegroupgap": 0
        },
        "margin": {
         "t": 60
        },
        "plot_bgcolor": "white",
        "template": {
         "data": {
          "bar": [
           {
            "error_x": {
             "color": "#2a3f5f"
            },
            "error_y": {
             "color": "#2a3f5f"
            },
            "marker": {
             "line": {
              "color": "#E5ECF6",
              "width": 0.5
             },
             "pattern": {
              "fillmode": "overlay",
              "size": 10,
              "solidity": 0.2
             }
            },
            "type": "bar"
           }
          ],
          "barpolar": [
           {
            "marker": {
             "line": {
              "color": "#E5ECF6",
              "width": 0.5
             },
             "pattern": {
              "fillmode": "overlay",
              "size": 10,
              "solidity": 0.2
             }
            },
            "type": "barpolar"
           }
          ],
          "carpet": [
           {
            "aaxis": {
             "endlinecolor": "#2a3f5f",
             "gridcolor": "white",
             "linecolor": "white",
             "minorgridcolor": "white",
             "startlinecolor": "#2a3f5f"
            },
            "baxis": {
             "endlinecolor": "#2a3f5f",
             "gridcolor": "white",
             "linecolor": "white",
             "minorgridcolor": "white",
             "startlinecolor": "#2a3f5f"
            },
            "type": "carpet"
           }
          ],
          "choropleth": [
           {
            "colorbar": {
             "outlinewidth": 0,
             "ticks": ""
            },
            "type": "choropleth"
           }
          ],
          "contour": [
           {
            "colorbar": {
             "outlinewidth": 0,
             "ticks": ""
            },
            "colorscale": [
             [
              0,
              "#0d0887"
             ],
             [
              0.1111111111111111,
              "#46039f"
             ],
             [
              0.2222222222222222,
              "#7201a8"
             ],
             [
              0.3333333333333333,
              "#9c179e"
             ],
             [
              0.4444444444444444,
              "#bd3786"
             ],
             [
              0.5555555555555556,
              "#d8576b"
             ],
             [
              0.6666666666666666,
              "#ed7953"
             ],
             [
              0.7777777777777778,
              "#fb9f3a"
             ],
             [
              0.8888888888888888,
              "#fdca26"
             ],
             [
              1,
              "#f0f921"
             ]
            ],
            "type": "contour"
           }
          ],
          "contourcarpet": [
           {
            "colorbar": {
             "outlinewidth": 0,
             "ticks": ""
            },
            "type": "contourcarpet"
           }
          ],
          "heatmap": [
           {
            "colorbar": {
             "outlinewidth": 0,
             "ticks": ""
            },
            "colorscale": [
             [
              0,
              "#0d0887"
             ],
             [
              0.1111111111111111,
              "#46039f"
             ],
             [
              0.2222222222222222,
              "#7201a8"
             ],
             [
              0.3333333333333333,
              "#9c179e"
             ],
             [
              0.4444444444444444,
              "#bd3786"
             ],
             [
              0.5555555555555556,
              "#d8576b"
             ],
             [
              0.6666666666666666,
              "#ed7953"
             ],
             [
              0.7777777777777778,
              "#fb9f3a"
             ],
             [
              0.8888888888888888,
              "#fdca26"
             ],
             [
              1,
              "#f0f921"
             ]
            ],
            "type": "heatmap"
           }
          ],
          "histogram": [
           {
            "marker": {
             "pattern": {
              "fillmode": "overlay",
              "size": 10,
              "solidity": 0.2
             }
            },
            "type": "histogram"
           }
          ],
          "histogram2d": [
           {
            "colorbar": {
             "outlinewidth": 0,
             "ticks": ""
            },
            "colorscale": [
             [
              0,
              "#0d0887"
             ],
             [
              0.1111111111111111,
              "#46039f"
             ],
             [
              0.2222222222222222,
              "#7201a8"
             ],
             [
              0.3333333333333333,
              "#9c179e"
             ],
             [
              0.4444444444444444,
              "#bd3786"
             ],
             [
              0.5555555555555556,
              "#d8576b"
             ],
             [
              0.6666666666666666,
              "#ed7953"
             ],
             [
              0.7777777777777778,
              "#fb9f3a"
             ],
             [
              0.8888888888888888,
              "#fdca26"
             ],
             [
              1,
              "#f0f921"
             ]
            ],
            "type": "histogram2d"
           }
          ],
          "histogram2dcontour": [
           {
            "colorbar": {
             "outlinewidth": 0,
             "ticks": ""
            },
            "colorscale": [
             [
              0,
              "#0d0887"
             ],
             [
              0.1111111111111111,
              "#46039f"
             ],
             [
              0.2222222222222222,
              "#7201a8"
             ],
             [
              0.3333333333333333,
              "#9c179e"
             ],
             [
              0.4444444444444444,
              "#bd3786"
             ],
             [
              0.5555555555555556,
              "#d8576b"
             ],
             [
              0.6666666666666666,
              "#ed7953"
             ],
             [
              0.7777777777777778,
              "#fb9f3a"
             ],
             [
              0.8888888888888888,
              "#fdca26"
             ],
             [
              1,
              "#f0f921"
             ]
            ],
            "type": "histogram2dcontour"
           }
          ],
          "mesh3d": [
           {
            "colorbar": {
             "outlinewidth": 0,
             "ticks": ""
            },
            "type": "mesh3d"
           }
          ],
          "parcoords": [
           {
            "line": {
             "colorbar": {
              "outlinewidth": 0,
              "ticks": ""
             }
            },
            "type": "parcoords"
           }
          ],
          "pie": [
           {
            "automargin": true,
            "type": "pie"
           }
          ],
          "scatter": [
           {
            "fillpattern": {
             "fillmode": "overlay",
             "size": 10,
             "solidity": 0.2
            },
            "type": "scatter"
           }
          ],
          "scatter3d": [
           {
            "line": {
             "colorbar": {
              "outlinewidth": 0,
              "ticks": ""
             }
            },
            "marker": {
             "colorbar": {
              "outlinewidth": 0,
              "ticks": ""
             }
            },
            "type": "scatter3d"
           }
          ],
          "scattercarpet": [
           {
            "marker": {
             "colorbar": {
              "outlinewidth": 0,
              "ticks": ""
             }
            },
            "type": "scattercarpet"
           }
          ],
          "scattergeo": [
           {
            "marker": {
             "colorbar": {
              "outlinewidth": 0,
              "ticks": ""
             }
            },
            "type": "scattergeo"
           }
          ],
          "scattergl": [
           {
            "marker": {
             "colorbar": {
              "outlinewidth": 0,
              "ticks": ""
             }
            },
            "type": "scattergl"
           }
          ],
          "scattermap": [
           {
            "marker": {
             "colorbar": {
              "outlinewidth": 0,
              "ticks": ""
             }
            },
            "type": "scattermap"
           }
          ],
          "scattermapbox": [
           {
            "marker": {
             "colorbar": {
              "outlinewidth": 0,
              "ticks": ""
             }
            },
            "type": "scattermapbox"
           }
          ],
          "scatterpolar": [
           {
            "marker": {
             "colorbar": {
              "outlinewidth": 0,
              "ticks": ""
             }
            },
            "type": "scatterpolar"
           }
          ],
          "scatterpolargl": [
           {
            "marker": {
             "colorbar": {
              "outlinewidth": 0,
              "ticks": ""
             }
            },
            "type": "scatterpolargl"
           }
          ],
          "scatterternary": [
           {
            "marker": {
             "colorbar": {
              "outlinewidth": 0,
              "ticks": ""
             }
            },
            "type": "scatterternary"
           }
          ],
          "surface": [
           {
            "colorbar": {
             "outlinewidth": 0,
             "ticks": ""
            },
            "colorscale": [
             [
              0,
              "#0d0887"
             ],
             [
              0.1111111111111111,
              "#46039f"
             ],
             [
              0.2222222222222222,
              "#7201a8"
             ],
             [
              0.3333333333333333,
              "#9c179e"
             ],
             [
              0.4444444444444444,
              "#bd3786"
             ],
             [
              0.5555555555555556,
              "#d8576b"
             ],
             [
              0.6666666666666666,
              "#ed7953"
             ],
             [
              0.7777777777777778,
              "#fb9f3a"
             ],
             [
              0.8888888888888888,
              "#fdca26"
             ],
             [
              1,
              "#f0f921"
             ]
            ],
            "type": "surface"
           }
          ],
          "table": [
           {
            "cells": {
             "fill": {
              "color": "#EBF0F8"
             },
             "line": {
              "color": "white"
             }
            },
            "header": {
             "fill": {
              "color": "#C8D4E3"
             },
             "line": {
              "color": "white"
             }
            },
            "type": "table"
           }
          ]
         },
         "layout": {
          "annotationdefaults": {
           "arrowcolor": "#2a3f5f",
           "arrowhead": 0,
           "arrowwidth": 1
          },
          "autotypenumbers": "strict",
          "coloraxis": {
           "colorbar": {
            "outlinewidth": 0,
            "ticks": ""
           }
          },
          "colorscale": {
           "diverging": [
            [
             0,
             "#8e0152"
            ],
            [
             0.1,
             "#c51b7d"
            ],
            [
             0.2,
             "#de77ae"
            ],
            [
             0.3,
             "#f1b6da"
            ],
            [
             0.4,
             "#fde0ef"
            ],
            [
             0.5,
             "#f7f7f7"
            ],
            [
             0.6,
             "#e6f5d0"
            ],
            [
             0.7,
             "#b8e186"
            ],
            [
             0.8,
             "#7fbc41"
            ],
            [
             0.9,
             "#4d9221"
            ],
            [
             1,
             "#276419"
            ]
           ],
           "sequential": [
            [
             0,
             "#0d0887"
            ],
            [
             0.1111111111111111,
             "#46039f"
            ],
            [
             0.2222222222222222,
             "#7201a8"
            ],
            [
             0.3333333333333333,
             "#9c179e"
            ],
            [
             0.4444444444444444,
             "#bd3786"
            ],
            [
             0.5555555555555556,
             "#d8576b"
            ],
            [
             0.6666666666666666,
             "#ed7953"
            ],
            [
             0.7777777777777778,
             "#fb9f3a"
            ],
            [
             0.8888888888888888,
             "#fdca26"
            ],
            [
             1,
             "#f0f921"
            ]
           ],
           "sequentialminus": [
            [
             0,
             "#0d0887"
            ],
            [
             0.1111111111111111,
             "#46039f"
            ],
            [
             0.2222222222222222,
             "#7201a8"
            ],
            [
             0.3333333333333333,
             "#9c179e"
            ],
            [
             0.4444444444444444,
             "#bd3786"
            ],
            [
             0.5555555555555556,
             "#d8576b"
            ],
            [
             0.6666666666666666,
             "#ed7953"
            ],
            [
             0.7777777777777778,
             "#fb9f3a"
            ],
            [
             0.8888888888888888,
             "#fdca26"
            ],
            [
             1,
             "#f0f921"
            ]
           ]
          },
          "colorway": [
           "#636efa",
           "#EF553B",
           "#00cc96",
           "#ab63fa",
           "#FFA15A",
           "#19d3f3",
           "#FF6692",
           "#B6E880",
           "#FF97FF",
           "#FECB52"
          ],
          "font": {
           "color": "#2a3f5f"
          },
          "geo": {
           "bgcolor": "white",
           "lakecolor": "white",
           "landcolor": "#E5ECF6",
           "showlakes": true,
           "showland": true,
           "subunitcolor": "white"
          },
          "hoverlabel": {
           "align": "left"
          },
          "hovermode": "closest",
          "mapbox": {
           "style": "light"
          },
          "paper_bgcolor": "white",
          "plot_bgcolor": "#E5ECF6",
          "polar": {
           "angularaxis": {
            "gridcolor": "white",
            "linecolor": "white",
            "ticks": ""
           },
           "bgcolor": "#E5ECF6",
           "radialaxis": {
            "gridcolor": "white",
            "linecolor": "white",
            "ticks": ""
           }
          },
          "scene": {
           "xaxis": {
            "backgroundcolor": "#E5ECF6",
            "gridcolor": "white",
            "gridwidth": 2,
            "linecolor": "white",
            "showbackground": true,
            "ticks": "",
            "zerolinecolor": "white"
           },
           "yaxis": {
            "backgroundcolor": "#E5ECF6",
            "gridcolor": "white",
            "gridwidth": 2,
            "linecolor": "white",
            "showbackground": true,
            "ticks": "",
            "zerolinecolor": "white"
           },
           "zaxis": {
            "backgroundcolor": "#E5ECF6",
            "gridcolor": "white",
            "gridwidth": 2,
            "linecolor": "white",
            "showbackground": true,
            "ticks": "",
            "zerolinecolor": "white"
           }
          },
          "shapedefaults": {
           "line": {
            "color": "#2a3f5f"
           }
          },
          "ternary": {
           "aaxis": {
            "gridcolor": "white",
            "linecolor": "white",
            "ticks": ""
           },
           "baxis": {
            "gridcolor": "white",
            "linecolor": "white",
            "ticks": ""
           },
           "bgcolor": "#E5ECF6",
           "caxis": {
            "gridcolor": "white",
            "linecolor": "white",
            "ticks": ""
           }
          },
          "title": {
           "x": 0.05
          },
          "xaxis": {
           "automargin": true,
           "gridcolor": "white",
           "linecolor": "white",
           "ticks": "",
           "title": {
            "standoff": 15
           },
           "zerolinecolor": "white",
           "zerolinewidth": 2
          },
          "yaxis": {
           "automargin": true,
           "gridcolor": "white",
           "linecolor": "white",
           "ticks": "",
           "title": {
            "standoff": 15
           },
           "zerolinecolor": "white",
           "zerolinewidth": 2
          }
         }
        },
        "title": {
         "text": "Box plot of radius_mean by Diagnosis"
        },
        "width": 600,
        "xaxis": {
         "anchor": "y",
         "domain": [
          0,
          1
         ],
         "gridcolor": "lightgray",
         "gridwidth": 1,
         "linecolor": "darkgray",
         "showgrid": true,
         "showline": true,
         "title": {
          "text": "radius_mean"
         }
        },
        "xaxis2": {
         "anchor": "y2",
         "domain": [
          0,
          1
         ],
         "matches": "x",
         "showgrid": true,
         "showticklabels": false
        },
        "yaxis": {
         "anchor": "x",
         "domain": [
          0,
          0.7326
         ],
         "gridcolor": "lightgray",
         "gridwidth": 1,
         "linecolor": "darkgray",
         "showgrid": true,
         "showline": true,
         "title": {
          "text": "count"
         }
        },
        "yaxis2": {
         "anchor": "x2",
         "domain": [
          0.7426,
          1
         ],
         "matches": "y2",
         "showgrid": false,
         "showline": false,
         "showticklabels": false,
         "ticks": ""
        }
       }
      }
     },
     "metadata": {},
     "output_type": "display_data"
    },
    {
     "data": {
      "application/vnd.plotly.v1+json": {
       "config": {
        "plotlyServerURL": "https://plot.ly"
       },
       "data": [
        {
         "bingroup": "x",
         "hovertemplate": "diagnosis=1<br>texture_mean=%{x}<br>count=%{y}<extra></extra>",
         "legendgroup": "1",
         "marker": {
          "color": "#ee8ef5",
          "pattern": {
           "shape": ""
          }
         },
         "name": "1",
         "orientation": "v",
         "showlegend": true,
         "type": "histogram",
         "x": {
          "bdata": "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",
          "dtype": "f8"
         },
         "xaxis": "x",
         "yaxis": "y"
        },
        {
         "hovertemplate": "diagnosis=1<br>texture_mean=%{x}<extra></extra>",
         "legendgroup": "1",
         "marker": {
          "color": "#ee8ef5"
         },
         "name": "1",
         "notched": true,
         "showlegend": false,
         "type": "box",
         "x": {
          "bdata": "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",
          "dtype": "f8"
         },
         "xaxis": "x2",
         "yaxis": "y2"
        },
        {
         "bingroup": "x",
         "hovertemplate": "diagnosis=0<br>texture_mean=%{x}<br>count=%{y}<extra></extra>",
         "legendgroup": "0",
         "marker": {
          "color": "rgb(50, 80, 168)",
          "pattern": {
           "shape": ""
          }
         },
         "name": "0",
         "orientation": "v",
         "showlegend": true,
         "type": "histogram",
         "x": {
          "bdata": "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",
          "dtype": "f8"
         },
         "xaxis": "x",
         "yaxis": "y"
        },
        {
         "hovertemplate": "diagnosis=0<br>texture_mean=%{x}<extra></extra>",
         "legendgroup": "0",
         "marker": {
          "color": "rgb(50, 80, 168)"
         },
         "name": "0",
         "notched": true,
         "showlegend": false,
         "type": "box",
         "x": {
          "bdata": "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",
          "dtype": "f8"
         },
         "xaxis": "x2",
         "yaxis": "y2"
        }
       ],
       "layout": {
        "barmode": "relative",
        "font": {
         "color": "darkblue",
         "family": "Arial, Courier New, monospace",
         "size": 12
        },
        "height": 400,
        "legend": {
         "title": {
          "text": "diagnosis"
         },
         "tracegroupgap": 0
        },
        "margin": {
         "t": 60
        },
        "plot_bgcolor": "white",
        "template": {
         "data": {
          "bar": [
           {
            "error_x": {
             "color": "#2a3f5f"
            },
            "error_y": {
             "color": "#2a3f5f"
            },
            "marker": {
             "line": {
              "color": "#E5ECF6",
              "width": 0.5
             },
             "pattern": {
              "fillmode": "overlay",
              "size": 10,
              "solidity": 0.2
             }
            },
            "type": "bar"
           }
          ],
          "barpolar": [
           {
            "marker": {
             "line": {
              "color": "#E5ECF6",
              "width": 0.5
             },
             "pattern": {
              "fillmode": "overlay",
              "size": 10,
              "solidity": 0.2
             }
            },
            "type": "barpolar"
           }
          ],
          "carpet": [
           {
            "aaxis": {
             "endlinecolor": "#2a3f5f",
             "gridcolor": "white",
             "linecolor": "white",
             "minorgridcolor": "white",
             "startlinecolor": "#2a3f5f"
            },
            "baxis": {
             "endlinecolor": "#2a3f5f",
             "gridcolor": "white",
             "linecolor": "white",
             "minorgridcolor": "white",
             "startlinecolor": "#2a3f5f"
            },
            "type": "carpet"
           }
          ],
          "choropleth": [
           {
            "colorbar": {
             "outlinewidth": 0,
             "ticks": ""
            },
            "type": "choropleth"
           }
          ],
          "contour": [
           {
            "colorbar": {
             "outlinewidth": 0,
             "ticks": ""
            },
            "colorscale": [
             [
              0,
              "#0d0887"
             ],
             [
              0.1111111111111111,
              "#46039f"
             ],
             [
              0.2222222222222222,
              "#7201a8"
             ],
             [
              0.3333333333333333,
              "#9c179e"
             ],
             [
              0.4444444444444444,
              "#bd3786"
             ],
             [
              0.5555555555555556,
              "#d8576b"
             ],
             [
              0.6666666666666666,
              "#ed7953"
             ],
             [
              0.7777777777777778,
              "#fb9f3a"
             ],
             [
              0.8888888888888888,
              "#fdca26"
             ],
             [
              1,
              "#f0f921"
             ]
            ],
            "type": "contour"
           }
          ],
          "contourcarpet": [
           {
            "colorbar": {
             "outlinewidth": 0,
             "ticks": ""
            },
            "type": "contourcarpet"
           }
          ],
          "heatmap": [
           {
            "colorbar": {
             "outlinewidth": 0,
             "ticks": ""
            },
            "colorscale": [
             [
              0,
              "#0d0887"
             ],
             [
              0.1111111111111111,
              "#46039f"
             ],
             [
              0.2222222222222222,
              "#7201a8"
             ],
             [
              0.3333333333333333,
              "#9c179e"
             ],
             [
              0.4444444444444444,
              "#bd3786"
             ],
             [
              0.5555555555555556,
              "#d8576b"
             ],
             [
              0.6666666666666666,
              "#ed7953"
             ],
             [
              0.7777777777777778,
              "#fb9f3a"
             ],
             [
              0.8888888888888888,
              "#fdca26"
             ],
             [
              1,
              "#f0f921"
             ]
            ],
            "type": "heatmap"
           }
          ],
          "histogram": [
           {
            "marker": {
             "pattern": {
              "fillmode": "overlay",
              "size": 10,
              "solidity": 0.2
             }
            },
            "type": "histogram"
           }
          ],
          "histogram2d": [
           {
            "colorbar": {
             "outlinewidth": 0,
             "ticks": ""
            },
            "colorscale": [
             [
              0,
              "#0d0887"
             ],
             [
              0.1111111111111111,
              "#46039f"
             ],
             [
              0.2222222222222222,
              "#7201a8"
             ],
             [
              0.3333333333333333,
              "#9c179e"
             ],
             [
              0.4444444444444444,
              "#bd3786"
             ],
             [
              0.5555555555555556,
              "#d8576b"
             ],
             [
              0.6666666666666666,
              "#ed7953"
             ],
             [
              0.7777777777777778,
              "#fb9f3a"
             ],
             [
              0.8888888888888888,
              "#fdca26"
             ],
             [
              1,
              "#f0f921"
             ]
            ],
            "type": "histogram2d"
           }
          ],
          "histogram2dcontour": [
           {
            "colorbar": {
             "outlinewidth": 0,
             "ticks": ""
            },
            "colorscale": [
             [
              0,
              "#0d0887"
             ],
             [
              0.1111111111111111,
              "#46039f"
             ],
             [
              0.2222222222222222,
              "#7201a8"
             ],
             [
              0.3333333333333333,
              "#9c179e"
             ],
             [
              0.4444444444444444,
              "#bd3786"
             ],
             [
              0.5555555555555556,
              "#d8576b"
             ],
             [
              0.6666666666666666,
              "#ed7953"
             ],
             [
              0.7777777777777778,
              "#fb9f3a"
             ],
             [
              0.8888888888888888,
              "#fdca26"
             ],
             [
              1,
              "#f0f921"
             ]
            ],
            "type": "histogram2dcontour"
           }
          ],
          "mesh3d": [
           {
            "colorbar": {
             "outlinewidth": 0,
             "ticks": ""
            },
            "type": "mesh3d"
           }
          ],
          "parcoords": [
           {
            "line": {
             "colorbar": {
              "outlinewidth": 0,
              "ticks": ""
             }
            },
            "type": "parcoords"
           }
          ],
          "pie": [
           {
            "automargin": true,
            "type": "pie"
           }
          ],
          "scatter": [
           {
            "fillpattern": {
             "fillmode": "overlay",
             "size": 10,
             "solidity": 0.2
            },
            "type": "scatter"
           }
          ],
          "scatter3d": [
           {
            "line": {
             "colorbar": {
              "outlinewidth": 0,
              "ticks": ""
             }
            },
            "marker": {
             "colorbar": {
              "outlinewidth": 0,
              "ticks": ""
             }
            },
            "type": "scatter3d"
           }
          ],
          "scattercarpet": [
           {
            "marker": {
             "colorbar": {
              "outlinewidth": 0,
              "ticks": ""
             }
            },
            "type": "scattercarpet"
           }
          ],
          "scattergeo": [
           {
            "marker": {
             "colorbar": {
              "outlinewidth": 0,
              "ticks": ""
             }
            },
            "type": "scattergeo"
           }
          ],
          "scattergl": [
           {
            "marker": {
             "colorbar": {
              "outlinewidth": 0,
              "ticks": ""
             }
            },
            "type": "scattergl"
           }
          ],
          "scattermap": [
           {
            "marker": {
             "colorbar": {
              "outlinewidth": 0,
              "ticks": ""
             }
            },
            "type": "scattermap"
           }
          ],
          "scattermapbox": [
           {
            "marker": {
             "colorbar": {
              "outlinewidth": 0,
              "ticks": ""
             }
            },
            "type": "scattermapbox"
           }
          ],
          "scatterpolar": [
           {
            "marker": {
             "colorbar": {
              "outlinewidth": 0,
              "ticks": ""
             }
            },
            "type": "scatterpolar"
           }
          ],
          "scatterpolargl": [
           {
            "marker": {
             "colorbar": {
              "outlinewidth": 0,
              "ticks": ""
             }
            },
            "type": "scatterpolargl"
           }
          ],
          "scatterternary": [
           {
            "marker": {
             "colorbar": {
              "outlinewidth": 0,
              "ticks": ""
             }
            },
            "type": "scatterternary"
           }
          ],
          "surface": [
           {
            "colorbar": {
             "outlinewidth": 0,
             "ticks": ""
            },
            "colorscale": [
             [
              0,
              "#0d0887"
             ],
             [
              0.1111111111111111,
              "#46039f"
             ],
             [
              0.2222222222222222,
              "#7201a8"
             ],
             [
              0.3333333333333333,
              "#9c179e"
             ],
             [
              0.4444444444444444,
              "#bd3786"
             ],
             [
              0.5555555555555556,
              "#d8576b"
             ],
             [
              0.6666666666666666,
              "#ed7953"
             ],
             [
              0.7777777777777778,
              "#fb9f3a"
             ],
             [
              0.8888888888888888,
              "#fdca26"
             ],
             [
              1,
              "#f0f921"
             ]
            ],
            "type": "surface"
           }
          ],
          "table": [
           {
            "cells": {
             "fill": {
              "color": "#EBF0F8"
             },
             "line": {
              "color": "white"
             }
            },
            "header": {
             "fill": {
              "color": "#C8D4E3"
             },
             "line": {
              "color": "white"
             }
            },
            "type": "table"
           }
          ]
         },
         "layout": {
          "annotationdefaults": {
           "arrowcolor": "#2a3f5f",
           "arrowhead": 0,
           "arrowwidth": 1
          },
          "autotypenumbers": "strict",
          "coloraxis": {
           "colorbar": {
            "outlinewidth": 0,
            "ticks": ""
           }
          },
          "colorscale": {
           "diverging": [
            [
             0,
             "#8e0152"
            ],
            [
             0.1,
             "#c51b7d"
            ],
            [
             0.2,
             "#de77ae"
            ],
            [
             0.3,
             "#f1b6da"
            ],
            [
             0.4,
             "#fde0ef"
            ],
            [
             0.5,
             "#f7f7f7"
            ],
            [
             0.6,
             "#e6f5d0"
            ],
            [
             0.7,
             "#b8e186"
            ],
            [
             0.8,
             "#7fbc41"
            ],
            [
             0.9,
             "#4d9221"
            ],
            [
             1,
             "#276419"
            ]
           ],
           "sequential": [
            [
             0,
             "#0d0887"
            ],
            [
             0.1111111111111111,
             "#46039f"
            ],
            [
             0.2222222222222222,
             "#7201a8"
            ],
            [
             0.3333333333333333,
             "#9c179e"
            ],
            [
             0.4444444444444444,
             "#bd3786"
            ],
            [
             0.5555555555555556,
             "#d8576b"
            ],
            [
             0.6666666666666666,
             "#ed7953"
            ],
            [
             0.7777777777777778,
             "#fb9f3a"
            ],
            [
             0.8888888888888888,
             "#fdca26"
            ],
            [
             1,
             "#f0f921"
            ]
           ],
           "sequentialminus": [
            [
             0,
             "#0d0887"
            ],
            [
             0.1111111111111111,
             "#46039f"
            ],
            [
             0.2222222222222222,
             "#7201a8"
            ],
            [
             0.3333333333333333,
             "#9c179e"
            ],
            [
             0.4444444444444444,
             "#bd3786"
            ],
            [
             0.5555555555555556,
             "#d8576b"
            ],
            [
             0.6666666666666666,
             "#ed7953"
            ],
            [
             0.7777777777777778,
             "#fb9f3a"
            ],
            [
             0.8888888888888888,
             "#fdca26"
            ],
            [
             1,
             "#f0f921"
            ]
           ]
          },
          "colorway": [
           "#636efa",
           "#EF553B",
           "#00cc96",
           "#ab63fa",
           "#FFA15A",
           "#19d3f3",
           "#FF6692",
           "#B6E880",
           "#FF97FF",
           "#FECB52"
          ],
          "font": {
           "color": "#2a3f5f"
          },
          "geo": {
           "bgcolor": "white",
           "lakecolor": "white",
           "landcolor": "#E5ECF6",
           "showlakes": true,
           "showland": true,
           "subunitcolor": "white"
          },
          "hoverlabel": {
           "align": "left"
          },
          "hovermode": "closest",
          "mapbox": {
           "style": "light"
          },
          "paper_bgcolor": "white",
          "plot_bgcolor": "#E5ECF6",
          "polar": {
           "angularaxis": {
            "gridcolor": "white",
            "linecolor": "white",
            "ticks": ""
           },
           "bgcolor": "#E5ECF6",
           "radialaxis": {
            "gridcolor": "white",
            "linecolor": "white",
            "ticks": ""
           }
          },
          "scene": {
           "xaxis": {
            "backgroundcolor": "#E5ECF6",
            "gridcolor": "white",
            "gridwidth": 2,
            "linecolor": "white",
            "showbackground": true,
            "ticks": "",
            "zerolinecolor": "white"
           },
           "yaxis": {
            "backgroundcolor": "#E5ECF6",
            "gridcolor": "white",
            "gridwidth": 2,
            "linecolor": "white",
            "showbackground": true,
            "ticks": "",
            "zerolinecolor": "white"
           },
           "zaxis": {
            "backgroundcolor": "#E5ECF6",
            "gridcolor": "white",
            "gridwidth": 2,
            "linecolor": "white",
            "showbackground": true,
            "ticks": "",
            "zerolinecolor": "white"
           }
          },
          "shapedefaults": {
           "line": {
            "color": "#2a3f5f"
           }
          },
          "ternary": {
           "aaxis": {
            "gridcolor": "white",
            "linecolor": "white",
            "ticks": ""
           },
           "baxis": {
            "gridcolor": "white",
            "linecolor": "white",
            "ticks": ""
           },
           "bgcolor": "#E5ECF6",
           "caxis": {
            "gridcolor": "white",
            "linecolor": "white",
            "ticks": ""
           }
          },
          "title": {
           "x": 0.05
          },
          "xaxis": {
           "automargin": true,
           "gridcolor": "white",
           "linecolor": "white",
           "ticks": "",
           "title": {
            "standoff": 15
           },
           "zerolinecolor": "white",
           "zerolinewidth": 2
          },
          "yaxis": {
           "automargin": true,
           "gridcolor": "white",
           "linecolor": "white",
           "ticks": "",
           "title": {
            "standoff": 15
           },
           "zerolinecolor": "white",
           "zerolinewidth": 2
          }
         }
        },
        "title": {
         "text": "Box plot of texture_mean by Diagnosis"
        },
        "width": 600,
        "xaxis": {
         "anchor": "y",
         "domain": [
          0,
          1
         ],
         "gridcolor": "lightgray",
         "gridwidth": 1,
         "linecolor": "darkgray",
         "showgrid": true,
         "showline": true,
         "title": {
          "text": "texture_mean"
         }
        },
        "xaxis2": {
         "anchor": "y2",
         "domain": [
          0,
          1
         ],
         "matches": "x",
         "showgrid": true,
         "showticklabels": false
        },
        "yaxis": {
         "anchor": "x",
         "domain": [
          0,
          0.7326
         ],
         "gridcolor": "lightgray",
         "gridwidth": 1,
         "linecolor": "darkgray",
         "showgrid": true,
         "showline": true,
         "title": {
          "text": "count"
         }
        },
        "yaxis2": {
         "anchor": "x2",
         "domain": [
          0.7426,
          1
         ],
         "matches": "y2",
         "showgrid": false,
         "showline": false,
         "showticklabels": false,
         "ticks": ""
        }
       }
      }
     },
     "metadata": {},
     "output_type": "display_data"
    },
    {
     "data": {
      "application/vnd.plotly.v1+json": {
       "config": {
        "plotlyServerURL": "https://plot.ly"
       },
       "data": [
        {
         "bingroup": "x",
         "hovertemplate": "diagnosis=1<br>perimeter_mean=%{x}<br>count=%{y}<extra></extra>",
         "legendgroup": "1",
         "marker": {
          "color": "#ee8ef5",
          "pattern": {
           "shape": ""
          }
         },
         "name": "1",
         "orientation": "v",
         "showlegend": true,
         "type": "histogram",
         "x": {
          "bdata": "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",
          "dtype": "f8"
         },
         "xaxis": "x",
         "yaxis": "y"
        },
        {
         "hovertemplate": "diagnosis=1<br>perimeter_mean=%{x}<extra></extra>",
         "legendgroup": "1",
         "marker": {
          "color": "#ee8ef5"
         },
         "name": "1",
         "notched": true,
         "showlegend": false,
         "type": "box",
         "x": {
          "bdata": "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",
          "dtype": "f8"
         },
         "xaxis": "x2",
         "yaxis": "y2"
        },
        {
         "bingroup": "x",
         "hovertemplate": "diagnosis=0<br>perimeter_mean=%{x}<br>count=%{y}<extra></extra>",
         "legendgroup": "0",
         "marker": {
          "color": "rgb(50, 80, 168)",
          "pattern": {
           "shape": ""
          }
         },
         "name": "0",
         "orientation": "v",
         "showlegend": true,
         "type": "histogram",
         "x": {
          "bdata": "PQrXo3DdVUC4HoXrUWhVQOxRuB6FK05A16NwPQqnVEB7FK5H4dpJQMP1KFyPglNACtejcD26VUCuR+F6FK5SQD0K16NwzVVAPQrXo3DtUkD2KFyPwlVSQNejcD0Kp1RA7FG4HoUrS0AzMzMzMyNQQBSuR+F6VEtAmpmZmZmZTUCuR+F6FA5OQDMzMzMz81FAhetRuB5lTUBI4XoUrldUQIXrUbgeZU1AXI/C9SjMU0AK16NwPfpVQFyPwvUozFRApHA9CtdzUkCPwvUoXJ9VQM3MzMzMPFNAUrgehevxU0DhehSuR/FXQBSuR+F6pFdAj8L1KFwvVUBmZmZmZqZVQMP1KFyPclNArkfhehQOT0D2KFyPwpVSQIXrUbge5UVArkfhehROU0CamZmZmflPQArXo3A92lBAexSuR+HKUkBxPQrXo8BTQB+F61G4HlJAAAAAAABAT0CamZmZmYlUQIXrUbgedVhAKVyPwvUoUUDsUbgehetLQFK4HoXrIVNAH4XrUbheTUD2KFyPwlVSQFK4HoXrkVdAZmZmZmaGVUBcj8L1KBxWQIXrUbge5VhAhetRuB7FU0AAAAAAAIBZQK5H4XoUrlJApHA9CtdDUkAAAAAAAEBSQB+F61G4nk5ACtejcD1qUkCPwvUoXO9UQHE9CtejEFFA16NwPQqHU0D2KFyPwnVYQK5H4XoUfldASOF6FK4HVkBxPQrXo+BUQMP1KFyPokpApHA9CtfjT0BI4XoUrrdRQKRwPQrXU1VA4XoUrkeRU0CamZmZmRlbQPYoXI/CNVNAXI/C9SgsUUBmZmZmZgZTQGZmZmZm9lNAAAAAAADgV0DhehSuRzFRQK5H4XoUDlhAZmZmZma2U0A9CtejcI1RQI/C9Shc31BA9ihcj8I1S0BmZmZmZiZQQHE9CtejgFRAw/UoXI9SVEBSuB6F62FSQOF6FK5H4U9A7FG4HoWrUkDhehSuR9FSQIXrUbgetVNA4XoUrkeBVEA9CtejcF1OQFK4HoXroVRAw/UoXI+iU0D2KFyPwkVUQPYoXI/CdU9A4XoUrkfBVUB7FK5H4YpYQHE9Ctej4FJAFK5H4XpUU0AzMzMzM0NQQLgehetR+FVA9ihcj8IlVkBI4XoUrkdQQDMzMzMzI1VAcT0K16MgV0BI4XoUrqdQQM3MzMzMXFhAZmZmZmZWVEBxPQrXo/BRQMP1KFyPslFAexSuR+EaTkDD9Shcj3JWQDMzMzMzI1dAuB6F61HYVUDXo3A9CqdTQOxRuB6Fe1JAw/UoXI8iVkCuR+F6FK5QQLgehetRCFVAzczMzMw8VUBxPQrXowBRQEjhehSud1JAUrgehetRUkBSuB6F61FRQArXo3A9ylVAuB6F61GYVEAAAAAAAGBRQDMzMzMzk1ZAH4XrUbgOUkAAAAAAAMBOQM3MzMzMDFNAw/UoXI/yUUCPwvUoXI9VQI/C9ShcP1ZAj8L1KFyPUkCF61G4HgVVQIXrUbge9VNASOF6FK53U0ApXI/C9XhUQK5H4XoUblJAexSuR+EKUkBSuB6F6wFYQFK4HoXrQVhAKVyPwvXIVEDD9Shcj+JSQFK4HoXrcVRApHA9CtcDVkApXI/C9UhRQK5H4XoUzlZAZmZmZma2UEDsUbgehRtUQNejcD0Kt1BA9ihcj8JlUkAfhetRuI5SQBSuR+F6BFVArkfhehQuTEBcj8L1KGxVQD0K16NwrVRAhetRuB6VUkDsUbgehStXQMP1KFyPklRAH4XrUbhuUkDsUbgehQtLQFyPwvUozFNAAAAAAABQU0ApXI/C9QhOQGZmZmZmplNA4XoUrkehUEAUrkfherRUQHE9CtejgFNAAAAAAABQVEBSuB6F64FWQPYoXI/CBVNA4XoUrkchVUBcj8L1KPxRQLgehetR2FFAuB6F61F4U0CF61G4HgVVQArXo3A9GlBAmpmZmZmJV0BSuB6F69FOQI/C9Shc31FAUrgehevBUkDNzMzMzIxQQArXo3A9KlNASOF6FK63V0DhehSuR0FSQB+F61G4TlNAzczMzMxsUkCPwvUoXM9RQHsUrkfhelRA9ihcj8JFVUDhehSuRyFWQB+F61G4XkxAKVyPwvXoTUB7FK5H4dpTQI/C9ShcT1VASOF6FK53VEBmZmZmZqZaQB+F61G4XlVApHA9CteTU0CamZmZmWlYQPYoXI/C9VVAMzMzMzOTWkCamZmZmYlRQClcj8L1eFVA4XoUrkcRVkAK16NwPUpSQHsUrkfhqlFAAAAAAACwU0ApXI/C9ShUQMP1KFyPclVAUrgeheuxU0BI4XoUrhdWQLgehetRWFJAAAAAAABwUEDD9Shcj6JLQBSuR+F6hFNAAAAAAABwVkBmZmZmZgZWQDMzMzMzw1RApHA9CteTUUBxPQrXo9BSQClcj8L1CFNA7FG4HoULVUDsUbgehctUQMP1KFyPklNAKVyPwvWYUUAzMzMzMxNaQLgehetRqFRACtejcD2aU0CPwvUoXB9SQHsUrkfhulFAAAAAAADgTUBSuB6F62FYQClcj8L1GFNAzczMzMzMTUC4HoXrUThUQM3MzMzMvFFAzczMzMyMUkCuR+F6FI5YQD0K16Nw3VJAPQrXo3BdVkDXo3A9CvdOQLgehetRmE9Aj8L1KFzfUEDD9ShcjzJRQK5H4XoUnlFAH4XrUbg+VECuR+F6FF5UQClcj8L1uFdAexSuR+GqVEBSuB6F63FWQOxRuB6FK1ZA9ihcj8JlVkAfhetRuO5RQEjhehSuF1ZAFK5H4Xq0UEDXo3A9CmdTQLgehetR+FdAAAAAAACQV0CF61G4HjVTQOF6FK5HMVNA16NwPQp3V0BI4XoUridUQPYoXI/ClVVASOF6FK63UkBmZmZmZgZVQNejcD0Kp1RA16NwPQrXTkAAAAAAABBXQLgehetReFJAUrgehesRVUBI4XoUrrdVQB+F61G4flVASOF6FK6HTkC4HoXrURhTQB+F61G4vk5AZmZmZmY2U0DNzMzMzBxYQHsUrkfhWlNACtejcD2aUUApXI/C9bhUQArXo3A9GldArkfhehQ+VkCPwvUoXH9SQMP1KFyPklNAH4XrUbguVkAUrkfhetRVQHE9Ctej8FVAMzMzMzOzWUBmZmZmZrZUQD0K16NwjVdAj8L1KFzfUkDsUbgehYtTQGZmZmZmplxAhetRuB61U0CkcD0K1wNVQEjhehSuB1hAXI/C9SisVEDNzMzMzBxUQB+F61G4rlhAAAAAAABQVEAfhetRuL5OQEjhehSuB1BArkfhehTeU0AAAAAAANBRQM3MzMzMLFpApHA9CtcTU0AK16NwPapXQMP1KFyPkldAcT0K16MwUkDNzMzMzBxVQHE9CtejoFRAexSuR+H6TUAzMzMzM9NRQB+F61G4LlZAAAAAAACAT0CkcD0K10NLQFyPwvUo3FVAXI/C9Si8U0CkcD0K15NWQIXrUbgedVNAKVyPwvX4UkA9CtejcM1SQHE9Ctej8FVAw/UoXI+yUUBI4XoUrhdTQD0K16Nw/UdA7FG4HoUrSECamZmZmalSQKRwPQrX81dAzczMzMysV0C4HoXrUThVQOF6FK5HcVZAXI/C9SjMVUCkcD0K11NQQGZmZmZmdlBAZmZmZmaGTkApXI/C9ThRQHE9CtejIFFAj8L1KFzfUUBmZmZmZlZUQOF6FK5HgU1AAAAAAACgVEB7FK5H4WpQQB+F61G4LlBA4XoUrkehTUApXI/C9RhYQOF6FK5HoVJAuB6F61HYVkB7FK5H4apRQPYoXI/C9UdA",
          "dtype": "f8"
         },
         "xaxis": "x",
         "yaxis": "y"
        },
        {
         "hovertemplate": "diagnosis=0<br>perimeter_mean=%{x}<extra></extra>",
         "legendgroup": "0",
         "marker": {
          "color": "rgb(50, 80, 168)"
         },
         "name": "0",
         "notched": true,
         "showlegend": false,
         "type": "box",
         "x": {
          "bdata": "PQrXo3DdVUC4HoXrUWhVQOxRuB6FK05A16NwPQqnVEB7FK5H4dpJQMP1KFyPglNACtejcD26VUCuR+F6FK5SQD0K16NwzVVAPQrXo3DtUkD2KFyPwlVSQNejcD0Kp1RA7FG4HoUrS0AzMzMzMyNQQBSuR+F6VEtAmpmZmZmZTUCuR+F6FA5OQDMzMzMz81FAhetRuB5lTUBI4XoUrldUQIXrUbgeZU1AXI/C9SjMU0AK16NwPfpVQFyPwvUozFRApHA9CtdzUkCPwvUoXJ9VQM3MzMzMPFNAUrgehevxU0DhehSuR/FXQBSuR+F6pFdAj8L1KFwvVUBmZmZmZqZVQMP1KFyPclNArkfhehQOT0D2KFyPwpVSQIXrUbge5UVArkfhehROU0CamZmZmflPQArXo3A92lBAexSuR+HKUkBxPQrXo8BTQB+F61G4HlJAAAAAAABAT0CamZmZmYlUQIXrUbgedVhAKVyPwvUoUUDsUbgehetLQFK4HoXrIVNAH4XrUbheTUD2KFyPwlVSQFK4HoXrkVdAZmZmZmaGVUBcj8L1KBxWQIXrUbge5VhAhetRuB7FU0AAAAAAAIBZQK5H4XoUrlJApHA9CtdDUkAAAAAAAEBSQB+F61G4nk5ACtejcD1qUkCPwvUoXO9UQHE9CtejEFFA16NwPQqHU0D2KFyPwnVYQK5H4XoUfldASOF6FK4HVkBxPQrXo+BUQMP1KFyPokpApHA9CtfjT0BI4XoUrrdRQKRwPQrXU1VA4XoUrkeRU0CamZmZmRlbQPYoXI/CNVNAXI/C9SgsUUBmZmZmZgZTQGZmZmZm9lNAAAAAAADgV0DhehSuRzFRQK5H4XoUDlhAZmZmZma2U0A9CtejcI1RQI/C9Shc31BA9ihcj8I1S0BmZmZmZiZQQHE9CtejgFRAw/UoXI9SVEBSuB6F62FSQOF6FK5H4U9A7FG4HoWrUkDhehSuR9FSQIXrUbgetVNA4XoUrkeBVEA9CtejcF1OQFK4HoXroVRAw/UoXI+iU0D2KFyPwkVUQPYoXI/CdU9A4XoUrkfBVUB7FK5H4YpYQHE9Ctej4FJAFK5H4XpUU0AzMzMzM0NQQLgehetR+FVA9ihcj8IlVkBI4XoUrkdQQDMzMzMzI1VAcT0K16MgV0BI4XoUrqdQQM3MzMzMXFhAZmZmZmZWVEBxPQrXo/BRQMP1KFyPslFAexSuR+EaTkDD9Shcj3JWQDMzMzMzI1dAuB6F61HYVUDXo3A9CqdTQOxRuB6Fe1JAw/UoXI8iVkCuR+F6FK5QQLgehetRCFVAzczMzMw8VUBxPQrXowBRQEjhehSud1JAUrgehetRUkBSuB6F61FRQArXo3A9ylVAuB6F61GYVEAAAAAAAGBRQDMzMzMzk1ZAH4XrUbgOUkAAAAAAAMBOQM3MzMzMDFNAw/UoXI/yUUCPwvUoXI9VQI/C9ShcP1ZAj8L1KFyPUkCF61G4HgVVQIXrUbge9VNASOF6FK53U0ApXI/C9XhUQK5H4XoUblJAexSuR+EKUkBSuB6F6wFYQFK4HoXrQVhAKVyPwvXIVEDD9Shcj+JSQFK4HoXrcVRApHA9CtcDVkApXI/C9UhRQK5H4XoUzlZAZmZmZma2UEDsUbgehRtUQNejcD0Kt1BA9ihcj8JlUkAfhetRuI5SQBSuR+F6BFVArkfhehQuTEBcj8L1KGxVQD0K16NwrVRAhetRuB6VUkDsUbgehStXQMP1KFyPklRAH4XrUbhuUkDsUbgehQtLQFyPwvUozFNAAAAAAABQU0ApXI/C9QhOQGZmZmZmplNA4XoUrkehUEAUrkfherRUQHE9CtejgFNAAAAAAABQVEBSuB6F64FWQPYoXI/CBVNA4XoUrkchVUBcj8L1KPxRQLgehetR2FFAuB6F61F4U0CF61G4HgVVQArXo3A9GlBAmpmZmZmJV0BSuB6F69FOQI/C9Shc31FAUrgehevBUkDNzMzMzIxQQArXo3A9KlNASOF6FK63V0DhehSuR0FSQB+F61G4TlNAzczMzMxsUkCPwvUoXM9RQHsUrkfhelRA9ihcj8JFVUDhehSuRyFWQB+F61G4XkxAKVyPwvXoTUB7FK5H4dpTQI/C9ShcT1VASOF6FK53VEBmZmZmZqZaQB+F61G4XlVApHA9CteTU0CamZmZmWlYQPYoXI/C9VVAMzMzMzOTWkCamZmZmYlRQClcj8L1eFVA4XoUrkcRVkAK16NwPUpSQHsUrkfhqlFAAAAAAACwU0ApXI/C9ShUQMP1KFyPclVAUrgeheuxU0BI4XoUrhdWQLgehetRWFJAAAAAAABwUEDD9Shcj6JLQBSuR+F6hFNAAAAAAABwVkBmZmZmZgZWQDMzMzMzw1RApHA9CteTUUBxPQrXo9BSQClcj8L1CFNA7FG4HoULVUDsUbgehctUQMP1KFyPklNAKVyPwvWYUUAzMzMzMxNaQLgehetRqFRACtejcD2aU0CPwvUoXB9SQHsUrkfhulFAAAAAAADgTUBSuB6F62FYQClcj8L1GFNAzczMzMzMTUC4HoXrUThUQM3MzMzMvFFAzczMzMyMUkCuR+F6FI5YQD0K16Nw3VJAPQrXo3BdVkDXo3A9CvdOQLgehetRmE9Aj8L1KFzfUEDD9ShcjzJRQK5H4XoUnlFAH4XrUbg+VECuR+F6FF5UQClcj8L1uFdAexSuR+GqVEBSuB6F63FWQOxRuB6FK1ZA9ihcj8JlVkAfhetRuO5RQEjhehSuF1ZAFK5H4Xq0UEDXo3A9CmdTQLgehetR+FdAAAAAAACQV0CF61G4HjVTQOF6FK5HMVNA16NwPQp3V0BI4XoUridUQPYoXI/ClVVASOF6FK63UkBmZmZmZgZVQNejcD0Kp1RA16NwPQrXTkAAAAAAABBXQLgehetReFJAUrgehesRVUBI4XoUrrdVQB+F61G4flVASOF6FK6HTkC4HoXrURhTQB+F61G4vk5AZmZmZmY2U0DNzMzMzBxYQHsUrkfhWlNACtejcD2aUUApXI/C9bhUQArXo3A9GldArkfhehQ+VkCPwvUoXH9SQMP1KFyPklNAH4XrUbguVkAUrkfhetRVQHE9Ctej8FVAMzMzMzOzWUBmZmZmZrZUQD0K16NwjVdAj8L1KFzfUkDsUbgehYtTQGZmZmZmplxAhetRuB61U0CkcD0K1wNVQEjhehSuB1hAXI/C9SisVEDNzMzMzBxUQB+F61G4rlhAAAAAAABQVEAfhetRuL5OQEjhehSuB1BArkfhehTeU0AAAAAAANBRQM3MzMzMLFpApHA9CtcTU0AK16NwPapXQMP1KFyPkldAcT0K16MwUkDNzMzMzBxVQHE9CtejoFRAexSuR+H6TUAzMzMzM9NRQB+F61G4LlZAAAAAAACAT0CkcD0K10NLQFyPwvUo3FVAXI/C9Si8U0CkcD0K15NWQIXrUbgedVNAKVyPwvX4UkA9CtejcM1SQHE9Ctej8FVAw/UoXI+yUUBI4XoUrhdTQD0K16Nw/UdA7FG4HoUrSECamZmZmalSQKRwPQrX81dAzczMzMysV0C4HoXrUThVQOF6FK5HcVZAXI/C9SjMVUCkcD0K11NQQGZmZmZmdlBAZmZmZmaGTkApXI/C9ThRQHE9CtejIFFAj8L1KFzfUUBmZmZmZlZUQOF6FK5HgU1AAAAAAACgVEB7FK5H4WpQQB+F61G4LlBA4XoUrkehTUApXI/C9RhYQOF6FK5HoVJAuB6F61HYVkB7FK5H4apRQPYoXI/C9UdA",
          "dtype": "f8"
         },
         "xaxis": "x2",
         "yaxis": "y2"
        }
       ],
       "layout": {
        "barmode": "relative",
        "font": {
         "color": "darkblue",
         "family": "Arial, Courier New, monospace",
         "size": 12
        },
        "height": 400,
        "legend": {
         "title": {
          "text": "diagnosis"
         },
         "tracegroupgap": 0
        },
        "margin": {
         "t": 60
        },
        "plot_bgcolor": "white",
        "template": {
         "data": {
          "bar": [
           {
            "error_x": {
             "color": "#2a3f5f"
            },
            "error_y": {
             "color": "#2a3f5f"
            },
            "marker": {
             "line": {
              "color": "#E5ECF6",
              "width": 0.5
             },
             "pattern": {
              "fillmode": "overlay",
              "size": 10,
              "solidity": 0.2
             }
            },
            "type": "bar"
           }
          ],
          "barpolar": [
           {
            "marker": {
             "line": {
              "color": "#E5ECF6",
              "width": 0.5
             },
             "pattern": {
              "fillmode": "overlay",
              "size": 10,
              "solidity": 0.2
             }
            },
            "type": "barpolar"
           }
          ],
          "carpet": [
           {
            "aaxis": {
             "endlinecolor": "#2a3f5f",
             "gridcolor": "white",
             "linecolor": "white",
             "minorgridcolor": "white",
             "startlinecolor": "#2a3f5f"
            },
            "baxis": {
             "endlinecolor": "#2a3f5f",
             "gridcolor": "white",
             "linecolor": "white",
             "minorgridcolor": "white",
             "startlinecolor": "#2a3f5f"
            },
            "type": "carpet"
           }
          ],
          "choropleth": [
           {
            "colorbar": {
             "outlinewidth": 0,
             "ticks": ""
            },
            "type": "choropleth"
           }
          ],
          "contour": [
           {
            "colorbar": {
             "outlinewidth": 0,
             "ticks": ""
            },
            "colorscale": [
             [
              0,
              "#0d0887"
             ],
             [
              0.1111111111111111,
              "#46039f"
             ],
             [
              0.2222222222222222,
              "#7201a8"
             ],
             [
              0.3333333333333333,
              "#9c179e"
             ],
             [
              0.4444444444444444,
              "#bd3786"
             ],
             [
              0.5555555555555556,
              "#d8576b"
             ],
             [
              0.6666666666666666,
              "#ed7953"
             ],
             [
              0.7777777777777778,
              "#fb9f3a"
             ],
             [
              0.8888888888888888,
              "#fdca26"
             ],
             [
              1,
              "#f0f921"
             ]
            ],
            "type": "contour"
           }
          ],
          "contourcarpet": [
           {
            "colorbar": {
             "outlinewidth": 0,
             "ticks": ""
            },
            "type": "contourcarpet"
           }
          ],
          "heatmap": [
           {
            "colorbar": {
             "outlinewidth": 0,
             "ticks": ""
            },
            "colorscale": [
             [
              0,
              "#0d0887"
             ],
             [
              0.1111111111111111,
              "#46039f"
             ],
             [
              0.2222222222222222,
              "#7201a8"
             ],
             [
              0.3333333333333333,
              "#9c179e"
             ],
             [
              0.4444444444444444,
              "#bd3786"
             ],
             [
              0.5555555555555556,
              "#d8576b"
             ],
             [
              0.6666666666666666,
              "#ed7953"
             ],
             [
              0.7777777777777778,
              "#fb9f3a"
             ],
             [
              0.8888888888888888,
              "#fdca26"
             ],
             [
              1,
              "#f0f921"
             ]
            ],
            "type": "heatmap"
           }
          ],
          "histogram": [
           {
            "marker": {
             "pattern": {
              "fillmode": "overlay",
              "size": 10,
              "solidity": 0.2
             }
            },
            "type": "histogram"
           }
          ],
          "histogram2d": [
           {
            "colorbar": {
             "outlinewidth": 0,
             "ticks": ""
            },
            "colorscale": [
             [
              0,
              "#0d0887"
             ],
             [
              0.1111111111111111,
              "#46039f"
             ],
             [
              0.2222222222222222,
              "#7201a8"
             ],
             [
              0.3333333333333333,
              "#9c179e"
             ],
             [
              0.4444444444444444,
              "#bd3786"
             ],
             [
              0.5555555555555556,
              "#d8576b"
             ],
             [
              0.6666666666666666,
              "#ed7953"
             ],
             [
              0.7777777777777778,
              "#fb9f3a"
             ],
             [
              0.8888888888888888,
              "#fdca26"
             ],
             [
              1,
              "#f0f921"
             ]
            ],
            "type": "histogram2d"
           }
          ],
          "histogram2dcontour": [
           {
            "colorbar": {
             "outlinewidth": 0,
             "ticks": ""
            },
            "colorscale": [
             [
              0,
              "#0d0887"
             ],
             [
              0.1111111111111111,
              "#46039f"
             ],
             [
              0.2222222222222222,
              "#7201a8"
             ],
             [
              0.3333333333333333,
              "#9c179e"
             ],
             [
              0.4444444444444444,
              "#bd3786"
             ],
             [
              0.5555555555555556,
              "#d8576b"
             ],
             [
              0.6666666666666666,
              "#ed7953"
             ],
             [
              0.7777777777777778,
              "#fb9f3a"
             ],
             [
              0.8888888888888888,
              "#fdca26"
             ],
             [
              1,
              "#f0f921"
             ]
            ],
            "type": "histogram2dcontour"
           }
          ],
          "mesh3d": [
           {
            "colorbar": {
             "outlinewidth": 0,
             "ticks": ""
            },
            "type": "mesh3d"
           }
          ],
          "parcoords": [
           {
            "line": {
             "colorbar": {
              "outlinewidth": 0,
              "ticks": ""
             }
            },
            "type": "parcoords"
           }
          ],
          "pie": [
           {
            "automargin": true,
            "type": "pie"
           }
          ],
          "scatter": [
           {
            "fillpattern": {
             "fillmode": "overlay",
             "size": 10,
             "solidity": 0.2
            },
            "type": "scatter"
           }
          ],
          "scatter3d": [
           {
            "line": {
             "colorbar": {
              "outlinewidth": 0,
              "ticks": ""
             }
            },
            "marker": {
             "colorbar": {
              "outlinewidth": 0,
              "ticks": ""
             }
            },
            "type": "scatter3d"
           }
          ],
          "scattercarpet": [
           {
            "marker": {
             "colorbar": {
              "outlinewidth": 0,
              "ticks": ""
             }
            },
            "type": "scattercarpet"
           }
          ],
          "scattergeo": [
           {
            "marker": {
             "colorbar": {
              "outlinewidth": 0,
              "ticks": ""
             }
            },
            "type": "scattergeo"
           }
          ],
          "scattergl": [
           {
            "marker": {
             "colorbar": {
              "outlinewidth": 0,
              "ticks": ""
             }
            },
            "type": "scattergl"
           }
          ],
          "scattermap": [
           {
            "marker": {
             "colorbar": {
              "outlinewidth": 0,
              "ticks": ""
             }
            },
            "type": "scattermap"
           }
          ],
          "scattermapbox": [
           {
            "marker": {
             "colorbar": {
              "outlinewidth": 0,
              "ticks": ""
             }
            },
            "type": "scattermapbox"
           }
          ],
          "scatterpolar": [
           {
            "marker": {
             "colorbar": {
              "outlinewidth": 0,
              "ticks": ""
             }
            },
            "type": "scatterpolar"
           }
          ],
          "scatterpolargl": [
           {
            "marker": {
             "colorbar": {
              "outlinewidth": 0,
              "ticks": ""
             }
            },
            "type": "scatterpolargl"
           }
          ],
          "scatterternary": [
           {
            "marker": {
             "colorbar": {
              "outlinewidth": 0,
              "ticks": ""
             }
            },
            "type": "scatterternary"
           }
          ],
          "surface": [
           {
            "colorbar": {
             "outlinewidth": 0,
             "ticks": ""
            },
            "colorscale": [
             [
              0,
              "#0d0887"
             ],
             [
              0.1111111111111111,
              "#46039f"
             ],
             [
              0.2222222222222222,
              "#7201a8"
             ],
             [
              0.3333333333333333,
              "#9c179e"
             ],
             [
              0.4444444444444444,
              "#bd3786"
             ],
             [
              0.5555555555555556,
              "#d8576b"
             ],
             [
              0.6666666666666666,
              "#ed7953"
             ],
             [
              0.7777777777777778,
              "#fb9f3a"
             ],
             [
              0.8888888888888888,
              "#fdca26"
             ],
             [
              1,
              "#f0f921"
             ]
            ],
            "type": "surface"
           }
          ],
          "table": [
           {
            "cells": {
             "fill": {
              "color": "#EBF0F8"
             },
             "line": {
              "color": "white"
             }
            },
            "header": {
             "fill": {
              "color": "#C8D4E3"
             },
             "line": {
              "color": "white"
             }
            },
            "type": "table"
           }
          ]
         },
         "layout": {
          "annotationdefaults": {
           "arrowcolor": "#2a3f5f",
           "arrowhead": 0,
           "arrowwidth": 1
          },
          "autotypenumbers": "strict",
          "coloraxis": {
           "colorbar": {
            "outlinewidth": 0,
            "ticks": ""
           }
          },
          "colorscale": {
           "diverging": [
            [
             0,
             "#8e0152"
            ],
            [
             0.1,
             "#c51b7d"
            ],
            [
             0.2,
             "#de77ae"
            ],
            [
             0.3,
             "#f1b6da"
            ],
            [
             0.4,
             "#fde0ef"
            ],
            [
             0.5,
             "#f7f7f7"
            ],
            [
             0.6,
             "#e6f5d0"
            ],
            [
             0.7,
             "#b8e186"
            ],
            [
             0.8,
             "#7fbc41"
            ],
            [
             0.9,
             "#4d9221"
            ],
            [
             1,
             "#276419"
            ]
           ],
           "sequential": [
            [
             0,
             "#0d0887"
            ],
            [
             0.1111111111111111,
             "#46039f"
            ],
            [
             0.2222222222222222,
             "#7201a8"
            ],
            [
             0.3333333333333333,
             "#9c179e"
            ],
            [
             0.4444444444444444,
             "#bd3786"
            ],
            [
             0.5555555555555556,
             "#d8576b"
            ],
            [
             0.6666666666666666,
             "#ed7953"
            ],
            [
             0.7777777777777778,
             "#fb9f3a"
            ],
            [
             0.8888888888888888,
             "#fdca26"
            ],
            [
             1,
             "#f0f921"
            ]
           ],
           "sequentialminus": [
            [
             0,
             "#0d0887"
            ],
            [
             0.1111111111111111,
             "#46039f"
            ],
            [
             0.2222222222222222,
             "#7201a8"
            ],
            [
             0.3333333333333333,
             "#9c179e"
            ],
            [
             0.4444444444444444,
             "#bd3786"
            ],
            [
             0.5555555555555556,
             "#d8576b"
            ],
            [
             0.6666666666666666,
             "#ed7953"
            ],
            [
             0.7777777777777778,
             "#fb9f3a"
            ],
            [
             0.8888888888888888,
             "#fdca26"
            ],
            [
             1,
             "#f0f921"
            ]
           ]
          },
          "colorway": [
           "#636efa",
           "#EF553B",
           "#00cc96",
           "#ab63fa",
           "#FFA15A",
           "#19d3f3",
           "#FF6692",
           "#B6E880",
           "#FF97FF",
           "#FECB52"
          ],
          "font": {
           "color": "#2a3f5f"
          },
          "geo": {
           "bgcolor": "white",
           "lakecolor": "white",
           "landcolor": "#E5ECF6",
           "showlakes": true,
           "showland": true,
           "subunitcolor": "white"
          },
          "hoverlabel": {
           "align": "left"
          },
          "hovermode": "closest",
          "mapbox": {
           "style": "light"
          },
          "paper_bgcolor": "white",
          "plot_bgcolor": "#E5ECF6",
          "polar": {
           "angularaxis": {
            "gridcolor": "white",
            "linecolor": "white",
            "ticks": ""
           },
           "bgcolor": "#E5ECF6",
           "radialaxis": {
            "gridcolor": "white",
            "linecolor": "white",
            "ticks": ""
           }
          },
          "scene": {
           "xaxis": {
            "backgroundcolor": "#E5ECF6",
            "gridcolor": "white",
            "gridwidth": 2,
            "linecolor": "white",
            "showbackground": true,
            "ticks": "",
            "zerolinecolor": "white"
           },
           "yaxis": {
            "backgroundcolor": "#E5ECF6",
            "gridcolor": "white",
            "gridwidth": 2,
            "linecolor": "white",
            "showbackground": true,
            "ticks": "",
            "zerolinecolor": "white"
           },
           "zaxis": {
            "backgroundcolor": "#E5ECF6",
            "gridcolor": "white",
            "gridwidth": 2,
            "linecolor": "white",
            "showbackground": true,
            "ticks": "",
            "zerolinecolor": "white"
           }
          },
          "shapedefaults": {
           "line": {
            "color": "#2a3f5f"
           }
          },
          "ternary": {
           "aaxis": {
            "gridcolor": "white",
            "linecolor": "white",
            "ticks": ""
           },
           "baxis": {
            "gridcolor": "white",
            "linecolor": "white",
            "ticks": ""
           },
           "bgcolor": "#E5ECF6",
           "caxis": {
            "gridcolor": "white",
            "linecolor": "white",
            "ticks": ""
           }
          },
          "title": {
           "x": 0.05
          },
          "xaxis": {
           "automargin": true,
           "gridcolor": "white",
           "linecolor": "white",
           "ticks": "",
           "title": {
            "standoff": 15
           },
           "zerolinecolor": "white",
           "zerolinewidth": 2
          },
          "yaxis": {
           "automargin": true,
           "gridcolor": "white",
           "linecolor": "white",
           "ticks": "",
           "title": {
            "standoff": 15
           },
           "zerolinecolor": "white",
           "zerolinewidth": 2
          }
         }
        },
        "title": {
         "text": "Box plot of perimeter_mean by Diagnosis"
        },
        "width": 600,
        "xaxis": {
         "anchor": "y",
         "domain": [
          0,
          1
         ],
         "gridcolor": "lightgray",
         "gridwidth": 1,
         "linecolor": "darkgray",
         "showgrid": true,
         "showline": true,
         "title": {
          "text": "perimeter_mean"
         }
        },
        "xaxis2": {
         "anchor": "y2",
         "domain": [
          0,
          1
         ],
         "matches": "x",
         "showgrid": true,
         "showticklabels": false
        },
        "yaxis": {
         "anchor": "x",
         "domain": [
          0,
          0.7326
         ],
         "gridcolor": "lightgray",
         "gridwidth": 1,
         "linecolor": "darkgray",
         "showgrid": true,
         "showline": true,
         "title": {
          "text": "count"
         }
        },
        "yaxis2": {
         "anchor": "x2",
         "domain": [
          0.7426,
          1
         ],
         "matches": "y2",
         "showgrid": false,
         "showline": false,
         "showticklabels": false,
         "ticks": ""
        }
       }
      }
     },
     "metadata": {},
     "output_type": "display_data"
    }
   ],
   "source": [
    "columns_to_plot = ['radius_mean', 'texture_mean', 'perimeter_mean']\n",
    "\n",
    "for column in columns_to_plot:\n",
    "    fig = px.histogram(df, x=df[column], color=\"diagnosis\", marginal=\"box\",\n",
    "                       color_discrete_map={\n",
    "                                0: 'rgb(50, 80, 168)',     \n",
    "                                1: '#ee8ef5'})\n",
    "    fig.update_layout(\n",
    "    title=dict(text=f\"Box plot of {column} by Diagnosis\"),\n",
    "    width=800,\n",
    "    height=400\n",
    "    )\n",
    "    fig.update_layout(\n",
    "    width=600,\n",
    "    height=400,\n",
    "    font=dict(\n",
    "        family=\"Arial, Courier New, monospace\",  # font family\n",
    "        size=12,                                 # font size (pixels)\n",
    "        color=\"darkblue\"                         # font color\n",
    "    )\n",
    "    )\n",
    "\n",
    "    fig.update_layout(\n",
    "        plot_bgcolor='white',\n",
    "        xaxis=dict(\n",
    "            showline=True,            # show axis line\n",
    "            linecolor='darkgray',        # axis line color\n",
    "            showgrid=True,            # show grid lines\n",
    "            gridcolor='lightgray',    # grid line color\n",
    "            gridwidth=1\n",
    "        ),\n",
    "        yaxis=dict(\n",
    "            showline=True,\n",
    "            linecolor='darkgray',\n",
    "            showgrid=True,\n",
    "            gridcolor='lightgray',\n",
    "            gridwidth=1\n",
    "        )\n",
    "    )\n",
    "    fig.show()"
   ]
  },
  {
   "cell_type": "code",
   "execution_count": 66,
   "metadata": {},
   "outputs": [
    {
     "data": {
      "application/vnd.plotly.v1+json": {
       "config": {
        "plotlyServerURL": "https://plot.ly"
       },
       "data": [
        {
         "alignmentgroup": "True",
         "hovertemplate": "diagnosis=%{x}<br>radius_mean=%{y}<extra></extra>",
         "legendgroup": "1",
         "marker": {
          "color": "#ee8ef5"
         },
         "name": "1",
         "notched": false,
         "offsetgroup": "1",
         "orientation": "v",
         "showlegend": true,
         "type": "box",
         "x": {
          "bdata": "AQEBAQEBAQEBAQEBAQEBAQEBAQEBAQEBAQEBAQEBAQEBAQEBAQEBAQEBAQEBAQEBAQEBAQEBAQEBAQEBAQEBAQEBAQEBAQEBAQEBAQEBAQEBAQEBAQEBAQEBAQEBAQEBAQEBAQEBAQEBAQEBAQEBAQEBAQEBAQEBAQEBAQEBAQEBAQEBAQEBAQEBAQEBAQEBAQEBAQEBAQEBAQEBAQEBAQEBAQEBAQEBAQEBAQEBAQEBAQEBAQEBAQEBAQEBAQEBAQEBAQEBAQEBAQEBAQEBAQEBAQE=",
          "dtype": "i1"
         },
         "x0": " ",
         "xaxis": "x",
         "y": {
          "bdata": "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",
          "dtype": "f8"
         },
         "y0": " ",
         "yaxis": "y"
        },
        {
         "alignmentgroup": "True",
         "hovertemplate": "diagnosis=%{x}<br>radius_mean=%{y}<extra></extra>",
         "legendgroup": "0",
         "marker": {
          "color": "rgb(50, 80, 168)"
         },
         "name": "0",
         "notched": false,
         "offsetgroup": "0",
         "orientation": "v",
         "showlegend": true,
         "type": "box",
         "x": {
          "bdata": "AAAAAAAAAAAAAAAAAAAAAAAAAAAAAAAAAAAAAAAAAAAAAAAAAAAAAAAAAAAAAAAAAAAAAAAAAAAAAAAAAAAAAAAAAAAAAAAAAAAAAAAAAAAAAAAAAAAAAAAAAAAAAAAAAAAAAAAAAAAAAAAAAAAAAAAAAAAAAAAAAAAAAAAAAAAAAAAAAAAAAAAAAAAAAAAAAAAAAAAAAAAAAAAAAAAAAAAAAAAAAAAAAAAAAAAAAAAAAAAAAAAAAAAAAAAAAAAAAAAAAAAAAAAAAAAAAAAAAAAAAAAAAAAAAAAAAAAAAAAAAAAAAAAAAAAAAAAAAAAAAAAAAAAAAAAAAAAAAAAAAAAAAAAAAAAAAAAAAAAAAAAAAAAAAAAAAAAAAAAAAAAAAAAAAAAAAAAAAAAAAAAAAAAAAAAAAAAAAAAAAAAAAAAAAAAAAAAAAAAAAAAAAAAAAAAAAAAAAAAAAAAAAAAAAAAAAAAA",
          "dtype": "i1"
         },
         "x0": " ",
         "xaxis": "x",
         "y": {
          "bdata": "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",
          "dtype": "f8"
         },
         "y0": " ",
         "yaxis": "y"
        }
       ],
       "layout": {
        "boxmode": "overlay",
        "font": {
         "color": "darkblue",
         "family": "Arial, Courier New, monospace",
         "size": 12
        },
        "height": 400,
        "legend": {
         "title": {
          "text": "diagnosis"
         },
         "tracegroupgap": 0
        },
        "margin": {
         "t": 60
        },
        "plot_bgcolor": "white",
        "template": {
         "data": {
          "bar": [
           {
            "error_x": {
             "color": "#2a3f5f"
            },
            "error_y": {
             "color": "#2a3f5f"
            },
            "marker": {
             "line": {
              "color": "#E5ECF6",
              "width": 0.5
             },
             "pattern": {
              "fillmode": "overlay",
              "size": 10,
              "solidity": 0.2
             }
            },
            "type": "bar"
           }
          ],
          "barpolar": [
           {
            "marker": {
             "line": {
              "color": "#E5ECF6",
              "width": 0.5
             },
             "pattern": {
              "fillmode": "overlay",
              "size": 10,
              "solidity": 0.2
             }
            },
            "type": "barpolar"
           }
          ],
          "carpet": [
           {
            "aaxis": {
             "endlinecolor": "#2a3f5f",
             "gridcolor": "white",
             "linecolor": "white",
             "minorgridcolor": "white",
             "startlinecolor": "#2a3f5f"
            },
            "baxis": {
             "endlinecolor": "#2a3f5f",
             "gridcolor": "white",
             "linecolor": "white",
             "minorgridcolor": "white",
             "startlinecolor": "#2a3f5f"
            },
            "type": "carpet"
           }
          ],
          "choropleth": [
           {
            "colorbar": {
             "outlinewidth": 0,
             "ticks": ""
            },
            "type": "choropleth"
           }
          ],
          "contour": [
           {
            "colorbar": {
             "outlinewidth": 0,
             "ticks": ""
            },
            "colorscale": [
             [
              0,
              "#0d0887"
             ],
             [
              0.1111111111111111,
              "#46039f"
             ],
             [
              0.2222222222222222,
              "#7201a8"
             ],
             [
              0.3333333333333333,
              "#9c179e"
             ],
             [
              0.4444444444444444,
              "#bd3786"
             ],
             [
              0.5555555555555556,
              "#d8576b"
             ],
             [
              0.6666666666666666,
              "#ed7953"
             ],
             [
              0.7777777777777778,
              "#fb9f3a"
             ],
             [
              0.8888888888888888,
              "#fdca26"
             ],
             [
              1,
              "#f0f921"
             ]
            ],
            "type": "contour"
           }
          ],
          "contourcarpet": [
           {
            "colorbar": {
             "outlinewidth": 0,
             "ticks": ""
            },
            "type": "contourcarpet"
           }
          ],
          "heatmap": [
           {
            "colorbar": {
             "outlinewidth": 0,
             "ticks": ""
            },
            "colorscale": [
             [
              0,
              "#0d0887"
             ],
             [
              0.1111111111111111,
              "#46039f"
             ],
             [
              0.2222222222222222,
              "#7201a8"
             ],
             [
              0.3333333333333333,
              "#9c179e"
             ],
             [
              0.4444444444444444,
              "#bd3786"
             ],
             [
              0.5555555555555556,
              "#d8576b"
             ],
             [
              0.6666666666666666,
              "#ed7953"
             ],
             [
              0.7777777777777778,
              "#fb9f3a"
             ],
             [
              0.8888888888888888,
              "#fdca26"
             ],
             [
              1,
              "#f0f921"
             ]
            ],
            "type": "heatmap"
           }
          ],
          "histogram": [
           {
            "marker": {
             "pattern": {
              "fillmode": "overlay",
              "size": 10,
              "solidity": 0.2
             }
            },
            "type": "histogram"
           }
          ],
          "histogram2d": [
           {
            "colorbar": {
             "outlinewidth": 0,
             "ticks": ""
            },
            "colorscale": [
             [
              0,
              "#0d0887"
             ],
             [
              0.1111111111111111,
              "#46039f"
             ],
             [
              0.2222222222222222,
              "#7201a8"
             ],
             [
              0.3333333333333333,
              "#9c179e"
             ],
             [
              0.4444444444444444,
              "#bd3786"
             ],
             [
              0.5555555555555556,
              "#d8576b"
             ],
             [
              0.6666666666666666,
              "#ed7953"
             ],
             [
              0.7777777777777778,
              "#fb9f3a"
             ],
             [
              0.8888888888888888,
              "#fdca26"
             ],
             [
              1,
              "#f0f921"
             ]
            ],
            "type": "histogram2d"
           }
          ],
          "histogram2dcontour": [
           {
            "colorbar": {
             "outlinewidth": 0,
             "ticks": ""
            },
            "colorscale": [
             [
              0,
              "#0d0887"
             ],
             [
              0.1111111111111111,
              "#46039f"
             ],
             [
              0.2222222222222222,
              "#7201a8"
             ],
             [
              0.3333333333333333,
              "#9c179e"
             ],
             [
              0.4444444444444444,
              "#bd3786"
             ],
             [
              0.5555555555555556,
              "#d8576b"
             ],
             [
              0.6666666666666666,
              "#ed7953"
             ],
             [
              0.7777777777777778,
              "#fb9f3a"
             ],
             [
              0.8888888888888888,
              "#fdca26"
             ],
             [
              1,
              "#f0f921"
             ]
            ],
            "type": "histogram2dcontour"
           }
          ],
          "mesh3d": [
           {
            "colorbar": {
             "outlinewidth": 0,
             "ticks": ""
            },
            "type": "mesh3d"
           }
          ],
          "parcoords": [
           {
            "line": {
             "colorbar": {
              "outlinewidth": 0,
              "ticks": ""
             }
            },
            "type": "parcoords"
           }
          ],
          "pie": [
           {
            "automargin": true,
            "type": "pie"
           }
          ],
          "scatter": [
           {
            "fillpattern": {
             "fillmode": "overlay",
             "size": 10,
             "solidity": 0.2
            },
            "type": "scatter"
           }
          ],
          "scatter3d": [
           {
            "line": {
             "colorbar": {
              "outlinewidth": 0,
              "ticks": ""
             }
            },
            "marker": {
             "colorbar": {
              "outlinewidth": 0,
              "ticks": ""
             }
            },
            "type": "scatter3d"
           }
          ],
          "scattercarpet": [
           {
            "marker": {
             "colorbar": {
              "outlinewidth": 0,
              "ticks": ""
             }
            },
            "type": "scattercarpet"
           }
          ],
          "scattergeo": [
           {
            "marker": {
             "colorbar": {
              "outlinewidth": 0,
              "ticks": ""
             }
            },
            "type": "scattergeo"
           }
          ],
          "scattergl": [
           {
            "marker": {
             "colorbar": {
              "outlinewidth": 0,
              "ticks": ""
             }
            },
            "type": "scattergl"
           }
          ],
          "scattermap": [
           {
            "marker": {
             "colorbar": {
              "outlinewidth": 0,
              "ticks": ""
             }
            },
            "type": "scattermap"
           }
          ],
          "scattermapbox": [
           {
            "marker": {
             "colorbar": {
              "outlinewidth": 0,
              "ticks": ""
             }
            },
            "type": "scattermapbox"
           }
          ],
          "scatterpolar": [
           {
            "marker": {
             "colorbar": {
              "outlinewidth": 0,
              "ticks": ""
             }
            },
            "type": "scatterpolar"
           }
          ],
          "scatterpolargl": [
           {
            "marker": {
             "colorbar": {
              "outlinewidth": 0,
              "ticks": ""
             }
            },
            "type": "scatterpolargl"
           }
          ],
          "scatterternary": [
           {
            "marker": {
             "colorbar": {
              "outlinewidth": 0,
              "ticks": ""
             }
            },
            "type": "scatterternary"
           }
          ],
          "surface": [
           {
            "colorbar": {
             "outlinewidth": 0,
             "ticks": ""
            },
            "colorscale": [
             [
              0,
              "#0d0887"
             ],
             [
              0.1111111111111111,
              "#46039f"
             ],
             [
              0.2222222222222222,
              "#7201a8"
             ],
             [
              0.3333333333333333,
              "#9c179e"
             ],
             [
              0.4444444444444444,
              "#bd3786"
             ],
             [
              0.5555555555555556,
              "#d8576b"
             ],
             [
              0.6666666666666666,
              "#ed7953"
             ],
             [
              0.7777777777777778,
              "#fb9f3a"
             ],
             [
              0.8888888888888888,
              "#fdca26"
             ],
             [
              1,
              "#f0f921"
             ]
            ],
            "type": "surface"
           }
          ],
          "table": [
           {
            "cells": {
             "fill": {
              "color": "#EBF0F8"
             },
             "line": {
              "color": "white"
             }
            },
            "header": {
             "fill": {
              "color": "#C8D4E3"
             },
             "line": {
              "color": "white"
             }
            },
            "type": "table"
           }
          ]
         },
         "layout": {
          "annotationdefaults": {
           "arrowcolor": "#2a3f5f",
           "arrowhead": 0,
           "arrowwidth": 1
          },
          "autotypenumbers": "strict",
          "coloraxis": {
           "colorbar": {
            "outlinewidth": 0,
            "ticks": ""
           }
          },
          "colorscale": {
           "diverging": [
            [
             0,
             "#8e0152"
            ],
            [
             0.1,
             "#c51b7d"
            ],
            [
             0.2,
             "#de77ae"
            ],
            [
             0.3,
             "#f1b6da"
            ],
            [
             0.4,
             "#fde0ef"
            ],
            [
             0.5,
             "#f7f7f7"
            ],
            [
             0.6,
             "#e6f5d0"
            ],
            [
             0.7,
             "#b8e186"
            ],
            [
             0.8,
             "#7fbc41"
            ],
            [
             0.9,
             "#4d9221"
            ],
            [
             1,
             "#276419"
            ]
           ],
           "sequential": [
            [
             0,
             "#0d0887"
            ],
            [
             0.1111111111111111,
             "#46039f"
            ],
            [
             0.2222222222222222,
             "#7201a8"
            ],
            [
             0.3333333333333333,
             "#9c179e"
            ],
            [
             0.4444444444444444,
             "#bd3786"
            ],
            [
             0.5555555555555556,
             "#d8576b"
            ],
            [
             0.6666666666666666,
             "#ed7953"
            ],
            [
             0.7777777777777778,
             "#fb9f3a"
            ],
            [
             0.8888888888888888,
             "#fdca26"
            ],
            [
             1,
             "#f0f921"
            ]
           ],
           "sequentialminus": [
            [
             0,
             "#0d0887"
            ],
            [
             0.1111111111111111,
             "#46039f"
            ],
            [
             0.2222222222222222,
             "#7201a8"
            ],
            [
             0.3333333333333333,
             "#9c179e"
            ],
            [
             0.4444444444444444,
             "#bd3786"
            ],
            [
             0.5555555555555556,
             "#d8576b"
            ],
            [
             0.6666666666666666,
             "#ed7953"
            ],
            [
             0.7777777777777778,
             "#fb9f3a"
            ],
            [
             0.8888888888888888,
             "#fdca26"
            ],
            [
             1,
             "#f0f921"
            ]
           ]
          },
          "colorway": [
           "#636efa",
           "#EF553B",
           "#00cc96",
           "#ab63fa",
           "#FFA15A",
           "#19d3f3",
           "#FF6692",
           "#B6E880",
           "#FF97FF",
           "#FECB52"
          ],
          "font": {
           "color": "#2a3f5f"
          },
          "geo": {
           "bgcolor": "white",
           "lakecolor": "white",
           "landcolor": "#E5ECF6",
           "showlakes": true,
           "showland": true,
           "subunitcolor": "white"
          },
          "hoverlabel": {
           "align": "left"
          },
          "hovermode": "closest",
          "mapbox": {
           "style": "light"
          },
          "paper_bgcolor": "white",
          "plot_bgcolor": "#E5ECF6",
          "polar": {
           "angularaxis": {
            "gridcolor": "white",
            "linecolor": "white",
            "ticks": ""
           },
           "bgcolor": "#E5ECF6",
           "radialaxis": {
            "gridcolor": "white",
            "linecolor": "white",
            "ticks": ""
           }
          },
          "scene": {
           "xaxis": {
            "backgroundcolor": "#E5ECF6",
            "gridcolor": "white",
            "gridwidth": 2,
            "linecolor": "white",
            "showbackground": true,
            "ticks": "",
            "zerolinecolor": "white"
           },
           "yaxis": {
            "backgroundcolor": "#E5ECF6",
            "gridcolor": "white",
            "gridwidth": 2,
            "linecolor": "white",
            "showbackground": true,
            "ticks": "",
            "zerolinecolor": "white"
           },
           "zaxis": {
            "backgroundcolor": "#E5ECF6",
            "gridcolor": "white",
            "gridwidth": 2,
            "linecolor": "white",
            "showbackground": true,
            "ticks": "",
            "zerolinecolor": "white"
           }
          },
          "shapedefaults": {
           "line": {
            "color": "#2a3f5f"
           }
          },
          "ternary": {
           "aaxis": {
            "gridcolor": "white",
            "linecolor": "white",
            "ticks": ""
           },
           "baxis": {
            "gridcolor": "white",
            "linecolor": "white",
            "ticks": ""
           },
           "bgcolor": "#E5ECF6",
           "caxis": {
            "gridcolor": "white",
            "linecolor": "white",
            "ticks": ""
           }
          },
          "title": {
           "x": 0.05
          },
          "xaxis": {
           "automargin": true,
           "gridcolor": "white",
           "linecolor": "white",
           "ticks": "",
           "title": {
            "standoff": 15
           },
           "zerolinecolor": "white",
           "zerolinewidth": 2
          },
          "yaxis": {
           "automargin": true,
           "gridcolor": "white",
           "linecolor": "white",
           "ticks": "",
           "title": {
            "standoff": 15
           },
           "zerolinecolor": "white",
           "zerolinewidth": 2
          }
         }
        },
        "title": {
         "text": "Box plot of radius_mean by Diagnosis"
        },
        "width": 600,
        "xaxis": {
         "anchor": "y",
         "categoryarray": [
          1,
          0
         ],
         "categoryorder": "array",
         "domain": [
          0,
          1
         ],
         "gridcolor": "lightgray",
         "gridwidth": 1,
         "linecolor": "darkgray",
         "showgrid": true,
         "showline": true,
         "title": {
          "text": "diagnosis"
         }
        },
        "yaxis": {
         "anchor": "x",
         "domain": [
          0,
          1
         ],
         "gridcolor": "lightgray",
         "gridwidth": 1,
         "linecolor": "darkgray",
         "showgrid": true,
         "showline": true,
         "title": {
          "text": "radius_mean"
         }
        }
       }
      }
     },
     "metadata": {},
     "output_type": "display_data"
    },
    {
     "data": {
      "application/vnd.plotly.v1+json": {
       "config": {
        "plotlyServerURL": "https://plot.ly"
       },
       "data": [
        {
         "alignmentgroup": "True",
         "hovertemplate": "diagnosis=%{x}<br>texture_mean=%{y}<extra></extra>",
         "legendgroup": "1",
         "marker": {
          "color": "#ee8ef5"
         },
         "name": "1",
         "notched": false,
         "offsetgroup": "1",
         "orientation": "v",
         "showlegend": true,
         "type": "box",
         "x": {
          "bdata": "AQEBAQEBAQEBAQEBAQEBAQEBAQEBAQEBAQEBAQEBAQEBAQEBAQEBAQEBAQEBAQEBAQEBAQEBAQEBAQEBAQEBAQEBAQEBAQEBAQEBAQEBAQEBAQEBAQEBAQEBAQEBAQEBAQEBAQEBAQEBAQEBAQEBAQEBAQEBAQEBAQEBAQEBAQEBAQEBAQEBAQEBAQEBAQEBAQEBAQEBAQEBAQEBAQEBAQEBAQEBAQEBAQEBAQEBAQEBAQEBAQEBAQEBAQEBAQEBAQEBAQEBAQEBAQEBAQEBAQEBAQE=",
          "dtype": "i1"
         },
         "x0": " ",
         "xaxis": "x",
         "y": {
          "bdata": "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",
          "dtype": "f8"
         },
         "y0": " ",
         "yaxis": "y"
        },
        {
         "alignmentgroup": "True",
         "hovertemplate": "diagnosis=%{x}<br>texture_mean=%{y}<extra></extra>",
         "legendgroup": "0",
         "marker": {
          "color": "rgb(50, 80, 168)"
         },
         "name": "0",
         "notched": false,
         "offsetgroup": "0",
         "orientation": "v",
         "showlegend": true,
         "type": "box",
         "x": {
          "bdata": "AAAAAAAAAAAAAAAAAAAAAAAAAAAAAAAAAAAAAAAAAAAAAAAAAAAAAAAAAAAAAAAAAAAAAAAAAAAAAAAAAAAAAAAAAAAAAAAAAAAAAAAAAAAAAAAAAAAAAAAAAAAAAAAAAAAAAAAAAAAAAAAAAAAAAAAAAAAAAAAAAAAAAAAAAAAAAAAAAAAAAAAAAAAAAAAAAAAAAAAAAAAAAAAAAAAAAAAAAAAAAAAAAAAAAAAAAAAAAAAAAAAAAAAAAAAAAAAAAAAAAAAAAAAAAAAAAAAAAAAAAAAAAAAAAAAAAAAAAAAAAAAAAAAAAAAAAAAAAAAAAAAAAAAAAAAAAAAAAAAAAAAAAAAAAAAAAAAAAAAAAAAAAAAAAAAAAAAAAAAAAAAAAAAAAAAAAAAAAAAAAAAAAAAAAAAAAAAAAAAAAAAAAAAAAAAAAAAAAAAAAAAAAAAAAAAAAAAAAAAAAAAAAAAAAAAAAAAA",
          "dtype": "i1"
         },
         "x0": " ",
         "xaxis": "x",
         "y": {
          "bdata": "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",
          "dtype": "f8"
         },
         "y0": " ",
         "yaxis": "y"
        }
       ],
       "layout": {
        "boxmode": "overlay",
        "font": {
         "color": "darkblue",
         "family": "Arial, Courier New, monospace",
         "size": 12
        },
        "height": 400,
        "legend": {
         "title": {
          "text": "diagnosis"
         },
         "tracegroupgap": 0
        },
        "margin": {
         "t": 60
        },
        "plot_bgcolor": "white",
        "template": {
         "data": {
          "bar": [
           {
            "error_x": {
             "color": "#2a3f5f"
            },
            "error_y": {
             "color": "#2a3f5f"
            },
            "marker": {
             "line": {
              "color": "#E5ECF6",
              "width": 0.5
             },
             "pattern": {
              "fillmode": "overlay",
              "size": 10,
              "solidity": 0.2
             }
            },
            "type": "bar"
           }
          ],
          "barpolar": [
           {
            "marker": {
             "line": {
              "color": "#E5ECF6",
              "width": 0.5
             },
             "pattern": {
              "fillmode": "overlay",
              "size": 10,
              "solidity": 0.2
             }
            },
            "type": "barpolar"
           }
          ],
          "carpet": [
           {
            "aaxis": {
             "endlinecolor": "#2a3f5f",
             "gridcolor": "white",
             "linecolor": "white",
             "minorgridcolor": "white",
             "startlinecolor": "#2a3f5f"
            },
            "baxis": {
             "endlinecolor": "#2a3f5f",
             "gridcolor": "white",
             "linecolor": "white",
             "minorgridcolor": "white",
             "startlinecolor": "#2a3f5f"
            },
            "type": "carpet"
           }
          ],
          "choropleth": [
           {
            "colorbar": {
             "outlinewidth": 0,
             "ticks": ""
            },
            "type": "choropleth"
           }
          ],
          "contour": [
           {
            "colorbar": {
             "outlinewidth": 0,
             "ticks": ""
            },
            "colorscale": [
             [
              0,
              "#0d0887"
             ],
             [
              0.1111111111111111,
              "#46039f"
             ],
             [
              0.2222222222222222,
              "#7201a8"
             ],
             [
              0.3333333333333333,
              "#9c179e"
             ],
             [
              0.4444444444444444,
              "#bd3786"
             ],
             [
              0.5555555555555556,
              "#d8576b"
             ],
             [
              0.6666666666666666,
              "#ed7953"
             ],
             [
              0.7777777777777778,
              "#fb9f3a"
             ],
             [
              0.8888888888888888,
              "#fdca26"
             ],
             [
              1,
              "#f0f921"
             ]
            ],
            "type": "contour"
           }
          ],
          "contourcarpet": [
           {
            "colorbar": {
             "outlinewidth": 0,
             "ticks": ""
            },
            "type": "contourcarpet"
           }
          ],
          "heatmap": [
           {
            "colorbar": {
             "outlinewidth": 0,
             "ticks": ""
            },
            "colorscale": [
             [
              0,
              "#0d0887"
             ],
             [
              0.1111111111111111,
              "#46039f"
             ],
             [
              0.2222222222222222,
              "#7201a8"
             ],
             [
              0.3333333333333333,
              "#9c179e"
             ],
             [
              0.4444444444444444,
              "#bd3786"
             ],
             [
              0.5555555555555556,
              "#d8576b"
             ],
             [
              0.6666666666666666,
              "#ed7953"
             ],
             [
              0.7777777777777778,
              "#fb9f3a"
             ],
             [
              0.8888888888888888,
              "#fdca26"
             ],
             [
              1,
              "#f0f921"
             ]
            ],
            "type": "heatmap"
           }
          ],
          "histogram": [
           {
            "marker": {
             "pattern": {
              "fillmode": "overlay",
              "size": 10,
              "solidity": 0.2
             }
            },
            "type": "histogram"
           }
          ],
          "histogram2d": [
           {
            "colorbar": {
             "outlinewidth": 0,
             "ticks": ""
            },
            "colorscale": [
             [
              0,
              "#0d0887"
             ],
             [
              0.1111111111111111,
              "#46039f"
             ],
             [
              0.2222222222222222,
              "#7201a8"
             ],
             [
              0.3333333333333333,
              "#9c179e"
             ],
             [
              0.4444444444444444,
              "#bd3786"
             ],
             [
              0.5555555555555556,
              "#d8576b"
             ],
             [
              0.6666666666666666,
              "#ed7953"
             ],
             [
              0.7777777777777778,
              "#fb9f3a"
             ],
             [
              0.8888888888888888,
              "#fdca26"
             ],
             [
              1,
              "#f0f921"
             ]
            ],
            "type": "histogram2d"
           }
          ],
          "histogram2dcontour": [
           {
            "colorbar": {
             "outlinewidth": 0,
             "ticks": ""
            },
            "colorscale": [
             [
              0,
              "#0d0887"
             ],
             [
              0.1111111111111111,
              "#46039f"
             ],
             [
              0.2222222222222222,
              "#7201a8"
             ],
             [
              0.3333333333333333,
              "#9c179e"
             ],
             [
              0.4444444444444444,
              "#bd3786"
             ],
             [
              0.5555555555555556,
              "#d8576b"
             ],
             [
              0.6666666666666666,
              "#ed7953"
             ],
             [
              0.7777777777777778,
              "#fb9f3a"
             ],
             [
              0.8888888888888888,
              "#fdca26"
             ],
             [
              1,
              "#f0f921"
             ]
            ],
            "type": "histogram2dcontour"
           }
          ],
          "mesh3d": [
           {
            "colorbar": {
             "outlinewidth": 0,
             "ticks": ""
            },
            "type": "mesh3d"
           }
          ],
          "parcoords": [
           {
            "line": {
             "colorbar": {
              "outlinewidth": 0,
              "ticks": ""
             }
            },
            "type": "parcoords"
           }
          ],
          "pie": [
           {
            "automargin": true,
            "type": "pie"
           }
          ],
          "scatter": [
           {
            "fillpattern": {
             "fillmode": "overlay",
             "size": 10,
             "solidity": 0.2
            },
            "type": "scatter"
           }
          ],
          "scatter3d": [
           {
            "line": {
             "colorbar": {
              "outlinewidth": 0,
              "ticks": ""
             }
            },
            "marker": {
             "colorbar": {
              "outlinewidth": 0,
              "ticks": ""
             }
            },
            "type": "scatter3d"
           }
          ],
          "scattercarpet": [
           {
            "marker": {
             "colorbar": {
              "outlinewidth": 0,
              "ticks": ""
             }
            },
            "type": "scattercarpet"
           }
          ],
          "scattergeo": [
           {
            "marker": {
             "colorbar": {
              "outlinewidth": 0,
              "ticks": ""
             }
            },
            "type": "scattergeo"
           }
          ],
          "scattergl": [
           {
            "marker": {
             "colorbar": {
              "outlinewidth": 0,
              "ticks": ""
             }
            },
            "type": "scattergl"
           }
          ],
          "scattermap": [
           {
            "marker": {
             "colorbar": {
              "outlinewidth": 0,
              "ticks": ""
             }
            },
            "type": "scattermap"
           }
          ],
          "scattermapbox": [
           {
            "marker": {
             "colorbar": {
              "outlinewidth": 0,
              "ticks": ""
             }
            },
            "type": "scattermapbox"
           }
          ],
          "scatterpolar": [
           {
            "marker": {
             "colorbar": {
              "outlinewidth": 0,
              "ticks": ""
             }
            },
            "type": "scatterpolar"
           }
          ],
          "scatterpolargl": [
           {
            "marker": {
             "colorbar": {
              "outlinewidth": 0,
              "ticks": ""
             }
            },
            "type": "scatterpolargl"
           }
          ],
          "scatterternary": [
           {
            "marker": {
             "colorbar": {
              "outlinewidth": 0,
              "ticks": ""
             }
            },
            "type": "scatterternary"
           }
          ],
          "surface": [
           {
            "colorbar": {
             "outlinewidth": 0,
             "ticks": ""
            },
            "colorscale": [
             [
              0,
              "#0d0887"
             ],
             [
              0.1111111111111111,
              "#46039f"
             ],
             [
              0.2222222222222222,
              "#7201a8"
             ],
             [
              0.3333333333333333,
              "#9c179e"
             ],
             [
              0.4444444444444444,
              "#bd3786"
             ],
             [
              0.5555555555555556,
              "#d8576b"
             ],
             [
              0.6666666666666666,
              "#ed7953"
             ],
             [
              0.7777777777777778,
              "#fb9f3a"
             ],
             [
              0.8888888888888888,
              "#fdca26"
             ],
             [
              1,
              "#f0f921"
             ]
            ],
            "type": "surface"
           }
          ],
          "table": [
           {
            "cells": {
             "fill": {
              "color": "#EBF0F8"
             },
             "line": {
              "color": "white"
             }
            },
            "header": {
             "fill": {
              "color": "#C8D4E3"
             },
             "line": {
              "color": "white"
             }
            },
            "type": "table"
           }
          ]
         },
         "layout": {
          "annotationdefaults": {
           "arrowcolor": "#2a3f5f",
           "arrowhead": 0,
           "arrowwidth": 1
          },
          "autotypenumbers": "strict",
          "coloraxis": {
           "colorbar": {
            "outlinewidth": 0,
            "ticks": ""
           }
          },
          "colorscale": {
           "diverging": [
            [
             0,
             "#8e0152"
            ],
            [
             0.1,
             "#c51b7d"
            ],
            [
             0.2,
             "#de77ae"
            ],
            [
             0.3,
             "#f1b6da"
            ],
            [
             0.4,
             "#fde0ef"
            ],
            [
             0.5,
             "#f7f7f7"
            ],
            [
             0.6,
             "#e6f5d0"
            ],
            [
             0.7,
             "#b8e186"
            ],
            [
             0.8,
             "#7fbc41"
            ],
            [
             0.9,
             "#4d9221"
            ],
            [
             1,
             "#276419"
            ]
           ],
           "sequential": [
            [
             0,
             "#0d0887"
            ],
            [
             0.1111111111111111,
             "#46039f"
            ],
            [
             0.2222222222222222,
             "#7201a8"
            ],
            [
             0.3333333333333333,
             "#9c179e"
            ],
            [
             0.4444444444444444,
             "#bd3786"
            ],
            [
             0.5555555555555556,
             "#d8576b"
            ],
            [
             0.6666666666666666,
             "#ed7953"
            ],
            [
             0.7777777777777778,
             "#fb9f3a"
            ],
            [
             0.8888888888888888,
             "#fdca26"
            ],
            [
             1,
             "#f0f921"
            ]
           ],
           "sequentialminus": [
            [
             0,
             "#0d0887"
            ],
            [
             0.1111111111111111,
             "#46039f"
            ],
            [
             0.2222222222222222,
             "#7201a8"
            ],
            [
             0.3333333333333333,
             "#9c179e"
            ],
            [
             0.4444444444444444,
             "#bd3786"
            ],
            [
             0.5555555555555556,
             "#d8576b"
            ],
            [
             0.6666666666666666,
             "#ed7953"
            ],
            [
             0.7777777777777778,
             "#fb9f3a"
            ],
            [
             0.8888888888888888,
             "#fdca26"
            ],
            [
             1,
             "#f0f921"
            ]
           ]
          },
          "colorway": [
           "#636efa",
           "#EF553B",
           "#00cc96",
           "#ab63fa",
           "#FFA15A",
           "#19d3f3",
           "#FF6692",
           "#B6E880",
           "#FF97FF",
           "#FECB52"
          ],
          "font": {
           "color": "#2a3f5f"
          },
          "geo": {
           "bgcolor": "white",
           "lakecolor": "white",
           "landcolor": "#E5ECF6",
           "showlakes": true,
           "showland": true,
           "subunitcolor": "white"
          },
          "hoverlabel": {
           "align": "left"
          },
          "hovermode": "closest",
          "mapbox": {
           "style": "light"
          },
          "paper_bgcolor": "white",
          "plot_bgcolor": "#E5ECF6",
          "polar": {
           "angularaxis": {
            "gridcolor": "white",
            "linecolor": "white",
            "ticks": ""
           },
           "bgcolor": "#E5ECF6",
           "radialaxis": {
            "gridcolor": "white",
            "linecolor": "white",
            "ticks": ""
           }
          },
          "scene": {
           "xaxis": {
            "backgroundcolor": "#E5ECF6",
            "gridcolor": "white",
            "gridwidth": 2,
            "linecolor": "white",
            "showbackground": true,
            "ticks": "",
            "zerolinecolor": "white"
           },
           "yaxis": {
            "backgroundcolor": "#E5ECF6",
            "gridcolor": "white",
            "gridwidth": 2,
            "linecolor": "white",
            "showbackground": true,
            "ticks": "",
            "zerolinecolor": "white"
           },
           "zaxis": {
            "backgroundcolor": "#E5ECF6",
            "gridcolor": "white",
            "gridwidth": 2,
            "linecolor": "white",
            "showbackground": true,
            "ticks": "",
            "zerolinecolor": "white"
           }
          },
          "shapedefaults": {
           "line": {
            "color": "#2a3f5f"
           }
          },
          "ternary": {
           "aaxis": {
            "gridcolor": "white",
            "linecolor": "white",
            "ticks": ""
           },
           "baxis": {
            "gridcolor": "white",
            "linecolor": "white",
            "ticks": ""
           },
           "bgcolor": "#E5ECF6",
           "caxis": {
            "gridcolor": "white",
            "linecolor": "white",
            "ticks": ""
           }
          },
          "title": {
           "x": 0.05
          },
          "xaxis": {
           "automargin": true,
           "gridcolor": "white",
           "linecolor": "white",
           "ticks": "",
           "title": {
            "standoff": 15
           },
           "zerolinecolor": "white",
           "zerolinewidth": 2
          },
          "yaxis": {
           "automargin": true,
           "gridcolor": "white",
           "linecolor": "white",
           "ticks": "",
           "title": {
            "standoff": 15
           },
           "zerolinecolor": "white",
           "zerolinewidth": 2
          }
         }
        },
        "title": {
         "text": "Box plot of texture_mean by Diagnosis"
        },
        "width": 600,
        "xaxis": {
         "anchor": "y",
         "categoryarray": [
          1,
          0
         ],
         "categoryorder": "array",
         "domain": [
          0,
          1
         ],
         "gridcolor": "lightgray",
         "gridwidth": 1,
         "linecolor": "darkgray",
         "showgrid": true,
         "showline": true,
         "title": {
          "text": "diagnosis"
         }
        },
        "yaxis": {
         "anchor": "x",
         "domain": [
          0,
          1
         ],
         "gridcolor": "lightgray",
         "gridwidth": 1,
         "linecolor": "darkgray",
         "showgrid": true,
         "showline": true,
         "title": {
          "text": "texture_mean"
         }
        }
       }
      }
     },
     "metadata": {},
     "output_type": "display_data"
    },
    {
     "data": {
      "application/vnd.plotly.v1+json": {
       "config": {
        "plotlyServerURL": "https://plot.ly"
       },
       "data": [
        {
         "alignmentgroup": "True",
         "hovertemplate": "diagnosis=%{x}<br>perimeter_mean=%{y}<extra></extra>",
         "legendgroup": "1",
         "marker": {
          "color": "#ee8ef5"
         },
         "name": "1",
         "notched": false,
         "offsetgroup": "1",
         "orientation": "v",
         "showlegend": true,
         "type": "box",
         "x": {
          "bdata": "AQEBAQEBAQEBAQEBAQEBAQEBAQEBAQEBAQEBAQEBAQEBAQEBAQEBAQEBAQEBAQEBAQEBAQEBAQEBAQEBAQEBAQEBAQEBAQEBAQEBAQEBAQEBAQEBAQEBAQEBAQEBAQEBAQEBAQEBAQEBAQEBAQEBAQEBAQEBAQEBAQEBAQEBAQEBAQEBAQEBAQEBAQEBAQEBAQEBAQEBAQEBAQEBAQEBAQEBAQEBAQEBAQEBAQEBAQEBAQEBAQEBAQEBAQEBAQEBAQEBAQEBAQEBAQEBAQEBAQEBAQE=",
          "dtype": "i1"
         },
         "x0": " ",
         "xaxis": "x",
         "y": {
          "bdata": "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",
          "dtype": "f8"
         },
         "y0": " ",
         "yaxis": "y"
        },
        {
         "alignmentgroup": "True",
         "hovertemplate": "diagnosis=%{x}<br>perimeter_mean=%{y}<extra></extra>",
         "legendgroup": "0",
         "marker": {
          "color": "rgb(50, 80, 168)"
         },
         "name": "0",
         "notched": false,
         "offsetgroup": "0",
         "orientation": "v",
         "showlegend": true,
         "type": "box",
         "x": {
          "bdata": "AAAAAAAAAAAAAAAAAAAAAAAAAAAAAAAAAAAAAAAAAAAAAAAAAAAAAAAAAAAAAAAAAAAAAAAAAAAAAAAAAAAAAAAAAAAAAAAAAAAAAAAAAAAAAAAAAAAAAAAAAAAAAAAAAAAAAAAAAAAAAAAAAAAAAAAAAAAAAAAAAAAAAAAAAAAAAAAAAAAAAAAAAAAAAAAAAAAAAAAAAAAAAAAAAAAAAAAAAAAAAAAAAAAAAAAAAAAAAAAAAAAAAAAAAAAAAAAAAAAAAAAAAAAAAAAAAAAAAAAAAAAAAAAAAAAAAAAAAAAAAAAAAAAAAAAAAAAAAAAAAAAAAAAAAAAAAAAAAAAAAAAAAAAAAAAAAAAAAAAAAAAAAAAAAAAAAAAAAAAAAAAAAAAAAAAAAAAAAAAAAAAAAAAAAAAAAAAAAAAAAAAAAAAAAAAAAAAAAAAAAAAAAAAAAAAAAAAAAAAAAAAAAAAAAAAAAAAA",
          "dtype": "i1"
         },
         "x0": " ",
         "xaxis": "x",
         "y": {
          "bdata": "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",
          "dtype": "f8"
         },
         "y0": " ",
         "yaxis": "y"
        }
       ],
       "layout": {
        "boxmode": "overlay",
        "font": {
         "color": "darkblue",
         "family": "Arial, Courier New, monospace",
         "size": 12
        },
        "height": 400,
        "legend": {
         "title": {
          "text": "diagnosis"
         },
         "tracegroupgap": 0
        },
        "margin": {
         "t": 60
        },
        "plot_bgcolor": "white",
        "template": {
         "data": {
          "bar": [
           {
            "error_x": {
             "color": "#2a3f5f"
            },
            "error_y": {
             "color": "#2a3f5f"
            },
            "marker": {
             "line": {
              "color": "#E5ECF6",
              "width": 0.5
             },
             "pattern": {
              "fillmode": "overlay",
              "size": 10,
              "solidity": 0.2
             }
            },
            "type": "bar"
           }
          ],
          "barpolar": [
           {
            "marker": {
             "line": {
              "color": "#E5ECF6",
              "width": 0.5
             },
             "pattern": {
              "fillmode": "overlay",
              "size": 10,
              "solidity": 0.2
             }
            },
            "type": "barpolar"
           }
          ],
          "carpet": [
           {
            "aaxis": {
             "endlinecolor": "#2a3f5f",
             "gridcolor": "white",
             "linecolor": "white",
             "minorgridcolor": "white",
             "startlinecolor": "#2a3f5f"
            },
            "baxis": {
             "endlinecolor": "#2a3f5f",
             "gridcolor": "white",
             "linecolor": "white",
             "minorgridcolor": "white",
             "startlinecolor": "#2a3f5f"
            },
            "type": "carpet"
           }
          ],
          "choropleth": [
           {
            "colorbar": {
             "outlinewidth": 0,
             "ticks": ""
            },
            "type": "choropleth"
           }
          ],
          "contour": [
           {
            "colorbar": {
             "outlinewidth": 0,
             "ticks": ""
            },
            "colorscale": [
             [
              0,
              "#0d0887"
             ],
             [
              0.1111111111111111,
              "#46039f"
             ],
             [
              0.2222222222222222,
              "#7201a8"
             ],
             [
              0.3333333333333333,
              "#9c179e"
             ],
             [
              0.4444444444444444,
              "#bd3786"
             ],
             [
              0.5555555555555556,
              "#d8576b"
             ],
             [
              0.6666666666666666,
              "#ed7953"
             ],
             [
              0.7777777777777778,
              "#fb9f3a"
             ],
             [
              0.8888888888888888,
              "#fdca26"
             ],
             [
              1,
              "#f0f921"
             ]
            ],
            "type": "contour"
           }
          ],
          "contourcarpet": [
           {
            "colorbar": {
             "outlinewidth": 0,
             "ticks": ""
            },
            "type": "contourcarpet"
           }
          ],
          "heatmap": [
           {
            "colorbar": {
             "outlinewidth": 0,
             "ticks": ""
            },
            "colorscale": [
             [
              0,
              "#0d0887"
             ],
             [
              0.1111111111111111,
              "#46039f"
             ],
             [
              0.2222222222222222,
              "#7201a8"
             ],
             [
              0.3333333333333333,
              "#9c179e"
             ],
             [
              0.4444444444444444,
              "#bd3786"
             ],
             [
              0.5555555555555556,
              "#d8576b"
             ],
             [
              0.6666666666666666,
              "#ed7953"
             ],
             [
              0.7777777777777778,
              "#fb9f3a"
             ],
             [
              0.8888888888888888,
              "#fdca26"
             ],
             [
              1,
              "#f0f921"
             ]
            ],
            "type": "heatmap"
           }
          ],
          "histogram": [
           {
            "marker": {
             "pattern": {
              "fillmode": "overlay",
              "size": 10,
              "solidity": 0.2
             }
            },
            "type": "histogram"
           }
          ],
          "histogram2d": [
           {
            "colorbar": {
             "outlinewidth": 0,
             "ticks": ""
            },
            "colorscale": [
             [
              0,
              "#0d0887"
             ],
             [
              0.1111111111111111,
              "#46039f"
             ],
             [
              0.2222222222222222,
              "#7201a8"
             ],
             [
              0.3333333333333333,
              "#9c179e"
             ],
             [
              0.4444444444444444,
              "#bd3786"
             ],
             [
              0.5555555555555556,
              "#d8576b"
             ],
             [
              0.6666666666666666,
              "#ed7953"
             ],
             [
              0.7777777777777778,
              "#fb9f3a"
             ],
             [
              0.8888888888888888,
              "#fdca26"
             ],
             [
              1,
              "#f0f921"
             ]
            ],
            "type": "histogram2d"
           }
          ],
          "histogram2dcontour": [
           {
            "colorbar": {
             "outlinewidth": 0,
             "ticks": ""
            },
            "colorscale": [
             [
              0,
              "#0d0887"
             ],
             [
              0.1111111111111111,
              "#46039f"
             ],
             [
              0.2222222222222222,
              "#7201a8"
             ],
             [
              0.3333333333333333,
              "#9c179e"
             ],
             [
              0.4444444444444444,
              "#bd3786"
             ],
             [
              0.5555555555555556,
              "#d8576b"
             ],
             [
              0.6666666666666666,
              "#ed7953"
             ],
             [
              0.7777777777777778,
              "#fb9f3a"
             ],
             [
              0.8888888888888888,
              "#fdca26"
             ],
             [
              1,
              "#f0f921"
             ]
            ],
            "type": "histogram2dcontour"
           }
          ],
          "mesh3d": [
           {
            "colorbar": {
             "outlinewidth": 0,
             "ticks": ""
            },
            "type": "mesh3d"
           }
          ],
          "parcoords": [
           {
            "line": {
             "colorbar": {
              "outlinewidth": 0,
              "ticks": ""
             }
            },
            "type": "parcoords"
           }
          ],
          "pie": [
           {
            "automargin": true,
            "type": "pie"
           }
          ],
          "scatter": [
           {
            "fillpattern": {
             "fillmode": "overlay",
             "size": 10,
             "solidity": 0.2
            },
            "type": "scatter"
           }
          ],
          "scatter3d": [
           {
            "line": {
             "colorbar": {
              "outlinewidth": 0,
              "ticks": ""
             }
            },
            "marker": {
             "colorbar": {
              "outlinewidth": 0,
              "ticks": ""
             }
            },
            "type": "scatter3d"
           }
          ],
          "scattercarpet": [
           {
            "marker": {
             "colorbar": {
              "outlinewidth": 0,
              "ticks": ""
             }
            },
            "type": "scattercarpet"
           }
          ],
          "scattergeo": [
           {
            "marker": {
             "colorbar": {
              "outlinewidth": 0,
              "ticks": ""
             }
            },
            "type": "scattergeo"
           }
          ],
          "scattergl": [
           {
            "marker": {
             "colorbar": {
              "outlinewidth": 0,
              "ticks": ""
             }
            },
            "type": "scattergl"
           }
          ],
          "scattermap": [
           {
            "marker": {
             "colorbar": {
              "outlinewidth": 0,
              "ticks": ""
             }
            },
            "type": "scattermap"
           }
          ],
          "scattermapbox": [
           {
            "marker": {
             "colorbar": {
              "outlinewidth": 0,
              "ticks": ""
             }
            },
            "type": "scattermapbox"
           }
          ],
          "scatterpolar": [
           {
            "marker": {
             "colorbar": {
              "outlinewidth": 0,
              "ticks": ""
             }
            },
            "type": "scatterpolar"
           }
          ],
          "scatterpolargl": [
           {
            "marker": {
             "colorbar": {
              "outlinewidth": 0,
              "ticks": ""
             }
            },
            "type": "scatterpolargl"
           }
          ],
          "scatterternary": [
           {
            "marker": {
             "colorbar": {
              "outlinewidth": 0,
              "ticks": ""
             }
            },
            "type": "scatterternary"
           }
          ],
          "surface": [
           {
            "colorbar": {
             "outlinewidth": 0,
             "ticks": ""
            },
            "colorscale": [
             [
              0,
              "#0d0887"
             ],
             [
              0.1111111111111111,
              "#46039f"
             ],
             [
              0.2222222222222222,
              "#7201a8"
             ],
             [
              0.3333333333333333,
              "#9c179e"
             ],
             [
              0.4444444444444444,
              "#bd3786"
             ],
             [
              0.5555555555555556,
              "#d8576b"
             ],
             [
              0.6666666666666666,
              "#ed7953"
             ],
             [
              0.7777777777777778,
              "#fb9f3a"
             ],
             [
              0.8888888888888888,
              "#fdca26"
             ],
             [
              1,
              "#f0f921"
             ]
            ],
            "type": "surface"
           }
          ],
          "table": [
           {
            "cells": {
             "fill": {
              "color": "#EBF0F8"
             },
             "line": {
              "color": "white"
             }
            },
            "header": {
             "fill": {
              "color": "#C8D4E3"
             },
             "line": {
              "color": "white"
             }
            },
            "type": "table"
           }
          ]
         },
         "layout": {
          "annotationdefaults": {
           "arrowcolor": "#2a3f5f",
           "arrowhead": 0,
           "arrowwidth": 1
          },
          "autotypenumbers": "strict",
          "coloraxis": {
           "colorbar": {
            "outlinewidth": 0,
            "ticks": ""
           }
          },
          "colorscale": {
           "diverging": [
            [
             0,
             "#8e0152"
            ],
            [
             0.1,
             "#c51b7d"
            ],
            [
             0.2,
             "#de77ae"
            ],
            [
             0.3,
             "#f1b6da"
            ],
            [
             0.4,
             "#fde0ef"
            ],
            [
             0.5,
             "#f7f7f7"
            ],
            [
             0.6,
             "#e6f5d0"
            ],
            [
             0.7,
             "#b8e186"
            ],
            [
             0.8,
             "#7fbc41"
            ],
            [
             0.9,
             "#4d9221"
            ],
            [
             1,
             "#276419"
            ]
           ],
           "sequential": [
            [
             0,
             "#0d0887"
            ],
            [
             0.1111111111111111,
             "#46039f"
            ],
            [
             0.2222222222222222,
             "#7201a8"
            ],
            [
             0.3333333333333333,
             "#9c179e"
            ],
            [
             0.4444444444444444,
             "#bd3786"
            ],
            [
             0.5555555555555556,
             "#d8576b"
            ],
            [
             0.6666666666666666,
             "#ed7953"
            ],
            [
             0.7777777777777778,
             "#fb9f3a"
            ],
            [
             0.8888888888888888,
             "#fdca26"
            ],
            [
             1,
             "#f0f921"
            ]
           ],
           "sequentialminus": [
            [
             0,
             "#0d0887"
            ],
            [
             0.1111111111111111,
             "#46039f"
            ],
            [
             0.2222222222222222,
             "#7201a8"
            ],
            [
             0.3333333333333333,
             "#9c179e"
            ],
            [
             0.4444444444444444,
             "#bd3786"
            ],
            [
             0.5555555555555556,
             "#d8576b"
            ],
            [
             0.6666666666666666,
             "#ed7953"
            ],
            [
             0.7777777777777778,
             "#fb9f3a"
            ],
            [
             0.8888888888888888,
             "#fdca26"
            ],
            [
             1,
             "#f0f921"
            ]
           ]
          },
          "colorway": [
           "#636efa",
           "#EF553B",
           "#00cc96",
           "#ab63fa",
           "#FFA15A",
           "#19d3f3",
           "#FF6692",
           "#B6E880",
           "#FF97FF",
           "#FECB52"
          ],
          "font": {
           "color": "#2a3f5f"
          },
          "geo": {
           "bgcolor": "white",
           "lakecolor": "white",
           "landcolor": "#E5ECF6",
           "showlakes": true,
           "showland": true,
           "subunitcolor": "white"
          },
          "hoverlabel": {
           "align": "left"
          },
          "hovermode": "closest",
          "mapbox": {
           "style": "light"
          },
          "paper_bgcolor": "white",
          "plot_bgcolor": "#E5ECF6",
          "polar": {
           "angularaxis": {
            "gridcolor": "white",
            "linecolor": "white",
            "ticks": ""
           },
           "bgcolor": "#E5ECF6",
           "radialaxis": {
            "gridcolor": "white",
            "linecolor": "white",
            "ticks": ""
           }
          },
          "scene": {
           "xaxis": {
            "backgroundcolor": "#E5ECF6",
            "gridcolor": "white",
            "gridwidth": 2,
            "linecolor": "white",
            "showbackground": true,
            "ticks": "",
            "zerolinecolor": "white"
           },
           "yaxis": {
            "backgroundcolor": "#E5ECF6",
            "gridcolor": "white",
            "gridwidth": 2,
            "linecolor": "white",
            "showbackground": true,
            "ticks": "",
            "zerolinecolor": "white"
           },
           "zaxis": {
            "backgroundcolor": "#E5ECF6",
            "gridcolor": "white",
            "gridwidth": 2,
            "linecolor": "white",
            "showbackground": true,
            "ticks": "",
            "zerolinecolor": "white"
           }
          },
          "shapedefaults": {
           "line": {
            "color": "#2a3f5f"
           }
          },
          "ternary": {
           "aaxis": {
            "gridcolor": "white",
            "linecolor": "white",
            "ticks": ""
           },
           "baxis": {
            "gridcolor": "white",
            "linecolor": "white",
            "ticks": ""
           },
           "bgcolor": "#E5ECF6",
           "caxis": {
            "gridcolor": "white",
            "linecolor": "white",
            "ticks": ""
           }
          },
          "title": {
           "x": 0.05
          },
          "xaxis": {
           "automargin": true,
           "gridcolor": "white",
           "linecolor": "white",
           "ticks": "",
           "title": {
            "standoff": 15
           },
           "zerolinecolor": "white",
           "zerolinewidth": 2
          },
          "yaxis": {
           "automargin": true,
           "gridcolor": "white",
           "linecolor": "white",
           "ticks": "",
           "title": {
            "standoff": 15
           },
           "zerolinecolor": "white",
           "zerolinewidth": 2
          }
         }
        },
        "title": {
         "text": "Box plot of perimeter_mean by Diagnosis"
        },
        "width": 600,
        "xaxis": {
         "anchor": "y",
         "categoryarray": [
          1,
          0
         ],
         "categoryorder": "array",
         "domain": [
          0,
          1
         ],
         "gridcolor": "lightgray",
         "gridwidth": 1,
         "linecolor": "darkgray",
         "showgrid": true,
         "showline": true,
         "title": {
          "text": "diagnosis"
         }
        },
        "yaxis": {
         "anchor": "x",
         "domain": [
          0,
          1
         ],
         "gridcolor": "lightgray",
         "gridwidth": 1,
         "linecolor": "darkgray",
         "showgrid": true,
         "showline": true,
         "title": {
          "text": "perimeter_mean"
         }
        }
       }
      }
     },
     "metadata": {},
     "output_type": "display_data"
    }
   ],
   "source": [
    "columns_to_plot = ['radius_mean', 'texture_mean', 'perimeter_mean']\n",
    "\n",
    "for column in columns_to_plot:\n",
    "    fig = px.box(df, x=\"diagnosis\", \n",
    "                 y=column, \n",
    "                 color=\"diagnosis\", \n",
    "                 color_discrete_map={\n",
    "                                0: 'rgb(50, 80, 168)',     \n",
    "                                1: '#ee8ef5'}\n",
    "    )\n",
    "    fig.update_layout(\n",
    "        title=dict(text=f\"Box plot of {column} by Diagnosis\"),\n",
    "        width=800,\n",
    "        height=400\n",
    "    )\n",
    "    fig.update_layout(\n",
    "    width=600,\n",
    "    height=400,\n",
    "    font=dict(\n",
    "        family=\"Arial, Courier New, monospace\",  # font family\n",
    "        size=12,                                 # font size (pixels)\n",
    "        color=\"darkblue\"                         # font color\n",
    "    )\n",
    "    )\n",
    "\n",
    "    fig.update_layout(\n",
    "        plot_bgcolor='white',\n",
    "        xaxis=dict(\n",
    "            showline=True,            # show axis line\n",
    "            linecolor='darkgray',        # axis line color\n",
    "            showgrid=True,            # show grid lines\n",
    "            gridcolor='lightgray',    # grid line color\n",
    "            gridwidth=1\n",
    "        ),\n",
    "        yaxis=dict(\n",
    "            showline=True,\n",
    "            linecolor='darkgray',\n",
    "            showgrid=True,\n",
    "            gridcolor='lightgray',\n",
    "            gridwidth=1\n",
    "        )\n",
    "    )\n",
    "    fig.show()"
   ]
  },
  {
   "cell_type": "code",
   "execution_count": 68,
   "metadata": {},
   "outputs": [
    {
     "data": {
      "application/vnd.plotly.v1+json": {
       "config": {
        "plotlyServerURL": "https://plot.ly"
       },
       "data": [
        {
         "colorscale": [
          [
           0,
           "rgb(243, 224, 247)"
          ],
          [
           0.16666666666666666,
           "rgb(228, 199, 241)"
          ],
          [
           0.3333333333333333,
           "rgb(209, 175, 232)"
          ],
          [
           0.5,
           "rgb(185, 152, 221)"
          ],
          [
           0.6666666666666666,
           "rgb(159, 130, 206)"
          ],
          [
           0.8333333333333334,
           "rgb(130, 109, 186)"
          ],
          [
           1,
           "rgb(99, 88, 159)"
          ]
         ],
         "showscale": true,
         "text": {
          "bdata": "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",
          "dtype": "f8",
          "shape": "32, 32"
         },
         "texttemplate": "%{z:.2f}",
         "type": "heatmap",
         "x": [
          "id",
          "diagnosis",
          "radius_mean",
          "texture_mean",
          "perimeter_mean",
          "area_mean",
          "smoothness_mean",
          "compactness_mean",
          "concavity_mean",
          "concave points_mean",
          "symmetry_mean",
          "fractal_dimension_mean",
          "radius_se",
          "texture_se",
          "perimeter_se",
          "area_se",
          "smoothness_se",
          "compactness_se",
          "concavity_se",
          "concave points_se",
          "symmetry_se",
          "fractal_dimension_se",
          "radius_worst",
          "texture_worst",
          "perimeter_worst",
          "area_worst",
          "smoothness_worst",
          "compactness_worst",
          "concavity_worst",
          "concave points_worst",
          "symmetry_worst",
          "fractal_dimension_worst"
         ],
         "y": [
          "id",
          "diagnosis",
          "radius_mean",
          "texture_mean",
          "perimeter_mean",
          "area_mean",
          "smoothness_mean",
          "compactness_mean",
          "concavity_mean",
          "concave points_mean",
          "symmetry_mean",
          "fractal_dimension_mean",
          "radius_se",
          "texture_se",
          "perimeter_se",
          "area_se",
          "smoothness_se",
          "compactness_se",
          "concavity_se",
          "concave points_se",
          "symmetry_se",
          "fractal_dimension_se",
          "radius_worst",
          "texture_worst",
          "perimeter_worst",
          "area_worst",
          "smoothness_worst",
          "compactness_worst",
          "concavity_worst",
          "concave points_worst",
          "symmetry_worst",
          "fractal_dimension_worst"
         ],
         "z": {
          "bdata": "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",
          "dtype": "f8",
          "shape": "32, 32"
         }
        }
       ],
       "layout": {
        "font": {
         "color": "darkblue",
         "family": "Arial, Courier New, monospace",
         "size": 12
        },
        "height": 800,
        "template": {
         "data": {
          "bar": [
           {
            "error_x": {
             "color": "#2a3f5f"
            },
            "error_y": {
             "color": "#2a3f5f"
            },
            "marker": {
             "line": {
              "color": "#E5ECF6",
              "width": 0.5
             },
             "pattern": {
              "fillmode": "overlay",
              "size": 10,
              "solidity": 0.2
             }
            },
            "type": "bar"
           }
          ],
          "barpolar": [
           {
            "marker": {
             "line": {
              "color": "#E5ECF6",
              "width": 0.5
             },
             "pattern": {
              "fillmode": "overlay",
              "size": 10,
              "solidity": 0.2
             }
            },
            "type": "barpolar"
           }
          ],
          "carpet": [
           {
            "aaxis": {
             "endlinecolor": "#2a3f5f",
             "gridcolor": "white",
             "linecolor": "white",
             "minorgridcolor": "white",
             "startlinecolor": "#2a3f5f"
            },
            "baxis": {
             "endlinecolor": "#2a3f5f",
             "gridcolor": "white",
             "linecolor": "white",
             "minorgridcolor": "white",
             "startlinecolor": "#2a3f5f"
            },
            "type": "carpet"
           }
          ],
          "choropleth": [
           {
            "colorbar": {
             "outlinewidth": 0,
             "ticks": ""
            },
            "type": "choropleth"
           }
          ],
          "contour": [
           {
            "colorbar": {
             "outlinewidth": 0,
             "ticks": ""
            },
            "colorscale": [
             [
              0,
              "#0d0887"
             ],
             [
              0.1111111111111111,
              "#46039f"
             ],
             [
              0.2222222222222222,
              "#7201a8"
             ],
             [
              0.3333333333333333,
              "#9c179e"
             ],
             [
              0.4444444444444444,
              "#bd3786"
             ],
             [
              0.5555555555555556,
              "#d8576b"
             ],
             [
              0.6666666666666666,
              "#ed7953"
             ],
             [
              0.7777777777777778,
              "#fb9f3a"
             ],
             [
              0.8888888888888888,
              "#fdca26"
             ],
             [
              1,
              "#f0f921"
             ]
            ],
            "type": "contour"
           }
          ],
          "contourcarpet": [
           {
            "colorbar": {
             "outlinewidth": 0,
             "ticks": ""
            },
            "type": "contourcarpet"
           }
          ],
          "heatmap": [
           {
            "colorbar": {
             "outlinewidth": 0,
             "ticks": ""
            },
            "colorscale": [
             [
              0,
              "#0d0887"
             ],
             [
              0.1111111111111111,
              "#46039f"
             ],
             [
              0.2222222222222222,
              "#7201a8"
             ],
             [
              0.3333333333333333,
              "#9c179e"
             ],
             [
              0.4444444444444444,
              "#bd3786"
             ],
             [
              0.5555555555555556,
              "#d8576b"
             ],
             [
              0.6666666666666666,
              "#ed7953"
             ],
             [
              0.7777777777777778,
              "#fb9f3a"
             ],
             [
              0.8888888888888888,
              "#fdca26"
             ],
             [
              1,
              "#f0f921"
             ]
            ],
            "type": "heatmap"
           }
          ],
          "histogram": [
           {
            "marker": {
             "pattern": {
              "fillmode": "overlay",
              "size": 10,
              "solidity": 0.2
             }
            },
            "type": "histogram"
           }
          ],
          "histogram2d": [
           {
            "colorbar": {
             "outlinewidth": 0,
             "ticks": ""
            },
            "colorscale": [
             [
              0,
              "#0d0887"
             ],
             [
              0.1111111111111111,
              "#46039f"
             ],
             [
              0.2222222222222222,
              "#7201a8"
             ],
             [
              0.3333333333333333,
              "#9c179e"
             ],
             [
              0.4444444444444444,
              "#bd3786"
             ],
             [
              0.5555555555555556,
              "#d8576b"
             ],
             [
              0.6666666666666666,
              "#ed7953"
             ],
             [
              0.7777777777777778,
              "#fb9f3a"
             ],
             [
              0.8888888888888888,
              "#fdca26"
             ],
             [
              1,
              "#f0f921"
             ]
            ],
            "type": "histogram2d"
           }
          ],
          "histogram2dcontour": [
           {
            "colorbar": {
             "outlinewidth": 0,
             "ticks": ""
            },
            "colorscale": [
             [
              0,
              "#0d0887"
             ],
             [
              0.1111111111111111,
              "#46039f"
             ],
             [
              0.2222222222222222,
              "#7201a8"
             ],
             [
              0.3333333333333333,
              "#9c179e"
             ],
             [
              0.4444444444444444,
              "#bd3786"
             ],
             [
              0.5555555555555556,
              "#d8576b"
             ],
             [
              0.6666666666666666,
              "#ed7953"
             ],
             [
              0.7777777777777778,
              "#fb9f3a"
             ],
             [
              0.8888888888888888,
              "#fdca26"
             ],
             [
              1,
              "#f0f921"
             ]
            ],
            "type": "histogram2dcontour"
           }
          ],
          "mesh3d": [
           {
            "colorbar": {
             "outlinewidth": 0,
             "ticks": ""
            },
            "type": "mesh3d"
           }
          ],
          "parcoords": [
           {
            "line": {
             "colorbar": {
              "outlinewidth": 0,
              "ticks": ""
             }
            },
            "type": "parcoords"
           }
          ],
          "pie": [
           {
            "automargin": true,
            "type": "pie"
           }
          ],
          "scatter": [
           {
            "fillpattern": {
             "fillmode": "overlay",
             "size": 10,
             "solidity": 0.2
            },
            "type": "scatter"
           }
          ],
          "scatter3d": [
           {
            "line": {
             "colorbar": {
              "outlinewidth": 0,
              "ticks": ""
             }
            },
            "marker": {
             "colorbar": {
              "outlinewidth": 0,
              "ticks": ""
             }
            },
            "type": "scatter3d"
           }
          ],
          "scattercarpet": [
           {
            "marker": {
             "colorbar": {
              "outlinewidth": 0,
              "ticks": ""
             }
            },
            "type": "scattercarpet"
           }
          ],
          "scattergeo": [
           {
            "marker": {
             "colorbar": {
              "outlinewidth": 0,
              "ticks": ""
             }
            },
            "type": "scattergeo"
           }
          ],
          "scattergl": [
           {
            "marker": {
             "colorbar": {
              "outlinewidth": 0,
              "ticks": ""
             }
            },
            "type": "scattergl"
           }
          ],
          "scattermap": [
           {
            "marker": {
             "colorbar": {
              "outlinewidth": 0,
              "ticks": ""
             }
            },
            "type": "scattermap"
           }
          ],
          "scattermapbox": [
           {
            "marker": {
             "colorbar": {
              "outlinewidth": 0,
              "ticks": ""
             }
            },
            "type": "scattermapbox"
           }
          ],
          "scatterpolar": [
           {
            "marker": {
             "colorbar": {
              "outlinewidth": 0,
              "ticks": ""
             }
            },
            "type": "scatterpolar"
           }
          ],
          "scatterpolargl": [
           {
            "marker": {
             "colorbar": {
              "outlinewidth": 0,
              "ticks": ""
             }
            },
            "type": "scatterpolargl"
           }
          ],
          "scatterternary": [
           {
            "marker": {
             "colorbar": {
              "outlinewidth": 0,
              "ticks": ""
             }
            },
            "type": "scatterternary"
           }
          ],
          "surface": [
           {
            "colorbar": {
             "outlinewidth": 0,
             "ticks": ""
            },
            "colorscale": [
             [
              0,
              "#0d0887"
             ],
             [
              0.1111111111111111,
              "#46039f"
             ],
             [
              0.2222222222222222,
              "#7201a8"
             ],
             [
              0.3333333333333333,
              "#9c179e"
             ],
             [
              0.4444444444444444,
              "#bd3786"
             ],
             [
              0.5555555555555556,
              "#d8576b"
             ],
             [
              0.6666666666666666,
              "#ed7953"
             ],
             [
              0.7777777777777778,
              "#fb9f3a"
             ],
             [
              0.8888888888888888,
              "#fdca26"
             ],
             [
              1,
              "#f0f921"
             ]
            ],
            "type": "surface"
           }
          ],
          "table": [
           {
            "cells": {
             "fill": {
              "color": "#EBF0F8"
             },
             "line": {
              "color": "white"
             }
            },
            "header": {
             "fill": {
              "color": "#C8D4E3"
             },
             "line": {
              "color": "white"
             }
            },
            "type": "table"
           }
          ]
         },
         "layout": {
          "annotationdefaults": {
           "arrowcolor": "#2a3f5f",
           "arrowhead": 0,
           "arrowwidth": 1
          },
          "autotypenumbers": "strict",
          "coloraxis": {
           "colorbar": {
            "outlinewidth": 0,
            "ticks": ""
           }
          },
          "colorscale": {
           "diverging": [
            [
             0,
             "#8e0152"
            ],
            [
             0.1,
             "#c51b7d"
            ],
            [
             0.2,
             "#de77ae"
            ],
            [
             0.3,
             "#f1b6da"
            ],
            [
             0.4,
             "#fde0ef"
            ],
            [
             0.5,
             "#f7f7f7"
            ],
            [
             0.6,
             "#e6f5d0"
            ],
            [
             0.7,
             "#b8e186"
            ],
            [
             0.8,
             "#7fbc41"
            ],
            [
             0.9,
             "#4d9221"
            ],
            [
             1,
             "#276419"
            ]
           ],
           "sequential": [
            [
             0,
             "#0d0887"
            ],
            [
             0.1111111111111111,
             "#46039f"
            ],
            [
             0.2222222222222222,
             "#7201a8"
            ],
            [
             0.3333333333333333,
             "#9c179e"
            ],
            [
             0.4444444444444444,
             "#bd3786"
            ],
            [
             0.5555555555555556,
             "#d8576b"
            ],
            [
             0.6666666666666666,
             "#ed7953"
            ],
            [
             0.7777777777777778,
             "#fb9f3a"
            ],
            [
             0.8888888888888888,
             "#fdca26"
            ],
            [
             1,
             "#f0f921"
            ]
           ],
           "sequentialminus": [
            [
             0,
             "#0d0887"
            ],
            [
             0.1111111111111111,
             "#46039f"
            ],
            [
             0.2222222222222222,
             "#7201a8"
            ],
            [
             0.3333333333333333,
             "#9c179e"
            ],
            [
             0.4444444444444444,
             "#bd3786"
            ],
            [
             0.5555555555555556,
             "#d8576b"
            ],
            [
             0.6666666666666666,
             "#ed7953"
            ],
            [
             0.7777777777777778,
             "#fb9f3a"
            ],
            [
             0.8888888888888888,
             "#fdca26"
            ],
            [
             1,
             "#f0f921"
            ]
           ]
          },
          "colorway": [
           "#636efa",
           "#EF553B",
           "#00cc96",
           "#ab63fa",
           "#FFA15A",
           "#19d3f3",
           "#FF6692",
           "#B6E880",
           "#FF97FF",
           "#FECB52"
          ],
          "font": {
           "color": "#2a3f5f"
          },
          "geo": {
           "bgcolor": "white",
           "lakecolor": "white",
           "landcolor": "#E5ECF6",
           "showlakes": true,
           "showland": true,
           "subunitcolor": "white"
          },
          "hoverlabel": {
           "align": "left"
          },
          "hovermode": "closest",
          "mapbox": {
           "style": "light"
          },
          "paper_bgcolor": "white",
          "plot_bgcolor": "#E5ECF6",
          "polar": {
           "angularaxis": {
            "gridcolor": "white",
            "linecolor": "white",
            "ticks": ""
           },
           "bgcolor": "#E5ECF6",
           "radialaxis": {
            "gridcolor": "white",
            "linecolor": "white",
            "ticks": ""
           }
          },
          "scene": {
           "xaxis": {
            "backgroundcolor": "#E5ECF6",
            "gridcolor": "white",
            "gridwidth": 2,
            "linecolor": "white",
            "showbackground": true,
            "ticks": "",
            "zerolinecolor": "white"
           },
           "yaxis": {
            "backgroundcolor": "#E5ECF6",
            "gridcolor": "white",
            "gridwidth": 2,
            "linecolor": "white",
            "showbackground": true,
            "ticks": "",
            "zerolinecolor": "white"
           },
           "zaxis": {
            "backgroundcolor": "#E5ECF6",
            "gridcolor": "white",
            "gridwidth": 2,
            "linecolor": "white",
            "showbackground": true,
            "ticks": "",
            "zerolinecolor": "white"
           }
          },
          "shapedefaults": {
           "line": {
            "color": "#2a3f5f"
           }
          },
          "ternary": {
           "aaxis": {
            "gridcolor": "white",
            "linecolor": "white",
            "ticks": ""
           },
           "baxis": {
            "gridcolor": "white",
            "linecolor": "white",
            "ticks": ""
           },
           "bgcolor": "#E5ECF6",
           "caxis": {
            "gridcolor": "white",
            "linecolor": "white",
            "ticks": ""
           }
          },
          "title": {
           "x": 0.05
          },
          "xaxis": {
           "automargin": true,
           "gridcolor": "white",
           "linecolor": "white",
           "ticks": "",
           "title": {
            "standoff": 15
           },
           "zerolinecolor": "white",
           "zerolinewidth": 2
          },
          "yaxis": {
           "automargin": true,
           "gridcolor": "white",
           "linecolor": "white",
           "ticks": "",
           "title": {
            "standoff": 15
           },
           "zerolinecolor": "white",
           "zerolinewidth": 2
          }
         }
        },
        "title": {
         "text": "Correlation Heatmap"
        },
        "width": 1000
       }
      }
     },
     "metadata": {},
     "output_type": "display_data"
    }
   ],
   "source": [
    "corr_matrix = df.corr(numeric_only=True)\n",
    "fig = go.Figure(data=go.Heatmap(\n",
    "    z=corr_matrix.values,\n",
    "    x=corr_matrix.columns,\n",
    "    y=corr_matrix.columns,\n",
    "    colorscale='Purp',  \n",
    "    text=corr_matrix.values,  # Add the correlation values as text\n",
    "    texttemplate=\"%{z:.2f}\",  # Format the text (2 decimal places)\n",
    "    showscale=True\n",
    "))\n",
    "fig.update_layout(title='Correlation Heatmap')\n",
    "fig.update_layout(\n",
    "    width=1000,\n",
    "    height=800,\n",
    "    font=dict(\n",
    "        family=\"Arial, Courier New, monospace\",  # font family\n",
    "        size=12,                                 # font size (pixels)\n",
    "        color=\"darkblue\"                         # font color\n",
    "    )\n",
    ")\n",
    "fig.show()"
   ]
  },
  {
   "cell_type": "code",
   "execution_count": 49,
   "metadata": {},
   "outputs": [
    {
     "name": "stdout",
     "output_type": "stream",
     "text": [
      "Features most correlated with diagnosis:\n",
      "concave points_worst    0.793566\n",
      "perimeter_worst         0.782914\n",
      "concave points_mean     0.776614\n",
      "radius_worst            0.776454\n",
      "perimeter_mean          0.742636\n",
      "area_worst              0.733825\n",
      "radius_mean             0.730029\n",
      "area_mean               0.708984\n",
      "concavity_mean          0.696360\n",
      "concavity_worst         0.659610\n",
      "Name: diagnosis, dtype: float64\n",
      "Features negatively correlated with diagnosis:\n",
      "symmetry_mean              0.330499\n",
      "fractal_dimension_worst    0.323872\n",
      "compactness_se             0.292999\n",
      "concavity_se               0.253730\n",
      "fractal_dimension_se       0.077972\n",
      "id                         0.039769\n",
      "symmetry_se               -0.006522\n",
      "texture_se                -0.008303\n",
      "fractal_dimension_mean    -0.012838\n",
      "smoothness_se             -0.067016\n",
      "Name: diagnosis, dtype: float64\n"
     ]
    }
   ],
   "source": [
    "df_numeric = df.copy()\n",
    "target_corr = df_numeric.corr()['diagnosis'].drop('diagnosis').sort_values(ascending=False)\n",
    "\n",
    "print(\"Features most correlated with diagnosis:\")\n",
    "print(target_corr.head(10))\n",
    "\n",
    "print(\"Features negatively correlated with diagnosis:\")\n",
    "print(target_corr.tail(10))"
   ]
  },
  {
   "cell_type": "code",
   "execution_count": 61,
   "metadata": {},
   "outputs": [
    {
     "name": "stdout",
     "output_type": "stream",
     "text": [
      "radius_mean & perimeter_mean => correlation: 0.998\n",
      "perimeter_mean & radius_mean => correlation: 0.998\n",
      "perimeter_worst & radius_worst => correlation: 0.994\n",
      "radius_worst & perimeter_worst => correlation: 0.994\n",
      "radius_mean & area_mean => correlation: 0.987\n",
      "area_mean & radius_mean => correlation: 0.987\n",
      "perimeter_mean & area_mean => correlation: 0.987\n",
      "area_mean & perimeter_mean => correlation: 0.987\n",
      "radius_worst & area_worst => correlation: 0.984\n",
      "area_worst & radius_worst => correlation: 0.984\n",
      "area_worst & perimeter_worst => correlation: 0.978\n",
      "perimeter_worst & area_worst => correlation: 0.978\n",
      "radius_se & perimeter_se => correlation: 0.973\n",
      "perimeter_se & radius_se => correlation: 0.973\n",
      "perimeter_mean & perimeter_worst => correlation: 0.970\n",
      "perimeter_worst & perimeter_mean => correlation: 0.970\n",
      "radius_mean & radius_worst => correlation: 0.970\n",
      "radius_worst & radius_mean => correlation: 0.970\n",
      "perimeter_mean & radius_worst => correlation: 0.969\n",
      "radius_worst & perimeter_mean => correlation: 0.969\n",
      "radius_mean & perimeter_worst => correlation: 0.965\n",
      "perimeter_worst & radius_mean => correlation: 0.965\n",
      "radius_worst & area_mean => correlation: 0.963\n",
      "area_mean & radius_worst => correlation: 0.963\n",
      "area_mean & area_worst => correlation: 0.959\n",
      "area_worst & area_mean => correlation: 0.959\n",
      "perimeter_worst & area_mean => correlation: 0.959\n",
      "area_mean & perimeter_worst => correlation: 0.959\n",
      "radius_se & area_se => correlation: 0.952\n",
      "area_se & radius_se => correlation: 0.952\n",
      "area_worst & perimeter_mean => correlation: 0.942\n",
      "perimeter_mean & area_worst => correlation: 0.942\n",
      "area_worst & radius_mean => correlation: 0.941\n",
      "radius_mean & area_worst => correlation: 0.941\n",
      "perimeter_se & area_se => correlation: 0.938\n",
      "area_se & perimeter_se => correlation: 0.938\n",
      "concavity_mean & concave points_mean => correlation: 0.921\n",
      "concave points_mean & concavity_mean => correlation: 0.921\n",
      "texture_mean & texture_worst => correlation: 0.912\n",
      "texture_worst & texture_mean => correlation: 0.912\n",
      "concave points_worst & concave points_mean => correlation: 0.910\n",
      "concave points_mean & concave points_worst => correlation: 0.910\n"
     ]
    }
   ],
   "source": [
    "# Find features with correlation > 0.9 (or <-0.9)\n",
    "threshold = 0.9\n",
    "corr_pairs = corr_matrix.abs().unstack().sort_values(ascending=False)\n",
    "\n",
    "# Filter out self-correlations\n",
    "high_corr_pairs = [(a, b, corr_matrix.loc[a, b]) for a, b in corr_pairs.index if a != b and corr_matrix.loc[a, b] > threshold]\n",
    "\n",
    "# Show results\n",
    "for a, b, corr_val in high_corr_pairs:\n",
    "    print(f\"{a} & {b} => correlation: {corr_val:.3f}\")"
   ]
  }
 ],
 "metadata": {
  "kernelspec": {
   "display_name": "venv",
   "language": "python",
   "name": "python3"
  },
  "language_info": {
   "codemirror_mode": {
    "name": "ipython",
    "version": 3
   },
   "file_extension": ".py",
   "mimetype": "text/x-python",
   "name": "python",
   "nbconvert_exporter": "python",
   "pygments_lexer": "ipython3",
   "version": "3.10.9"
  }
 },
 "nbformat": 4,
 "nbformat_minor": 2
}
